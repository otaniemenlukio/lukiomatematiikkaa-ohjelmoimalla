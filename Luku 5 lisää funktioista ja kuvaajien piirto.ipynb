{
 "cells": [
  {
   "cell_type": "markdown",
   "metadata": {},
   "source": [
    "# 5 Lisää funktioista ja kuvaajien piirto"
   ]
  },
  {
   "cell_type": "markdown",
   "metadata": {},
   "source": [
    "## Rekursio\n",
    "Rekursio tarkoittaa sitä, että funktio kutsuu itseään. Näin saadaan toistorakenne ilman silmukkaa.\n",
    "\n",
    "Yleinen rekursiolla määritelty lukujono on Fibonaccin lukujono. $F_1 = 1, F_2 = 1, F_n = F_{n-1} + F_{n-2}$\n",
    "\n",
    "Pythonissa tämän voi ohjelmoida rekursiivisesti:"
   ]
  },
  {
   "cell_type": "code",
   "execution_count": 2,
   "metadata": {},
   "outputs": [
    {
     "data": {
      "text/plain": [
       "55"
      ]
     },
     "execution_count": 2,
     "metadata": {},
     "output_type": "execute_result"
    }
   ],
   "source": [
    "def fibonacci(n):\n",
    "    if n == 1:\n",
    "        return 1\n",
    "    if n == 2:\n",
    "        return 1\n",
    "    return fibonacci(n - 1) + fibonacci(n - 2)\n",
    "\n",
    "\n",
    "fibonacci(10)"
   ]
  },
  {
   "cell_type": "markdown",
   "metadata": {},
   "source": [
    "## Kuvaajien piirto pythonissa\n",
    "\n",
    "Pythonissa määritellyistä funktioista voi piirtää kuvaajia matplotlib-kirjastolla:"
   ]
  },
  {
   "cell_type": "code",
   "execution_count": 4,
   "metadata": {},
   "outputs": [
    {
     "data": {
      "image/png": "[encoded data removed]",
      "text/plain": [
       "<Figure size 432x288 with 1 Axes>"
      ]
     },
     "metadata": {
      "needs_background": "light"
     },
     "output_type": "display_data"
    },
    {
     "data": {
      "application/javascript": [
       "\n",
       "            setTimeout(function() {\n",
       "                var nbb_cell_id = 4;\n",
       "                var nbb_unformatted_code = \"import matplotlib.pyplot as kuvaaja\\n\\n#kuvaaja = matplotlib.pyplot\\n\\nx_lista = []\\ny_lista = []\\n\\ndef f(x):\\n    return x ** 2\\n\\nx = -3 # start\\nwhile x <= 3: #end\\n    x_lista.append(x)\\n    y = f(x)\\n    y_lista.append(y)\\n    \\n    x = x + 0.01\\n    \\n#matplotlib.pyplot.plot(x_lista, y_lista)\\n#matplotlib.pyplot.grid()\\n#matplotlib.pyplot.show()\\nkuvaaja.plot(x_lista, y_lista)\\nkuvaaja.xlabel(\\\"x\\\")\\nkuvaaja.ylabel(\\\"y\\\")\\nkuvaaja.grid()\\nkuvaaja.show()\";\n",
       "                var nbb_formatted_code = \"import matplotlib.pyplot as kuvaaja\\n\\n# kuvaaja = matplotlib.pyplot\\n\\nx_lista = []\\ny_lista = []\\n\\n\\ndef f(x):\\n    return x ** 2\\n\\n\\nx = -3  # start\\nwhile x <= 3:  # end\\n    x_lista.append(x)\\n    y = f(x)\\n    y_lista.append(y)\\n\\n    x = x + 0.01\\n\\n# matplotlib.pyplot.plot(x_lista, y_lista)\\n# matplotlib.pyplot.grid()\\n# matplotlib.pyplot.show()\\nkuvaaja.plot(x_lista, y_lista)\\nkuvaaja.xlabel(\\\"x\\\")\\nkuvaaja.ylabel(\\\"y\\\")\\nkuvaaja.grid()\\nkuvaaja.show()\";\n",
       "                var nbb_cells = Jupyter.notebook.get_cells();\n",
       "                for (var i = 0; i < nbb_cells.length; ++i) {\n",
       "                    if (nbb_cells[i].input_prompt_number == nbb_cell_id) {\n",
       "                        if (nbb_cells[i].get_text() == nbb_unformatted_code) {\n",
       "                             nbb_cells[i].set_text(nbb_formatted_code);\n",
       "                        }\n",
       "                        break;\n",
       "                    }\n",
       "                }\n",
       "            }, 500);\n",
       "            "
      ],
      "text/plain": [
       "<IPython.core.display.Javascript object>"
      ]
     },
     "metadata": {},
     "output_type": "display_data"
    }
   ],
   "source": [
    "import matplotlib.pyplot as kuvaaja\n",
    "\n",
    "# kuvaaja = matplotlib.pyplot\n",
    "\n",
    "x_lista = []\n",
    "y_lista = []\n",
    "\n",
    "\n",
    "def f(x):\n",
    "    return x ** 2\n",
    "\n",
    "\n",
    "x = -3  # start\n",
    "while x <= 3:  # end\n",
    "    x_lista.append(x)\n",
    "    y = f(x)\n",
    "    y_lista.append(y)\n",
    "\n",
    "    x = x + 0.01\n",
    "\n",
    "# matplotlib.pyplot.plot(x_lista, y_lista)\n",
    "# matplotlib.pyplot.grid()\n",
    "# matplotlib.pyplot.show()\n",
    "kuvaaja.plot(x_lista, y_lista)\n",
    "kuvaaja.xlabel(\"x\")\n",
    "kuvaaja.ylabel(\"y\")\n",
    "kuvaaja.grid()\n",
    "kuvaaja.show()"
   ]
  },
  {
   "cell_type": "markdown",
   "metadata": {},
   "source": [
    "## Tehtäviä"
   ]
  },
  {
   "cell_type": "markdown",
   "metadata": {},
   "source": [
    "### Tehtävä 5.1\n",
    "Ohjelmoi kaksi funktiota, joista toinen laskee kertoman rekursiivisesti ja toinen silmukalla. Kertoma on määritelty $n! = n\\cdot(n-1)!$ tai $n! = 1 \\cdot 2\\cdot \\ldots \\cdot n$"
   ]
  },
  {
   "cell_type": "code",
   "execution_count": 5,
   "metadata": {},
   "outputs": [
    {
     "name": "stdout",
     "output_type": "stream",
     "text": [
      "funktiota kutsuttiin parametrillä 5\n",
      "funktiota kutsuttiin parametrillä 4\n",
      "funktiota kutsuttiin parametrillä 3\n",
      "funktiota kutsuttiin parametrillä 2\n",
      "funktiota kutsuttiin parametrillä 1\n",
      "120\n",
      "120\n"
     ]
    },
    {
     "data": {
      "application/javascript": [
       "\n",
       "            setTimeout(function() {\n",
       "                var nbb_cell_id = 5;\n",
       "                var nbb_unformatted_code = \"def kertoma_rekursiivinen(n):\\n    print(\\\"funktiota kutsuttiin parametrill\\u00e4\\\", n)\\n    if n == 1:\\n        return 1\\n    return n * kertoma_rekursiivinen(n - 1)\\nprint(kertoma_rekursiivinen(5))\\n\\n\\n# 5! = 1*2*3*4*5\\n\\ndef kertoma_silmukka(n):\\n    tulo = 1\\n    for luku in range(1, n+1):\\n        tulo = tulo * luku\\n    return tulo\\nprint(kertoma_silmukka(5))\";\n",
       "                var nbb_formatted_code = \"def kertoma_rekursiivinen(n):\\n    print(\\\"funktiota kutsuttiin parametrill\\u00e4\\\", n)\\n    if n == 1:\\n        return 1\\n    return n * kertoma_rekursiivinen(n - 1)\\n\\n\\nprint(kertoma_rekursiivinen(5))\\n\\n\\n# 5! = 1*2*3*4*5\\n\\n\\ndef kertoma_silmukka(n):\\n    tulo = 1\\n    for luku in range(1, n + 1):\\n        tulo = tulo * luku\\n    return tulo\\n\\n\\nprint(kertoma_silmukka(5))\";\n",
       "                var nbb_cells = Jupyter.notebook.get_cells();\n",
       "                for (var i = 0; i < nbb_cells.length; ++i) {\n",
       "                    if (nbb_cells[i].input_prompt_number == nbb_cell_id) {\n",
       "                        if (nbb_cells[i].get_text() == nbb_unformatted_code) {\n",
       "                             nbb_cells[i].set_text(nbb_formatted_code);\n",
       "                        }\n",
       "                        break;\n",
       "                    }\n",
       "                }\n",
       "            }, 500);\n",
       "            "
      ],
      "text/plain": [
       "<IPython.core.display.Javascript object>"
      ]
     },
     "metadata": {},
     "output_type": "display_data"
    }
   ],
   "source": [
    "def kertoma_rekursiivinen(n):\n",
    "    print(\"funktiota kutsuttiin parametrillä\", n)\n",
    "    if n == 1:\n",
    "        return 1\n",
    "    return n * kertoma_rekursiivinen(n - 1)\n",
    "\n",
    "\n",
    "print(kertoma_rekursiivinen(5))\n",
    "\n",
    "\n",
    "# 5! = 1*2*3*4*5\n",
    "\n",
    "\n",
    "def kertoma_silmukka(n):\n",
    "    tulo = 1\n",
    "    for luku in range(1, n + 1):\n",
    "        tulo = tulo * luku\n",
    "    return tulo\n",
    "\n",
    "\n",
    "print(kertoma_silmukka(5))"
   ]
  },
  {
   "cell_type": "markdown",
   "metadata": {},
   "source": [
    "### Tehtävä 5.2\n",
    "Piirrä funktion $f(x)=2x-7$ kuvaaja. Merkitse kuvaajan funktion nollakohta."
   ]
  },
  {
   "cell_type": "code",
   "execution_count": 6,
   "metadata": {},
   "outputs": [
    {
     "data": {
      "image/png": "[encoded data removed]",
      "text/plain": [
       "<Figure size 432x288 with 1 Axes>"
      ]
     },
     "metadata": {
      "needs_background": "light"
     },
     "output_type": "display_data"
    },
    {
     "data": {
      "application/javascript": [
       "\n",
       "            setTimeout(function() {\n",
       "                var nbb_cell_id = 6;\n",
       "                var nbb_unformatted_code = \"import matplotlib.pyplot as kuvaaja\\n\\nx_lista = []\\ny_lista = []\\n\\ndef f(x):\\n    return 2*x - 7\\n\\nx = 0 # start\\nwhile x <= 5: #end\\n    x_lista.append(x)\\n    y = f(x)\\n    y_lista.append(y)\\n    \\n    x = x + 0.1\\n    \\n\\nkuvaaja.plot(x_lista, y_lista)\\nkuvaaja.xlabel(\\\"x\\\")\\nkuvaaja.ylabel(\\\"y\\\")\\nkuvaaja.plot([3.5], [0], marker='o', markersize=5, color=\\\"red\\\")\\nkuvaaja.grid()\\nkuvaaja.show()\";\n",
       "                var nbb_formatted_code = \"import matplotlib.pyplot as kuvaaja\\n\\nx_lista = []\\ny_lista = []\\n\\n\\ndef f(x):\\n    return 2 * x - 7\\n\\n\\nx = 0  # start\\nwhile x <= 5:  # end\\n    x_lista.append(x)\\n    y = f(x)\\n    y_lista.append(y)\\n\\n    x = x + 0.1\\n\\n\\nkuvaaja.plot(x_lista, y_lista)\\nkuvaaja.xlabel(\\\"x\\\")\\nkuvaaja.ylabel(\\\"y\\\")\\nkuvaaja.plot([3.5], [0], marker=\\\"o\\\", markersize=5, color=\\\"red\\\")\\nkuvaaja.grid()\\nkuvaaja.show()\";\n",
       "                var nbb_cells = Jupyter.notebook.get_cells();\n",
       "                for (var i = 0; i < nbb_cells.length; ++i) {\n",
       "                    if (nbb_cells[i].input_prompt_number == nbb_cell_id) {\n",
       "                        if (nbb_cells[i].get_text() == nbb_unformatted_code) {\n",
       "                             nbb_cells[i].set_text(nbb_formatted_code);\n",
       "                        }\n",
       "                        break;\n",
       "                    }\n",
       "                }\n",
       "            }, 500);\n",
       "            "
      ],
      "text/plain": [
       "<IPython.core.display.Javascript object>"
      ]
     },
     "metadata": {},
     "output_type": "display_data"
    }
   ],
   "source": [
    "import matplotlib.pyplot as kuvaaja\n",
    "\n",
    "x_lista = []\n",
    "y_lista = []\n",
    "\n",
    "\n",
    "def f(x):\n",
    "    return 2 * x - 7\n",
    "\n",
    "\n",
    "x = 0  # start\n",
    "while x <= 5:  # end\n",
    "    x_lista.append(x)\n",
    "    y = f(x)\n",
    "    y_lista.append(y)\n",
    "\n",
    "    x = x + 0.1\n",
    "\n",
    "\n",
    "kuvaaja.plot(x_lista, y_lista)\n",
    "kuvaaja.xlabel(\"x\")\n",
    "kuvaaja.ylabel(\"y\")\n",
    "kuvaaja.plot([3.5], [0], marker=\"o\", markersize=5, color=\"red\")\n",
    "kuvaaja.grid()\n",
    "kuvaaja.show()"
   ]
  },
  {
   "cell_type": "markdown",
   "metadata": {},
   "source": [
    "### Tehtävä 5.3\n",
    "Piirrä funktion $f(x)=2x-6$ kuvaaja. Onko piste (2,4) suoran piste?"
   ]
  },
  {
   "cell_type": "code",
   "execution_count": 7,
   "metadata": {},
   "outputs": [
    {
     "name": "stdout",
     "output_type": "stream",
     "text": [
      "X:n arvolla 0 funktion arvo on -6\n",
      "X:n arvolla 1 funktion arvo on -4\n",
      "X:n arvolla 2 funktion arvo on -2\n",
      "X:n arvolla 3 funktion arvo on 0\n"
     ]
    },
    {
     "data": {
      "image/png": "[encoded data removed]",
      "text/plain": [
       "<Figure size 432x288 with 1 Axes>"
      ]
     },
     "metadata": {
      "needs_background": "light"
     },
     "output_type": "display_data"
    },
    {
     "name": "stdout",
     "output_type": "stream",
     "text": [
      "piste on kuvaajalla\n"
     ]
    },
    {
     "data": {
      "application/javascript": [
       "\n",
       "            setTimeout(function() {\n",
       "                var nbb_cell_id = 7;\n",
       "                var nbb_unformatted_code = \"import matplotlib.pyplot as kuvaaja\\n\\nx_lista = []\\ny_lista = []\\n\\ndef f(x):\\n    return 2*x - 6\\n\\nx = 0 # start\\nwhile x <= 5: #end\\n    x_lista.append(x)\\n    y = f(x)\\n    y_lista.append(y)\\n    \\n    x = x + 0.1\\n\\nprint(\\\"X:n arvolla 0 funktion arvo on\\\", f(0))\\nprint(\\\"X:n arvolla 1 funktion arvo on\\\", f(1))\\nprint(\\\"X:n arvolla 2 funktion arvo on\\\", f(2))\\nprint(\\\"X:n arvolla 3 funktion arvo on\\\", f(3))\\n\\n\\nkuvaaja.plot(x_lista, y_lista)\\nkuvaaja.xlabel(\\\"x\\\")\\nkuvaaja.ylabel(\\\"y\\\")\\nkuvaaja.plot([4], [2], marker='o', markersize=5, color=\\\"red\\\")\\nkuvaaja.plot([5], [3], marker='o', markersize=5, color=\\\"red\\\")\\n\\nkuvaaja.grid()\\nkuvaaja.show()\\n\\nif f(4) == 2:\\n    print(\\\"piste on kuvaajalla\\\")\\nelse:\\n    print(\\\"ei oo kuvaajalla\\\")\";\n",
       "                var nbb_formatted_code = \"import matplotlib.pyplot as kuvaaja\\n\\nx_lista = []\\ny_lista = []\\n\\n\\ndef f(x):\\n    return 2 * x - 6\\n\\n\\nx = 0  # start\\nwhile x <= 5:  # end\\n    x_lista.append(x)\\n    y = f(x)\\n    y_lista.append(y)\\n\\n    x = x + 0.1\\n\\nprint(\\\"X:n arvolla 0 funktion arvo on\\\", f(0))\\nprint(\\\"X:n arvolla 1 funktion arvo on\\\", f(1))\\nprint(\\\"X:n arvolla 2 funktion arvo on\\\", f(2))\\nprint(\\\"X:n arvolla 3 funktion arvo on\\\", f(3))\\n\\n\\nkuvaaja.plot(x_lista, y_lista)\\nkuvaaja.xlabel(\\\"x\\\")\\nkuvaaja.ylabel(\\\"y\\\")\\nkuvaaja.plot([4], [2], marker=\\\"o\\\", markersize=5, color=\\\"red\\\")\\nkuvaaja.plot([5], [3], marker=\\\"o\\\", markersize=5, color=\\\"red\\\")\\n\\nkuvaaja.grid()\\nkuvaaja.show()\\n\\nif f(4) == 2:\\n    print(\\\"piste on kuvaajalla\\\")\\nelse:\\n    print(\\\"ei oo kuvaajalla\\\")\";\n",
       "                var nbb_cells = Jupyter.notebook.get_cells();\n",
       "                for (var i = 0; i < nbb_cells.length; ++i) {\n",
       "                    if (nbb_cells[i].input_prompt_number == nbb_cell_id) {\n",
       "                        if (nbb_cells[i].get_text() == nbb_unformatted_code) {\n",
       "                             nbb_cells[i].set_text(nbb_formatted_code);\n",
       "                        }\n",
       "                        break;\n",
       "                    }\n",
       "                }\n",
       "            }, 500);\n",
       "            "
      ],
      "text/plain": [
       "<IPython.core.display.Javascript object>"
      ]
     },
     "metadata": {},
     "output_type": "display_data"
    }
   ],
   "source": [
    "import matplotlib.pyplot as kuvaaja\n",
    "\n",
    "x_lista = []\n",
    "y_lista = []\n",
    "\n",
    "\n",
    "def f(x):\n",
    "    return 2 * x - 6\n",
    "\n",
    "\n",
    "x = 0  # start\n",
    "while x <= 5:  # end\n",
    "    x_lista.append(x)\n",
    "    y = f(x)\n",
    "    y_lista.append(y)\n",
    "\n",
    "    x = x + 0.1\n",
    "\n",
    "print(\"X:n arvolla 0 funktion arvo on\", f(0))\n",
    "print(\"X:n arvolla 1 funktion arvo on\", f(1))\n",
    "print(\"X:n arvolla 2 funktion arvo on\", f(2))\n",
    "print(\"X:n arvolla 3 funktion arvo on\", f(3))\n",
    "\n",
    "\n",
    "kuvaaja.plot(x_lista, y_lista)\n",
    "kuvaaja.xlabel(\"x\")\n",
    "kuvaaja.ylabel(\"y\")\n",
    "kuvaaja.plot([4], [2], marker=\"o\", markersize=5, color=\"red\")\n",
    "kuvaaja.plot([5], [3], marker=\"o\", markersize=5, color=\"red\")\n",
    "\n",
    "kuvaaja.grid()\n",
    "kuvaaja.show()\n",
    "\n",
    "if f(4) == 2:\n",
    "    print(\"piste on kuvaajalla\")\n",
    "else:\n",
    "    print(\"ei oo kuvaajalla\")"
   ]
  },
  {
   "cell_type": "markdown",
   "metadata": {},
   "source": [
    "### Tehtävä 5.4\n",
    "Funktio f(x) kuvaa sähkönkulutusta Suomessa (kWh). Missä muuttuja x on kulunut aika vuosissa vuodesta 1970. Piirrä funktion kuvaaja."
   ]
  },
  {
   "cell_type": "code",
   "execution_count": 8,
   "metadata": {},
   "outputs": [
    {
     "data": {
      "image/png": "[encoded data removed]",
      "text/plain": [
       "<Figure size 432x288 with 1 Axes>"
      ]
     },
     "metadata": {
      "needs_background": "light"
     },
     "output_type": "display_data"
    },
    {
     "name": "stdout",
     "output_type": "stream",
     "text": [
      "sähkönkulutus on 1970 21583.0\n",
      "sähkönkulutus on 2000 79885.0\n"
     ]
    },
    {
     "data": {
      "application/javascript": [
       "\n",
       "            setTimeout(function() {\n",
       "                var nbb_cell_id = 8;\n",
       "                var nbb_unformatted_code = \"import matplotlib.pyplot as kuvaaja\\n\\nx_lista = []\\ny_lista = []\\n\\ndef f(x):\\n    return -1.3 * x**3 + 58.8 * x**2 + 1349.4 * x + 21583\\n\\nx = 0 # start\\nwhile x <= 44: #end\\n    x_lista.append(x)\\n    y = f(x)\\n    y_lista.append(y)\\n    \\n    x = x + 0.1\\n\\n\\nkuvaaja.plot(x_lista, y_lista)\\nkuvaaja.xlabel(\\\"Aika, vuosi 1970=0\\\")\\nkuvaaja.ylabel(\\\"S\\u00e4hk\\u00f6nkulutus (GWh)\\\")\\nkuvaaja.plot([0], [f(0)], marker='o', markersize=5, color=\\\"red\\\")\\nkuvaaja.plot([30], [f(30)], marker='o', markersize=5, color=\\\"red\\\")\\n\\nkuvaaja.grid()\\nkuvaaja.show()\\n\\nprint(\\\"s\\u00e4hk\\u00f6nkulutus on 1970\\\", f(0))\\nprint(\\\"s\\u00e4hk\\u00f6nkulutus on 2000\\\",f(30))\";\n",
       "                var nbb_formatted_code = \"import matplotlib.pyplot as kuvaaja\\n\\nx_lista = []\\ny_lista = []\\n\\n\\ndef f(x):\\n    return -1.3 * x ** 3 + 58.8 * x ** 2 + 1349.4 * x + 21583\\n\\n\\nx = 0  # start\\nwhile x <= 44:  # end\\n    x_lista.append(x)\\n    y = f(x)\\n    y_lista.append(y)\\n\\n    x = x + 0.1\\n\\n\\nkuvaaja.plot(x_lista, y_lista)\\nkuvaaja.xlabel(\\\"Aika, vuosi 1970=0\\\")\\nkuvaaja.ylabel(\\\"S\\u00e4hk\\u00f6nkulutus (GWh)\\\")\\nkuvaaja.plot([0], [f(0)], marker=\\\"o\\\", markersize=5, color=\\\"red\\\")\\nkuvaaja.plot([30], [f(30)], marker=\\\"o\\\", markersize=5, color=\\\"red\\\")\\n\\nkuvaaja.grid()\\nkuvaaja.show()\\n\\nprint(\\\"s\\u00e4hk\\u00f6nkulutus on 1970\\\", f(0))\\nprint(\\\"s\\u00e4hk\\u00f6nkulutus on 2000\\\", f(30))\";\n",
       "                var nbb_cells = Jupyter.notebook.get_cells();\n",
       "                for (var i = 0; i < nbb_cells.length; ++i) {\n",
       "                    if (nbb_cells[i].input_prompt_number == nbb_cell_id) {\n",
       "                        if (nbb_cells[i].get_text() == nbb_unformatted_code) {\n",
       "                             nbb_cells[i].set_text(nbb_formatted_code);\n",
       "                        }\n",
       "                        break;\n",
       "                    }\n",
       "                }\n",
       "            }, 500);\n",
       "            "
      ],
      "text/plain": [
       "<IPython.core.display.Javascript object>"
      ]
     },
     "metadata": {},
     "output_type": "display_data"
    }
   ],
   "source": [
    "import matplotlib.pyplot as kuvaaja\n",
    "\n",
    "x_lista = []\n",
    "y_lista = []\n",
    "\n",
    "\n",
    "def f(x):\n",
    "    return -1.3 * x ** 3 + 58.8 * x ** 2 + 1349.4 * x + 21583\n",
    "\n",
    "\n",
    "x = 0  # start\n",
    "while x <= 44:  # end\n",
    "    x_lista.append(x)\n",
    "    y = f(x)\n",
    "    y_lista.append(y)\n",
    "\n",
    "    x = x + 0.1\n",
    "\n",
    "\n",
    "kuvaaja.plot(x_lista, y_lista)\n",
    "kuvaaja.xlabel(\"Aika, vuosi 1970=0\")\n",
    "kuvaaja.ylabel(\"Sähkönkulutus (GWh)\")\n",
    "kuvaaja.plot([0], [f(0)], marker=\"o\", markersize=5, color=\"red\")\n",
    "kuvaaja.plot([30], [f(30)], marker=\"o\", markersize=5, color=\"red\")\n",
    "\n",
    "kuvaaja.grid()\n",
    "kuvaaja.show()\n",
    "\n",
    "print(\"sähkönkulutus on 1970\", f(0))\n",
    "print(\"sähkönkulutus on 2000\", f(30))"
   ]
  },
  {
   "cell_type": "markdown",
   "metadata": {},
   "source": [
    "### Tehtävä 5.5\n",
    "Pesäpallon lentoa kuvaa pystysuunnassa funktio h(t), missä h on pallon korkeus (m) ajan t (s) funktiona. Laske milloin pallo osuu takaisin maahan ja piirrä korkeusfunktion h(t) kuvaaja."
   ]
  },
  {
   "cell_type": "code",
   "execution_count": 11,
   "metadata": {},
   "outputs": [
    {
     "name": "stdout",
     "output_type": "stream",
     "text": [
      "pallo osuu maahan kun t= 3.1199999999999775\n"
     ]
    },
    {
     "data": {
      "image/png": "[encoded data removed]",
      "text/plain": [
       "<Figure size 432x288 with 1 Axes>"
      ]
     },
     "metadata": {
      "needs_background": "light"
     },
     "output_type": "display_data"
    },
    {
     "name": "stdout",
     "output_type": "stream",
     "text": [
      "h on hetkellä 0 1.7\n",
      "h on hetkellä 2 11.499999999999996\n",
      "d on hetkellä 0 0.0\n",
      "d on hetkellä 1 31.5\n",
      "d on hetkellä 2 63.0\n"
     ]
    },
    {
     "data": {
      "application/javascript": [
       "\n",
       "            setTimeout(function() {\n",
       "                var nbb_cell_id = 11;\n",
       "                var nbb_unformatted_code = \"import matplotlib.pyplot as kuvaaja\\n\\nx_lista = []\\ny_lista = []\\n\\ndef h(t):\\n    return 1.7 + 14.7 * t - 4.9 * t ** 2\\ndef d(t):\\n    return 31.5 * t\\n\\nt = 0 # start\\nwhile h(t) >= 0: #end\\n    x_lista.append(d(t))\\n    y_lista.append(h(t))\\n    \\n    t = t + 0.01\\nprint(\\\"pallo osuu maahan kun t=\\\",t)\\n\\nkuvaaja.plot(x_lista, y_lista)\\nkuvaaja.xlabel(\\\"Pituus (m)\\\")\\nkuvaaja.ylabel(\\\"Korkeus (m)\\\")\\n#kuvaaja.plot([0], [f(0)], marker='o', markersize=5, color=\\\"red\\\")\\n#kuvaaja.plot([30], [f(30)], marker='o', markersize=5, color=\\\"red\\\")\\n\\nkuvaaja.grid()\\nkuvaaja.show()\\n\\nprint(\\\"h on hetkell\\u00e4 0\\\", h(0))\\nprint(\\\"h on hetkell\\u00e4 2\\\", h(2))\\nprint(\\\"d on hetkell\\u00e4 0\\\", d(0))\\nprint(\\\"d on hetkell\\u00e4 1\\\", d(1))\\nprint(\\\"d on hetkell\\u00e4 2\\\", d(2))\";\n",
       "                var nbb_formatted_code = \"import matplotlib.pyplot as kuvaaja\\n\\nx_lista = []\\ny_lista = []\\n\\n\\ndef h(t):\\n    return 1.7 + 14.7 * t - 4.9 * t ** 2\\n\\n\\ndef d(t):\\n    return 31.5 * t\\n\\n\\nt = 0  # start\\nwhile h(t) >= 0:  # end\\n    x_lista.append(d(t))\\n    y_lista.append(h(t))\\n\\n    t = t + 0.01\\nprint(\\\"pallo osuu maahan kun t=\\\", t)\\n\\nkuvaaja.plot(x_lista, y_lista)\\nkuvaaja.xlabel(\\\"Pituus (m)\\\")\\nkuvaaja.ylabel(\\\"Korkeus (m)\\\")\\n# kuvaaja.plot([0], [f(0)], marker='o', markersize=5, color=\\\"red\\\")\\n# kuvaaja.plot([30], [f(30)], marker='o', markersize=5, color=\\\"red\\\")\\n\\nkuvaaja.grid()\\nkuvaaja.show()\\n\\nprint(\\\"h on hetkell\\u00e4 0\\\", h(0))\\nprint(\\\"h on hetkell\\u00e4 2\\\", h(2))\\nprint(\\\"d on hetkell\\u00e4 0\\\", d(0))\\nprint(\\\"d on hetkell\\u00e4 1\\\", d(1))\\nprint(\\\"d on hetkell\\u00e4 2\\\", d(2))\";\n",
       "                var nbb_cells = Jupyter.notebook.get_cells();\n",
       "                for (var i = 0; i < nbb_cells.length; ++i) {\n",
       "                    if (nbb_cells[i].input_prompt_number == nbb_cell_id) {\n",
       "                        if (nbb_cells[i].get_text() == nbb_unformatted_code) {\n",
       "                             nbb_cells[i].set_text(nbb_formatted_code);\n",
       "                        }\n",
       "                        break;\n",
       "                    }\n",
       "                }\n",
       "            }, 500);\n",
       "            "
      ],
      "text/plain": [
       "<IPython.core.display.Javascript object>"
      ]
     },
     "metadata": {},
     "output_type": "display_data"
    }
   ],
   "source": [
    "import matplotlib.pyplot as kuvaaja\n",
    "\n",
    "x_lista = []\n",
    "y_lista = []\n",
    "\n",
    "def h(t):\n",
    "    return 1.7 + 14.7 * t - 4.9 * t ** 2\n",
    "def d(t):\n",
    "    return 31.5 * t\n",
    "\n",
    "t = 0 # start\n",
    "while h(t) >= 0: #end\n",
    "    x_lista.append(d(t))\n",
    "    y_lista.append(h(t))\n",
    "    \n",
    "    t = t + 0.01\n",
    "print(\"pallo osuu maahan kun t=\",t)\n",
    "\n",
    "kuvaaja.plot(x_lista, y_lista)\n",
    "kuvaaja.xlabel(\"Pituus (m)\")\n",
    "kuvaaja.ylabel(\"Korkeus (m)\")\n",
    "#kuvaaja.plot([0], [f(0)], marker='o', markersize=5, color=\"red\")\n",
    "#kuvaaja.plot([30], [f(30)], marker='o', markersize=5, color=\"red\")\n",
    "\n",
    "kuvaaja.grid()\n",
    "kuvaaja.show()\n",
    "\n",
    "print(\"h on hetkellä 0\", h(0))\n",
    "print(\"h on hetkellä 2\", h(2))\n",
    "print(\"d on hetkellä 0\", d(0))\n",
    "print(\"d on hetkellä 1\", d(1))\n",
    "print(\"d on hetkellä 2\", d(2))\n"
   ]
  },
  {
   "cell_type": "code",
   "execution_count": null,
   "metadata": {},
   "outputs": [],
   "source": []
  }
 ],
 "metadata": {
  "kernelspec": {
   "display_name": "Python 3",
   "language": "python",
   "name": "python3"
  },
  "language_info": {
   "codemirror_mode": {
    "name": "ipython",
    "version": 3
   },
   "file_extension": ".py",
   "mimetype": "text/x-python",
   "name": "python",
   "nbconvert_exporter": "python",
   "pygments_lexer": "ipython3",
   "version": "3.7.3"
  }
 },
 "nbformat": 4,
 "nbformat_minor": 4
}
