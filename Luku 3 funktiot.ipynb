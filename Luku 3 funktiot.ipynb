{
 "cells": [
  {
   "cell_type": "markdown",
   "metadata": {},
   "source": [
    "# 3 Funktiot"
   ]
  },
  {
   "cell_type": "markdown",
   "metadata": {},
   "source": [
    "### Matematiikassa\n",
    "Matematiikassa funktion voi ajatella olevan operaatio, joka muokkaa lukuja. Operaation jälkeen saadaan uusi luku."
   ]
  },
  {
   "cell_type": "markdown",
   "metadata": {},
   "source": [
    "$f(x) = x^2$"
   ]
  },
  {
   "cell_type": "markdown",
   "metadata": {},
   "source": [
    "$f(4) = 16$"
   ]
  },
  {
   "cell_type": "markdown",
   "metadata": {},
   "source": [
    "$g(a, b) = a \\cdot b$"
   ]
  },
  {
   "cell_type": "markdown",
   "metadata": {},
   "source": [
    "$g(4, 10) = 4 \\cdot 10 = 40$"
   ]
  },
  {
   "cell_type": "markdown",
   "metadata": {},
   "source": [
    "### Pythonissa\n",
    "Myös pythonissa funktio voi olla operaatio, joka muokkaa lukuja. Funktio voi olla kuitenkin paljon monimutkaisempi, koska funktion sisällä voi suorittaa mitä tahansa python-koodia. \n",
    "\n",
    "Pythonissa funktioita voi siis käyttää paljon muuhunkin kuin pelkkään lukujen käsittelyyn. Niillä voi esimerkiksi välttää saman koodin kirjoittamista moneen kertaan.\n",
    "\n",
    "Funktioita voi luoda itse ja niitä on valmiina. Esimerkiksi `print` ja `len` ovat valmiiksi määriteltyjä funktioita."
   ]
  },
  {
   "cell_type": "markdown",
   "metadata": {},
   "source": [
    "Funktio voi ottaa parametreja ja palauttaa jonkun arvon. Parametreja voi olla mikä tahansa määrä. Funktio voi palauttaa arvon `return`-rakenteella, mutta tämäkään ei ole pakollista."
   ]
  },
  {
   "cell_type": "code",
   "execution_count": 20,
   "metadata": {},
   "outputs": [
    {
     "data": {
      "application/javascript": [
       "\n",
       "            setTimeout(function() {\n",
       "                var nbb_cell_id = 20;\n",
       "                var nbb_unformatted_code = \"def f(x):\\n    return x ** 2\";\n",
       "                var nbb_formatted_code = \"def f(x):\\n    return x ** 2\";\n",
       "                var nbb_cells = Jupyter.notebook.get_cells();\n",
       "                for (var i = 0; i < nbb_cells.length; ++i) {\n",
       "                    if (nbb_cells[i].input_prompt_number == nbb_cell_id) {\n",
       "                        if (nbb_cells[i].get_text() == nbb_unformatted_code) {\n",
       "                             nbb_cells[i].set_text(nbb_formatted_code);\n",
       "                        }\n",
       "                        break;\n",
       "                    }\n",
       "                }\n",
       "            }, 500);\n",
       "            "
      ],
      "text/plain": [
       "<IPython.core.display.Javascript object>"
      ]
     },
     "metadata": {},
     "output_type": "display_data"
    },
    {
     "data": {
      "application/javascript": [
       "\n",
       "            setTimeout(function() {\n",
       "                var nbb_cell_id = 20;\n",
       "                var nbb_unformatted_code = \"def f(x):\\n    return x ** 2\";\n",
       "                var nbb_formatted_code = \"def f(x):\\n    return x ** 2\";\n",
       "                var nbb_cells = Jupyter.notebook.get_cells();\n",
       "                for (var i = 0; i < nbb_cells.length; ++i) {\n",
       "                    if (nbb_cells[i].input_prompt_number == nbb_cell_id) {\n",
       "                        if (nbb_cells[i].get_text() == nbb_unformatted_code) {\n",
       "                             nbb_cells[i].set_text(nbb_formatted_code);\n",
       "                        }\n",
       "                        break;\n",
       "                    }\n",
       "                }\n",
       "            }, 500);\n",
       "            "
      ],
      "text/plain": [
       "<IPython.core.display.Javascript object>"
      ]
     },
     "metadata": {},
     "output_type": "display_data"
    }
   ],
   "source": [
    "def f(x):\n",
    "    return x ** 2"
   ]
  },
  {
   "cell_type": "code",
   "execution_count": 21,
   "metadata": {},
   "outputs": [
    {
     "name": "stdout",
     "output_type": "stream",
     "text": [
      "16\n"
     ]
    },
    {
     "data": {
      "application/javascript": [
       "\n",
       "            setTimeout(function() {\n",
       "                var nbb_cell_id = 21;\n",
       "                var nbb_unformatted_code = \"# Funktion f(x) parametriksi asetetaan luku 4 ja tallennetaan funktion palauttama arvo muuttujaan tulos\\ntulos = f(4)\\nprint(tulos)\";\n",
       "                var nbb_formatted_code = \"# Funktion f(x) parametriksi asetetaan luku 4 ja tallennetaan funktion palauttama arvo muuttujaan tulos\\ntulos = f(4)\\nprint(tulos)\";\n",
       "                var nbb_cells = Jupyter.notebook.get_cells();\n",
       "                for (var i = 0; i < nbb_cells.length; ++i) {\n",
       "                    if (nbb_cells[i].input_prompt_number == nbb_cell_id) {\n",
       "                        if (nbb_cells[i].get_text() == nbb_unformatted_code) {\n",
       "                             nbb_cells[i].set_text(nbb_formatted_code);\n",
       "                        }\n",
       "                        break;\n",
       "                    }\n",
       "                }\n",
       "            }, 500);\n",
       "            "
      ],
      "text/plain": [
       "<IPython.core.display.Javascript object>"
      ]
     },
     "metadata": {},
     "output_type": "display_data"
    },
    {
     "data": {
      "application/javascript": [
       "\n",
       "            setTimeout(function() {\n",
       "                var nbb_cell_id = 21;\n",
       "                var nbb_unformatted_code = \"# Funktion f(x) parametriksi asetetaan luku 4 ja tallennetaan funktion palauttama arvo muuttujaan tulos\\ntulos = f(4)\\nprint(tulos)\";\n",
       "                var nbb_formatted_code = \"# Funktion f(x) parametriksi asetetaan luku 4 ja tallennetaan funktion palauttama arvo muuttujaan tulos\\ntulos = f(4)\\nprint(tulos)\";\n",
       "                var nbb_cells = Jupyter.notebook.get_cells();\n",
       "                for (var i = 0; i < nbb_cells.length; ++i) {\n",
       "                    if (nbb_cells[i].input_prompt_number == nbb_cell_id) {\n",
       "                        if (nbb_cells[i].get_text() == nbb_unformatted_code) {\n",
       "                             nbb_cells[i].set_text(nbb_formatted_code);\n",
       "                        }\n",
       "                        break;\n",
       "                    }\n",
       "                }\n",
       "            }, 500);\n",
       "            "
      ],
      "text/plain": [
       "<IPython.core.display.Javascript object>"
      ]
     },
     "metadata": {},
     "output_type": "display_data"
    }
   ],
   "source": [
    "# Funktion f(x) parametriksi asetetaan luku 4 ja tallennetaan funktion palauttama arvo muuttujaan tulos\n",
    "tulos = f(4)\n",
    "print(tulos)"
   ]
  },
  {
   "cell_type": "code",
   "execution_count": 22,
   "metadata": {},
   "outputs": [
    {
     "data": {
      "application/javascript": [
       "\n",
       "            setTimeout(function() {\n",
       "                var nbb_cell_id = 22;\n",
       "                var nbb_unformatted_code = \"# Funktiolla g on kaksi parametria a ja b\\ndef g(a, b):\\n    return a * b\";\n",
       "                var nbb_formatted_code = \"# Funktiolla g on kaksi parametria a ja b\\ndef g(a, b):\\n    return a * b\";\n",
       "                var nbb_cells = Jupyter.notebook.get_cells();\n",
       "                for (var i = 0; i < nbb_cells.length; ++i) {\n",
       "                    if (nbb_cells[i].input_prompt_number == nbb_cell_id) {\n",
       "                        if (nbb_cells[i].get_text() == nbb_unformatted_code) {\n",
       "                             nbb_cells[i].set_text(nbb_formatted_code);\n",
       "                        }\n",
       "                        break;\n",
       "                    }\n",
       "                }\n",
       "            }, 500);\n",
       "            "
      ],
      "text/plain": [
       "<IPython.core.display.Javascript object>"
      ]
     },
     "metadata": {},
     "output_type": "display_data"
    },
    {
     "data": {
      "application/javascript": [
       "\n",
       "            setTimeout(function() {\n",
       "                var nbb_cell_id = 22;\n",
       "                var nbb_unformatted_code = \"# Funktiolla g on kaksi parametria a ja b\\ndef g(a, b):\\n    return a * b\";\n",
       "                var nbb_formatted_code = \"# Funktiolla g on kaksi parametria a ja b\\ndef g(a, b):\\n    return a * b\";\n",
       "                var nbb_cells = Jupyter.notebook.get_cells();\n",
       "                for (var i = 0; i < nbb_cells.length; ++i) {\n",
       "                    if (nbb_cells[i].input_prompt_number == nbb_cell_id) {\n",
       "                        if (nbb_cells[i].get_text() == nbb_unformatted_code) {\n",
       "                             nbb_cells[i].set_text(nbb_formatted_code);\n",
       "                        }\n",
       "                        break;\n",
       "                    }\n",
       "                }\n",
       "            }, 500);\n",
       "            "
      ],
      "text/plain": [
       "<IPython.core.display.Javascript object>"
      ]
     },
     "metadata": {},
     "output_type": "display_data"
    }
   ],
   "source": [
    "# Funktiolla g on kaksi parametria a ja b\n",
    "def g(a, b):\n",
    "    return a * b"
   ]
  },
  {
   "cell_type": "code",
   "execution_count": 23,
   "metadata": {},
   "outputs": [
    {
     "name": "stdout",
     "output_type": "stream",
     "text": [
      "40\n"
     ]
    },
    {
     "data": {
      "application/javascript": [
       "\n",
       "            setTimeout(function() {\n",
       "                var nbb_cell_id = 23;\n",
       "                var nbb_unformatted_code = \"tulos = g(4, 10)\\nprint(tulos)\";\n",
       "                var nbb_formatted_code = \"tulos = g(4, 10)\\nprint(tulos)\";\n",
       "                var nbb_cells = Jupyter.notebook.get_cells();\n",
       "                for (var i = 0; i < nbb_cells.length; ++i) {\n",
       "                    if (nbb_cells[i].input_prompt_number == nbb_cell_id) {\n",
       "                        if (nbb_cells[i].get_text() == nbb_unformatted_code) {\n",
       "                             nbb_cells[i].set_text(nbb_formatted_code);\n",
       "                        }\n",
       "                        break;\n",
       "                    }\n",
       "                }\n",
       "            }, 500);\n",
       "            "
      ],
      "text/plain": [
       "<IPython.core.display.Javascript object>"
      ]
     },
     "metadata": {},
     "output_type": "display_data"
    },
    {
     "data": {
      "application/javascript": [
       "\n",
       "            setTimeout(function() {\n",
       "                var nbb_cell_id = 23;\n",
       "                var nbb_unformatted_code = \"tulos = g(4, 10)\\nprint(tulos)\";\n",
       "                var nbb_formatted_code = \"tulos = g(4, 10)\\nprint(tulos)\";\n",
       "                var nbb_cells = Jupyter.notebook.get_cells();\n",
       "                for (var i = 0; i < nbb_cells.length; ++i) {\n",
       "                    if (nbb_cells[i].input_prompt_number == nbb_cell_id) {\n",
       "                        if (nbb_cells[i].get_text() == nbb_unformatted_code) {\n",
       "                             nbb_cells[i].set_text(nbb_formatted_code);\n",
       "                        }\n",
       "                        break;\n",
       "                    }\n",
       "                }\n",
       "            }, 500);\n",
       "            "
      ],
      "text/plain": [
       "<IPython.core.display.Javascript object>"
      ]
     },
     "metadata": {},
     "output_type": "display_data"
    }
   ],
   "source": [
    "tulos = g(4, 10)\n",
    "print(tulos)\n"
   ]
  },
  {
   "cell_type": "markdown",
   "metadata": {},
   "source": [
    "### Funktioiden suoritusjärjestys\n",
    "Funktio suoritetaan vasta silloin kun sitä kutsutaan."
   ]
  },
  {
   "cell_type": "code",
   "execution_count": 24,
   "metadata": {},
   "outputs": [
    {
     "name": "stdout",
     "output_type": "stream",
     "text": [
      "1\n",
      "2\n",
      "printataan funktion sisältä\n",
      "4\n",
      "printataan funktion sisältä\n"
     ]
    },
    {
     "data": {
      "application/javascript": [
       "\n",
       "            setTimeout(function() {\n",
       "                var nbb_cell_id = 24;\n",
       "                var nbb_unformatted_code = \"# M\\u00e4\\u00e4ritell\\u00e4\\u00e4n funktio, mutta ei viel\\u00e4 kutsuta sit\\u00e4 suoritettavaksi. Funktio2 ei palauta mit\\u00e4\\u00e4n\\ndef funktio2():\\n    print(\\\"printataan funktion sis\\u00e4lt\\u00e4\\\")\\n\\n\\n# Kutsutaan print-funktiota kaksi kertaa\\nprint(1)\\nprint(2)\\n# Kutsutaan nyt itse m\\u00e4\\u00e4ritelty\\u00e4 funktiota suoritettavaksi\\nfunktio2()\\nprint(4)\\nfunktio2()\";\n",
       "                var nbb_formatted_code = \"# M\\u00e4\\u00e4ritell\\u00e4\\u00e4n funktio, mutta ei viel\\u00e4 kutsuta sit\\u00e4 suoritettavaksi. Funktio2 ei palauta mit\\u00e4\\u00e4n\\ndef funktio2():\\n    print(\\\"printataan funktion sis\\u00e4lt\\u00e4\\\")\\n\\n\\n# Kutsutaan print-funktiota kaksi kertaa\\nprint(1)\\nprint(2)\\n# Kutsutaan nyt itse m\\u00e4\\u00e4ritelty\\u00e4 funktiota suoritettavaksi\\nfunktio2()\\nprint(4)\\nfunktio2()\";\n",
       "                var nbb_cells = Jupyter.notebook.get_cells();\n",
       "                for (var i = 0; i < nbb_cells.length; ++i) {\n",
       "                    if (nbb_cells[i].input_prompt_number == nbb_cell_id) {\n",
       "                        if (nbb_cells[i].get_text() == nbb_unformatted_code) {\n",
       "                             nbb_cells[i].set_text(nbb_formatted_code);\n",
       "                        }\n",
       "                        break;\n",
       "                    }\n",
       "                }\n",
       "            }, 500);\n",
       "            "
      ],
      "text/plain": [
       "<IPython.core.display.Javascript object>"
      ]
     },
     "metadata": {},
     "output_type": "display_data"
    },
    {
     "data": {
      "application/javascript": [
       "\n",
       "            setTimeout(function() {\n",
       "                var nbb_cell_id = 24;\n",
       "                var nbb_unformatted_code = \"# M\\u00e4\\u00e4ritell\\u00e4\\u00e4n funktio, mutta ei viel\\u00e4 kutsuta sit\\u00e4 suoritettavaksi. Funktio2 ei palauta mit\\u00e4\\u00e4n\\ndef funktio2():\\n    print(\\\"printataan funktion sis\\u00e4lt\\u00e4\\\")\\n\\n\\n# Kutsutaan print-funktiota kaksi kertaa\\nprint(1)\\nprint(2)\\n# Kutsutaan nyt itse m\\u00e4\\u00e4ritelty\\u00e4 funktiota suoritettavaksi\\nfunktio2()\\nprint(4)\\nfunktio2()\";\n",
       "                var nbb_formatted_code = \"# M\\u00e4\\u00e4ritell\\u00e4\\u00e4n funktio, mutta ei viel\\u00e4 kutsuta sit\\u00e4 suoritettavaksi. Funktio2 ei palauta mit\\u00e4\\u00e4n\\ndef funktio2():\\n    print(\\\"printataan funktion sis\\u00e4lt\\u00e4\\\")\\n\\n\\n# Kutsutaan print-funktiota kaksi kertaa\\nprint(1)\\nprint(2)\\n# Kutsutaan nyt itse m\\u00e4\\u00e4ritelty\\u00e4 funktiota suoritettavaksi\\nfunktio2()\\nprint(4)\\nfunktio2()\";\n",
       "                var nbb_cells = Jupyter.notebook.get_cells();\n",
       "                for (var i = 0; i < nbb_cells.length; ++i) {\n",
       "                    if (nbb_cells[i].input_prompt_number == nbb_cell_id) {\n",
       "                        if (nbb_cells[i].get_text() == nbb_unformatted_code) {\n",
       "                             nbb_cells[i].set_text(nbb_formatted_code);\n",
       "                        }\n",
       "                        break;\n",
       "                    }\n",
       "                }\n",
       "            }, 500);\n",
       "            "
      ],
      "text/plain": [
       "<IPython.core.display.Javascript object>"
      ]
     },
     "metadata": {},
     "output_type": "display_data"
    }
   ],
   "source": [
    "# Määritellään funktio, mutta ei vielä kutsuta sitä suoritettavaksi. Funktio2 ei palauta mitään\n",
    "def funktio2():\n",
    "    print(\"printataan funktion sisältä\")\n",
    "\n",
    "\n",
    "# Kutsutaan print-funktiota kaksi kertaa\n",
    "print(1)\n",
    "print(2)\n",
    "# Kutsutaan nyt itse määriteltyä funktiota suoritettavaksi\n",
    "funktio2()\n",
    "print(4)\n",
    "funktio2()"
   ]
  },
  {
   "cell_type": "markdown",
   "metadata": {},
   "source": [
    "Funktio suoritetaan vasta kun se kutsutaan."
   ]
  },
  {
   "cell_type": "markdown",
   "metadata": {},
   "source": [
    "## Tehtäviä"
   ]
  },
  {
   "cell_type": "markdown",
   "metadata": {},
   "source": [
    "### Tehtävä 3.1\n",
    "Tee funktio, joka ottaa parametrikseen luvun ja palauttaa luvun itseisarvon\n",
    "\n",
    "$\\left|x\\right|=\\begin{cases}\n",
    "x&{,}\\ jos\\ x\\ge 0\\\\\n",
    "-x&{,}\\ muuten\n",
    "\\end{cases}$"
   ]
  },
  {
   "cell_type": "code",
   "execution_count": 25,
   "metadata": {},
   "outputs": [
    {
     "name": "stdout",
     "output_type": "stream",
     "text": [
      "3 pitäisi olla 3\n",
      "3 pitäisi olla 3\n",
      "0 pitäisi olla 0\n",
      "Funktion arvo on 10\n",
      "6\n"
     ]
    },
    {
     "data": {
      "application/javascript": [
       "\n",
       "            setTimeout(function() {\n",
       "                var nbb_cell_id = 25;\n",
       "                var nbb_unformatted_code = \"def itseisarvo(x):\\n    # Koodi t\\u00e4nne\\n    if x >= 0:\\n        return x\\n    else:\\n        return -x\\n\\n\\n# Testej\\u00e4:\\nprint(itseisarvo(3), \\\"pit\\u00e4isi olla 3\\\")\\nprint(itseisarvo(-3), \\\"pit\\u00e4isi olla 3\\\")\\nprint(itseisarvo(0), \\\"pit\\u00e4isi olla 0\\\")\\n\\nprint(\\\"Funktion arvo on\\\", itseisarvo(-10))\\n\\nprint(abs(-6))\";\n",
       "                var nbb_formatted_code = \"def itseisarvo(x):\\n    # Koodi t\\u00e4nne\\n    if x >= 0:\\n        return x\\n    else:\\n        return -x\\n\\n\\n# Testej\\u00e4:\\nprint(itseisarvo(3), \\\"pit\\u00e4isi olla 3\\\")\\nprint(itseisarvo(-3), \\\"pit\\u00e4isi olla 3\\\")\\nprint(itseisarvo(0), \\\"pit\\u00e4isi olla 0\\\")\\n\\nprint(\\\"Funktion arvo on\\\", itseisarvo(-10))\\n\\nprint(abs(-6))\";\n",
       "                var nbb_cells = Jupyter.notebook.get_cells();\n",
       "                for (var i = 0; i < nbb_cells.length; ++i) {\n",
       "                    if (nbb_cells[i].input_prompt_number == nbb_cell_id) {\n",
       "                        if (nbb_cells[i].get_text() == nbb_unformatted_code) {\n",
       "                             nbb_cells[i].set_text(nbb_formatted_code);\n",
       "                        }\n",
       "                        break;\n",
       "                    }\n",
       "                }\n",
       "            }, 500);\n",
       "            "
      ],
      "text/plain": [
       "<IPython.core.display.Javascript object>"
      ]
     },
     "metadata": {},
     "output_type": "display_data"
    },
    {
     "data": {
      "application/javascript": [
       "\n",
       "            setTimeout(function() {\n",
       "                var nbb_cell_id = 25;\n",
       "                var nbb_unformatted_code = \"def itseisarvo(x):\\n    # Koodi t\\u00e4nne\\n    if x >= 0:\\n        return x\\n    else:\\n        return -x\\n\\n\\n# Testej\\u00e4:\\nprint(itseisarvo(3), \\\"pit\\u00e4isi olla 3\\\")\\nprint(itseisarvo(-3), \\\"pit\\u00e4isi olla 3\\\")\\nprint(itseisarvo(0), \\\"pit\\u00e4isi olla 0\\\")\\n\\nprint(\\\"Funktion arvo on\\\", itseisarvo(-10))\\n\\nprint(abs(-6))\";\n",
       "                var nbb_formatted_code = \"def itseisarvo(x):\\n    # Koodi t\\u00e4nne\\n    if x >= 0:\\n        return x\\n    else:\\n        return -x\\n\\n\\n# Testej\\u00e4:\\nprint(itseisarvo(3), \\\"pit\\u00e4isi olla 3\\\")\\nprint(itseisarvo(-3), \\\"pit\\u00e4isi olla 3\\\")\\nprint(itseisarvo(0), \\\"pit\\u00e4isi olla 0\\\")\\n\\nprint(\\\"Funktion arvo on\\\", itseisarvo(-10))\\n\\nprint(abs(-6))\";\n",
       "                var nbb_cells = Jupyter.notebook.get_cells();\n",
       "                for (var i = 0; i < nbb_cells.length; ++i) {\n",
       "                    if (nbb_cells[i].input_prompt_number == nbb_cell_id) {\n",
       "                        if (nbb_cells[i].get_text() == nbb_unformatted_code) {\n",
       "                             nbb_cells[i].set_text(nbb_formatted_code);\n",
       "                        }\n",
       "                        break;\n",
       "                    }\n",
       "                }\n",
       "            }, 500);\n",
       "            "
      ],
      "text/plain": [
       "<IPython.core.display.Javascript object>"
      ]
     },
     "metadata": {},
     "output_type": "display_data"
    }
   ],
   "source": [
    "def itseisarvo(x):\n",
    "    # Koodi tänne\n",
    "    if x >= 0:\n",
    "        return x\n",
    "    else:\n",
    "        return -x\n",
    "\n",
    "\n",
    "# Testejä:\n",
    "print(itseisarvo(3), \"pitäisi olla 3\")\n",
    "print(itseisarvo(-3), \"pitäisi olla 3\")\n",
    "print(itseisarvo(0), \"pitäisi olla 0\")\n",
    "\n",
    "print(\"Funktion arvo on\", itseisarvo(-10))\n",
    "\n",
    "print(abs(-6))"
   ]
  },
  {
   "cell_type": "markdown",
   "metadata": {},
   "source": [
    "### Tehtävä 3.2\n",
    "Kirjoita funktio, joka \n",
    "\n",
    "a) ottaa parametrikseen kaksi lukua ja laskee niiden keskiarvon\n",
    "\n",
    "b) ottaa parametrikseen listan ja laskee sen keskiarvon"
   ]
  },
  {
   "cell_type": "code",
   "execution_count": 26,
   "metadata": {},
   "outputs": [
    {
     "name": "stdout",
     "output_type": "stream",
     "text": [
      "3 pitäisi olla 3\n",
      "3 pitäisi olla 3\n",
      "0 pitäisi olla 0\n"
     ]
    },
    {
     "data": {
      "application/javascript": [
       "\n",
       "            setTimeout(function() {\n",
       "                var nbb_cell_id = 26;\n",
       "                var nbb_unformatted_code = \"def itseisarvo(x):\\n    if x < 0:\\n        return -x\\n    else:\\n        return x\\n\\n\\n# Testej\\u00e4:\\nprint(itseisarvo(3), \\\"pit\\u00e4isi olla 3\\\")\\nprint(itseisarvo(-3), \\\"pit\\u00e4isi olla 3\\\")\\nprint(itseisarvo(0), \\\"pit\\u00e4isi olla 0\\\")\";\n",
       "                var nbb_formatted_code = \"def itseisarvo(x):\\n    if x < 0:\\n        return -x\\n    else:\\n        return x\\n\\n\\n# Testej\\u00e4:\\nprint(itseisarvo(3), \\\"pit\\u00e4isi olla 3\\\")\\nprint(itseisarvo(-3), \\\"pit\\u00e4isi olla 3\\\")\\nprint(itseisarvo(0), \\\"pit\\u00e4isi olla 0\\\")\";\n",
       "                var nbb_cells = Jupyter.notebook.get_cells();\n",
       "                for (var i = 0; i < nbb_cells.length; ++i) {\n",
       "                    if (nbb_cells[i].input_prompt_number == nbb_cell_id) {\n",
       "                        if (nbb_cells[i].get_text() == nbb_unformatted_code) {\n",
       "                             nbb_cells[i].set_text(nbb_formatted_code);\n",
       "                        }\n",
       "                        break;\n",
       "                    }\n",
       "                }\n",
       "            }, 500);\n",
       "            "
      ],
      "text/plain": [
       "<IPython.core.display.Javascript object>"
      ]
     },
     "metadata": {},
     "output_type": "display_data"
    },
    {
     "data": {
      "application/javascript": [
       "\n",
       "            setTimeout(function() {\n",
       "                var nbb_cell_id = 26;\n",
       "                var nbb_unformatted_code = \"def itseisarvo(x):\\n    if x < 0:\\n        return -x\\n    else:\\n        return x\\n\\n\\n# Testej\\u00e4:\\nprint(itseisarvo(3), \\\"pit\\u00e4isi olla 3\\\")\\nprint(itseisarvo(-3), \\\"pit\\u00e4isi olla 3\\\")\\nprint(itseisarvo(0), \\\"pit\\u00e4isi olla 0\\\")\";\n",
       "                var nbb_formatted_code = \"def itseisarvo(x):\\n    if x < 0:\\n        return -x\\n    else:\\n        return x\\n\\n\\n# Testej\\u00e4:\\nprint(itseisarvo(3), \\\"pit\\u00e4isi olla 3\\\")\\nprint(itseisarvo(-3), \\\"pit\\u00e4isi olla 3\\\")\\nprint(itseisarvo(0), \\\"pit\\u00e4isi olla 0\\\")\";\n",
       "                var nbb_cells = Jupyter.notebook.get_cells();\n",
       "                for (var i = 0; i < nbb_cells.length; ++i) {\n",
       "                    if (nbb_cells[i].input_prompt_number == nbb_cell_id) {\n",
       "                        if (nbb_cells[i].get_text() == nbb_unformatted_code) {\n",
       "                             nbb_cells[i].set_text(nbb_formatted_code);\n",
       "                        }\n",
       "                        break;\n",
       "                    }\n",
       "                }\n",
       "            }, 500);\n",
       "            "
      ],
      "text/plain": [
       "<IPython.core.display.Javascript object>"
      ]
     },
     "metadata": {},
     "output_type": "display_data"
    }
   ],
   "source": [
    "def itseisarvo(x):\n",
    "    if x < 0:\n",
    "        return -x\n",
    "    else:\n",
    "        return x\n",
    "\n",
    "\n",
    "# Testejä:\n",
    "print(itseisarvo(3), \"pitäisi olla 3\")\n",
    "print(itseisarvo(-3), \"pitäisi olla 3\")\n",
    "print(itseisarvo(0), \"pitäisi olla 0\")"
   ]
  },
  {
   "cell_type": "markdown",
   "metadata": {},
   "source": [
    "### Tehtävä 3.3\n",
    "Kirjoita funktio, joka ottaa parametrikseen listan ja palauttaa listan kaikkien lukujen tulon."
   ]
  },
  {
   "cell_type": "code",
   "execution_count": 27,
   "metadata": {},
   "outputs": [
    {
     "name": "stdout",
     "output_type": "stream",
     "text": [
      "24\n"
     ]
    },
    {
     "data": {
      "application/javascript": [
       "\n",
       "            setTimeout(function() {\n",
       "                var nbb_cell_id = 27;\n",
       "                var nbb_unformatted_code = \"def tulo(lista):\\n    tulo = 1\\n    for luku in lista:\\n        tulo = tulo * luku\\n    return tulo\\nprint(tulo([3,2,4]))\";\n",
       "                var nbb_formatted_code = \"def tulo(lista):\\n    tulo = 1\\n    for luku in lista:\\n        tulo = tulo * luku\\n    return tulo\\n\\n\\nprint(tulo([3, 2, 4]))\";\n",
       "                var nbb_cells = Jupyter.notebook.get_cells();\n",
       "                for (var i = 0; i < nbb_cells.length; ++i) {\n",
       "                    if (nbb_cells[i].input_prompt_number == nbb_cell_id) {\n",
       "                        if (nbb_cells[i].get_text() == nbb_unformatted_code) {\n",
       "                             nbb_cells[i].set_text(nbb_formatted_code);\n",
       "                        }\n",
       "                        break;\n",
       "                    }\n",
       "                }\n",
       "            }, 500);\n",
       "            "
      ],
      "text/plain": [
       "<IPython.core.display.Javascript object>"
      ]
     },
     "metadata": {},
     "output_type": "display_data"
    },
    {
     "data": {
      "application/javascript": [
       "\n",
       "            setTimeout(function() {\n",
       "                var nbb_cell_id = 27;\n",
       "                var nbb_unformatted_code = \"def tulo(lista):\\n    tulo = 1\\n    for luku in lista:\\n        tulo = tulo * luku\\n    return tulo\\nprint(tulo([3,2,4]))\";\n",
       "                var nbb_formatted_code = \"def tulo(lista):\\n    tulo = 1\\n    for luku in lista:\\n        tulo = tulo * luku\\n    return tulo\\n\\n\\nprint(tulo([3, 2, 4]))\";\n",
       "                var nbb_cells = Jupyter.notebook.get_cells();\n",
       "                for (var i = 0; i < nbb_cells.length; ++i) {\n",
       "                    if (nbb_cells[i].input_prompt_number == nbb_cell_id) {\n",
       "                        if (nbb_cells[i].get_text() == nbb_unformatted_code) {\n",
       "                             nbb_cells[i].set_text(nbb_formatted_code);\n",
       "                        }\n",
       "                        break;\n",
       "                    }\n",
       "                }\n",
       "            }, 500);\n",
       "            "
      ],
      "text/plain": [
       "<IPython.core.display.Javascript object>"
      ]
     },
     "metadata": {},
     "output_type": "display_data"
    }
   ],
   "source": [
    "def tulo(lista):\n",
    "    tulo = 1\n",
    "    for luku in lista:\n",
    "        tulo = tulo * luku\n",
    "    return tulo\n",
    "print(tulo([3,2,4]))\n"
   ]
  },
  {
   "cell_type": "markdown",
   "metadata": {},
   "source": [
    "### Tehtävä 3.4\n",
    "Tee funktio, joka ottaa parametriksi listan ja luvun. Palauta uusi lista, josta on poistettu kaikki annettua lukua pienemmät alkiot"
   ]
  },
  {
   "cell_type": "code",
   "execution_count": 28,
   "metadata": {},
   "outputs": [
    {
     "name": "stdout",
     "output_type": "stream",
     "text": [
      "[5, 5, 6, 1000, 40]\n",
      "[3, 5, 1, -10, 5, -100, 6, 1000, 40, -100]\n"
     ]
    },
    {
     "data": {
      "application/javascript": [
       "\n",
       "            setTimeout(function() {\n",
       "                var nbb_cell_id = 28;\n",
       "                var nbb_unformatted_code = \"def funktio(lista, luku):\\n    # luodaan uusi tyhj\\u00e4 lista\\n    uusi_lista = []\\n    \\n    for alkio in lista:\\n        if alkio >= luku:\\n            # komenolla .append() lis\\u00e4t\\u00e4\\u00e4\\u00e4n listaan uusi luku\\n            uusi_lista.append(alkio)\\n    return uusi_lista\\n\\ntestilista = [3, 5, 1, -10, 5, -100, 6, 1000, 40, -100]\\n\\nmuokattu_lista = funktio(testilista, 5)\\n\\nprint(muokattu_lista)\\nprint(testilista)\";\n",
       "                var nbb_formatted_code = \"def funktio(lista, luku):\\n    # luodaan uusi tyhj\\u00e4 lista\\n    uusi_lista = []\\n\\n    for alkio in lista:\\n        if alkio >= luku:\\n            # komenolla .append() lis\\u00e4t\\u00e4\\u00e4\\u00e4n listaan uusi luku\\n            uusi_lista.append(alkio)\\n    return uusi_lista\\n\\n\\ntestilista = [3, 5, 1, -10, 5, -100, 6, 1000, 40, -100]\\n\\nmuokattu_lista = funktio(testilista, 5)\\n\\nprint(muokattu_lista)\\nprint(testilista)\";\n",
       "                var nbb_cells = Jupyter.notebook.get_cells();\n",
       "                for (var i = 0; i < nbb_cells.length; ++i) {\n",
       "                    if (nbb_cells[i].input_prompt_number == nbb_cell_id) {\n",
       "                        if (nbb_cells[i].get_text() == nbb_unformatted_code) {\n",
       "                             nbb_cells[i].set_text(nbb_formatted_code);\n",
       "                        }\n",
       "                        break;\n",
       "                    }\n",
       "                }\n",
       "            }, 500);\n",
       "            "
      ],
      "text/plain": [
       "<IPython.core.display.Javascript object>"
      ]
     },
     "metadata": {},
     "output_type": "display_data"
    },
    {
     "data": {
      "application/javascript": [
       "\n",
       "            setTimeout(function() {\n",
       "                var nbb_cell_id = 28;\n",
       "                var nbb_unformatted_code = \"def funktio(lista, luku):\\n    # luodaan uusi tyhj\\u00e4 lista\\n    uusi_lista = []\\n    \\n    for alkio in lista:\\n        if alkio >= luku:\\n            # komenolla .append() lis\\u00e4t\\u00e4\\u00e4\\u00e4n listaan uusi luku\\n            uusi_lista.append(alkio)\\n    return uusi_lista\\n\\ntestilista = [3, 5, 1, -10, 5, -100, 6, 1000, 40, -100]\\n\\nmuokattu_lista = funktio(testilista, 5)\\n\\nprint(muokattu_lista)\\nprint(testilista)\";\n",
       "                var nbb_formatted_code = \"def funktio(lista, luku):\\n    # luodaan uusi tyhj\\u00e4 lista\\n    uusi_lista = []\\n\\n    for alkio in lista:\\n        if alkio >= luku:\\n            # komenolla .append() lis\\u00e4t\\u00e4\\u00e4\\u00e4n listaan uusi luku\\n            uusi_lista.append(alkio)\\n    return uusi_lista\\n\\n\\ntestilista = [3, 5, 1, -10, 5, -100, 6, 1000, 40, -100]\\n\\nmuokattu_lista = funktio(testilista, 5)\\n\\nprint(muokattu_lista)\\nprint(testilista)\";\n",
       "                var nbb_cells = Jupyter.notebook.get_cells();\n",
       "                for (var i = 0; i < nbb_cells.length; ++i) {\n",
       "                    if (nbb_cells[i].input_prompt_number == nbb_cell_id) {\n",
       "                        if (nbb_cells[i].get_text() == nbb_unformatted_code) {\n",
       "                             nbb_cells[i].set_text(nbb_formatted_code);\n",
       "                        }\n",
       "                        break;\n",
       "                    }\n",
       "                }\n",
       "            }, 500);\n",
       "            "
      ],
      "text/plain": [
       "<IPython.core.display.Javascript object>"
      ]
     },
     "metadata": {},
     "output_type": "display_data"
    }
   ],
   "source": [
    "def funktio(lista, luku):\n",
    "    # luodaan uusi tyhjä lista\n",
    "    uusi_lista = []\n",
    "\n",
    "    for alkio in lista:\n",
    "        if alkio >= luku:\n",
    "            # komenolla .append() lisätäään listaan uusi luku\n",
    "            uusi_lista.append(alkio)\n",
    "    return uusi_lista\n",
    "\n",
    "\n",
    "testilista = [3, 5, 1, -10, 5, -100, 6, 1000, 40, -100]\n",
    "\n",
    "muokattu_lista = funktio(testilista, 5)\n",
    "\n",
    "print(muokattu_lista)\n",
    "print(testilista)"
   ]
  },
  {
   "cell_type": "markdown",
   "metadata": {},
   "source": [
    "### Tehtävä 3.5\n",
    "Arvioi numeerinen derivaatta funktioista $f(x) = x^2$, $g(x) = 4x$ ja $s(x) = \\sqrt{x}$ haluamassasi kohdissa. Numeerisen derivaatan voi arvioida kaavalla $\\dfrac{f(x+h)-f(x)}{h}$, kun $h$ on pieni luku."
   ]
  },
  {
   "cell_type": "code",
   "execution_count": 29,
   "metadata": {},
   "outputs": [
    {
     "name": "stdout",
     "output_type": "stream",
     "text": [
      "funktion 4x numeerinen on: 3.9999999996709334\n",
      "funktion f(x) derivaatta kohdassa x=1 on 2.0000009999243673\n",
      "funktion s(x) derivaatta kohdassa x=2 on 0.35355334637721114\n"
     ]
    },
    {
     "data": {
      "application/javascript": [
       "\n",
       "            setTimeout(function() {\n",
       "                var nbb_cell_id = 29;\n",
       "                var nbb_unformatted_code = \"import math\\n\\n\\ndef f(x):\\n    return x ** 2\\n\\n\\ndef g(x):\\n    return 4 * x\\n\\n\\ndef s(x):\\n    return math.sqrt(x)\\n\\n\\nh = 0.000001\\nx = 1\\n\\n\\nderivaatta = (g(x + h) - g(x)) / h\\n\\nprint(\\\"funktion 4x numeerinen on:\\\", derivaatta)\\n\\nderivaatta2 = (f(1 + h) - f(1)) / h\\nprint(\\\"funktion f(x) derivaatta kohdassa x=1 on\\\", derivaatta2)\\n\\nderivaatta3 = (s(2 + h) - s(2)) / h\\nprint(\\\"funktion s(x) derivaatta kohdassa x=2 on\\\", derivaatta3)\";\n",
       "                var nbb_formatted_code = \"import math\\n\\n\\ndef f(x):\\n    return x ** 2\\n\\n\\ndef g(x):\\n    return 4 * x\\n\\n\\ndef s(x):\\n    return math.sqrt(x)\\n\\n\\nh = 0.000001\\nx = 1\\n\\n\\nderivaatta = (g(x + h) - g(x)) / h\\n\\nprint(\\\"funktion 4x numeerinen on:\\\", derivaatta)\\n\\nderivaatta2 = (f(1 + h) - f(1)) / h\\nprint(\\\"funktion f(x) derivaatta kohdassa x=1 on\\\", derivaatta2)\\n\\nderivaatta3 = (s(2 + h) - s(2)) / h\\nprint(\\\"funktion s(x) derivaatta kohdassa x=2 on\\\", derivaatta3)\";\n",
       "                var nbb_cells = Jupyter.notebook.get_cells();\n",
       "                for (var i = 0; i < nbb_cells.length; ++i) {\n",
       "                    if (nbb_cells[i].input_prompt_number == nbb_cell_id) {\n",
       "                        if (nbb_cells[i].get_text() == nbb_unformatted_code) {\n",
       "                             nbb_cells[i].set_text(nbb_formatted_code);\n",
       "                        }\n",
       "                        break;\n",
       "                    }\n",
       "                }\n",
       "            }, 500);\n",
       "            "
      ],
      "text/plain": [
       "<IPython.core.display.Javascript object>"
      ]
     },
     "metadata": {},
     "output_type": "display_data"
    },
    {
     "data": {
      "application/javascript": [
       "\n",
       "            setTimeout(function() {\n",
       "                var nbb_cell_id = 29;\n",
       "                var nbb_unformatted_code = \"import math\\n\\n\\ndef f(x):\\n    return x ** 2\\n\\n\\ndef g(x):\\n    return 4 * x\\n\\n\\ndef s(x):\\n    return math.sqrt(x)\\n\\n\\nh = 0.000001\\nx = 1\\n\\n\\nderivaatta = (g(x + h) - g(x)) / h\\n\\nprint(\\\"funktion 4x numeerinen on:\\\", derivaatta)\\n\\nderivaatta2 = (f(1 + h) - f(1)) / h\\nprint(\\\"funktion f(x) derivaatta kohdassa x=1 on\\\", derivaatta2)\\n\\nderivaatta3 = (s(2 + h) - s(2)) / h\\nprint(\\\"funktion s(x) derivaatta kohdassa x=2 on\\\", derivaatta3)\";\n",
       "                var nbb_formatted_code = \"import math\\n\\n\\ndef f(x):\\n    return x ** 2\\n\\n\\ndef g(x):\\n    return 4 * x\\n\\n\\ndef s(x):\\n    return math.sqrt(x)\\n\\n\\nh = 0.000001\\nx = 1\\n\\n\\nderivaatta = (g(x + h) - g(x)) / h\\n\\nprint(\\\"funktion 4x numeerinen on:\\\", derivaatta)\\n\\nderivaatta2 = (f(1 + h) - f(1)) / h\\nprint(\\\"funktion f(x) derivaatta kohdassa x=1 on\\\", derivaatta2)\\n\\nderivaatta3 = (s(2 + h) - s(2)) / h\\nprint(\\\"funktion s(x) derivaatta kohdassa x=2 on\\\", derivaatta3)\";\n",
       "                var nbb_cells = Jupyter.notebook.get_cells();\n",
       "                for (var i = 0; i < nbb_cells.length; ++i) {\n",
       "                    if (nbb_cells[i].input_prompt_number == nbb_cell_id) {\n",
       "                        if (nbb_cells[i].get_text() == nbb_unformatted_code) {\n",
       "                             nbb_cells[i].set_text(nbb_formatted_code);\n",
       "                        }\n",
       "                        break;\n",
       "                    }\n",
       "                }\n",
       "            }, 500);\n",
       "            "
      ],
      "text/plain": [
       "<IPython.core.display.Javascript object>"
      ]
     },
     "metadata": {},
     "output_type": "display_data"
    }
   ],
   "source": [
    "import math\n",
    "\n",
    "\n",
    "def f(x):\n",
    "    return x ** 2\n",
    "\n",
    "\n",
    "def g(x):\n",
    "    return 4 * x\n",
    "\n",
    "\n",
    "def s(x):\n",
    "    return math.sqrt(x)\n",
    "\n",
    "\n",
    "h = 0.000001\n",
    "x = 1\n",
    "\n",
    "\n",
    "derivaatta = (g(x + h) - g(x)) / h\n",
    "\n",
    "print(\"funktion 4x numeerinen on:\", derivaatta)\n",
    "\n",
    "derivaatta2 = (f(1 + h) - f(1)) / h\n",
    "print(\"funktion f(x) derivaatta kohdassa x=1 on\", derivaatta2)\n",
    "\n",
    "derivaatta3 = (s(2 + h) - s(2)) / h\n",
    "print(\"funktion s(x) derivaatta kohdassa x=2 on\", derivaatta3)"
   ]
  },
  {
   "cell_type": "code",
   "execution_count": null,
   "metadata": {},
   "outputs": [],
   "source": []
  }
 ],
 "metadata": {
  "kernelspec": {
   "display_name": "Python 3",
   "language": "python",
   "name": "python3"
  },
  "language_info": {
   "codemirror_mode": {
    "name": "ipython",
    "version": 3
   },
   "file_extension": ".py",
   "mimetype": "text/x-python",
   "name": "python",
   "nbconvert_exporter": "python",
   "pygments_lexer": "ipython3",
   "version": "3.7.3"
  }
 },
 "nbformat": 4,
 "nbformat_minor": 4
}
