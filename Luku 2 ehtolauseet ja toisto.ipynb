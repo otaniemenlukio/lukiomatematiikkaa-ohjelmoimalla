{
 "cells": [
  {
   "cell_type": "markdown",
   "metadata": {},
   "source": [
    "# 2 ehtolauseet ja toisto\n",
    "\n",
    "Luvun 2 tehtävissä tutkitaan toistoa laskemalla lukujonoihin liittyviä esimerkkejä. Ehtolauseita tutkitaan esimerkiksi tehtävässä 2.8, jossa sanallinen tehtävänanto."
   ]
  },
  {
   "cell_type": "markdown",
   "metadata": {},
   "source": [
    "## Ehtolauseet"
   ]
  },
  {
   "cell_type": "markdown",
   "metadata": {},
   "source": [
    "Ohjelman täytyy joskus suorittaa komentoja vain, jos jokin ehto täyttyy. Silloin käytetään if-rakennetta."
   ]
  },
  {
   "cell_type": "code",
   "execution_count": 38,
   "metadata": {},
   "outputs": [
    {
     "name": "stdout",
     "output_type": "stream",
     "text": [
      "Muuttujan x arvo if-ehdon sisällä : 12\n",
      "Muuttujan x arvo ohjelman lopussa: 24\n"
     ]
    },
    {
     "data": {
      "application/javascript": [
       "\n",
       "            setTimeout(function() {\n",
       "                var nbb_cell_id = 38;\n",
       "                var nbb_unformatted_code = \"\\n\\n# Testaa ohjelman tulostetta muuttamalla muuttujan x arvoa:\\nx = 10\\n\\n# Tarkistetaan, onko muuttujan x arvo 10? Jos ehto toteutuu, niin suoritetaan sisennetty lohko\\nif x == 10:\\n    x = x + 2\\n    print(\\\"Muuttujan x arvo if-ehdon sis\\u00e4ll\\u00e4 :\\\", x)\\n# muuttujan x arvoksi asetaan 2-kertaa suurempi arvo\\nx = 2 * x\\nprint(\\\"Muuttujan x arvo ohjelman lopussa:\\\", x)\";\n",
       "                var nbb_formatted_code = \"# Testaa ohjelman tulostetta muuttamalla muuttujan x arvoa:\\nx = 10\\n\\n# Tarkistetaan, onko muuttujan x arvo 10? Jos ehto toteutuu, niin suoritetaan sisennetty lohko\\nif x == 10:\\n    x = x + 2\\n    print(\\\"Muuttujan x arvo if-ehdon sis\\u00e4ll\\u00e4 :\\\", x)\\n# muuttujan x arvoksi asetaan 2-kertaa suurempi arvo\\nx = 2 * x\\nprint(\\\"Muuttujan x arvo ohjelman lopussa:\\\", x)\";\n",
       "                var nbb_cells = Jupyter.notebook.get_cells();\n",
       "                for (var i = 0; i < nbb_cells.length; ++i) {\n",
       "                    if (nbb_cells[i].input_prompt_number == nbb_cell_id) {\n",
       "                        if (nbb_cells[i].get_text() == nbb_unformatted_code) {\n",
       "                             nbb_cells[i].set_text(nbb_formatted_code);\n",
       "                        }\n",
       "                        break;\n",
       "                    }\n",
       "                }\n",
       "            }, 500);\n",
       "            "
      ],
      "text/plain": [
       "<IPython.core.display.Javascript object>"
      ]
     },
     "metadata": {},
     "output_type": "display_data"
    },
    {
     "data": {
      "application/javascript": [
       "\n",
       "            setTimeout(function() {\n",
       "                var nbb_cell_id = 38;\n",
       "                var nbb_unformatted_code = \"\\n\\n# Testaa ohjelman tulostetta muuttamalla muuttujan x arvoa:\\nx = 10\\n\\n# Tarkistetaan, onko muuttujan x arvo 10? Jos ehto toteutuu, niin suoritetaan sisennetty lohko\\nif x == 10:\\n    x = x + 2\\n    print(\\\"Muuttujan x arvo if-ehdon sis\\u00e4ll\\u00e4 :\\\", x)\\n# muuttujan x arvoksi asetaan 2-kertaa suurempi arvo\\nx = 2 * x\\nprint(\\\"Muuttujan x arvo ohjelman lopussa:\\\", x)\";\n",
       "                var nbb_formatted_code = \"# Testaa ohjelman tulostetta muuttamalla muuttujan x arvoa:\\nx = 10\\n\\n# Tarkistetaan, onko muuttujan x arvo 10? Jos ehto toteutuu, niin suoritetaan sisennetty lohko\\nif x == 10:\\n    x = x + 2\\n    print(\\\"Muuttujan x arvo if-ehdon sis\\u00e4ll\\u00e4 :\\\", x)\\n# muuttujan x arvoksi asetaan 2-kertaa suurempi arvo\\nx = 2 * x\\nprint(\\\"Muuttujan x arvo ohjelman lopussa:\\\", x)\";\n",
       "                var nbb_cells = Jupyter.notebook.get_cells();\n",
       "                for (var i = 0; i < nbb_cells.length; ++i) {\n",
       "                    if (nbb_cells[i].input_prompt_number == nbb_cell_id) {\n",
       "                        if (nbb_cells[i].get_text() == nbb_unformatted_code) {\n",
       "                             nbb_cells[i].set_text(nbb_formatted_code);\n",
       "                        }\n",
       "                        break;\n",
       "                    }\n",
       "                }\n",
       "            }, 500);\n",
       "            "
      ],
      "text/plain": [
       "<IPython.core.display.Javascript object>"
      ]
     },
     "metadata": {},
     "output_type": "display_data"
    },
    {
     "data": {
      "application/javascript": [
       "\n",
       "            setTimeout(function() {\n",
       "                var nbb_cell_id = 38;\n",
       "                var nbb_unformatted_code = \"\\n\\n# Testaa ohjelman tulostetta muuttamalla muuttujan x arvoa:\\nx = 10\\n\\n# Tarkistetaan, onko muuttujan x arvo 10? Jos ehto toteutuu, niin suoritetaan sisennetty lohko\\nif x == 10:\\n    x = x + 2\\n    print(\\\"Muuttujan x arvo if-ehdon sis\\u00e4ll\\u00e4 :\\\", x)\\n# muuttujan x arvoksi asetaan 2-kertaa suurempi arvo\\nx = 2 * x\\nprint(\\\"Muuttujan x arvo ohjelman lopussa:\\\", x)\";\n",
       "                var nbb_formatted_code = \"# Testaa ohjelman tulostetta muuttamalla muuttujan x arvoa:\\nx = 10\\n\\n# Tarkistetaan, onko muuttujan x arvo 10? Jos ehto toteutuu, niin suoritetaan sisennetty lohko\\nif x == 10:\\n    x = x + 2\\n    print(\\\"Muuttujan x arvo if-ehdon sis\\u00e4ll\\u00e4 :\\\", x)\\n# muuttujan x arvoksi asetaan 2-kertaa suurempi arvo\\nx = 2 * x\\nprint(\\\"Muuttujan x arvo ohjelman lopussa:\\\", x)\";\n",
       "                var nbb_cells = Jupyter.notebook.get_cells();\n",
       "                for (var i = 0; i < nbb_cells.length; ++i) {\n",
       "                    if (nbb_cells[i].input_prompt_number == nbb_cell_id) {\n",
       "                        if (nbb_cells[i].get_text() == nbb_unformatted_code) {\n",
       "                             nbb_cells[i].set_text(nbb_formatted_code);\n",
       "                        }\n",
       "                        break;\n",
       "                    }\n",
       "                }\n",
       "            }, 500);\n",
       "            "
      ],
      "text/plain": [
       "<IPython.core.display.Javascript object>"
      ]
     },
     "metadata": {},
     "output_type": "display_data"
    }
   ],
   "source": [
    "# Testaa ohjelman tulostetta muuttamalla muuttujan x arvoa:\n",
    "x = 10\n",
    "\n",
    "# Tarkistetaan, onko muuttujan x arvo 10? Jos ehto toteutuu, niin suoritetaan sisennetty lohko\n",
    "if x == 10:\n",
    "    x = x + 2\n",
    "    print(\"Muuttujan x arvo if-ehdon sisällä :\", x)\n",
    "# muuttujan x arvoksi asetaan 2-kertaa suurempi arvo\n",
    "x = 2 * x\n",
    "print(\"Muuttujan x arvo ohjelman lopussa:\", x)"
   ]
  },
  {
   "cell_type": "markdown",
   "metadata": {},
   "source": [
    "Ylläolevan koodia koodia vastaa \"Jos x on yhtä suuri kuin kymmenen, lisää siihen kaksi ja tulosta x. Lopuksi joka tapauksessa kerro x kahdella.\"\n",
    "\n",
    "Pythonissa if-lauseen syntaksissa on sana `if`, sen jälkeen jokin ehto ja kaksoispiste. If-lauseen sisällä olevat komennot sisennetään neljällä välilyönnillä.\n",
    "\n",
    "If-lausetta voi jatkaa elif- ja else-rakenteilla. Else ei ota mitään ehtoa, vaan sen jälkeen tuleva koodi suoritetaan, jos if:n jälkeistä ei suoriteta."
   ]
  },
  {
   "cell_type": "code",
   "execution_count": 39,
   "metadata": {},
   "outputs": [
    {
     "name": "stdout",
     "output_type": "stream",
     "text": [
      "x on pienempi tai yhtä suuri kuin 10\n"
     ]
    },
    {
     "data": {
      "application/javascript": [
       "\n",
       "            setTimeout(function() {\n",
       "                var nbb_cell_id = 39;\n",
       "                var nbb_unformatted_code = \"x = 10\\nif x > 10:\\n    print(\\\"x on suurempi kuin 10\\\")\\nelse:\\n    print(\\\"x on pienempi tai yht\\u00e4 suuri kuin 10\\\")\";\n",
       "                var nbb_formatted_code = \"x = 10\\nif x > 10:\\n    print(\\\"x on suurempi kuin 10\\\")\\nelse:\\n    print(\\\"x on pienempi tai yht\\u00e4 suuri kuin 10\\\")\";\n",
       "                var nbb_cells = Jupyter.notebook.get_cells();\n",
       "                for (var i = 0; i < nbb_cells.length; ++i) {\n",
       "                    if (nbb_cells[i].input_prompt_number == nbb_cell_id) {\n",
       "                        if (nbb_cells[i].get_text() == nbb_unformatted_code) {\n",
       "                             nbb_cells[i].set_text(nbb_formatted_code);\n",
       "                        }\n",
       "                        break;\n",
       "                    }\n",
       "                }\n",
       "            }, 500);\n",
       "            "
      ],
      "text/plain": [
       "<IPython.core.display.Javascript object>"
      ]
     },
     "metadata": {},
     "output_type": "display_data"
    },
    {
     "data": {
      "application/javascript": [
       "\n",
       "            setTimeout(function() {\n",
       "                var nbb_cell_id = 39;\n",
       "                var nbb_unformatted_code = \"x = 10\\nif x > 10:\\n    print(\\\"x on suurempi kuin 10\\\")\\nelse:\\n    print(\\\"x on pienempi tai yht\\u00e4 suuri kuin 10\\\")\";\n",
       "                var nbb_formatted_code = \"x = 10\\nif x > 10:\\n    print(\\\"x on suurempi kuin 10\\\")\\nelse:\\n    print(\\\"x on pienempi tai yht\\u00e4 suuri kuin 10\\\")\";\n",
       "                var nbb_cells = Jupyter.notebook.get_cells();\n",
       "                for (var i = 0; i < nbb_cells.length; ++i) {\n",
       "                    if (nbb_cells[i].input_prompt_number == nbb_cell_id) {\n",
       "                        if (nbb_cells[i].get_text() == nbb_unformatted_code) {\n",
       "                             nbb_cells[i].set_text(nbb_formatted_code);\n",
       "                        }\n",
       "                        break;\n",
       "                    }\n",
       "                }\n",
       "            }, 500);\n",
       "            "
      ],
      "text/plain": [
       "<IPython.core.display.Javascript object>"
      ]
     },
     "metadata": {},
     "output_type": "display_data"
    },
    {
     "data": {
      "application/javascript": [
       "\n",
       "            setTimeout(function() {\n",
       "                var nbb_cell_id = 39;\n",
       "                var nbb_unformatted_code = \"x = 10\\nif x > 10:\\n    print(\\\"x on suurempi kuin 10\\\")\\nelse:\\n    print(\\\"x on pienempi tai yht\\u00e4 suuri kuin 10\\\")\";\n",
       "                var nbb_formatted_code = \"x = 10\\nif x > 10:\\n    print(\\\"x on suurempi kuin 10\\\")\\nelse:\\n    print(\\\"x on pienempi tai yht\\u00e4 suuri kuin 10\\\")\";\n",
       "                var nbb_cells = Jupyter.notebook.get_cells();\n",
       "                for (var i = 0; i < nbb_cells.length; ++i) {\n",
       "                    if (nbb_cells[i].input_prompt_number == nbb_cell_id) {\n",
       "                        if (nbb_cells[i].get_text() == nbb_unformatted_code) {\n",
       "                             nbb_cells[i].set_text(nbb_formatted_code);\n",
       "                        }\n",
       "                        break;\n",
       "                    }\n",
       "                }\n",
       "            }, 500);\n",
       "            "
      ],
      "text/plain": [
       "<IPython.core.display.Javascript object>"
      ]
     },
     "metadata": {},
     "output_type": "display_data"
    }
   ],
   "source": [
    "x = 10\n",
    "if x > 10:\n",
    "    print(\"x on suurempi kuin 10\")\n",
    "else:\n",
    "    print(\"x on pienempi tai yhtä suuri kuin 10\")"
   ]
  },
  {
   "cell_type": "markdown",
   "metadata": {},
   "source": [
    "If-else-rakenne on siis joko-tai-rakenne. Aina jompi kumpi suoritetaan.\n",
    "\n",
    "Elif on lyhenne sanoista else if. Se toimii samalla if-else-rakenne, mutta sitä on helpompi ketjuttaa.\n"
   ]
  },
  {
   "cell_type": "code",
   "execution_count": 41,
   "metadata": {},
   "outputs": [
    {
     "name": "stdout",
     "output_type": "stream",
     "text": [
      "x on negatiivinen\n"
     ]
    },
    {
     "data": {
      "application/javascript": [
       "\n",
       "            setTimeout(function() {\n",
       "                var nbb_cell_id = 41;\n",
       "                var nbb_unformatted_code = \"x = -1\\n\\nif x > 10:\\n    print(\\\"x on suurempi kuin kymmenen\\\")\\nelse:\\n    if x < 0:\\n        print(\\\"x on negatiivinen\\\" )\";\n",
       "                var nbb_formatted_code = \"x = -1\\n\\nif x > 10:\\n    print(\\\"x on suurempi kuin kymmenen\\\")\\nelse:\\n    if x < 0:\\n        print(\\\"x on negatiivinen\\\")\";\n",
       "                var nbb_cells = Jupyter.notebook.get_cells();\n",
       "                for (var i = 0; i < nbb_cells.length; ++i) {\n",
       "                    if (nbb_cells[i].input_prompt_number == nbb_cell_id) {\n",
       "                        if (nbb_cells[i].get_text() == nbb_unformatted_code) {\n",
       "                             nbb_cells[i].set_text(nbb_formatted_code);\n",
       "                        }\n",
       "                        break;\n",
       "                    }\n",
       "                }\n",
       "            }, 500);\n",
       "            "
      ],
      "text/plain": [
       "<IPython.core.display.Javascript object>"
      ]
     },
     "metadata": {},
     "output_type": "display_data"
    },
    {
     "data": {
      "application/javascript": [
       "\n",
       "            setTimeout(function() {\n",
       "                var nbb_cell_id = 41;\n",
       "                var nbb_unformatted_code = \"x = -1\\n\\nif x > 10:\\n    print(\\\"x on suurempi kuin kymmenen\\\")\\nelse:\\n    if x < 0:\\n        print(\\\"x on negatiivinen\\\" )\";\n",
       "                var nbb_formatted_code = \"x = -1\\n\\nif x > 10:\\n    print(\\\"x on suurempi kuin kymmenen\\\")\\nelse:\\n    if x < 0:\\n        print(\\\"x on negatiivinen\\\")\";\n",
       "                var nbb_cells = Jupyter.notebook.get_cells();\n",
       "                for (var i = 0; i < nbb_cells.length; ++i) {\n",
       "                    if (nbb_cells[i].input_prompt_number == nbb_cell_id) {\n",
       "                        if (nbb_cells[i].get_text() == nbb_unformatted_code) {\n",
       "                             nbb_cells[i].set_text(nbb_formatted_code);\n",
       "                        }\n",
       "                        break;\n",
       "                    }\n",
       "                }\n",
       "            }, 500);\n",
       "            "
      ],
      "text/plain": [
       "<IPython.core.display.Javascript object>"
      ]
     },
     "metadata": {},
     "output_type": "display_data"
    },
    {
     "data": {
      "application/javascript": [
       "\n",
       "            setTimeout(function() {\n",
       "                var nbb_cell_id = 41;\n",
       "                var nbb_unformatted_code = \"x = -1\\n\\nif x > 10:\\n    print(\\\"x on suurempi kuin kymmenen\\\")\\nelse:\\n    if x < 0:\\n        print(\\\"x on negatiivinen\\\" )\";\n",
       "                var nbb_formatted_code = \"x = -1\\n\\nif x > 10:\\n    print(\\\"x on suurempi kuin kymmenen\\\")\\nelse:\\n    if x < 0:\\n        print(\\\"x on negatiivinen\\\")\";\n",
       "                var nbb_cells = Jupyter.notebook.get_cells();\n",
       "                for (var i = 0; i < nbb_cells.length; ++i) {\n",
       "                    if (nbb_cells[i].input_prompt_number == nbb_cell_id) {\n",
       "                        if (nbb_cells[i].get_text() == nbb_unformatted_code) {\n",
       "                             nbb_cells[i].set_text(nbb_formatted_code);\n",
       "                        }\n",
       "                        break;\n",
       "                    }\n",
       "                }\n",
       "            }, 500);\n",
       "            "
      ],
      "text/plain": [
       "<IPython.core.display.Javascript object>"
      ]
     },
     "metadata": {},
     "output_type": "display_data"
    }
   ],
   "source": [
    "x = -1\n",
    "\n",
    "if x > 10:\n",
    "    print(\"x on suurempi kuin kymmenen\")\n",
    "else:\n",
    "    if x < 0:\n",
    "        print(\"x on negatiivinen\")"
   ]
  },
  {
   "cell_type": "markdown",
   "metadata": {},
   "source": [
    "tarkoittaa samaa kuin"
   ]
  },
  {
   "cell_type": "code",
   "execution_count": 42,
   "metadata": {},
   "outputs": [
    {
     "name": "stdout",
     "output_type": "stream",
     "text": [
      "x on negatiivinen\n"
     ]
    },
    {
     "data": {
      "application/javascript": [
       "\n",
       "            setTimeout(function() {\n",
       "                var nbb_cell_id = 42;\n",
       "                var nbb_unformatted_code = \"if x > 10:\\n    print(\\\"x on suurempi kuin kymmenen\\\")\\nelif x < 0:\\n    print(\\\"x on negatiivinen\\\")\";\n",
       "                var nbb_formatted_code = \"if x > 10:\\n    print(\\\"x on suurempi kuin kymmenen\\\")\\nelif x < 0:\\n    print(\\\"x on negatiivinen\\\")\";\n",
       "                var nbb_cells = Jupyter.notebook.get_cells();\n",
       "                for (var i = 0; i < nbb_cells.length; ++i) {\n",
       "                    if (nbb_cells[i].input_prompt_number == nbb_cell_id) {\n",
       "                        if (nbb_cells[i].get_text() == nbb_unformatted_code) {\n",
       "                             nbb_cells[i].set_text(nbb_formatted_code);\n",
       "                        }\n",
       "                        break;\n",
       "                    }\n",
       "                }\n",
       "            }, 500);\n",
       "            "
      ],
      "text/plain": [
       "<IPython.core.display.Javascript object>"
      ]
     },
     "metadata": {},
     "output_type": "display_data"
    },
    {
     "data": {
      "application/javascript": [
       "\n",
       "            setTimeout(function() {\n",
       "                var nbb_cell_id = 42;\n",
       "                var nbb_unformatted_code = \"if x > 10:\\n    print(\\\"x on suurempi kuin kymmenen\\\")\\nelif x < 0:\\n    print(\\\"x on negatiivinen\\\")\";\n",
       "                var nbb_formatted_code = \"if x > 10:\\n    print(\\\"x on suurempi kuin kymmenen\\\")\\nelif x < 0:\\n    print(\\\"x on negatiivinen\\\")\";\n",
       "                var nbb_cells = Jupyter.notebook.get_cells();\n",
       "                for (var i = 0; i < nbb_cells.length; ++i) {\n",
       "                    if (nbb_cells[i].input_prompt_number == nbb_cell_id) {\n",
       "                        if (nbb_cells[i].get_text() == nbb_unformatted_code) {\n",
       "                             nbb_cells[i].set_text(nbb_formatted_code);\n",
       "                        }\n",
       "                        break;\n",
       "                    }\n",
       "                }\n",
       "            }, 500);\n",
       "            "
      ],
      "text/plain": [
       "<IPython.core.display.Javascript object>"
      ]
     },
     "metadata": {},
     "output_type": "display_data"
    },
    {
     "data": {
      "application/javascript": [
       "\n",
       "            setTimeout(function() {\n",
       "                var nbb_cell_id = 42;\n",
       "                var nbb_unformatted_code = \"if x > 10:\\n    print(\\\"x on suurempi kuin kymmenen\\\")\\nelif x < 0:\\n    print(\\\"x on negatiivinen\\\")\";\n",
       "                var nbb_formatted_code = \"if x > 10:\\n    print(\\\"x on suurempi kuin kymmenen\\\")\\nelif x < 0:\\n    print(\\\"x on negatiivinen\\\")\";\n",
       "                var nbb_cells = Jupyter.notebook.get_cells();\n",
       "                for (var i = 0; i < nbb_cells.length; ++i) {\n",
       "                    if (nbb_cells[i].input_prompt_number == nbb_cell_id) {\n",
       "                        if (nbb_cells[i].get_text() == nbb_unformatted_code) {\n",
       "                             nbb_cells[i].set_text(nbb_formatted_code);\n",
       "                        }\n",
       "                        break;\n",
       "                    }\n",
       "                }\n",
       "            }, 500);\n",
       "            "
      ],
      "text/plain": [
       "<IPython.core.display.Javascript object>"
      ]
     },
     "metadata": {},
     "output_type": "display_data"
    }
   ],
   "source": [
    "if x > 10:\n",
    "    print(\"x on suurempi kuin kymmenen\")\n",
    "elif x < 0:\n",
    "    print(\"x on negatiivinen\")"
   ]
  },
  {
   "cell_type": "markdown",
   "metadata": {},
   "source": [
    "Esimerkki if-elif-else -ketjusta. Alla oleva ohjelma laskee pisteet-muuttujan arvosta yo-arvosanan."
   ]
  },
  {
   "cell_type": "code",
   "execution_count": 43,
   "metadata": {},
   "outputs": [
    {
     "name": "stdout",
     "output_type": "stream",
     "text": [
      "E\n"
     ]
    },
    {
     "data": {
      "application/javascript": [
       "\n",
       "            setTimeout(function() {\n",
       "                var nbb_cell_id = 43;\n",
       "                var nbb_unformatted_code = \"pisteet = 80\\n\\nif pisteet < 28:\\n    print(\\\"I\\\")\\nelif pisteet < 40:\\n    print(\\\"A\\\")\\nelif pisteet < 52:\\n    print(\\\"B\\\")\\nelif pisteet < 64:\\n    print(\\\"C\\\")\\nelif pisteet < 75:\\n    print(\\\"M\\\")\\nelif pisteet < 90:\\n    print(\\\"E\\\")\\nelse:\\n    print(\\\"L\\\")\\n\\n    \";\n",
       "                var nbb_formatted_code = \"pisteet = 80\\n\\nif pisteet < 28:\\n    print(\\\"I\\\")\\nelif pisteet < 40:\\n    print(\\\"A\\\")\\nelif pisteet < 52:\\n    print(\\\"B\\\")\\nelif pisteet < 64:\\n    print(\\\"C\\\")\\nelif pisteet < 75:\\n    print(\\\"M\\\")\\nelif pisteet < 90:\\n    print(\\\"E\\\")\\nelse:\\n    print(\\\"L\\\")\";\n",
       "                var nbb_cells = Jupyter.notebook.get_cells();\n",
       "                for (var i = 0; i < nbb_cells.length; ++i) {\n",
       "                    if (nbb_cells[i].input_prompt_number == nbb_cell_id) {\n",
       "                        if (nbb_cells[i].get_text() == nbb_unformatted_code) {\n",
       "                             nbb_cells[i].set_text(nbb_formatted_code);\n",
       "                        }\n",
       "                        break;\n",
       "                    }\n",
       "                }\n",
       "            }, 500);\n",
       "            "
      ],
      "text/plain": [
       "<IPython.core.display.Javascript object>"
      ]
     },
     "metadata": {},
     "output_type": "display_data"
    },
    {
     "data": {
      "application/javascript": [
       "\n",
       "            setTimeout(function() {\n",
       "                var nbb_cell_id = 43;\n",
       "                var nbb_unformatted_code = \"pisteet = 80\\n\\nif pisteet < 28:\\n    print(\\\"I\\\")\\nelif pisteet < 40:\\n    print(\\\"A\\\")\\nelif pisteet < 52:\\n    print(\\\"B\\\")\\nelif pisteet < 64:\\n    print(\\\"C\\\")\\nelif pisteet < 75:\\n    print(\\\"M\\\")\\nelif pisteet < 90:\\n    print(\\\"E\\\")\\nelse:\\n    print(\\\"L\\\")\\n\\n    \";\n",
       "                var nbb_formatted_code = \"pisteet = 80\\n\\nif pisteet < 28:\\n    print(\\\"I\\\")\\nelif pisteet < 40:\\n    print(\\\"A\\\")\\nelif pisteet < 52:\\n    print(\\\"B\\\")\\nelif pisteet < 64:\\n    print(\\\"C\\\")\\nelif pisteet < 75:\\n    print(\\\"M\\\")\\nelif pisteet < 90:\\n    print(\\\"E\\\")\\nelse:\\n    print(\\\"L\\\")\";\n",
       "                var nbb_cells = Jupyter.notebook.get_cells();\n",
       "                for (var i = 0; i < nbb_cells.length; ++i) {\n",
       "                    if (nbb_cells[i].input_prompt_number == nbb_cell_id) {\n",
       "                        if (nbb_cells[i].get_text() == nbb_unformatted_code) {\n",
       "                             nbb_cells[i].set_text(nbb_formatted_code);\n",
       "                        }\n",
       "                        break;\n",
       "                    }\n",
       "                }\n",
       "            }, 500);\n",
       "            "
      ],
      "text/plain": [
       "<IPython.core.display.Javascript object>"
      ]
     },
     "metadata": {},
     "output_type": "display_data"
    },
    {
     "data": {
      "application/javascript": [
       "\n",
       "            setTimeout(function() {\n",
       "                var nbb_cell_id = 43;\n",
       "                var nbb_unformatted_code = \"pisteet = 80\\n\\nif pisteet < 28:\\n    print(\\\"I\\\")\\nelif pisteet < 40:\\n    print(\\\"A\\\")\\nelif pisteet < 52:\\n    print(\\\"B\\\")\\nelif pisteet < 64:\\n    print(\\\"C\\\")\\nelif pisteet < 75:\\n    print(\\\"M\\\")\\nelif pisteet < 90:\\n    print(\\\"E\\\")\\nelse:\\n    print(\\\"L\\\")\\n\\n    \";\n",
       "                var nbb_formatted_code = \"pisteet = 80\\n\\nif pisteet < 28:\\n    print(\\\"I\\\")\\nelif pisteet < 40:\\n    print(\\\"A\\\")\\nelif pisteet < 52:\\n    print(\\\"B\\\")\\nelif pisteet < 64:\\n    print(\\\"C\\\")\\nelif pisteet < 75:\\n    print(\\\"M\\\")\\nelif pisteet < 90:\\n    print(\\\"E\\\")\\nelse:\\n    print(\\\"L\\\")\";\n",
       "                var nbb_cells = Jupyter.notebook.get_cells();\n",
       "                for (var i = 0; i < nbb_cells.length; ++i) {\n",
       "                    if (nbb_cells[i].input_prompt_number == nbb_cell_id) {\n",
       "                        if (nbb_cells[i].get_text() == nbb_unformatted_code) {\n",
       "                             nbb_cells[i].set_text(nbb_formatted_code);\n",
       "                        }\n",
       "                        break;\n",
       "                    }\n",
       "                }\n",
       "            }, 500);\n",
       "            "
      ],
      "text/plain": [
       "<IPython.core.display.Javascript object>"
      ]
     },
     "metadata": {},
     "output_type": "display_data"
    }
   ],
   "source": [
    "pisteet = 80\n",
    "\n",
    "if pisteet < 28:\n",
    "    print(\"I\")\n",
    "elif pisteet < 40:\n",
    "    print(\"A\")\n",
    "elif pisteet < 52:\n",
    "    print(\"B\")\n",
    "elif pisteet < 64:\n",
    "    print(\"C\")\n",
    "elif pisteet < 75:\n",
    "    print(\"M\")\n",
    "elif pisteet < 90:\n",
    "    print(\"E\")\n",
    "else:\n",
    "    print(\"L\")"
   ]
  },
  {
   "cell_type": "markdown",
   "metadata": {},
   "source": [
    "Yhdessä if-rakenteessa on oltava yksi if, niin monta elif:iä kuin tarvitaan ja korkeintaan yksi else. Jos elseä käytetään, sen täytyy olla aina viimeisenä. Esimerkiksi seuraava ohjelma ei ole sallittu:"
   ]
  },
  {
   "cell_type": "code",
   "execution_count": 1,
   "metadata": {},
   "outputs": [
    {
     "ename": "SyntaxError",
     "evalue": "invalid syntax (<ipython-input-1-8d99fa1200a8>, line 6)",
     "output_type": "error",
     "traceback": [
      "\u001b[0;36m  File \u001b[0;32m\"<ipython-input-1-8d99fa1200a8>\"\u001b[0;36m, line \u001b[0;32m6\u001b[0m\n\u001b[0;31m    elif x < 0:\u001b[0m\n\u001b[0m       ^\u001b[0m\n\u001b[0;31mSyntaxError\u001b[0m\u001b[0;31m:\u001b[0m invalid syntax\n"
     ]
    }
   ],
   "source": [
    "x = 0\n",
    "if x == 0:\n",
    "    print(\"x on 0\")\n",
    "else:\n",
    "    print(\"x ei ole 0\")\n",
    "elif x < 0:\n",
    "    print(\"x on negatiivinen\")"
   ]
  },
  {
   "cell_type": "markdown",
   "metadata": {},
   "source": [
    "Yllä olevan esimerkin oikea rakenne:"
   ]
  },
  {
   "cell_type": "code",
   "execution_count": 44,
   "metadata": {},
   "outputs": [
    {
     "name": "stdout",
     "output_type": "stream",
     "text": [
      "x ei ole 0\n"
     ]
    },
    {
     "data": {
      "application/javascript": [
       "\n",
       "            setTimeout(function() {\n",
       "                var nbb_cell_id = 44;\n",
       "                var nbb_unformatted_code = \"x = 1\\nif x == 0:\\n    print(\\\"x on 0\\\")\\nelif x < 0:\\n    print(\\\"x on negatiivinen\\\")\\nelse:\\n    print(\\\"x ei ole 0\\\")\";\n",
       "                var nbb_formatted_code = \"x = 1\\nif x == 0:\\n    print(\\\"x on 0\\\")\\nelif x < 0:\\n    print(\\\"x on negatiivinen\\\")\\nelse:\\n    print(\\\"x ei ole 0\\\")\";\n",
       "                var nbb_cells = Jupyter.notebook.get_cells();\n",
       "                for (var i = 0; i < nbb_cells.length; ++i) {\n",
       "                    if (nbb_cells[i].input_prompt_number == nbb_cell_id) {\n",
       "                        if (nbb_cells[i].get_text() == nbb_unformatted_code) {\n",
       "                             nbb_cells[i].set_text(nbb_formatted_code);\n",
       "                        }\n",
       "                        break;\n",
       "                    }\n",
       "                }\n",
       "            }, 500);\n",
       "            "
      ],
      "text/plain": [
       "<IPython.core.display.Javascript object>"
      ]
     },
     "metadata": {},
     "output_type": "display_data"
    },
    {
     "data": {
      "application/javascript": [
       "\n",
       "            setTimeout(function() {\n",
       "                var nbb_cell_id = 44;\n",
       "                var nbb_unformatted_code = \"x = 1\\nif x == 0:\\n    print(\\\"x on 0\\\")\\nelif x < 0:\\n    print(\\\"x on negatiivinen\\\")\\nelse:\\n    print(\\\"x ei ole 0\\\")\";\n",
       "                var nbb_formatted_code = \"x = 1\\nif x == 0:\\n    print(\\\"x on 0\\\")\\nelif x < 0:\\n    print(\\\"x on negatiivinen\\\")\\nelse:\\n    print(\\\"x ei ole 0\\\")\";\n",
       "                var nbb_cells = Jupyter.notebook.get_cells();\n",
       "                for (var i = 0; i < nbb_cells.length; ++i) {\n",
       "                    if (nbb_cells[i].input_prompt_number == nbb_cell_id) {\n",
       "                        if (nbb_cells[i].get_text() == nbb_unformatted_code) {\n",
       "                             nbb_cells[i].set_text(nbb_formatted_code);\n",
       "                        }\n",
       "                        break;\n",
       "                    }\n",
       "                }\n",
       "            }, 500);\n",
       "            "
      ],
      "text/plain": [
       "<IPython.core.display.Javascript object>"
      ]
     },
     "metadata": {},
     "output_type": "display_data"
    },
    {
     "data": {
      "application/javascript": [
       "\n",
       "            setTimeout(function() {\n",
       "                var nbb_cell_id = 44;\n",
       "                var nbb_unformatted_code = \"x = 1\\nif x == 0:\\n    print(\\\"x on 0\\\")\\nelif x < 0:\\n    print(\\\"x on negatiivinen\\\")\\nelse:\\n    print(\\\"x ei ole 0\\\")\";\n",
       "                var nbb_formatted_code = \"x = 1\\nif x == 0:\\n    print(\\\"x on 0\\\")\\nelif x < 0:\\n    print(\\\"x on negatiivinen\\\")\\nelse:\\n    print(\\\"x ei ole 0\\\")\";\n",
       "                var nbb_cells = Jupyter.notebook.get_cells();\n",
       "                for (var i = 0; i < nbb_cells.length; ++i) {\n",
       "                    if (nbb_cells[i].input_prompt_number == nbb_cell_id) {\n",
       "                        if (nbb_cells[i].get_text() == nbb_unformatted_code) {\n",
       "                             nbb_cells[i].set_text(nbb_formatted_code);\n",
       "                        }\n",
       "                        break;\n",
       "                    }\n",
       "                }\n",
       "            }, 500);\n",
       "            "
      ],
      "text/plain": [
       "<IPython.core.display.Javascript object>"
      ]
     },
     "metadata": {},
     "output_type": "display_data"
    }
   ],
   "source": [
    "x = 1\n",
    "if x == 0:\n",
    "    print(\"x on 0\")\n",
    "elif x < 0:\n",
    "    print(\"x on negatiivinen\")\n",
    "else:\n",
    "    print(\"x ei ole 0\")"
   ]
  },
  {
   "cell_type": "markdown",
   "metadata": {},
   "source": [
    " Tee ohjelma, joka kysyy käyttäjältä luvun ja kertoo onko luku pariton vai parillinen."
   ]
  },
  {
   "cell_type": "code",
   "execution_count": 45,
   "metadata": {},
   "outputs": [
    {
     "name": "stdout",
     "output_type": "stream",
     "text": [
      "Luku on pariton\n"
     ]
    },
    {
     "data": {
      "application/javascript": [
       "\n",
       "            setTimeout(function() {\n",
       "                var nbb_cell_id = 45;\n",
       "                var nbb_unformatted_code = \"# Kirjoita ohjelma t\\u00e4h\\u00e4n\\nluku = 5\\n# jaollisuus tutkitaan % operaattorilla. Se kertoo jakoj\\u00e4\\u00e4nn\\u00f6ksen\\nif luku % 2 == 0:\\n    print(\\\"Luku on parillinen\\\")\\nelse:\\n    print(\\\"Luku on pariton\\\")\";\n",
       "                var nbb_formatted_code = \"# Kirjoita ohjelma t\\u00e4h\\u00e4n\\nluku = 5\\n# jaollisuus tutkitaan % operaattorilla. Se kertoo jakoj\\u00e4\\u00e4nn\\u00f6ksen\\nif luku % 2 == 0:\\n    print(\\\"Luku on parillinen\\\")\\nelse:\\n    print(\\\"Luku on pariton\\\")\";\n",
       "                var nbb_cells = Jupyter.notebook.get_cells();\n",
       "                for (var i = 0; i < nbb_cells.length; ++i) {\n",
       "                    if (nbb_cells[i].input_prompt_number == nbb_cell_id) {\n",
       "                        if (nbb_cells[i].get_text() == nbb_unformatted_code) {\n",
       "                             nbb_cells[i].set_text(nbb_formatted_code);\n",
       "                        }\n",
       "                        break;\n",
       "                    }\n",
       "                }\n",
       "            }, 500);\n",
       "            "
      ],
      "text/plain": [
       "<IPython.core.display.Javascript object>"
      ]
     },
     "metadata": {},
     "output_type": "display_data"
    },
    {
     "data": {
      "application/javascript": [
       "\n",
       "            setTimeout(function() {\n",
       "                var nbb_cell_id = 45;\n",
       "                var nbb_unformatted_code = \"# Kirjoita ohjelma t\\u00e4h\\u00e4n\\nluku = 5\\n# jaollisuus tutkitaan % operaattorilla. Se kertoo jakoj\\u00e4\\u00e4nn\\u00f6ksen\\nif luku % 2 == 0:\\n    print(\\\"Luku on parillinen\\\")\\nelse:\\n    print(\\\"Luku on pariton\\\")\";\n",
       "                var nbb_formatted_code = \"# Kirjoita ohjelma t\\u00e4h\\u00e4n\\nluku = 5\\n# jaollisuus tutkitaan % operaattorilla. Se kertoo jakoj\\u00e4\\u00e4nn\\u00f6ksen\\nif luku % 2 == 0:\\n    print(\\\"Luku on parillinen\\\")\\nelse:\\n    print(\\\"Luku on pariton\\\")\";\n",
       "                var nbb_cells = Jupyter.notebook.get_cells();\n",
       "                for (var i = 0; i < nbb_cells.length; ++i) {\n",
       "                    if (nbb_cells[i].input_prompt_number == nbb_cell_id) {\n",
       "                        if (nbb_cells[i].get_text() == nbb_unformatted_code) {\n",
       "                             nbb_cells[i].set_text(nbb_formatted_code);\n",
       "                        }\n",
       "                        break;\n",
       "                    }\n",
       "                }\n",
       "            }, 500);\n",
       "            "
      ],
      "text/plain": [
       "<IPython.core.display.Javascript object>"
      ]
     },
     "metadata": {},
     "output_type": "display_data"
    },
    {
     "data": {
      "application/javascript": [
       "\n",
       "            setTimeout(function() {\n",
       "                var nbb_cell_id = 45;\n",
       "                var nbb_unformatted_code = \"# Kirjoita ohjelma t\\u00e4h\\u00e4n\\nluku = 5\\n# jaollisuus tutkitaan % operaattorilla. Se kertoo jakoj\\u00e4\\u00e4nn\\u00f6ksen\\nif luku % 2 == 0:\\n    print(\\\"Luku on parillinen\\\")\\nelse:\\n    print(\\\"Luku on pariton\\\")\";\n",
       "                var nbb_formatted_code = \"# Kirjoita ohjelma t\\u00e4h\\u00e4n\\nluku = 5\\n# jaollisuus tutkitaan % operaattorilla. Se kertoo jakoj\\u00e4\\u00e4nn\\u00f6ksen\\nif luku % 2 == 0:\\n    print(\\\"Luku on parillinen\\\")\\nelse:\\n    print(\\\"Luku on pariton\\\")\";\n",
       "                var nbb_cells = Jupyter.notebook.get_cells();\n",
       "                for (var i = 0; i < nbb_cells.length; ++i) {\n",
       "                    if (nbb_cells[i].input_prompt_number == nbb_cell_id) {\n",
       "                        if (nbb_cells[i].get_text() == nbb_unformatted_code) {\n",
       "                             nbb_cells[i].set_text(nbb_formatted_code);\n",
       "                        }\n",
       "                        break;\n",
       "                    }\n",
       "                }\n",
       "            }, 500);\n",
       "            "
      ],
      "text/plain": [
       "<IPython.core.display.Javascript object>"
      ]
     },
     "metadata": {},
     "output_type": "display_data"
    }
   ],
   "source": [
    "# Kirjoita ohjelma tähän\n",
    "luku = 5\n",
    "# jaollisuus tutkitaan % operaattorilla. Se kertoo jakojäännöksen\n",
    "if luku % 2 == 0:\n",
    "    print(\"Luku on parillinen\")\n",
    "else:\n",
    "    print(\"Luku on pariton\")\n"
   ]
  },
  {
   "cell_type": "markdown",
   "metadata": {},
   "source": [
    "### Tehtävä 2.1\n",
    "Toteuta lipunmyyntiohjelma, joka ottaa syötteenä iän ja tulostaa lipun hinnan. Hinnasto: \n",
    "\n",
    "\n",
    "| Ikä        | Hinta |\n",
    "|------------|-------|\n",
    "| Alle 7     | 0€    |\n",
    "| 7-17       | 1.40€ |\n",
    "| 18-69      | 2.80€ |\n",
    "| 70 tai yli | 1.40€ |\n"
   ]
  },
  {
   "cell_type": "code",
   "execution_count": 46,
   "metadata": {},
   "outputs": [
    {
     "name": "stdout",
     "output_type": "stream",
     "text": [
      "Hinta on 2.80\n"
     ]
    },
    {
     "data": {
      "application/javascript": [
       "\n",
       "            setTimeout(function() {\n",
       "                var nbb_cell_id = 46;\n",
       "                var nbb_unformatted_code = \"ik\\u00e4 = 18\\n\\nif ik\\u00e4 < 7:\\n    print(\\\"Hinta on 0 euroa\\\")\\nelif ik\\u00e4 < 18:\\n    print(\\\"Hinta on 1.40 euroa\\\")\\nelif ik\\u00e4 < 70:\\n    print(\\\"Hinta on 2.80\\\")\\nelse:\\n    print(\\\"Hinta on 1.40\\u20ac\\\")\";\n",
       "                var nbb_formatted_code = \"ik\\u00e4 = 18\\n\\nif ik\\u00e4 < 7:\\n    print(\\\"Hinta on 0 euroa\\\")\\nelif ik\\u00e4 < 18:\\n    print(\\\"Hinta on 1.40 euroa\\\")\\nelif ik\\u00e4 < 70:\\n    print(\\\"Hinta on 2.80\\\")\\nelse:\\n    print(\\\"Hinta on 1.40\\u20ac\\\")\";\n",
       "                var nbb_cells = Jupyter.notebook.get_cells();\n",
       "                for (var i = 0; i < nbb_cells.length; ++i) {\n",
       "                    if (nbb_cells[i].input_prompt_number == nbb_cell_id) {\n",
       "                        if (nbb_cells[i].get_text() == nbb_unformatted_code) {\n",
       "                             nbb_cells[i].set_text(nbb_formatted_code);\n",
       "                        }\n",
       "                        break;\n",
       "                    }\n",
       "                }\n",
       "            }, 500);\n",
       "            "
      ],
      "text/plain": [
       "<IPython.core.display.Javascript object>"
      ]
     },
     "metadata": {},
     "output_type": "display_data"
    },
    {
     "data": {
      "application/javascript": [
       "\n",
       "            setTimeout(function() {\n",
       "                var nbb_cell_id = 46;\n",
       "                var nbb_unformatted_code = \"ik\\u00e4 = 18\\n\\nif ik\\u00e4 < 7:\\n    print(\\\"Hinta on 0 euroa\\\")\\nelif ik\\u00e4 < 18:\\n    print(\\\"Hinta on 1.40 euroa\\\")\\nelif ik\\u00e4 < 70:\\n    print(\\\"Hinta on 2.80\\\")\\nelse:\\n    print(\\\"Hinta on 1.40\\u20ac\\\")\";\n",
       "                var nbb_formatted_code = \"ik\\u00e4 = 18\\n\\nif ik\\u00e4 < 7:\\n    print(\\\"Hinta on 0 euroa\\\")\\nelif ik\\u00e4 < 18:\\n    print(\\\"Hinta on 1.40 euroa\\\")\\nelif ik\\u00e4 < 70:\\n    print(\\\"Hinta on 2.80\\\")\\nelse:\\n    print(\\\"Hinta on 1.40\\u20ac\\\")\";\n",
       "                var nbb_cells = Jupyter.notebook.get_cells();\n",
       "                for (var i = 0; i < nbb_cells.length; ++i) {\n",
       "                    if (nbb_cells[i].input_prompt_number == nbb_cell_id) {\n",
       "                        if (nbb_cells[i].get_text() == nbb_unformatted_code) {\n",
       "                             nbb_cells[i].set_text(nbb_formatted_code);\n",
       "                        }\n",
       "                        break;\n",
       "                    }\n",
       "                }\n",
       "            }, 500);\n",
       "            "
      ],
      "text/plain": [
       "<IPython.core.display.Javascript object>"
      ]
     },
     "metadata": {},
     "output_type": "display_data"
    },
    {
     "data": {
      "application/javascript": [
       "\n",
       "            setTimeout(function() {\n",
       "                var nbb_cell_id = 46;\n",
       "                var nbb_unformatted_code = \"ik\\u00e4 = 18\\n\\nif ik\\u00e4 < 7:\\n    print(\\\"Hinta on 0 euroa\\\")\\nelif ik\\u00e4 < 18:\\n    print(\\\"Hinta on 1.40 euroa\\\")\\nelif ik\\u00e4 < 70:\\n    print(\\\"Hinta on 2.80\\\")\\nelse:\\n    print(\\\"Hinta on 1.40\\u20ac\\\")\";\n",
       "                var nbb_formatted_code = \"ik\\u00e4 = 18\\n\\nif ik\\u00e4 < 7:\\n    print(\\\"Hinta on 0 euroa\\\")\\nelif ik\\u00e4 < 18:\\n    print(\\\"Hinta on 1.40 euroa\\\")\\nelif ik\\u00e4 < 70:\\n    print(\\\"Hinta on 2.80\\\")\\nelse:\\n    print(\\\"Hinta on 1.40\\u20ac\\\")\";\n",
       "                var nbb_cells = Jupyter.notebook.get_cells();\n",
       "                for (var i = 0; i < nbb_cells.length; ++i) {\n",
       "                    if (nbb_cells[i].input_prompt_number == nbb_cell_id) {\n",
       "                        if (nbb_cells[i].get_text() == nbb_unformatted_code) {\n",
       "                             nbb_cells[i].set_text(nbb_formatted_code);\n",
       "                        }\n",
       "                        break;\n",
       "                    }\n",
       "                }\n",
       "            }, 500);\n",
       "            "
      ],
      "text/plain": [
       "<IPython.core.display.Javascript object>"
      ]
     },
     "metadata": {},
     "output_type": "display_data"
    }
   ],
   "source": [
    "ikä = 18\n",
    "\n",
    "if ikä < 7:\n",
    "    print(\"Hinta on 0 euroa\")\n",
    "elif ikä < 18:\n",
    "    print(\"Hinta on 1.40 euroa\")\n",
    "elif ikä < 70:\n",
    "    print(\"Hinta on 2.80\")\n",
    "else:\n",
    "    print(\"Hinta on 1.40€\")"
   ]
  },
  {
   "cell_type": "markdown",
   "metadata": {},
   "source": [
    "## Silmukat\n",
    "\n",
    "Silmukoilla voi toistaa komentoja. Pythonissa on kahdenlaisia silmukoita. For-silmukat ovat hyviä listan läpikäymiseen, mutta while-silmukat ovat usein parempia. Niitä käytetään, jos toistojen määrä ei ole tiedossa etukäteen.\n",
    "\n",
    "Silmukoiden jälkeen ohjelman suoritus jatkuu normaalisti rivi riviltä."
   ]
  },
  {
   "cell_type": "code",
   "execution_count": 47,
   "metadata": {},
   "outputs": [
    {
     "name": "stdout",
     "output_type": "stream",
     "text": [
      "Neliöjuuri luvusta 0 on 0.0\n",
      "Neliöjuuri luvusta 1 on 1.0\n",
      "Neliöjuuri luvusta 2 on 1.4142135623730951\n",
      "Neliöjuuri luvusta 3 on 1.7320508075688772\n",
      "Neliöjuuri luvusta 4 on 2.0\n",
      "Neliöjuuri luvusta 5 on 2.23606797749979\n"
     ]
    },
    {
     "data": {
      "application/javascript": [
       "\n",
       "            setTimeout(function() {\n",
       "                var nbb_cell_id = 47;\n",
       "                var nbb_unformatted_code = \"# tuodaan math-kirjaston funktiot k\\u00e4ytt\\u00f6\\u00f6n\\nimport math\\n\\nsumma = 0\\n\\nfor i in range(6):\\n    # sqrt on neli\\u00f6juuri\\n    print(\\\"Neli\\u00f6juuri luvusta\\\", i, \\\"on\\\", math.sqrt(i))\";\n",
       "                var nbb_formatted_code = \"# tuodaan math-kirjaston funktiot k\\u00e4ytt\\u00f6\\u00f6n\\nimport math\\n\\nsumma = 0\\n\\nfor i in range(6):\\n    # sqrt on neli\\u00f6juuri\\n    print(\\\"Neli\\u00f6juuri luvusta\\\", i, \\\"on\\\", math.sqrt(i))\";\n",
       "                var nbb_cells = Jupyter.notebook.get_cells();\n",
       "                for (var i = 0; i < nbb_cells.length; ++i) {\n",
       "                    if (nbb_cells[i].input_prompt_number == nbb_cell_id) {\n",
       "                        if (nbb_cells[i].get_text() == nbb_unformatted_code) {\n",
       "                             nbb_cells[i].set_text(nbb_formatted_code);\n",
       "                        }\n",
       "                        break;\n",
       "                    }\n",
       "                }\n",
       "            }, 500);\n",
       "            "
      ],
      "text/plain": [
       "<IPython.core.display.Javascript object>"
      ]
     },
     "metadata": {},
     "output_type": "display_data"
    },
    {
     "data": {
      "application/javascript": [
       "\n",
       "            setTimeout(function() {\n",
       "                var nbb_cell_id = 47;\n",
       "                var nbb_unformatted_code = \"# tuodaan math-kirjaston funktiot k\\u00e4ytt\\u00f6\\u00f6n\\nimport math\\n\\nsumma = 0\\n\\nfor i in range(6):\\n    # sqrt on neli\\u00f6juuri\\n    print(\\\"Neli\\u00f6juuri luvusta\\\", i, \\\"on\\\", math.sqrt(i))\";\n",
       "                var nbb_formatted_code = \"# tuodaan math-kirjaston funktiot k\\u00e4ytt\\u00f6\\u00f6n\\nimport math\\n\\nsumma = 0\\n\\nfor i in range(6):\\n    # sqrt on neli\\u00f6juuri\\n    print(\\\"Neli\\u00f6juuri luvusta\\\", i, \\\"on\\\", math.sqrt(i))\";\n",
       "                var nbb_cells = Jupyter.notebook.get_cells();\n",
       "                for (var i = 0; i < nbb_cells.length; ++i) {\n",
       "                    if (nbb_cells[i].input_prompt_number == nbb_cell_id) {\n",
       "                        if (nbb_cells[i].get_text() == nbb_unformatted_code) {\n",
       "                             nbb_cells[i].set_text(nbb_formatted_code);\n",
       "                        }\n",
       "                        break;\n",
       "                    }\n",
       "                }\n",
       "            }, 500);\n",
       "            "
      ],
      "text/plain": [
       "<IPython.core.display.Javascript object>"
      ]
     },
     "metadata": {},
     "output_type": "display_data"
    },
    {
     "data": {
      "application/javascript": [
       "\n",
       "            setTimeout(function() {\n",
       "                var nbb_cell_id = 47;\n",
       "                var nbb_unformatted_code = \"# tuodaan math-kirjaston funktiot k\\u00e4ytt\\u00f6\\u00f6n\\nimport math\\n\\nsumma = 0\\n\\nfor i in range(6):\\n    # sqrt on neli\\u00f6juuri\\n    print(\\\"Neli\\u00f6juuri luvusta\\\", i, \\\"on\\\", math.sqrt(i))\";\n",
       "                var nbb_formatted_code = \"# tuodaan math-kirjaston funktiot k\\u00e4ytt\\u00f6\\u00f6n\\nimport math\\n\\nsumma = 0\\n\\nfor i in range(6):\\n    # sqrt on neli\\u00f6juuri\\n    print(\\\"Neli\\u00f6juuri luvusta\\\", i, \\\"on\\\", math.sqrt(i))\";\n",
       "                var nbb_cells = Jupyter.notebook.get_cells();\n",
       "                for (var i = 0; i < nbb_cells.length; ++i) {\n",
       "                    if (nbb_cells[i].input_prompt_number == nbb_cell_id) {\n",
       "                        if (nbb_cells[i].get_text() == nbb_unformatted_code) {\n",
       "                             nbb_cells[i].set_text(nbb_formatted_code);\n",
       "                        }\n",
       "                        break;\n",
       "                    }\n",
       "                }\n",
       "            }, 500);\n",
       "            "
      ],
      "text/plain": [
       "<IPython.core.display.Javascript object>"
      ]
     },
     "metadata": {},
     "output_type": "display_data"
    }
   ],
   "source": [
    "# tuodaan math-kirjaston funktiot käyttöön\n",
    "import math\n",
    "\n",
    "summa = 0\n",
    "\n",
    "for i in range(6):\n",
    "    # sqrt on neliöjuuri\n",
    "    print(\"Neliöjuuri luvusta\", i, \"on\", math.sqrt(i))"
   ]
  },
  {
   "cell_type": "markdown",
   "metadata": {},
   "source": [
    "Ylläolevassa esimerkissä `print(i)` ajettiin kymmenen kertaa.\n",
    "\n",
    "While-silmukka toimii melkein kuin if. Esimerkki:"
   ]
  },
  {
   "cell_type": "code",
   "execution_count": 48,
   "metadata": {},
   "outputs": [
    {
     "name": "stdout",
     "output_type": "stream",
     "text": [
      "1\n",
      "2\n",
      "4\n",
      "8\n",
      "16\n",
      "32\n",
      "64\n",
      "128\n",
      "256\n",
      "512\n",
      "1024\n",
      "2048\n",
      "4096\n",
      "8192\n",
      "16384\n",
      "32768\n",
      "65536\n"
     ]
    },
    {
     "data": {
      "application/javascript": [
       "\n",
       "            setTimeout(function() {\n",
       "                var nbb_cell_id = 48;\n",
       "                var nbb_unformatted_code = \"luku = 1\\n\\nwhile luku < 100000:\\n    print(luku)\\n    luku = luku * 2\";\n",
       "                var nbb_formatted_code = \"luku = 1\\n\\nwhile luku < 100000:\\n    print(luku)\\n    luku = luku * 2\";\n",
       "                var nbb_cells = Jupyter.notebook.get_cells();\n",
       "                for (var i = 0; i < nbb_cells.length; ++i) {\n",
       "                    if (nbb_cells[i].input_prompt_number == nbb_cell_id) {\n",
       "                        if (nbb_cells[i].get_text() == nbb_unformatted_code) {\n",
       "                             nbb_cells[i].set_text(nbb_formatted_code);\n",
       "                        }\n",
       "                        break;\n",
       "                    }\n",
       "                }\n",
       "            }, 500);\n",
       "            "
      ],
      "text/plain": [
       "<IPython.core.display.Javascript object>"
      ]
     },
     "metadata": {},
     "output_type": "display_data"
    },
    {
     "data": {
      "application/javascript": [
       "\n",
       "            setTimeout(function() {\n",
       "                var nbb_cell_id = 48;\n",
       "                var nbb_unformatted_code = \"luku = 1\\n\\nwhile luku < 100000:\\n    print(luku)\\n    luku = luku * 2\";\n",
       "                var nbb_formatted_code = \"luku = 1\\n\\nwhile luku < 100000:\\n    print(luku)\\n    luku = luku * 2\";\n",
       "                var nbb_cells = Jupyter.notebook.get_cells();\n",
       "                for (var i = 0; i < nbb_cells.length; ++i) {\n",
       "                    if (nbb_cells[i].input_prompt_number == nbb_cell_id) {\n",
       "                        if (nbb_cells[i].get_text() == nbb_unformatted_code) {\n",
       "                             nbb_cells[i].set_text(nbb_formatted_code);\n",
       "                        }\n",
       "                        break;\n",
       "                    }\n",
       "                }\n",
       "            }, 500);\n",
       "            "
      ],
      "text/plain": [
       "<IPython.core.display.Javascript object>"
      ]
     },
     "metadata": {},
     "output_type": "display_data"
    },
    {
     "data": {
      "application/javascript": [
       "\n",
       "            setTimeout(function() {\n",
       "                var nbb_cell_id = 48;\n",
       "                var nbb_unformatted_code = \"luku = 1\\n\\nwhile luku < 100000:\\n    print(luku)\\n    luku = luku * 2\";\n",
       "                var nbb_formatted_code = \"luku = 1\\n\\nwhile luku < 100000:\\n    print(luku)\\n    luku = luku * 2\";\n",
       "                var nbb_cells = Jupyter.notebook.get_cells();\n",
       "                for (var i = 0; i < nbb_cells.length; ++i) {\n",
       "                    if (nbb_cells[i].input_prompt_number == nbb_cell_id) {\n",
       "                        if (nbb_cells[i].get_text() == nbb_unformatted_code) {\n",
       "                             nbb_cells[i].set_text(nbb_formatted_code);\n",
       "                        }\n",
       "                        break;\n",
       "                    }\n",
       "                }\n",
       "            }, 500);\n",
       "            "
      ],
      "text/plain": [
       "<IPython.core.display.Javascript object>"
      ]
     },
     "metadata": {},
     "output_type": "display_data"
    }
   ],
   "source": [
    "luku = 1\n",
    "\n",
    "while luku < 100000:\n",
    "    print(luku)\n",
    "    luku = luku * 2"
   ]
  },
  {
   "cell_type": "markdown",
   "metadata": {},
   "source": [
    "While-silmukassa runkoa eli silmukan sisällä olevaa koodia ajetaan niin kauan kun ehto on tosi."
   ]
  },
  {
   "cell_type": "markdown",
   "metadata": {},
   "source": [
    "## Tehtäviä:"
   ]
  },
  {
   "cell_type": "markdown",
   "metadata": {},
   "source": [
    "### Tehtävä 2.2\n",
    "Aritmeettinen lukujono alkaa 5, 8, 11... \n",
    "\n",
    "a) Luettele lukujonon 30 ensimmäistä jäsentä."
   ]
  },
  {
   "cell_type": "code",
   "execution_count": 49,
   "metadata": {},
   "outputs": [
    {
     "name": "stdout",
     "output_type": "stream",
     "text": [
      "1 . on 5\n",
      "2 . on 8\n",
      "3 . on 11\n",
      "4 . on 14\n",
      "5 . on 17\n",
      "6 . on 20\n",
      "7 . on 23\n",
      "8 . on 26\n",
      "9 . on 29\n",
      "10 . on 32\n",
      "11 . on 35\n",
      "12 . on 38\n",
      "13 . on 41\n",
      "14 . on 44\n",
      "15 . on 47\n",
      "16 . on 50\n",
      "17 . on 53\n",
      "18 . on 56\n",
      "19 . on 59\n",
      "20 . on 62\n",
      "21 . on 65\n",
      "22 . on 68\n",
      "23 . on 71\n",
      "24 . on 74\n",
      "25 . on 77\n",
      "26 . on 80\n",
      "27 . on 83\n",
      "28 . on 86\n",
      "29 . on 89\n",
      "30 . on 92\n"
     ]
    },
    {
     "data": {
      "application/javascript": [
       "\n",
       "            setTimeout(function() {\n",
       "                var nbb_cell_id = 49;\n",
       "                var nbb_unformatted_code = \"a = 5\\n# differenssi eli kahden j\\u00e4senen per\\u00e4kk\\u00e4isen ero\\nd = 3\\n\\nfor i in range(30):\\n    print(i + 1,\\\". on\\\", a)\\n    a = a + d\";\n",
       "                var nbb_formatted_code = \"a = 5\\n# differenssi eli kahden j\\u00e4senen per\\u00e4kk\\u00e4isen ero\\nd = 3\\n\\nfor i in range(30):\\n    print(i + 1, \\\". on\\\", a)\\n    a = a + d\";\n",
       "                var nbb_cells = Jupyter.notebook.get_cells();\n",
       "                for (var i = 0; i < nbb_cells.length; ++i) {\n",
       "                    if (nbb_cells[i].input_prompt_number == nbb_cell_id) {\n",
       "                        if (nbb_cells[i].get_text() == nbb_unformatted_code) {\n",
       "                             nbb_cells[i].set_text(nbb_formatted_code);\n",
       "                        }\n",
       "                        break;\n",
       "                    }\n",
       "                }\n",
       "            }, 500);\n",
       "            "
      ],
      "text/plain": [
       "<IPython.core.display.Javascript object>"
      ]
     },
     "metadata": {},
     "output_type": "display_data"
    },
    {
     "data": {
      "application/javascript": [
       "\n",
       "            setTimeout(function() {\n",
       "                var nbb_cell_id = 49;\n",
       "                var nbb_unformatted_code = \"a = 5\\n# differenssi eli kahden j\\u00e4senen per\\u00e4kk\\u00e4isen ero\\nd = 3\\n\\nfor i in range(30):\\n    print(i + 1,\\\". on\\\", a)\\n    a = a + d\";\n",
       "                var nbb_formatted_code = \"a = 5\\n# differenssi eli kahden j\\u00e4senen per\\u00e4kk\\u00e4isen ero\\nd = 3\\n\\nfor i in range(30):\\n    print(i + 1, \\\". on\\\", a)\\n    a = a + d\";\n",
       "                var nbb_cells = Jupyter.notebook.get_cells();\n",
       "                for (var i = 0; i < nbb_cells.length; ++i) {\n",
       "                    if (nbb_cells[i].input_prompt_number == nbb_cell_id) {\n",
       "                        if (nbb_cells[i].get_text() == nbb_unformatted_code) {\n",
       "                             nbb_cells[i].set_text(nbb_formatted_code);\n",
       "                        }\n",
       "                        break;\n",
       "                    }\n",
       "                }\n",
       "            }, 500);\n",
       "            "
      ],
      "text/plain": [
       "<IPython.core.display.Javascript object>"
      ]
     },
     "metadata": {},
     "output_type": "display_data"
    },
    {
     "data": {
      "application/javascript": [
       "\n",
       "            setTimeout(function() {\n",
       "                var nbb_cell_id = 49;\n",
       "                var nbb_unformatted_code = \"a = 5\\n# differenssi eli kahden j\\u00e4senen per\\u00e4kk\\u00e4isen ero\\nd = 3\\n\\nfor i in range(30):\\n    print(i + 1,\\\". on\\\", a)\\n    a = a + d\";\n",
       "                var nbb_formatted_code = \"a = 5\\n# differenssi eli kahden j\\u00e4senen per\\u00e4kk\\u00e4isen ero\\nd = 3\\n\\nfor i in range(30):\\n    print(i + 1, \\\". on\\\", a)\\n    a = a + d\";\n",
       "                var nbb_cells = Jupyter.notebook.get_cells();\n",
       "                for (var i = 0; i < nbb_cells.length; ++i) {\n",
       "                    if (nbb_cells[i].input_prompt_number == nbb_cell_id) {\n",
       "                        if (nbb_cells[i].get_text() == nbb_unformatted_code) {\n",
       "                             nbb_cells[i].set_text(nbb_formatted_code);\n",
       "                        }\n",
       "                        break;\n",
       "                    }\n",
       "                }\n",
       "            }, 500);\n",
       "            "
      ],
      "text/plain": [
       "<IPython.core.display.Javascript object>"
      ]
     },
     "metadata": {},
     "output_type": "display_data"
    }
   ],
   "source": [
    "a = 5\n",
    "# differenssi eli kahden jäsenen peräkkäisen ero\n",
    "d = 3\n",
    "\n",
    "for i in range(30):\n",
    "    print(i + 1, \". on\", a)\n",
    "    a = a + d"
   ]
  },
  {
   "cell_type": "markdown",
   "metadata": {},
   "source": [
    "b) Mikä on sadan ensimmäisen jäsenen summa?"
   ]
  },
  {
   "cell_type": "code",
   "execution_count": 50,
   "metadata": {},
   "outputs": [
    {
     "name": "stdout",
     "output_type": "stream",
     "text": [
      "1 . on 5\n",
      "2 . on 8\n",
      "3 . on 11\n",
      "4 . on 14\n",
      "5 . on 17\n",
      "6 . on 20\n",
      "7 . on 23\n",
      "8 . on 26\n",
      "9 . on 29\n",
      "10 . on 32\n",
      "11 . on 35\n",
      "12 . on 38\n",
      "13 . on 41\n",
      "14 . on 44\n",
      "15 . on 47\n",
      "16 . on 50\n",
      "17 . on 53\n",
      "18 . on 56\n",
      "19 . on 59\n",
      "20 . on 62\n",
      "21 . on 65\n",
      "22 . on 68\n",
      "23 . on 71\n",
      "24 . on 74\n",
      "25 . on 77\n",
      "26 . on 80\n",
      "27 . on 83\n",
      "28 . on 86\n",
      "29 . on 89\n",
      "30 . on 92\n",
      "1455\n"
     ]
    },
    {
     "data": {
      "application/javascript": [
       "\n",
       "            setTimeout(function() {\n",
       "                var nbb_cell_id = 50;\n",
       "                var nbb_unformatted_code = \"a = 5\\nd = 3\\nsumma = 0\\n\\nfor i in range(30):\\n    print(i + 1,\\\". on\\\", a)\\n    # muuttujan summa arvoon lis\\u00e4t\\u00e4\\u00e4n luku a ja tallennetaan uusi arvo muuttujan summa arvoksi\\n    summa = summa + a\\n    # voit kirjoittaa yll\\u00e4 olevan rivin muodossa: summa += a\\n    a = a + d\\nprint(summa)\";\n",
       "                var nbb_formatted_code = \"a = 5\\nd = 3\\nsumma = 0\\n\\nfor i in range(30):\\n    print(i + 1, \\\". on\\\", a)\\n    # muuttujan summa arvoon lis\\u00e4t\\u00e4\\u00e4n luku a ja tallennetaan uusi arvo muuttujan summa arvoksi\\n    summa = summa + a\\n    # voit kirjoittaa yll\\u00e4 olevan rivin muodossa: summa += a\\n    a = a + d\\nprint(summa)\";\n",
       "                var nbb_cells = Jupyter.notebook.get_cells();\n",
       "                for (var i = 0; i < nbb_cells.length; ++i) {\n",
       "                    if (nbb_cells[i].input_prompt_number == nbb_cell_id) {\n",
       "                        if (nbb_cells[i].get_text() == nbb_unformatted_code) {\n",
       "                             nbb_cells[i].set_text(nbb_formatted_code);\n",
       "                        }\n",
       "                        break;\n",
       "                    }\n",
       "                }\n",
       "            }, 500);\n",
       "            "
      ],
      "text/plain": [
       "<IPython.core.display.Javascript object>"
      ]
     },
     "metadata": {},
     "output_type": "display_data"
    },
    {
     "data": {
      "application/javascript": [
       "\n",
       "            setTimeout(function() {\n",
       "                var nbb_cell_id = 50;\n",
       "                var nbb_unformatted_code = \"a = 5\\nd = 3\\nsumma = 0\\n\\nfor i in range(30):\\n    print(i + 1,\\\". on\\\", a)\\n    # muuttujan summa arvoon lis\\u00e4t\\u00e4\\u00e4n luku a ja tallennetaan uusi arvo muuttujan summa arvoksi\\n    summa = summa + a\\n    # voit kirjoittaa yll\\u00e4 olevan rivin muodossa: summa += a\\n    a = a + d\\nprint(summa)\";\n",
       "                var nbb_formatted_code = \"a = 5\\nd = 3\\nsumma = 0\\n\\nfor i in range(30):\\n    print(i + 1, \\\". on\\\", a)\\n    # muuttujan summa arvoon lis\\u00e4t\\u00e4\\u00e4n luku a ja tallennetaan uusi arvo muuttujan summa arvoksi\\n    summa = summa + a\\n    # voit kirjoittaa yll\\u00e4 olevan rivin muodossa: summa += a\\n    a = a + d\\nprint(summa)\";\n",
       "                var nbb_cells = Jupyter.notebook.get_cells();\n",
       "                for (var i = 0; i < nbb_cells.length; ++i) {\n",
       "                    if (nbb_cells[i].input_prompt_number == nbb_cell_id) {\n",
       "                        if (nbb_cells[i].get_text() == nbb_unformatted_code) {\n",
       "                             nbb_cells[i].set_text(nbb_formatted_code);\n",
       "                        }\n",
       "                        break;\n",
       "                    }\n",
       "                }\n",
       "            }, 500);\n",
       "            "
      ],
      "text/plain": [
       "<IPython.core.display.Javascript object>"
      ]
     },
     "metadata": {},
     "output_type": "display_data"
    },
    {
     "data": {
      "application/javascript": [
       "\n",
       "            setTimeout(function() {\n",
       "                var nbb_cell_id = 50;\n",
       "                var nbb_unformatted_code = \"a = 5\\nd = 3\\nsumma = 0\\n\\nfor i in range(30):\\n    print(i + 1,\\\". on\\\", a)\\n    # muuttujan summa arvoon lis\\u00e4t\\u00e4\\u00e4n luku a ja tallennetaan uusi arvo muuttujan summa arvoksi\\n    summa = summa + a\\n    # voit kirjoittaa yll\\u00e4 olevan rivin muodossa: summa += a\\n    a = a + d\\nprint(summa)\";\n",
       "                var nbb_formatted_code = \"a = 5\\nd = 3\\nsumma = 0\\n\\nfor i in range(30):\\n    print(i + 1, \\\". on\\\", a)\\n    # muuttujan summa arvoon lis\\u00e4t\\u00e4\\u00e4n luku a ja tallennetaan uusi arvo muuttujan summa arvoksi\\n    summa = summa + a\\n    # voit kirjoittaa yll\\u00e4 olevan rivin muodossa: summa += a\\n    a = a + d\\nprint(summa)\";\n",
       "                var nbb_cells = Jupyter.notebook.get_cells();\n",
       "                for (var i = 0; i < nbb_cells.length; ++i) {\n",
       "                    if (nbb_cells[i].input_prompt_number == nbb_cell_id) {\n",
       "                        if (nbb_cells[i].get_text() == nbb_unformatted_code) {\n",
       "                             nbb_cells[i].set_text(nbb_formatted_code);\n",
       "                        }\n",
       "                        break;\n",
       "                    }\n",
       "                }\n",
       "            }, 500);\n",
       "            "
      ],
      "text/plain": [
       "<IPython.core.display.Javascript object>"
      ]
     },
     "metadata": {},
     "output_type": "display_data"
    }
   ],
   "source": [
    "a = 5\n",
    "d = 3\n",
    "summa = 0\n",
    "\n",
    "for i in range(30):\n",
    "    print(i + 1, \". on\", a)\n",
    "    # muuttujan summa arvoon lisätään luku a ja tallennetaan uusi arvo muuttujan summa arvoksi\n",
    "    summa = summa + a\n",
    "    # voit kirjoittaa yllä olevan rivin muodossa: summa += a\n",
    "    a = a + d\n",
    "print(summa)"
   ]
  },
  {
   "cell_type": "markdown",
   "metadata": {},
   "source": [
    "c) Kuinka moni jonon jäsenistä on pienempi kuin 500?"
   ]
  },
  {
   "cell_type": "code",
   "execution_count": 51,
   "metadata": {},
   "outputs": [
    {
     "name": "stdout",
     "output_type": "stream",
     "text": [
      "5\n",
      "8\n",
      "11\n",
      "14\n",
      "17\n",
      "20\n",
      "23\n",
      "26\n",
      "29\n",
      "32\n",
      "35\n",
      "38\n",
      "41\n",
      "44\n",
      "47\n",
      "50\n",
      "53\n",
      "56\n",
      "59\n",
      "62\n",
      "65\n",
      "68\n",
      "71\n",
      "74\n",
      "77\n",
      "80\n",
      "83\n",
      "86\n",
      "89\n",
      "92\n",
      "95\n",
      "98\n",
      "101\n",
      "104\n",
      "107\n",
      "110\n",
      "113\n",
      "116\n",
      "119\n",
      "122\n",
      "125\n",
      "128\n",
      "131\n",
      "134\n",
      "137\n",
      "140\n",
      "143\n",
      "146\n",
      "149\n",
      "152\n",
      "155\n",
      "158\n",
      "161\n",
      "164\n",
      "167\n",
      "170\n",
      "173\n",
      "176\n",
      "179\n",
      "182\n",
      "185\n",
      "188\n",
      "191\n",
      "194\n",
      "197\n",
      "200\n",
      "203\n",
      "206\n",
      "209\n",
      "212\n",
      "215\n",
      "218\n",
      "221\n",
      "224\n",
      "227\n",
      "230\n",
      "233\n",
      "236\n",
      "239\n",
      "242\n",
      "245\n",
      "248\n",
      "251\n",
      "254\n",
      "257\n",
      "260\n",
      "263\n",
      "266\n",
      "269\n",
      "272\n",
      "275\n",
      "278\n",
      "281\n",
      "284\n",
      "287\n",
      "290\n",
      "293\n",
      "296\n",
      "299\n",
      "302\n",
      "305\n",
      "308\n",
      "311\n",
      "314\n",
      "317\n",
      "320\n",
      "323\n",
      "326\n",
      "329\n",
      "332\n",
      "335\n",
      "338\n",
      "341\n",
      "344\n",
      "347\n",
      "350\n",
      "353\n",
      "356\n",
      "359\n",
      "362\n",
      "365\n",
      "368\n",
      "371\n",
      "374\n",
      "377\n",
      "380\n",
      "383\n",
      "386\n",
      "389\n",
      "392\n",
      "395\n",
      "398\n",
      "401\n",
      "404\n",
      "407\n",
      "410\n",
      "413\n",
      "416\n",
      "419\n",
      "422\n",
      "425\n",
      "428\n",
      "431\n",
      "434\n",
      "437\n",
      "440\n",
      "443\n",
      "446\n",
      "449\n",
      "452\n",
      "455\n",
      "458\n",
      "461\n",
      "464\n",
      "467\n",
      "470\n",
      "473\n",
      "476\n",
      "479\n",
      "482\n",
      "485\n",
      "488\n",
      "491\n",
      "494\n",
      "497\n",
      "Lukuja oli 165\n"
     ]
    },
    {
     "data": {
      "application/javascript": [
       "\n",
       "            setTimeout(function() {\n",
       "                var nbb_cell_id = 51;\n",
       "                var nbb_unformatted_code = \"a = 5\\nd = 3\\n\\nm\\u00e4\\u00e4r\\u00e4 = 0\\n\\nwhile a < 500:\\n    print(a)\\n    a = a + d\\n    m\\u00e4\\u00e4r\\u00e4 = m\\u00e4\\u00e4r\\u00e4 + 1\\n    \\n    \\nprint(\\\"Lukuja oli\\\",m\\u00e4\\u00e4r\\u00e4)\";\n",
       "                var nbb_formatted_code = \"a = 5\\nd = 3\\n\\nm\\u00e4\\u00e4r\\u00e4 = 0\\n\\nwhile a < 500:\\n    print(a)\\n    a = a + d\\n    m\\u00e4\\u00e4r\\u00e4 = m\\u00e4\\u00e4r\\u00e4 + 1\\n\\n\\nprint(\\\"Lukuja oli\\\", m\\u00e4\\u00e4r\\u00e4)\";\n",
       "                var nbb_cells = Jupyter.notebook.get_cells();\n",
       "                for (var i = 0; i < nbb_cells.length; ++i) {\n",
       "                    if (nbb_cells[i].input_prompt_number == nbb_cell_id) {\n",
       "                        if (nbb_cells[i].get_text() == nbb_unformatted_code) {\n",
       "                             nbb_cells[i].set_text(nbb_formatted_code);\n",
       "                        }\n",
       "                        break;\n",
       "                    }\n",
       "                }\n",
       "            }, 500);\n",
       "            "
      ],
      "text/plain": [
       "<IPython.core.display.Javascript object>"
      ]
     },
     "metadata": {},
     "output_type": "display_data"
    },
    {
     "data": {
      "application/javascript": [
       "\n",
       "            setTimeout(function() {\n",
       "                var nbb_cell_id = 51;\n",
       "                var nbb_unformatted_code = \"a = 5\\nd = 3\\n\\nm\\u00e4\\u00e4r\\u00e4 = 0\\n\\nwhile a < 500:\\n    print(a)\\n    a = a + d\\n    m\\u00e4\\u00e4r\\u00e4 = m\\u00e4\\u00e4r\\u00e4 + 1\\n    \\n    \\nprint(\\\"Lukuja oli\\\",m\\u00e4\\u00e4r\\u00e4)\";\n",
       "                var nbb_formatted_code = \"a = 5\\nd = 3\\n\\nm\\u00e4\\u00e4r\\u00e4 = 0\\n\\nwhile a < 500:\\n    print(a)\\n    a = a + d\\n    m\\u00e4\\u00e4r\\u00e4 = m\\u00e4\\u00e4r\\u00e4 + 1\\n\\n\\nprint(\\\"Lukuja oli\\\", m\\u00e4\\u00e4r\\u00e4)\";\n",
       "                var nbb_cells = Jupyter.notebook.get_cells();\n",
       "                for (var i = 0; i < nbb_cells.length; ++i) {\n",
       "                    if (nbb_cells[i].input_prompt_number == nbb_cell_id) {\n",
       "                        if (nbb_cells[i].get_text() == nbb_unformatted_code) {\n",
       "                             nbb_cells[i].set_text(nbb_formatted_code);\n",
       "                        }\n",
       "                        break;\n",
       "                    }\n",
       "                }\n",
       "            }, 500);\n",
       "            "
      ],
      "text/plain": [
       "<IPython.core.display.Javascript object>"
      ]
     },
     "metadata": {},
     "output_type": "display_data"
    },
    {
     "data": {
      "application/javascript": [
       "\n",
       "            setTimeout(function() {\n",
       "                var nbb_cell_id = 51;\n",
       "                var nbb_unformatted_code = \"a = 5\\nd = 3\\n\\nm\\u00e4\\u00e4r\\u00e4 = 0\\n\\nwhile a < 500:\\n    print(a)\\n    a = a + d\\n    m\\u00e4\\u00e4r\\u00e4 = m\\u00e4\\u00e4r\\u00e4 + 1\\n    \\n    \\nprint(\\\"Lukuja oli\\\",m\\u00e4\\u00e4r\\u00e4)\";\n",
       "                var nbb_formatted_code = \"a = 5\\nd = 3\\n\\nm\\u00e4\\u00e4r\\u00e4 = 0\\n\\nwhile a < 500:\\n    print(a)\\n    a = a + d\\n    m\\u00e4\\u00e4r\\u00e4 = m\\u00e4\\u00e4r\\u00e4 + 1\\n\\n\\nprint(\\\"Lukuja oli\\\", m\\u00e4\\u00e4r\\u00e4)\";\n",
       "                var nbb_cells = Jupyter.notebook.get_cells();\n",
       "                for (var i = 0; i < nbb_cells.length; ++i) {\n",
       "                    if (nbb_cells[i].input_prompt_number == nbb_cell_id) {\n",
       "                        if (nbb_cells[i].get_text() == nbb_unformatted_code) {\n",
       "                             nbb_cells[i].set_text(nbb_formatted_code);\n",
       "                        }\n",
       "                        break;\n",
       "                    }\n",
       "                }\n",
       "            }, 500);\n",
       "            "
      ],
      "text/plain": [
       "<IPython.core.display.Javascript object>"
      ]
     },
     "metadata": {},
     "output_type": "display_data"
    }
   ],
   "source": [
    "a = 5\n",
    "d = 3\n",
    "\n",
    "määrä = 0\n",
    "\n",
    "while a < 500:\n",
    "    print(a)\n",
    "    a = a + d\n",
    "    määrä = määrä + 1\n",
    "\n",
    "\n",
    "print(\"Lukuja oli\", määrä)"
   ]
  },
  {
   "cell_type": "markdown",
   "metadata": {},
   "source": [
    "### Tehtävä 2.3\n",
    "Luettele kaikki luvut väliltä 1 - 50, mutta jos luku on jaollinen viidellä, tulosta luvun sijaan \"foo\". Jos luku on jaollinen seitsemällä, tulosta luvun sijaan \"bar\". Jos luku on jaollinen sekä viidellä että seitsemällä tulosta \"foobar\"."
   ]
  },
  {
   "cell_type": "code",
   "execution_count": 52,
   "metadata": {},
   "outputs": [
    {
     "name": "stdout",
     "output_type": "stream",
     "text": [
      "1\n",
      "2\n",
      "3\n",
      "4\n",
      "foo\n",
      "6\n",
      "bar\n",
      "8\n",
      "9\n",
      "foo\n",
      "11\n",
      "12\n",
      "13\n",
      "bar\n",
      "foo\n",
      "16\n",
      "17\n",
      "18\n",
      "19\n",
      "foo\n",
      "bar\n",
      "22\n",
      "23\n",
      "24\n",
      "foo\n",
      "26\n",
      "27\n",
      "bar\n",
      "29\n",
      "foo\n",
      "31\n",
      "32\n",
      "33\n",
      "34\n",
      "foobar\n",
      "36\n",
      "37\n",
      "38\n",
      "39\n",
      "foo\n",
      "41\n",
      "bar\n",
      "43\n",
      "44\n",
      "foo\n",
      "46\n",
      "47\n",
      "48\n",
      "bar\n"
     ]
    },
    {
     "data": {
      "application/javascript": [
       "\n",
       "            setTimeout(function() {\n",
       "                var nbb_cell_id = 52;\n",
       "                var nbb_unformatted_code = \"for luku in range(1, 50):\\n    if luku % 35 == 0:\\n        print(\\\"foobar\\\")\\n    elif luku % 5 == 0:\\n        print(\\\"foo\\\")\\n    elif luku % 7 == 0:\\n        print(\\\"bar\\\")\\n    else:\\n        print(luku)\";\n",
       "                var nbb_formatted_code = \"for luku in range(1, 50):\\n    if luku % 35 == 0:\\n        print(\\\"foobar\\\")\\n    elif luku % 5 == 0:\\n        print(\\\"foo\\\")\\n    elif luku % 7 == 0:\\n        print(\\\"bar\\\")\\n    else:\\n        print(luku)\";\n",
       "                var nbb_cells = Jupyter.notebook.get_cells();\n",
       "                for (var i = 0; i < nbb_cells.length; ++i) {\n",
       "                    if (nbb_cells[i].input_prompt_number == nbb_cell_id) {\n",
       "                        if (nbb_cells[i].get_text() == nbb_unformatted_code) {\n",
       "                             nbb_cells[i].set_text(nbb_formatted_code);\n",
       "                        }\n",
       "                        break;\n",
       "                    }\n",
       "                }\n",
       "            }, 500);\n",
       "            "
      ],
      "text/plain": [
       "<IPython.core.display.Javascript object>"
      ]
     },
     "metadata": {},
     "output_type": "display_data"
    },
    {
     "data": {
      "application/javascript": [
       "\n",
       "            setTimeout(function() {\n",
       "                var nbb_cell_id = 52;\n",
       "                var nbb_unformatted_code = \"for luku in range(1, 50):\\n    if luku % 35 == 0:\\n        print(\\\"foobar\\\")\\n    elif luku % 5 == 0:\\n        print(\\\"foo\\\")\\n    elif luku % 7 == 0:\\n        print(\\\"bar\\\")\\n    else:\\n        print(luku)\";\n",
       "                var nbb_formatted_code = \"for luku in range(1, 50):\\n    if luku % 35 == 0:\\n        print(\\\"foobar\\\")\\n    elif luku % 5 == 0:\\n        print(\\\"foo\\\")\\n    elif luku % 7 == 0:\\n        print(\\\"bar\\\")\\n    else:\\n        print(luku)\";\n",
       "                var nbb_cells = Jupyter.notebook.get_cells();\n",
       "                for (var i = 0; i < nbb_cells.length; ++i) {\n",
       "                    if (nbb_cells[i].input_prompt_number == nbb_cell_id) {\n",
       "                        if (nbb_cells[i].get_text() == nbb_unformatted_code) {\n",
       "                             nbb_cells[i].set_text(nbb_formatted_code);\n",
       "                        }\n",
       "                        break;\n",
       "                    }\n",
       "                }\n",
       "            }, 500);\n",
       "            "
      ],
      "text/plain": [
       "<IPython.core.display.Javascript object>"
      ]
     },
     "metadata": {},
     "output_type": "display_data"
    },
    {
     "data": {
      "application/javascript": [
       "\n",
       "            setTimeout(function() {\n",
       "                var nbb_cell_id = 52;\n",
       "                var nbb_unformatted_code = \"for luku in range(1, 50):\\n    if luku % 35 == 0:\\n        print(\\\"foobar\\\")\\n    elif luku % 5 == 0:\\n        print(\\\"foo\\\")\\n    elif luku % 7 == 0:\\n        print(\\\"bar\\\")\\n    else:\\n        print(luku)\";\n",
       "                var nbb_formatted_code = \"for luku in range(1, 50):\\n    if luku % 35 == 0:\\n        print(\\\"foobar\\\")\\n    elif luku % 5 == 0:\\n        print(\\\"foo\\\")\\n    elif luku % 7 == 0:\\n        print(\\\"bar\\\")\\n    else:\\n        print(luku)\";\n",
       "                var nbb_cells = Jupyter.notebook.get_cells();\n",
       "                for (var i = 0; i < nbb_cells.length; ++i) {\n",
       "                    if (nbb_cells[i].input_prompt_number == nbb_cell_id) {\n",
       "                        if (nbb_cells[i].get_text() == nbb_unformatted_code) {\n",
       "                             nbb_cells[i].set_text(nbb_formatted_code);\n",
       "                        }\n",
       "                        break;\n",
       "                    }\n",
       "                }\n",
       "            }, 500);\n",
       "            "
      ],
      "text/plain": [
       "<IPython.core.display.Javascript object>"
      ]
     },
     "metadata": {},
     "output_type": "display_data"
    }
   ],
   "source": [
    "for luku in range(1, 50):\n",
    "    if luku % 35 == 0:\n",
    "        print(\"foobar\")\n",
    "    elif luku % 5 == 0:\n",
    "        print(\"foo\")\n",
    "    elif luku % 7 == 0:\n",
    "        print(\"bar\")\n",
    "    else:\n",
    "        print(luku)"
   ]
  },
  {
   "cell_type": "markdown",
   "metadata": {},
   "source": [
    "### Tehtävä 2.4\n",
    "Laske kaikkien nelinumeroisten seitsemällä jaollisten lukujen summa."
   ]
  },
  {
   "cell_type": "code",
   "execution_count": 53,
   "metadata": {},
   "outputs": [
    {
     "name": "stdout",
     "output_type": "stream",
     "text": [
      "7071071\n"
     ]
    },
    {
     "data": {
      "application/javascript": [
       "\n",
       "            setTimeout(function() {\n",
       "                var nbb_cell_id = 53;\n",
       "                var nbb_unformatted_code = \"summa1 = 0\\n# ensimm\\u00e4inen 7:lla jaollinen nelinumeroinen luku on 1001\\n# kaikki nelinumeroiset luvut ovat v\\u00e4lill\\u00e4 1000 - 9999\\na = 1001\\nd = 7\\n\\nwhile a < 10000:\\n    summa1 = summa1 + a\\n    a = a + d\\nprint(summa1)\";\n",
       "                var nbb_formatted_code = \"summa1 = 0\\n# ensimm\\u00e4inen 7:lla jaollinen nelinumeroinen luku on 1001\\n# kaikki nelinumeroiset luvut ovat v\\u00e4lill\\u00e4 1000 - 9999\\na = 1001\\nd = 7\\n\\nwhile a < 10000:\\n    summa1 = summa1 + a\\n    a = a + d\\nprint(summa1)\";\n",
       "                var nbb_cells = Jupyter.notebook.get_cells();\n",
       "                for (var i = 0; i < nbb_cells.length; ++i) {\n",
       "                    if (nbb_cells[i].input_prompt_number == nbb_cell_id) {\n",
       "                        if (nbb_cells[i].get_text() == nbb_unformatted_code) {\n",
       "                             nbb_cells[i].set_text(nbb_formatted_code);\n",
       "                        }\n",
       "                        break;\n",
       "                    }\n",
       "                }\n",
       "            }, 500);\n",
       "            "
      ],
      "text/plain": [
       "<IPython.core.display.Javascript object>"
      ]
     },
     "metadata": {},
     "output_type": "display_data"
    },
    {
     "data": {
      "application/javascript": [
       "\n",
       "            setTimeout(function() {\n",
       "                var nbb_cell_id = 53;\n",
       "                var nbb_unformatted_code = \"summa1 = 0\\n# ensimm\\u00e4inen 7:lla jaollinen nelinumeroinen luku on 1001\\n# kaikki nelinumeroiset luvut ovat v\\u00e4lill\\u00e4 1000 - 9999\\na = 1001\\nd = 7\\n\\nwhile a < 10000:\\n    summa1 = summa1 + a\\n    a = a + d\\nprint(summa1)\";\n",
       "                var nbb_formatted_code = \"summa1 = 0\\n# ensimm\\u00e4inen 7:lla jaollinen nelinumeroinen luku on 1001\\n# kaikki nelinumeroiset luvut ovat v\\u00e4lill\\u00e4 1000 - 9999\\na = 1001\\nd = 7\\n\\nwhile a < 10000:\\n    summa1 = summa1 + a\\n    a = a + d\\nprint(summa1)\";\n",
       "                var nbb_cells = Jupyter.notebook.get_cells();\n",
       "                for (var i = 0; i < nbb_cells.length; ++i) {\n",
       "                    if (nbb_cells[i].input_prompt_number == nbb_cell_id) {\n",
       "                        if (nbb_cells[i].get_text() == nbb_unformatted_code) {\n",
       "                             nbb_cells[i].set_text(nbb_formatted_code);\n",
       "                        }\n",
       "                        break;\n",
       "                    }\n",
       "                }\n",
       "            }, 500);\n",
       "            "
      ],
      "text/plain": [
       "<IPython.core.display.Javascript object>"
      ]
     },
     "metadata": {},
     "output_type": "display_data"
    },
    {
     "data": {
      "application/javascript": [
       "\n",
       "            setTimeout(function() {\n",
       "                var nbb_cell_id = 53;\n",
       "                var nbb_unformatted_code = \"summa1 = 0\\n# ensimm\\u00e4inen 7:lla jaollinen nelinumeroinen luku on 1001\\n# kaikki nelinumeroiset luvut ovat v\\u00e4lill\\u00e4 1000 - 9999\\na = 1001\\nd = 7\\n\\nwhile a < 10000:\\n    summa1 = summa1 + a\\n    a = a + d\\nprint(summa1)\";\n",
       "                var nbb_formatted_code = \"summa1 = 0\\n# ensimm\\u00e4inen 7:lla jaollinen nelinumeroinen luku on 1001\\n# kaikki nelinumeroiset luvut ovat v\\u00e4lill\\u00e4 1000 - 9999\\na = 1001\\nd = 7\\n\\nwhile a < 10000:\\n    summa1 = summa1 + a\\n    a = a + d\\nprint(summa1)\";\n",
       "                var nbb_cells = Jupyter.notebook.get_cells();\n",
       "                for (var i = 0; i < nbb_cells.length; ++i) {\n",
       "                    if (nbb_cells[i].input_prompt_number == nbb_cell_id) {\n",
       "                        if (nbb_cells[i].get_text() == nbb_unformatted_code) {\n",
       "                             nbb_cells[i].set_text(nbb_formatted_code);\n",
       "                        }\n",
       "                        break;\n",
       "                    }\n",
       "                }\n",
       "            }, 500);\n",
       "            "
      ],
      "text/plain": [
       "<IPython.core.display.Javascript object>"
      ]
     },
     "metadata": {},
     "output_type": "display_data"
    }
   ],
   "source": [
    "summa1 = 0\n",
    "# ensimmäinen 7:lla jaollinen nelinumeroinen luku on 1001\n",
    "# kaikki nelinumeroiset luvut ovat välillä 1000 - 9999\n",
    "a = 1001\n",
    "d = 7\n",
    "\n",
    "while a < 10000:\n",
    "    summa1 = summa1 + a\n",
    "    a = a + d\n",
    "print(summa1)"
   ]
  },
  {
   "cell_type": "markdown",
   "metadata": {},
   "source": [
    "Tehtävän voi ratkaista myös seuraavasti"
   ]
  },
  {
   "cell_type": "code",
   "execution_count": 54,
   "metadata": {},
   "outputs": [
    {
     "name": "stdout",
     "output_type": "stream",
     "text": [
      "7071071\n"
     ]
    },
    {
     "data": {
      "application/javascript": [
       "\n",
       "            setTimeout(function() {\n",
       "                var nbb_cell_id = 54;\n",
       "                var nbb_unformatted_code = \"summa2 = 0\\nfor i in range(1000, 9999 + 1):\\n    if i % 7 == 0:\\n        summa2 = summa2 + i\\nprint(summa2)\";\n",
       "                var nbb_formatted_code = \"summa2 = 0\\nfor i in range(1000, 9999 + 1):\\n    if i % 7 == 0:\\n        summa2 = summa2 + i\\nprint(summa2)\";\n",
       "                var nbb_cells = Jupyter.notebook.get_cells();\n",
       "                for (var i = 0; i < nbb_cells.length; ++i) {\n",
       "                    if (nbb_cells[i].input_prompt_number == nbb_cell_id) {\n",
       "                        if (nbb_cells[i].get_text() == nbb_unformatted_code) {\n",
       "                             nbb_cells[i].set_text(nbb_formatted_code);\n",
       "                        }\n",
       "                        break;\n",
       "                    }\n",
       "                }\n",
       "            }, 500);\n",
       "            "
      ],
      "text/plain": [
       "<IPython.core.display.Javascript object>"
      ]
     },
     "metadata": {},
     "output_type": "display_data"
    },
    {
     "data": {
      "application/javascript": [
       "\n",
       "            setTimeout(function() {\n",
       "                var nbb_cell_id = 54;\n",
       "                var nbb_unformatted_code = \"summa2 = 0\\nfor i in range(1000, 9999 + 1):\\n    if i % 7 == 0:\\n        summa2 = summa2 + i\\nprint(summa2)\";\n",
       "                var nbb_formatted_code = \"summa2 = 0\\nfor i in range(1000, 9999 + 1):\\n    if i % 7 == 0:\\n        summa2 = summa2 + i\\nprint(summa2)\";\n",
       "                var nbb_cells = Jupyter.notebook.get_cells();\n",
       "                for (var i = 0; i < nbb_cells.length; ++i) {\n",
       "                    if (nbb_cells[i].input_prompt_number == nbb_cell_id) {\n",
       "                        if (nbb_cells[i].get_text() == nbb_unformatted_code) {\n",
       "                             nbb_cells[i].set_text(nbb_formatted_code);\n",
       "                        }\n",
       "                        break;\n",
       "                    }\n",
       "                }\n",
       "            }, 500);\n",
       "            "
      ],
      "text/plain": [
       "<IPython.core.display.Javascript object>"
      ]
     },
     "metadata": {},
     "output_type": "display_data"
    },
    {
     "data": {
      "application/javascript": [
       "\n",
       "            setTimeout(function() {\n",
       "                var nbb_cell_id = 54;\n",
       "                var nbb_unformatted_code = \"summa2 = 0\\nfor i in range(1000, 9999 + 1):\\n    if i % 7 == 0:\\n        summa2 = summa2 + i\\nprint(summa2)\";\n",
       "                var nbb_formatted_code = \"summa2 = 0\\nfor i in range(1000, 9999 + 1):\\n    if i % 7 == 0:\\n        summa2 = summa2 + i\\nprint(summa2)\";\n",
       "                var nbb_cells = Jupyter.notebook.get_cells();\n",
       "                for (var i = 0; i < nbb_cells.length; ++i) {\n",
       "                    if (nbb_cells[i].input_prompt_number == nbb_cell_id) {\n",
       "                        if (nbb_cells[i].get_text() == nbb_unformatted_code) {\n",
       "                             nbb_cells[i].set_text(nbb_formatted_code);\n",
       "                        }\n",
       "                        break;\n",
       "                    }\n",
       "                }\n",
       "            }, 500);\n",
       "            "
      ],
      "text/plain": [
       "<IPython.core.display.Javascript object>"
      ]
     },
     "metadata": {},
     "output_type": "display_data"
    }
   ],
   "source": [
    "summa2 = 0\n",
    "for i in range(1000, 9999 + 1):\n",
    "    if i % 7 == 0:\n",
    "        summa2 = summa2 + i\n",
    "print(summa2)"
   ]
  },
  {
   "cell_type": "markdown",
   "metadata": {},
   "source": [
    "### Tehtävä 2.5\n",
    "Tutki, kuinka monta geometrisen lukujonon 3, 9, 27, 81, ... jäsentä on laskettava yhteen, että summan arvo ylittää 9999?"
   ]
  },
  {
   "cell_type": "code",
   "execution_count": 55,
   "metadata": {},
   "outputs": [
    {
     "name": "stdout",
     "output_type": "stream",
     "text": [
      "a 3 summa 0\n",
      "a 9 summa 3\n",
      "a 27 summa 12\n",
      "a 81 summa 39\n",
      "a 243 summa 120\n",
      "a 729 summa 363\n",
      "a 2187 summa 1092\n",
      "a 6561 summa 3279\n",
      "a 19683 summa 9840\n",
      "Summa on 29523\n",
      "Määrä on 9\n"
     ]
    },
    {
     "data": {
      "application/javascript": [
       "\n",
       "            setTimeout(function() {\n",
       "                var nbb_cell_id = 55;\n",
       "                var nbb_unformatted_code = \"a = 3\\nq = 3\\nsumma = 0\\nm\\u00e4\\u00e4r\\u00e4 = 0\\n\\nwhile summa < 9999:\\n    print(\\\"a\\\", a, \\\"summa\\\", summa)\\n    summa = summa + a\\n    a = a * q\\n    m\\u00e4\\u00e4r\\u00e4 = m\\u00e4\\u00e4r\\u00e4 + 1\\n\\nprint(\\\"Summa on\\\", summa)\\nprint(\\\"M\\u00e4\\u00e4r\\u00e4 on\\\", m\\u00e4\\u00e4r\\u00e4)\";\n",
       "                var nbb_formatted_code = \"a = 3\\nq = 3\\nsumma = 0\\nm\\u00e4\\u00e4r\\u00e4 = 0\\n\\nwhile summa < 9999:\\n    print(\\\"a\\\", a, \\\"summa\\\", summa)\\n    summa = summa + a\\n    a = a * q\\n    m\\u00e4\\u00e4r\\u00e4 = m\\u00e4\\u00e4r\\u00e4 + 1\\n\\nprint(\\\"Summa on\\\", summa)\\nprint(\\\"M\\u00e4\\u00e4r\\u00e4 on\\\", m\\u00e4\\u00e4r\\u00e4)\";\n",
       "                var nbb_cells = Jupyter.notebook.get_cells();\n",
       "                for (var i = 0; i < nbb_cells.length; ++i) {\n",
       "                    if (nbb_cells[i].input_prompt_number == nbb_cell_id) {\n",
       "                        if (nbb_cells[i].get_text() == nbb_unformatted_code) {\n",
       "                             nbb_cells[i].set_text(nbb_formatted_code);\n",
       "                        }\n",
       "                        break;\n",
       "                    }\n",
       "                }\n",
       "            }, 500);\n",
       "            "
      ],
      "text/plain": [
       "<IPython.core.display.Javascript object>"
      ]
     },
     "metadata": {},
     "output_type": "display_data"
    },
    {
     "data": {
      "application/javascript": [
       "\n",
       "            setTimeout(function() {\n",
       "                var nbb_cell_id = 55;\n",
       "                var nbb_unformatted_code = \"a = 3\\nq = 3\\nsumma = 0\\nm\\u00e4\\u00e4r\\u00e4 = 0\\n\\nwhile summa < 9999:\\n    print(\\\"a\\\", a, \\\"summa\\\", summa)\\n    summa = summa + a\\n    a = a * q\\n    m\\u00e4\\u00e4r\\u00e4 = m\\u00e4\\u00e4r\\u00e4 + 1\\n\\nprint(\\\"Summa on\\\", summa)\\nprint(\\\"M\\u00e4\\u00e4r\\u00e4 on\\\", m\\u00e4\\u00e4r\\u00e4)\";\n",
       "                var nbb_formatted_code = \"a = 3\\nq = 3\\nsumma = 0\\nm\\u00e4\\u00e4r\\u00e4 = 0\\n\\nwhile summa < 9999:\\n    print(\\\"a\\\", a, \\\"summa\\\", summa)\\n    summa = summa + a\\n    a = a * q\\n    m\\u00e4\\u00e4r\\u00e4 = m\\u00e4\\u00e4r\\u00e4 + 1\\n\\nprint(\\\"Summa on\\\", summa)\\nprint(\\\"M\\u00e4\\u00e4r\\u00e4 on\\\", m\\u00e4\\u00e4r\\u00e4)\";\n",
       "                var nbb_cells = Jupyter.notebook.get_cells();\n",
       "                for (var i = 0; i < nbb_cells.length; ++i) {\n",
       "                    if (nbb_cells[i].input_prompt_number == nbb_cell_id) {\n",
       "                        if (nbb_cells[i].get_text() == nbb_unformatted_code) {\n",
       "                             nbb_cells[i].set_text(nbb_formatted_code);\n",
       "                        }\n",
       "                        break;\n",
       "                    }\n",
       "                }\n",
       "            }, 500);\n",
       "            "
      ],
      "text/plain": [
       "<IPython.core.display.Javascript object>"
      ]
     },
     "metadata": {},
     "output_type": "display_data"
    },
    {
     "data": {
      "application/javascript": [
       "\n",
       "            setTimeout(function() {\n",
       "                var nbb_cell_id = 55;\n",
       "                var nbb_unformatted_code = \"a = 3\\nq = 3\\nsumma = 0\\nm\\u00e4\\u00e4r\\u00e4 = 0\\n\\nwhile summa < 9999:\\n    print(\\\"a\\\", a, \\\"summa\\\", summa)\\n    summa = summa + a\\n    a = a * q\\n    m\\u00e4\\u00e4r\\u00e4 = m\\u00e4\\u00e4r\\u00e4 + 1\\n\\nprint(\\\"Summa on\\\", summa)\\nprint(\\\"M\\u00e4\\u00e4r\\u00e4 on\\\", m\\u00e4\\u00e4r\\u00e4)\";\n",
       "                var nbb_formatted_code = \"a = 3\\nq = 3\\nsumma = 0\\nm\\u00e4\\u00e4r\\u00e4 = 0\\n\\nwhile summa < 9999:\\n    print(\\\"a\\\", a, \\\"summa\\\", summa)\\n    summa = summa + a\\n    a = a * q\\n    m\\u00e4\\u00e4r\\u00e4 = m\\u00e4\\u00e4r\\u00e4 + 1\\n\\nprint(\\\"Summa on\\\", summa)\\nprint(\\\"M\\u00e4\\u00e4r\\u00e4 on\\\", m\\u00e4\\u00e4r\\u00e4)\";\n",
       "                var nbb_cells = Jupyter.notebook.get_cells();\n",
       "                for (var i = 0; i < nbb_cells.length; ++i) {\n",
       "                    if (nbb_cells[i].input_prompt_number == nbb_cell_id) {\n",
       "                        if (nbb_cells[i].get_text() == nbb_unformatted_code) {\n",
       "                             nbb_cells[i].set_text(nbb_formatted_code);\n",
       "                        }\n",
       "                        break;\n",
       "                    }\n",
       "                }\n",
       "            }, 500);\n",
       "            "
      ],
      "text/plain": [
       "<IPython.core.display.Javascript object>"
      ]
     },
     "metadata": {},
     "output_type": "display_data"
    }
   ],
   "source": [
    "a = 3\n",
    "q = 3\n",
    "summa = 0\n",
    "määrä = 0\n",
    "\n",
    "while summa < 9999:\n",
    "    print(\"a\", a, \"summa\", summa)\n",
    "    summa = summa + a\n",
    "    a = a * q\n",
    "    määrä = määrä + 1\n",
    "\n",
    "print(\"Summa on\", summa)\n",
    "print(\"Määrä on\", määrä)"
   ]
  },
  {
   "cell_type": "markdown",
   "metadata": {},
   "source": [
    "### Tehtävä 2.6\n",
    "Ohjelma kysyy käyttäjältä suorakulmion leveyden ja korkeuden. Tämän jälkeen ohjelma kysyy haluatko laskea p=piirin  vai a=pinta-alan ? Tämän jälkeen ohjelma tulostaa tiedon näytölle."
   ]
  },
  {
   "cell_type": "code",
   "execution_count": 57,
   "metadata": {},
   "outputs": [
    {
     "name": "stdout",
     "output_type": "stream",
     "text": [
      "Syötä h: 2.5\n",
      "Syötä a: 4.5\n",
      "Lasketaanko piiri (p) vai pinta-ala (a)? a\n",
      "Pinta-ala on 11.25\n"
     ]
    },
    {
     "data": {
      "application/javascript": [
       "\n",
       "            setTimeout(function() {\n",
       "                var nbb_cell_id = 57;\n",
       "                var nbb_unformatted_code = \"# Luetaan k\\u00e4ytt\\u00e4j\\u00e4n sy\\u00f6te komentorivilt\\u00e4\\nh = float(input(\\\"Sy\\u00f6t\\u00e4 h: \\\"))\\na = float(input(\\\"Sy\\u00f6t\\u00e4 a: \\\"))\\n\\noperaatio = input(\\\"Lasketaanko piiri (p) vai pinta-ala (a)? \\\")\\n\\nif operaatio == \\\"p\\\":\\n    print(\\\"Piiri on\\\", 2 * h + 2 * a)\\nelif operaatio == \\\"a\\\":\\n    print(\\\"Pinta-ala on\\\", h * a)\\nelse:\\n    print(\\\"Virheellinen sy\\u00f6te\\\")\";\n",
       "                var nbb_formatted_code = \"# Luetaan k\\u00e4ytt\\u00e4j\\u00e4n sy\\u00f6te komentorivilt\\u00e4\\nh = float(input(\\\"Sy\\u00f6t\\u00e4 h: \\\"))\\na = float(input(\\\"Sy\\u00f6t\\u00e4 a: \\\"))\\n\\noperaatio = input(\\\"Lasketaanko piiri (p) vai pinta-ala (a)? \\\")\\n\\nif operaatio == \\\"p\\\":\\n    print(\\\"Piiri on\\\", 2 * h + 2 * a)\\nelif operaatio == \\\"a\\\":\\n    print(\\\"Pinta-ala on\\\", h * a)\\nelse:\\n    print(\\\"Virheellinen sy\\u00f6te\\\")\";\n",
       "                var nbb_cells = Jupyter.notebook.get_cells();\n",
       "                for (var i = 0; i < nbb_cells.length; ++i) {\n",
       "                    if (nbb_cells[i].input_prompt_number == nbb_cell_id) {\n",
       "                        if (nbb_cells[i].get_text() == nbb_unformatted_code) {\n",
       "                             nbb_cells[i].set_text(nbb_formatted_code);\n",
       "                        }\n",
       "                        break;\n",
       "                    }\n",
       "                }\n",
       "            }, 500);\n",
       "            "
      ],
      "text/plain": [
       "<IPython.core.display.Javascript object>"
      ]
     },
     "metadata": {},
     "output_type": "display_data"
    },
    {
     "data": {
      "application/javascript": [
       "\n",
       "            setTimeout(function() {\n",
       "                var nbb_cell_id = 57;\n",
       "                var nbb_unformatted_code = \"# Luetaan k\\u00e4ytt\\u00e4j\\u00e4n sy\\u00f6te komentorivilt\\u00e4\\nh = float(input(\\\"Sy\\u00f6t\\u00e4 h: \\\"))\\na = float(input(\\\"Sy\\u00f6t\\u00e4 a: \\\"))\\n\\noperaatio = input(\\\"Lasketaanko piiri (p) vai pinta-ala (a)? \\\")\\n\\nif operaatio == \\\"p\\\":\\n    print(\\\"Piiri on\\\", 2 * h + 2 * a)\\nelif operaatio == \\\"a\\\":\\n    print(\\\"Pinta-ala on\\\", h * a)\\nelse:\\n    print(\\\"Virheellinen sy\\u00f6te\\\")\";\n",
       "                var nbb_formatted_code = \"# Luetaan k\\u00e4ytt\\u00e4j\\u00e4n sy\\u00f6te komentorivilt\\u00e4\\nh = float(input(\\\"Sy\\u00f6t\\u00e4 h: \\\"))\\na = float(input(\\\"Sy\\u00f6t\\u00e4 a: \\\"))\\n\\noperaatio = input(\\\"Lasketaanko piiri (p) vai pinta-ala (a)? \\\")\\n\\nif operaatio == \\\"p\\\":\\n    print(\\\"Piiri on\\\", 2 * h + 2 * a)\\nelif operaatio == \\\"a\\\":\\n    print(\\\"Pinta-ala on\\\", h * a)\\nelse:\\n    print(\\\"Virheellinen sy\\u00f6te\\\")\";\n",
       "                var nbb_cells = Jupyter.notebook.get_cells();\n",
       "                for (var i = 0; i < nbb_cells.length; ++i) {\n",
       "                    if (nbb_cells[i].input_prompt_number == nbb_cell_id) {\n",
       "                        if (nbb_cells[i].get_text() == nbb_unformatted_code) {\n",
       "                             nbb_cells[i].set_text(nbb_formatted_code);\n",
       "                        }\n",
       "                        break;\n",
       "                    }\n",
       "                }\n",
       "            }, 500);\n",
       "            "
      ],
      "text/plain": [
       "<IPython.core.display.Javascript object>"
      ]
     },
     "metadata": {},
     "output_type": "display_data"
    },
    {
     "data": {
      "application/javascript": [
       "\n",
       "            setTimeout(function() {\n",
       "                var nbb_cell_id = 57;\n",
       "                var nbb_unformatted_code = \"# Luetaan k\\u00e4ytt\\u00e4j\\u00e4n sy\\u00f6te komentorivilt\\u00e4\\nh = float(input(\\\"Sy\\u00f6t\\u00e4 h: \\\"))\\na = float(input(\\\"Sy\\u00f6t\\u00e4 a: \\\"))\\n\\noperaatio = input(\\\"Lasketaanko piiri (p) vai pinta-ala (a)? \\\")\\n\\nif operaatio == \\\"p\\\":\\n    print(\\\"Piiri on\\\", 2 * h + 2 * a)\\nelif operaatio == \\\"a\\\":\\n    print(\\\"Pinta-ala on\\\", h * a)\\nelse:\\n    print(\\\"Virheellinen sy\\u00f6te\\\")\";\n",
       "                var nbb_formatted_code = \"# Luetaan k\\u00e4ytt\\u00e4j\\u00e4n sy\\u00f6te komentorivilt\\u00e4\\nh = float(input(\\\"Sy\\u00f6t\\u00e4 h: \\\"))\\na = float(input(\\\"Sy\\u00f6t\\u00e4 a: \\\"))\\n\\noperaatio = input(\\\"Lasketaanko piiri (p) vai pinta-ala (a)? \\\")\\n\\nif operaatio == \\\"p\\\":\\n    print(\\\"Piiri on\\\", 2 * h + 2 * a)\\nelif operaatio == \\\"a\\\":\\n    print(\\\"Pinta-ala on\\\", h * a)\\nelse:\\n    print(\\\"Virheellinen sy\\u00f6te\\\")\";\n",
       "                var nbb_cells = Jupyter.notebook.get_cells();\n",
       "                for (var i = 0; i < nbb_cells.length; ++i) {\n",
       "                    if (nbb_cells[i].input_prompt_number == nbb_cell_id) {\n",
       "                        if (nbb_cells[i].get_text() == nbb_unformatted_code) {\n",
       "                             nbb_cells[i].set_text(nbb_formatted_code);\n",
       "                        }\n",
       "                        break;\n",
       "                    }\n",
       "                }\n",
       "            }, 500);\n",
       "            "
      ],
      "text/plain": [
       "<IPython.core.display.Javascript object>"
      ]
     },
     "metadata": {},
     "output_type": "display_data"
    }
   ],
   "source": [
    "# Luetaan käyttäjän syöte komentoriviltä\n",
    "h = float(input(\"Syötä h: \"))\n",
    "a = float(input(\"Syötä a: \"))\n",
    "\n",
    "operaatio = input(\"Lasketaanko piiri (p) vai pinta-ala (a)? \")\n",
    "\n",
    "if operaatio == \"p\":\n",
    "    print(\"Piiri on\", 2 * h + 2 * a)\n",
    "elif operaatio == \"a\":\n",
    "    print(\"Pinta-ala on\", h * a)\n",
    "else:\n",
    "    print(\"Virheellinen syöte\")"
   ]
  },
  {
   "cell_type": "markdown",
   "metadata": {},
   "source": [
    "### Tehtävä 2.7\n",
    "Kunnan väkiluku kasvoi 1.2%ia vuodessa. Vuonna 2015 kunnassa oli 24500 asukasta. Tutki minä vuonna kunnan asukasluku ylittää 30 000 asukkaan rajan."
   ]
  },
  {
   "cell_type": "code",
   "execution_count": 77,
   "metadata": {},
   "outputs": [
    {
     "name": "stdout",
     "output_type": "stream",
     "text": [
      "Vuonna 2015 kunnassa on 24500 asukasta\n",
      "Vuonna 2016 kunnassa on 24794 asukasta\n",
      "Vuonna 2017 kunnassa on 25092 asukasta\n",
      "Vuonna 2018 kunnassa on 25393 asukasta\n",
      "Vuonna 2019 kunnassa on 25697 asukasta\n",
      "Vuonna 2020 kunnassa on 26006 asukasta\n",
      "Vuonna 2021 kunnassa on 26318 asukasta\n",
      "Vuonna 2022 kunnassa on 26634 asukasta\n",
      "Vuonna 2023 kunnassa on 26953 asukasta\n",
      "Vuonna 2024 kunnassa on 27277 asukasta\n",
      "Vuonna 2025 kunnassa on 27604 asukasta\n",
      "Vuonna 2026 kunnassa on 27935 asukasta\n",
      "Vuonna 2027 kunnassa on 28270 asukasta\n",
      "Vuonna 2028 kunnassa on 28610 asukasta\n",
      "Vuonna 2029 kunnassa on 28953 asukasta\n",
      "Vuonna 2030 kunnassa on 29300 asukasta\n",
      "Vuonna 2031 kunnassa on 29652 asukasta\n",
      "2032\n"
     ]
    }
   ],
   "source": [
    "a = 24500 # vuosi 2015\n",
    "q = 1.012\n",
    "vuosi = 2015\n",
    "\n",
    "while a < 30000:\n",
    "    print(\"Vuonna\", vuosi, \"kunnassa on\", round(a), \"asukasta\")\n",
    "    vuosi = vuosi + 1\n",
    "    a = a * q\n",
    "print(vuosi)\n"
   ]
  },
  {
   "cell_type": "markdown",
   "metadata": {},
   "source": [
    "### Tehtävä 2.8\n",
    "Kännykkäliittymän A kuukausimaksu on  4 euroa ja puhelumaksu on 0.09 euroa/min. Liittymässä B ei ole kuukausimaksua, mutta  puhelumaksu on 0.12 euroa/min.  Tee ohjelma, joka kysyy käyttäjältä kuukauden puheaikaa, ja ilmoittaa käyttäjälle kumpi liittymä A vai B kannattaa valita ja mitä kuukauden puhelut maksavat. "
   ]
  },
  {
   "cell_type": "code",
   "execution_count": 61,
   "metadata": {},
   "outputs": [
    {
     "name": "stdout",
     "output_type": "stream",
     "text": [
      "Montako minuuttia puhut kuussa? 130\n",
      "130.0\n",
      "kannattaa valita b\n",
      "hinta olisi 15.6 €\n"
     ]
    },
    {
     "data": {
      "application/javascript": [
       "\n",
       "            setTimeout(function() {\n",
       "                var nbb_cell_id = 61;\n",
       "                var nbb_unformatted_code = \"minuutit = float(input(\\\"Montako minuuttia puhut kuussa? \\\"))\\n\\nprint(minuutit)\\n\\na_hinta = 4 + 0.09 * minuutit\\nb_hinta = 0.12 * minuutit\\n\\nif a_hinta < b_hinta:\\n    print(\\\"kannattaa valita a\\\")\\n    print(\\\"hinta on\\\", a_hinta, \\\"\\u20ac\\\")\\nelif b_hinta < a_hinta:\\n    print(\\\"kannattaa valita b\\\")\\n    print(\\\"hinta olisi\\\", b_hinta, \\\"\\u20ac\\\")\\nelse:\\n    print(\\\"ei ole v\\u00e4li\\u00e4 mit\\u00e4 valitsee\\\")\\n    print(\\\"hinnat olisivat\\\", a_hinta, \\\"\\u20ac ja\\\", b_hinta, \\\"\\u20ac\\\")\";\n",
       "                var nbb_formatted_code = \"minuutit = float(input(\\\"Montako minuuttia puhut kuussa? \\\"))\\n\\nprint(minuutit)\\n\\na_hinta = 4 + 0.09 * minuutit\\nb_hinta = 0.12 * minuutit\\n\\nif a_hinta < b_hinta:\\n    print(\\\"kannattaa valita a\\\")\\n    print(\\\"hinta on\\\", a_hinta, \\\"\\u20ac\\\")\\nelif b_hinta < a_hinta:\\n    print(\\\"kannattaa valita b\\\")\\n    print(\\\"hinta olisi\\\", b_hinta, \\\"\\u20ac\\\")\\nelse:\\n    print(\\\"ei ole v\\u00e4li\\u00e4 mit\\u00e4 valitsee\\\")\\n    print(\\\"hinnat olisivat\\\", a_hinta, \\\"\\u20ac ja\\\", b_hinta, \\\"\\u20ac\\\")\";\n",
       "                var nbb_cells = Jupyter.notebook.get_cells();\n",
       "                for (var i = 0; i < nbb_cells.length; ++i) {\n",
       "                    if (nbb_cells[i].input_prompt_number == nbb_cell_id) {\n",
       "                        if (nbb_cells[i].get_text() == nbb_unformatted_code) {\n",
       "                             nbb_cells[i].set_text(nbb_formatted_code);\n",
       "                        }\n",
       "                        break;\n",
       "                    }\n",
       "                }\n",
       "            }, 500);\n",
       "            "
      ],
      "text/plain": [
       "<IPython.core.display.Javascript object>"
      ]
     },
     "metadata": {},
     "output_type": "display_data"
    },
    {
     "data": {
      "application/javascript": [
       "\n",
       "            setTimeout(function() {\n",
       "                var nbb_cell_id = 61;\n",
       "                var nbb_unformatted_code = \"minuutit = float(input(\\\"Montako minuuttia puhut kuussa? \\\"))\\n\\nprint(minuutit)\\n\\na_hinta = 4 + 0.09 * minuutit\\nb_hinta = 0.12 * minuutit\\n\\nif a_hinta < b_hinta:\\n    print(\\\"kannattaa valita a\\\")\\n    print(\\\"hinta on\\\", a_hinta, \\\"\\u20ac\\\")\\nelif b_hinta < a_hinta:\\n    print(\\\"kannattaa valita b\\\")\\n    print(\\\"hinta olisi\\\", b_hinta, \\\"\\u20ac\\\")\\nelse:\\n    print(\\\"ei ole v\\u00e4li\\u00e4 mit\\u00e4 valitsee\\\")\\n    print(\\\"hinnat olisivat\\\", a_hinta, \\\"\\u20ac ja\\\", b_hinta, \\\"\\u20ac\\\")\";\n",
       "                var nbb_formatted_code = \"minuutit = float(input(\\\"Montako minuuttia puhut kuussa? \\\"))\\n\\nprint(minuutit)\\n\\na_hinta = 4 + 0.09 * minuutit\\nb_hinta = 0.12 * minuutit\\n\\nif a_hinta < b_hinta:\\n    print(\\\"kannattaa valita a\\\")\\n    print(\\\"hinta on\\\", a_hinta, \\\"\\u20ac\\\")\\nelif b_hinta < a_hinta:\\n    print(\\\"kannattaa valita b\\\")\\n    print(\\\"hinta olisi\\\", b_hinta, \\\"\\u20ac\\\")\\nelse:\\n    print(\\\"ei ole v\\u00e4li\\u00e4 mit\\u00e4 valitsee\\\")\\n    print(\\\"hinnat olisivat\\\", a_hinta, \\\"\\u20ac ja\\\", b_hinta, \\\"\\u20ac\\\")\";\n",
       "                var nbb_cells = Jupyter.notebook.get_cells();\n",
       "                for (var i = 0; i < nbb_cells.length; ++i) {\n",
       "                    if (nbb_cells[i].input_prompt_number == nbb_cell_id) {\n",
       "                        if (nbb_cells[i].get_text() == nbb_unformatted_code) {\n",
       "                             nbb_cells[i].set_text(nbb_formatted_code);\n",
       "                        }\n",
       "                        break;\n",
       "                    }\n",
       "                }\n",
       "            }, 500);\n",
       "            "
      ],
      "text/plain": [
       "<IPython.core.display.Javascript object>"
      ]
     },
     "metadata": {},
     "output_type": "display_data"
    },
    {
     "data": {
      "application/javascript": [
       "\n",
       "            setTimeout(function() {\n",
       "                var nbb_cell_id = 61;\n",
       "                var nbb_unformatted_code = \"minuutit = float(input(\\\"Montako minuuttia puhut kuussa? \\\"))\\n\\nprint(minuutit)\\n\\na_hinta = 4 + 0.09 * minuutit\\nb_hinta = 0.12 * minuutit\\n\\nif a_hinta < b_hinta:\\n    print(\\\"kannattaa valita a\\\")\\n    print(\\\"hinta on\\\", a_hinta, \\\"\\u20ac\\\")\\nelif b_hinta < a_hinta:\\n    print(\\\"kannattaa valita b\\\")\\n    print(\\\"hinta olisi\\\", b_hinta, \\\"\\u20ac\\\")\\nelse:\\n    print(\\\"ei ole v\\u00e4li\\u00e4 mit\\u00e4 valitsee\\\")\\n    print(\\\"hinnat olisivat\\\", a_hinta, \\\"\\u20ac ja\\\", b_hinta, \\\"\\u20ac\\\")\";\n",
       "                var nbb_formatted_code = \"minuutit = float(input(\\\"Montako minuuttia puhut kuussa? \\\"))\\n\\nprint(minuutit)\\n\\na_hinta = 4 + 0.09 * minuutit\\nb_hinta = 0.12 * minuutit\\n\\nif a_hinta < b_hinta:\\n    print(\\\"kannattaa valita a\\\")\\n    print(\\\"hinta on\\\", a_hinta, \\\"\\u20ac\\\")\\nelif b_hinta < a_hinta:\\n    print(\\\"kannattaa valita b\\\")\\n    print(\\\"hinta olisi\\\", b_hinta, \\\"\\u20ac\\\")\\nelse:\\n    print(\\\"ei ole v\\u00e4li\\u00e4 mit\\u00e4 valitsee\\\")\\n    print(\\\"hinnat olisivat\\\", a_hinta, \\\"\\u20ac ja\\\", b_hinta, \\\"\\u20ac\\\")\";\n",
       "                var nbb_cells = Jupyter.notebook.get_cells();\n",
       "                for (var i = 0; i < nbb_cells.length; ++i) {\n",
       "                    if (nbb_cells[i].input_prompt_number == nbb_cell_id) {\n",
       "                        if (nbb_cells[i].get_text() == nbb_unformatted_code) {\n",
       "                             nbb_cells[i].set_text(nbb_formatted_code);\n",
       "                        }\n",
       "                        break;\n",
       "                    }\n",
       "                }\n",
       "            }, 500);\n",
       "            "
      ],
      "text/plain": [
       "<IPython.core.display.Javascript object>"
      ]
     },
     "metadata": {},
     "output_type": "display_data"
    }
   ],
   "source": [
    "minuutit = float(input(\"Montako minuuttia puhut kuussa? \"))\n",
    "\n",
    "print(minuutit)\n",
    "\n",
    "a_hinta = 4 + 0.09 * minuutit\n",
    "b_hinta = 0.12 * minuutit\n",
    "\n",
    "if a_hinta < b_hinta:\n",
    "    print(\"kannattaa valita a\")\n",
    "    print(\"hinta on\", a_hinta, \"€\")\n",
    "elif b_hinta < a_hinta:\n",
    "    print(\"kannattaa valita b\")\n",
    "    print(\"hinta olisi\", b_hinta, \"€\")\n",
    "else:\n",
    "    print(\"ei ole väliä mitä valitsee\")\n",
    "    print(\"hinnat olisivat\", a_hinta, \"€ ja\", b_hinta, \"€\")"
   ]
  },
  {
   "cell_type": "markdown",
   "metadata": {},
   "source": [
    "### Tehtävä 2.9\n",
    "Tarkastellaan lukujonoa $a_n =15n + 120, n=1, 2,3\\dots$  Kirjoita ohjelma, joka vastaa seuraaviin kysymyksiin:\n",
    "\n",
    "a) Ohjelma tulostaa jonon 10 ensimmäistä jäsentä.\n"
   ]
  },
  {
   "cell_type": "code",
   "execution_count": 29,
   "metadata": {},
   "outputs": [
    {
     "name": "stdout",
     "output_type": "stream",
     "text": [
      "135\n",
      "150\n",
      "165\n",
      "180\n",
      "195\n",
      "210\n",
      "225\n",
      "240\n",
      "255\n",
      "270\n"
     ]
    }
   ],
   "source": [
    "a = 120 + 15\n",
    "d = 15\n",
    "for i in range(10):\n",
    "    print(a)\n",
    "    a = a + d"
   ]
  },
  {
   "cell_type": "markdown",
   "metadata": {},
   "source": [
    "b) Onko luku  12 455 lukujonon jäsen?\n"
   ]
  },
  {
   "cell_type": "code",
   "execution_count": 30,
   "metadata": {},
   "outputs": [
    {
     "name": "stdout",
     "output_type": "stream",
     "text": [
      "12015\n",
      "12030\n",
      "12045\n",
      "12060\n",
      "12075\n",
      "12090\n",
      "12105\n",
      "12120\n",
      "12135\n",
      "12150\n",
      "12165\n",
      "12180\n",
      "12195\n",
      "12210\n",
      "12225\n",
      "12240\n",
      "12255\n",
      "12270\n",
      "12285\n",
      "12300\n",
      "12315\n",
      "12330\n",
      "12345\n",
      "12360\n",
      "12375\n",
      "12390\n",
      "12405\n",
      "12420\n",
      "12435\n",
      "12450\n",
      "12465\n",
      "Ei ole lukujonon jäsen\n"
     ]
    }
   ],
   "source": [
    "a = 120 + 15\n",
    "d = 15\n",
    "\n",
    "# tulostetaan jäseniä lukujonosta luvusta 12015 alkaen\n",
    "while a <= 12455:\n",
    "    a = a + d\n",
    "    if a > 12000:\n",
    "        print(a)\n",
    "# tutkitaan onko luku 12455 jonon jäsen      \n",
    "if (12455 - 135) % 15 == 0:\n",
    "    print(\"On lukujonon jäsen\")\n",
    "else:\n",
    "    print(\"Ei ole lukujonon jäsen\")\n",
    "    "
   ]
  },
  {
   "cell_type": "markdown",
   "metadata": {},
   "source": [
    "c)  Mistä jäsenestä alkaen lukujonon jäsenet ovat suurempia kuin  1000?"
   ]
  },
  {
   "cell_type": "code",
   "execution_count": 18,
   "metadata": {},
   "outputs": [
    {
     "name": "stdout",
     "output_type": "stream",
     "text": [
      "135 1\n",
      "150 2\n",
      "165 3\n",
      "180 4\n",
      "195 5\n",
      "210 6\n",
      "225 7\n",
      "240 8\n",
      "255 9\n",
      "270 10\n",
      "285 11\n",
      "300 12\n",
      "315 13\n",
      "330 14\n",
      "345 15\n",
      "360 16\n",
      "375 17\n",
      "390 18\n",
      "405 19\n",
      "420 20\n",
      "435 21\n",
      "450 22\n",
      "465 23\n",
      "480 24\n",
      "495 25\n",
      "510 26\n",
      "525 27\n",
      "540 28\n",
      "555 29\n",
      "570 30\n",
      "585 31\n",
      "600 32\n",
      "615 33\n",
      "630 34\n",
      "645 35\n",
      "660 36\n",
      "675 37\n",
      "690 38\n",
      "705 39\n",
      "720 40\n",
      "735 41\n",
      "750 42\n",
      "765 43\n",
      "780 44\n",
      "795 45\n",
      "810 46\n",
      "825 47\n",
      "840 48\n",
      "855 49\n",
      "870 50\n",
      "885 51\n",
      "900 52\n",
      "915 53\n",
      "930 54\n",
      "945 55\n",
      "960 56\n",
      "975 57\n",
      "990 58\n",
      "1005 59\n"
     ]
    }
   ],
   "source": [
    "a = 120 + 15\n",
    "d = 15\n",
    "\n",
    "\n",
    "laskuri = 1\n",
    "\n",
    "while a <= 1000:\n",
    "    print(a,laskuri)\n",
    "    laskuri = laskuri + 1\n",
    "    a = a + d\n",
    "print(a, laskuri)"
   ]
  },
  {
   "cell_type": "markdown",
   "metadata": {},
   "source": [
    "### Tehtäviä 2.10\n",
    "\n",
    "Jaa luku 29282 alkutekijöihin"
   ]
  },
  {
   "cell_type": "code",
   "execution_count": 18,
   "metadata": {},
   "outputs": [
    {
     "name": "stdout",
     "output_type": "stream",
     "text": [
      "2 on alkutekijä\n",
      "11 on alkutekijä\n",
      "11 on alkutekijä\n",
      "11 on alkutekijä\n",
      "11 on alkutekijä\n"
     ]
    }
   ],
   "source": [
    "n = 29282\n",
    "jakaja = 2\n",
    "\n",
    "# Käydään läpi kaikki lukua n pienemmät luvut\n",
    "\n",
    "while jakaja < n + 1:\n",
    "    \n",
    "    # Kokeillaan, jakaako jakaja luvun n\n",
    "    \n",
    "    if n % jakaja == 0:\n",
    "        \n",
    "        # Jos jakaja on alkutekijä, tulostetaan se ja aloitetaan läpikäynti alusta\n",
    "        \n",
    "        print(jakaja, \"on alkutekijä\")\n",
    "        n = n // jakaja\n",
    "        jakaja = 2\n",
    "    else:\n",
    "        \n",
    "        # Jos jakaja ei ole alkutekijä, siirrytään seuraavaan lukuun\n",
    "        \n",
    "        jakaja = jakaja + 1\n",
    "        "
   ]
  },
  {
   "cell_type": "code",
   "execution_count": null,
   "metadata": {},
   "outputs": [],
   "source": []
  }
 ],
 "metadata": {
  "kernelspec": {
   "display_name": "Python 3",
   "language": "python",
   "name": "python3"
  },
  "language_info": {
   "codemirror_mode": {
    "name": "ipython",
    "version": 3
   },
   "file_extension": ".py",
   "mimetype": "text/x-python",
   "name": "python",
   "nbconvert_exporter": "python",
   "pygments_lexer": "ipython3",
   "version": "3.7.3"
  }
 },
 "nbformat": 4,
 "nbformat_minor": 4
}
