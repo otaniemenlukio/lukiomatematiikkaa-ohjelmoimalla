{
 "cells": [
  {
   "cell_type": "markdown",
   "metadata": {},
   "source": [
    "# 4 Listat\n",
    "\n",
    "Lista on tietorakenne, eli vähän kuin muuttujatyyppi. Sen avulla yhteen muuttujaan voidaan tallentaa monta arvoa. \n",
    "\n",
    "Lista luodaan hakasuluilla [ ]."
   ]
  },
  {
   "cell_type": "code",
   "execution_count": 3,
   "metadata": {},
   "outputs": [],
   "source": [
    "lista = []"
   ]
  },
  {
   "cell_type": "markdown",
   "metadata": {},
   "source": [
    "Muuttujassa on nyt tyhjä lista.\n",
    "\n",
    "\n",
    "Jos listaan haluaa alussa tietoja, ne erotetaan pilkulla:"
   ]
  },
  {
   "cell_type": "code",
   "execution_count": 3,
   "metadata": {},
   "outputs": [
    {
     "data": {
      "application/javascript": [
       "\n",
       "            setTimeout(function() {\n",
       "                var nbb_cell_id = 3;\n",
       "                var nbb_unformatted_code = \"lista2 = [3, 4, 5, 6]\";\n",
       "                var nbb_formatted_code = \"lista2 = [3, 4, 5, 6]\";\n",
       "                var nbb_cells = Jupyter.notebook.get_cells();\n",
       "                for (var i = 0; i < nbb_cells.length; ++i) {\n",
       "                    if (nbb_cells[i].input_prompt_number == nbb_cell_id) {\n",
       "                        if (nbb_cells[i].get_text() == nbb_unformatted_code) {\n",
       "                             nbb_cells[i].set_text(nbb_formatted_code);\n",
       "                        }\n",
       "                        break;\n",
       "                    }\n",
       "                }\n",
       "            }, 500);\n",
       "            "
      ],
      "text/plain": [
       "<IPython.core.display.Javascript object>"
      ]
     },
     "metadata": {},
     "output_type": "display_data"
    }
   ],
   "source": [
    "lista2 = [3, 4, 5, 6]"
   ]
  },
  {
   "cell_type": "markdown",
   "metadata": {},
   "source": [
    "Pythonissa lista voi sisältää mitä tahansa muuttujatyyppejä, myös muita listoja. Yleensä kuitenkin yhdessä listassa kannattaa olla vain yhtä muuttujatyyppiä, eli ei esimerkiksi sekoita numeroita ja merkkijonoja.\n",
    "\n",
    "\n",
    "Listan loppuun voi lisätä alkion append-metodilla:"
   ]
  },
  {
   "cell_type": "code",
   "execution_count": 4,
   "metadata": {},
   "outputs": [
    {
     "data": {
      "application/javascript": [
       "\n",
       "            setTimeout(function() {\n",
       "                var nbb_cell_id = 4;\n",
       "                var nbb_unformatted_code = \"lista = []\\nlista.append(0)\\nlista.append(1)\";\n",
       "                var nbb_formatted_code = \"lista = []\\nlista.append(0)\\nlista.append(1)\";\n",
       "                var nbb_cells = Jupyter.notebook.get_cells();\n",
       "                for (var i = 0; i < nbb_cells.length; ++i) {\n",
       "                    if (nbb_cells[i].input_prompt_number == nbb_cell_id) {\n",
       "                        if (nbb_cells[i].get_text() == nbb_unformatted_code) {\n",
       "                             nbb_cells[i].set_text(nbb_formatted_code);\n",
       "                        }\n",
       "                        break;\n",
       "                    }\n",
       "                }\n",
       "            }, 500);\n",
       "            "
      ],
      "text/plain": [
       "<IPython.core.display.Javascript object>"
      ]
     },
     "metadata": {},
     "output_type": "display_data"
    }
   ],
   "source": [
    "lista = []\n",
    "lista.append(0)\n",
    "lista.append(1)"
   ]
  },
  {
   "cell_type": "markdown",
   "metadata": {},
   "source": [
    "Listan alkioita voi käsitellä []-merkinnällä, jossa hakasulkujen väliin tulee alkion paikka eli indeksi:\n"
   ]
  },
  {
   "cell_type": "code",
   "execution_count": 5,
   "metadata": {},
   "outputs": [
    {
     "name": "stdout",
     "output_type": "stream",
     "text": [
      "a\n",
      "b\n",
      "c\n"
     ]
    },
    {
     "data": {
      "application/javascript": [
       "\n",
       "            setTimeout(function() {\n",
       "                var nbb_cell_id = 5;\n",
       "                var nbb_unformatted_code = \"lista = []\\nlista.append(\\\"a\\\")\\nlista.append(\\\"b\\\")\\nlista.append(\\\"c\\\")\\n\\nprint(lista[0])\\nprint(lista[1])\\nprint(lista[2])\";\n",
       "                var nbb_formatted_code = \"lista = []\\nlista.append(\\\"a\\\")\\nlista.append(\\\"b\\\")\\nlista.append(\\\"c\\\")\\n\\nprint(lista[0])\\nprint(lista[1])\\nprint(lista[2])\";\n",
       "                var nbb_cells = Jupyter.notebook.get_cells();\n",
       "                for (var i = 0; i < nbb_cells.length; ++i) {\n",
       "                    if (nbb_cells[i].input_prompt_number == nbb_cell_id) {\n",
       "                        if (nbb_cells[i].get_text() == nbb_unformatted_code) {\n",
       "                             nbb_cells[i].set_text(nbb_formatted_code);\n",
       "                        }\n",
       "                        break;\n",
       "                    }\n",
       "                }\n",
       "            }, 500);\n",
       "            "
      ],
      "text/plain": [
       "<IPython.core.display.Javascript object>"
      ]
     },
     "metadata": {},
     "output_type": "display_data"
    }
   ],
   "source": [
    "lista = []\n",
    "lista.append(\"a\")\n",
    "lista.append(\"b\")\n",
    "lista.append(\"c\")\n",
    "\n",
    "print(lista[0])\n",
    "print(lista[1])\n",
    "print(lista[2])"
   ]
  },
  {
   "cell_type": "markdown",
   "metadata": {},
   "source": [
    "Tulostaa a, b, c. Pythonissa listat alkavat nollasta, eli ensimmäisen paikka on 0.\n",
    "\n",
    "Listan voi järjestää metodilla sort:"
   ]
  },
  {
   "cell_type": "code",
   "execution_count": 6,
   "metadata": {},
   "outputs": [
    {
     "name": "stdout",
     "output_type": "stream",
     "text": [
      "[1, 2, 3, 4, 5, 6, 7, 8, 9, 10]\n"
     ]
    },
    {
     "data": {
      "application/javascript": [
       "\n",
       "            setTimeout(function() {\n",
       "                var nbb_cell_id = 6;\n",
       "                var nbb_unformatted_code = \"lista = [7, 8, 9, 10, 6, 4, 1, 3, 5, 2]\\n\\nlista.sort()\\n\\nprint(lista)\";\n",
       "                var nbb_formatted_code = \"lista = [7, 8, 9, 10, 6, 4, 1, 3, 5, 2]\\n\\nlista.sort()\\n\\nprint(lista)\";\n",
       "                var nbb_cells = Jupyter.notebook.get_cells();\n",
       "                for (var i = 0; i < nbb_cells.length; ++i) {\n",
       "                    if (nbb_cells[i].input_prompt_number == nbb_cell_id) {\n",
       "                        if (nbb_cells[i].get_text() == nbb_unformatted_code) {\n",
       "                             nbb_cells[i].set_text(nbb_formatted_code);\n",
       "                        }\n",
       "                        break;\n",
       "                    }\n",
       "                }\n",
       "            }, 500);\n",
       "            "
      ],
      "text/plain": [
       "<IPython.core.display.Javascript object>"
      ]
     },
     "metadata": {},
     "output_type": "display_data"
    }
   ],
   "source": [
    "lista = [7, 8, 9, 10, 6, 4, 1, 3, 5, 2]\n",
    "\n",
    "lista.sort()\n",
    "\n",
    "print(lista)"
   ]
  },
  {
   "cell_type": "markdown",
   "metadata": {},
   "source": [
    "Tulostaa [1, 2, 3, 4, 5, 6, 7, 8, 9, 10]."
   ]
  },
  {
   "cell_type": "markdown",
   "metadata": {},
   "source": [
    "Listoja käydään usein läpi for-silmukan avulla:"
   ]
  },
  {
   "cell_type": "code",
   "execution_count": 7,
   "metadata": {},
   "outputs": [
    {
     "name": "stdout",
     "output_type": "stream",
     "text": [
      "7\n",
      "8\n",
      "9\n",
      "10\n",
      "6\n",
      "4\n",
      "1\n",
      "3\n",
      "5\n",
      "2\n"
     ]
    },
    {
     "data": {
      "application/javascript": [
       "\n",
       "            setTimeout(function() {\n",
       "                var nbb_cell_id = 7;\n",
       "                var nbb_unformatted_code = \"lista = [7, 8, 9, 10, 6, 4, 1, 3, 5, 2]\\n\\nfor alkio in lista:\\n    print(alkio)\";\n",
       "                var nbb_formatted_code = \"lista = [7, 8, 9, 10, 6, 4, 1, 3, 5, 2]\\n\\nfor alkio in lista:\\n    print(alkio)\";\n",
       "                var nbb_cells = Jupyter.notebook.get_cells();\n",
       "                for (var i = 0; i < nbb_cells.length; ++i) {\n",
       "                    if (nbb_cells[i].input_prompt_number == nbb_cell_id) {\n",
       "                        if (nbb_cells[i].get_text() == nbb_unformatted_code) {\n",
       "                             nbb_cells[i].set_text(nbb_formatted_code);\n",
       "                        }\n",
       "                        break;\n",
       "                    }\n",
       "                }\n",
       "            }, 500);\n",
       "            "
      ],
      "text/plain": [
       "<IPython.core.display.Javascript object>"
      ]
     },
     "metadata": {},
     "output_type": "display_data"
    }
   ],
   "source": [
    "lista = [7, 8, 9, 10, 6, 4, 1, 3, 5, 2]\n",
    "\n",
    "for alkio in lista:\n",
    "    print(alkio)"
   ]
  },
  {
   "cell_type": "markdown",
   "metadata": {},
   "source": [
    "Listaan voi kysyä monta lukua käyttäjältä, esimerkki:"
   ]
  },
  {
   "cell_type": "code",
   "execution_count": 8,
   "metadata": {},
   "outputs": [
    {
     "name": "stdout",
     "output_type": "stream",
     "text": [
      "Monenko luvun keskiarvon haluat laskea? 3\n",
      "Anna luku 10\n",
      "Anna luku 15\n",
      "Anna luku 17\n",
      "Keskiarvo on 14.0\n"
     ]
    },
    {
     "data": {
      "application/javascript": [
       "\n",
       "            setTimeout(function() {\n",
       "                var nbb_cell_id = 8;\n",
       "                var nbb_unformatted_code = \"n = int(input(\\\"Monenko luvun keskiarvon haluat laskea? \\\"))\\n\\nlista = []\\n\\nfor i in range(n):\\n    luku = float(input(\\\"Anna luku \\\"))\\n    lista.append(luku)\\n    \\nsumma = 0\\n\\nfor luku in lista:\\n    summa = summa + luku\\nprint(\\\"Keskiarvo on\\\", summa/n)\";\n",
       "                var nbb_formatted_code = \"n = int(input(\\\"Monenko luvun keskiarvon haluat laskea? \\\"))\\n\\nlista = []\\n\\nfor i in range(n):\\n    luku = float(input(\\\"Anna luku \\\"))\\n    lista.append(luku)\\n\\nsumma = 0\\n\\nfor luku in lista:\\n    summa = summa + luku\\nprint(\\\"Keskiarvo on\\\", summa / n)\";\n",
       "                var nbb_cells = Jupyter.notebook.get_cells();\n",
       "                for (var i = 0; i < nbb_cells.length; ++i) {\n",
       "                    if (nbb_cells[i].input_prompt_number == nbb_cell_id) {\n",
       "                        if (nbb_cells[i].get_text() == nbb_unformatted_code) {\n",
       "                             nbb_cells[i].set_text(nbb_formatted_code);\n",
       "                        }\n",
       "                        break;\n",
       "                    }\n",
       "                }\n",
       "            }, 500);\n",
       "            "
      ],
      "text/plain": [
       "<IPython.core.display.Javascript object>"
      ]
     },
     "metadata": {},
     "output_type": "display_data"
    }
   ],
   "source": [
    "n = int(input(\"Monenko luvun keskiarvon haluat laskea? \"))\n",
    "\n",
    "lista = []\n",
    "\n",
    "for i in range(n):\n",
    "    luku = float(input(\"Anna luku \"))\n",
    "    lista.append(luku)\n",
    "\n",
    "summa = 0\n",
    "\n",
    "for luku in lista:\n",
    "    summa = summa + luku\n",
    "print(\"Keskiarvo on\", summa / n)"
   ]
  },
  {
   "cell_type": "markdown",
   "metadata": {},
   "source": [
    "Listoja voi yhdistää +-merkillä:"
   ]
  },
  {
   "cell_type": "code",
   "execution_count": 9,
   "metadata": {},
   "outputs": [
    {
     "name": "stdout",
     "output_type": "stream",
     "text": [
      "[0, 1, 2, 3, 4, 5]\n"
     ]
    },
    {
     "data": {
      "application/javascript": [
       "\n",
       "            setTimeout(function() {\n",
       "                var nbb_cell_id = 9;\n",
       "                var nbb_unformatted_code = \"print([0, 1, 2] + [3, 4, 5])\";\n",
       "                var nbb_formatted_code = \"print([0, 1, 2] + [3, 4, 5])\";\n",
       "                var nbb_cells = Jupyter.notebook.get_cells();\n",
       "                for (var i = 0; i < nbb_cells.length; ++i) {\n",
       "                    if (nbb_cells[i].input_prompt_number == nbb_cell_id) {\n",
       "                        if (nbb_cells[i].get_text() == nbb_unformatted_code) {\n",
       "                             nbb_cells[i].set_text(nbb_formatted_code);\n",
       "                        }\n",
       "                        break;\n",
       "                    }\n",
       "                }\n",
       "            }, 500);\n",
       "            "
      ],
      "text/plain": [
       "<IPython.core.display.Javascript object>"
      ]
     },
     "metadata": {},
     "output_type": "display_data"
    }
   ],
   "source": [
    "print([0, 1, 2] + [3, 4, 5])"
   ]
  },
  {
   "cell_type": "markdown",
   "metadata": {},
   "source": [
    "Listan pituuden saa selville `len`-funktiolla:"
   ]
  },
  {
   "cell_type": "code",
   "execution_count": 10,
   "metadata": {},
   "outputs": [
    {
     "name": "stdout",
     "output_type": "stream",
     "text": [
      "7\n"
     ]
    },
    {
     "data": {
      "application/javascript": [
       "\n",
       "            setTimeout(function() {\n",
       "                var nbb_cell_id = 10;\n",
       "                var nbb_unformatted_code = \"lista = [0, 1, 2, 3, 4, 5, 6]\\nprint(len(lista))\";\n",
       "                var nbb_formatted_code = \"lista = [0, 1, 2, 3, 4, 5, 6]\\nprint(len(lista))\";\n",
       "                var nbb_cells = Jupyter.notebook.get_cells();\n",
       "                for (var i = 0; i < nbb_cells.length; ++i) {\n",
       "                    if (nbb_cells[i].input_prompt_number == nbb_cell_id) {\n",
       "                        if (nbb_cells[i].get_text() == nbb_unformatted_code) {\n",
       "                             nbb_cells[i].set_text(nbb_formatted_code);\n",
       "                        }\n",
       "                        break;\n",
       "                    }\n",
       "                }\n",
       "            }, 500);\n",
       "            "
      ],
      "text/plain": [
       "<IPython.core.display.Javascript object>"
      ]
     },
     "metadata": {},
     "output_type": "display_data"
    }
   ],
   "source": [
    "lista = [0, 1, 2, 3, 4, 5, 6]\n",
    "print(len(lista))"
   ]
  },
  {
   "cell_type": "markdown",
   "metadata": {},
   "source": [
    "Tee ohjelma, joka etsii suurimman ja pienimmän luvun listasta:"
   ]
  },
  {
   "cell_type": "code",
   "execution_count": 11,
   "metadata": {},
   "outputs": [
    {
     "name": "stdout",
     "output_type": "stream",
     "text": [
      "Pienin on 3\n",
      "Suurin on 108\n"
     ]
    },
    {
     "data": {
      "application/javascript": [
       "\n",
       "            setTimeout(function() {\n",
       "                var nbb_cell_id = 11;\n",
       "                var nbb_unformatted_code = \"lista = [7, 8, 11, 10, 6, 4, 108, 3, 55, 22]\\nlista.sort()\\n\\nprint(\\\"Pienin on\\\", lista[0])\\nprint(\\\"Suurin on\\\", lista[len(lista)-1])\";\n",
       "                var nbb_formatted_code = \"lista = [7, 8, 11, 10, 6, 4, 108, 3, 55, 22]\\nlista.sort()\\n\\nprint(\\\"Pienin on\\\", lista[0])\\nprint(\\\"Suurin on\\\", lista[len(lista) - 1])\";\n",
       "                var nbb_cells = Jupyter.notebook.get_cells();\n",
       "                for (var i = 0; i < nbb_cells.length; ++i) {\n",
       "                    if (nbb_cells[i].input_prompt_number == nbb_cell_id) {\n",
       "                        if (nbb_cells[i].get_text() == nbb_unformatted_code) {\n",
       "                             nbb_cells[i].set_text(nbb_formatted_code);\n",
       "                        }\n",
       "                        break;\n",
       "                    }\n",
       "                }\n",
       "            }, 500);\n",
       "            "
      ],
      "text/plain": [
       "<IPython.core.display.Javascript object>"
      ]
     },
     "metadata": {},
     "output_type": "display_data"
    }
   ],
   "source": [
    "lista = [7, 8, 11, 10, 6, 4, 108, 3, 55, 22]\n",
    "lista.sort()\n",
    "\n",
    "print(\"Pienin on\", lista[0])\n",
    "print(\"Suurin on\", lista[len(lista) - 1])"
   ]
  },
  {
   "cell_type": "markdown",
   "metadata": {},
   "source": [
    "## Tehtäviä\n",
    "Käytä ratkaisuissa listoja. Tehtävät eivät ole vaikeusjärjestyksessä, eli voit laskea ne eri järjestyksessä. \n"
   ]
  },
  {
   "cell_type": "markdown",
   "metadata": {},
   "source": [
    "###  Johdantotehtävä 4.0\n",
    "Alla on lista, jossa on 100 kappaletta satunnaisia lukuja\n",
    "\n",
    "a) tee ohjelma joka laskee ja tulostaa listassa olevien lukujen summan.\n",
    "\n",
    "b) tee ohjelma, joka laskee ja tulostaa listan parillisten lukujen summan.\n",
    "\n",
    "c) Kirjoita ohjelma, joka tulostaa listan suurimman ja piennimmän luvun.\n",
    "\n",
    "d) Kirjoita ohjelma, joka kertoo listan kahden peräkkäisen jäsenen suurimman erotuksen.\n"
   ]
  },
  {
   "cell_type": "code",
   "execution_count": 1,
   "metadata": {},
   "outputs": [
    {
     "name": "stdout",
     "output_type": "stream",
     "text": [
      "49202\n"
     ]
    }
   ],
   "source": [
    "# Kirjoita ohjelmasi tähän\n",
    "\n",
    "lista = [932, 168, 876, 250, 426, 231, 554, 105, 888, 684, 639, 131, 140, 382, 479, 402, 125, 264, 286, 290, 205, 944, 761, 735, 611, 646, 908, 438, 852, 937, 397, 503, 591, 736, 734, 124, 434, 952, 269, 13, 164, 161, 128, 170, 646, 200, 331, 946, 590, 973, 569, 784, 778, 358, 463, 712, 283, 357, 959, 598, 518, 853, 305, 767, 44, 135, 175, 407, 677, 749, 714, 517, 766, 346, 488, 687, 338, 375, 341, 582, 912, 389, 224, 326, 561, 106, 756, 709, 445, 106, 727, 258, 671, 48, 857, 69, 171, 840, 335, 696]\n",
    "\n",
    "\n",
    "summa = 0\n",
    "\n",
    "for luku in lista:\n",
    "    summa += luku\n",
    "print(summa)"
   ]
  },
  {
   "cell_type": "code",
   "execution_count": 20,
   "metadata": {},
   "outputs": [
    {
     "name": "stdout",
     "output_type": "stream",
     "text": [
      "Parillisten lukujen summa:  27452\n",
      "Parittomien lukujen summa:  21750\n"
     ]
    },
    {
     "data": {
      "application/javascript": [
       "\n",
       "            setTimeout(function() {\n",
       "                var nbb_cell_id = 20;\n",
       "                var nbb_unformatted_code = \"summa_parillinen = 0\\nsumma_pariton = 0\\n\\nfor luku in lista:\\n    if luku % 2 == 0:\\n        summa_parillinen += luku\\n    else:\\n        summa_pariton += luku\\n\\nprint(\\\"Parillisten lukujen summa: \\\", summa_parillinen)\\nprint(\\\"Parittomien lukujen summa: \\\", summa_pariton)\";\n",
       "                var nbb_formatted_code = \"summa_parillinen = 0\\nsumma_pariton = 0\\n\\nfor luku in lista:\\n    if luku % 2 == 0:\\n        summa_parillinen += luku\\n    else:\\n        summa_pariton += luku\\n\\nprint(\\\"Parillisten lukujen summa: \\\", summa_parillinen)\\nprint(\\\"Parittomien lukujen summa: \\\", summa_pariton)\";\n",
       "                var nbb_cells = Jupyter.notebook.get_cells();\n",
       "                for (var i = 0; i < nbb_cells.length; ++i) {\n",
       "                    if (nbb_cells[i].input_prompt_number == nbb_cell_id) {\n",
       "                        if (nbb_cells[i].get_text() == nbb_unformatted_code) {\n",
       "                             nbb_cells[i].set_text(nbb_formatted_code);\n",
       "                        }\n",
       "                        break;\n",
       "                    }\n",
       "                }\n",
       "            }, 500);\n",
       "            "
      ],
      "text/plain": [
       "<IPython.core.display.Javascript object>"
      ]
     },
     "metadata": {},
     "output_type": "display_data"
    }
   ],
   "source": [
    "summa_parillinen = 0\n",
    "summa_pariton = 0\n",
    "\n",
    "for luku in lista:\n",
    "    if luku % 2 == 0:\n",
    "        summa_parillinen += luku\n",
    "    else:\n",
    "        summa_pariton += luku\n",
    "\n",
    "print(\"Parillisten lukujen summa: \", summa_parillinen)\n",
    "print(\"Parittomien lukujen summa: \", summa_pariton)"
   ]
  },
  {
   "cell_type": "code",
   "execution_count": 28,
   "metadata": {},
   "outputs": [
    {
     "name": "stdout",
     "output_type": "stream",
     "text": [
      "Suurin luku on 973\n",
      "Pienin luku on 13\n",
      "Pienin luku on 13\n",
      "Suurin luku on 973\n"
     ]
    },
    {
     "data": {
      "application/javascript": [
       "\n",
       "            setTimeout(function() {\n",
       "                var nbb_cell_id = 28;\n",
       "                var nbb_unformatted_code = \"suurin = lista[0]\\npienin = lista[0]\\n\\n\\nfor luku in lista:\\n    if luku > suurin:\\n        suurin = luku\\n\\n    if luku < pienin:\\n        pienin = luku\\n\\nprint(\\\"Suurin luku on\\\", suurin)\\nprint(\\\"Pienin luku on\\\", pienin)\\n\\nlista.sort()\\n\\nprint(\\\"Pienin luku on\\\", lista[0])\\nprint(\\\"Suurin luku on\\\", lista[-1])\";\n",
       "                var nbb_formatted_code = \"suurin = lista[0]\\npienin = lista[0]\\n\\n\\nfor luku in lista:\\n    if luku > suurin:\\n        suurin = luku\\n\\n    if luku < pienin:\\n        pienin = luku\\n\\nprint(\\\"Suurin luku on\\\", suurin)\\nprint(\\\"Pienin luku on\\\", pienin)\\n\\nlista.sort()\\n\\nprint(\\\"Pienin luku on\\\", lista[0])\\nprint(\\\"Suurin luku on\\\", lista[-1])\";\n",
       "                var nbb_cells = Jupyter.notebook.get_cells();\n",
       "                for (var i = 0; i < nbb_cells.length; ++i) {\n",
       "                    if (nbb_cells[i].input_prompt_number == nbb_cell_id) {\n",
       "                        if (nbb_cells[i].get_text() == nbb_unformatted_code) {\n",
       "                             nbb_cells[i].set_text(nbb_formatted_code);\n",
       "                        }\n",
       "                        break;\n",
       "                    }\n",
       "                }\n",
       "            }, 500);\n",
       "            "
      ],
      "text/plain": [
       "<IPython.core.display.Javascript object>"
      ]
     },
     "metadata": {},
     "output_type": "display_data"
    },
    {
     "data": {
      "application/javascript": [
       "\n",
       "            setTimeout(function() {\n",
       "                var nbb_cell_id = 28;\n",
       "                var nbb_unformatted_code = \"suurin = lista[0]\\npienin = lista[0]\\n\\n\\nfor luku in lista:\\n    if luku > suurin:\\n        suurin = luku\\n\\n    if luku < pienin:\\n        pienin = luku\\n\\nprint(\\\"Suurin luku on\\\", suurin)\\nprint(\\\"Pienin luku on\\\", pienin)\\n\\nlista.sort()\\n\\nprint(\\\"Pienin luku on\\\", lista[0])\\nprint(\\\"Suurin luku on\\\", lista[-1])\";\n",
       "                var nbb_formatted_code = \"suurin = lista[0]\\npienin = lista[0]\\n\\n\\nfor luku in lista:\\n    if luku > suurin:\\n        suurin = luku\\n\\n    if luku < pienin:\\n        pienin = luku\\n\\nprint(\\\"Suurin luku on\\\", suurin)\\nprint(\\\"Pienin luku on\\\", pienin)\\n\\nlista.sort()\\n\\nprint(\\\"Pienin luku on\\\", lista[0])\\nprint(\\\"Suurin luku on\\\", lista[-1])\";\n",
       "                var nbb_cells = Jupyter.notebook.get_cells();\n",
       "                for (var i = 0; i < nbb_cells.length; ++i) {\n",
       "                    if (nbb_cells[i].input_prompt_number == nbb_cell_id) {\n",
       "                        if (nbb_cells[i].get_text() == nbb_unformatted_code) {\n",
       "                             nbb_cells[i].set_text(nbb_formatted_code);\n",
       "                        }\n",
       "                        break;\n",
       "                    }\n",
       "                }\n",
       "            }, 500);\n",
       "            "
      ],
      "text/plain": [
       "<IPython.core.display.Javascript object>"
      ]
     },
     "metadata": {},
     "output_type": "display_data"
    }
   ],
   "source": [
    "suurin = lista[0]\n",
    "pienin = lista[0]\n",
    "\n",
    "\n",
    "for luku in lista:\n",
    "    if luku > suurin:\n",
    "        suurin = luku\n",
    "\n",
    "    if luku < pienin:\n",
    "        pienin = luku\n",
    "\n",
    "print(\"Suurin luku on\", suurin)\n",
    "print(\"Pienin luku on\", pienin)\n",
    "\n",
    "lista.sort()\n",
    "\n",
    "print(\"Pienin luku on\", lista[0])\n",
    "print(\"Suurin luku on\", lista[-1])"
   ]
  },
  {
   "cell_type": "code",
   "execution_count": 2,
   "metadata": {},
   "outputs": [
    {
     "name": "stdout",
     "output_type": "stream",
     "text": [
      "809 kohdassa 93\n"
     ]
    }
   ],
   "source": [
    "lista = [932, 168, 876, 250, 426, 231, 554, 105, 888, 684, 639, 131, 140, 382, 479, 402, 125, 264, 286, 290, 205, 944, 761, 735, 611, 646, 908, 438, 852, 937, 397, 503, 591, 736, 734, 124, 434, 952, 269, 13, 164, 161, 128, 170, 646, 200, 331, 946, 590, 973, 569, 784, 778, 358, 463, 712, 283, 357, 959, 598, 518, 853, 305, 767, 44, 135, 175, 407, 677, 749, 714, 517, 766, 346, 488, 687, 338, 375, 341, 582, 912, 389, 224, 326, 561, 106, 756, 709, 445, 106, 727, 258, 671, 48, 857, 69, 171, 840, 335, 696]\n",
    "\n",
    "\n",
    "suurin_erotus = 0\n",
    "\n",
    "kohta = 0\n",
    "\n",
    "for i in range(len(lista) - 1):\n",
    "    if suurin_erotus < lista[i + 1] - lista[i]:\n",
    "        suurin_erotus = lista[i + 1] - lista[i]\n",
    "        kohta = i\n",
    "\n",
    "print(suurin_erotus, \"kohdassa\", kohta)"
   ]
  },
  {
   "cell_type": "markdown",
   "metadata": {},
   "source": [
    "### Tehtävä 4.1\n",
    "Alla tilastomatikan kaavoja käsitteitä.\n",
    "\n",
    "Moodi eli tyyppiarvo on havaintoaineistossa useimmiten esiintyvä arvo.\n",
    "\n",
    "\n",
    "mediaani = Satunnaismuuttujan keskimmäinen arvo, jos arvot lueteltu peräkkäin. Mediaanin kohdalla suhteellinen summafrekvenssi ylittää 50%ia.\n",
    "\n"
   ]
  },
  {
   "cell_type": "markdown",
   "metadata": {},
   "source": [
    "Alla olevassa koodissa taulukko lkm esittää lukiolaisten päivittäin seuraamien uutissivustojen lukumäärää. Taulukossa frekvenssi on esitetty jakauma miten lukiolaiset vastasivat uutissivustojen lukumäärää selvittävään kyselyyn.\n",
    "\n",
    "Ohjelma tulostaa kuinka monta lukiolaista kyselyyn osallistui. Ohjelma tulostaa seurattujen uutissivustojen lukumäärän tyyppiarvon ja mediaanin ja kuinka moni seurasi suosituinta sivustoa."
   ]
  },
  {
   "cell_type": "code",
   "execution_count": 26,
   "metadata": {},
   "outputs": [
    {
     "name": "stdout",
     "output_type": "stream",
     "text": [
      "osallistujia: 150\n",
      "mediaani: 2.0 seurattua uutissivustoa\n",
      "eniten seuraajia: 55 kpl , kun oli uutissivustojen lkm oli: 1\n"
     ]
    },
    {
     "data": {
      "application/javascript": [
       "\n",
       "            setTimeout(function() {\n",
       "                var nbb_cell_id = 26;\n",
       "                var nbb_unformatted_code = \"# kirjoita vastauksesi t\\u00e4h\\u00e4n\\nlkm = [0, 1, 2, 3, 4]\\nfrekvenssi = [15, 55, 45, 30, 5]\\n\\n\\nsumma = 0\\nfor luku in frekvenssi:\\n    summa += luku\\nprint('osallistujia:', summa)\\n\\nvastaukset = []\\nfor i in range(len(lkm)):\\n    vastaukset += [lkm[i]] * frekvenssi[i]\\nvastaukset.sort()\\n\\nmediaani1 = vastaukset[len(vastaukset) // 2 - 1]\\nmediaani2 = vastaukset[len(vastaukset) // 2]\\nprint('mediaani:',(mediaani1 + mediaani2) / 2,'seurattua uutissivustoa')\\n\\nsuurin = frekvenssi[0]\\nkohta = 0\\nsuurin_kohta = 0\\n\\nfor luku in frekvenssi:\\n    if luku > suurin:\\n        suurin = luku\\n        suurin_kohta = kohta\\n    kohta += 1\\nprint('eniten seuraajia:', suurin, 'kpl', ', kun oli uutissivustojen lkm oli:', lkm[suurin_kohta])\";\n",
       "                var nbb_formatted_code = \"# kirjoita vastauksesi t\\u00e4h\\u00e4n\\nlkm = [0, 1, 2, 3, 4]\\nfrekvenssi = [15, 55, 45, 30, 5]\\n\\n\\nsumma = 0\\nfor luku in frekvenssi:\\n    summa += luku\\nprint(\\\"osallistujia:\\\", summa)\\n\\nvastaukset = []\\nfor i in range(len(lkm)):\\n    vastaukset += [lkm[i]] * frekvenssi[i]\\nvastaukset.sort()\\n\\nmediaani1 = vastaukset[len(vastaukset) // 2 - 1]\\nmediaani2 = vastaukset[len(vastaukset) // 2]\\nprint(\\\"mediaani:\\\", (mediaani1 + mediaani2) / 2, \\\"seurattua uutissivustoa\\\")\\n\\nsuurin = frekvenssi[0]\\nkohta = 0\\nsuurin_kohta = 0\\n\\nfor luku in frekvenssi:\\n    if luku > suurin:\\n        suurin = luku\\n        suurin_kohta = kohta\\n    kohta += 1\\nprint(\\n    \\\"eniten seuraajia:\\\",\\n    suurin,\\n    \\\"kpl\\\",\\n    \\\", kun oli uutissivustojen lkm oli:\\\",\\n    lkm[suurin_kohta],\\n)\";\n",
       "                var nbb_cells = Jupyter.notebook.get_cells();\n",
       "                for (var i = 0; i < nbb_cells.length; ++i) {\n",
       "                    if (nbb_cells[i].input_prompt_number == nbb_cell_id) {\n",
       "                        if (nbb_cells[i].get_text() == nbb_unformatted_code) {\n",
       "                             nbb_cells[i].set_text(nbb_formatted_code);\n",
       "                        }\n",
       "                        break;\n",
       "                    }\n",
       "                }\n",
       "            }, 500);\n",
       "            "
      ],
      "text/plain": [
       "<IPython.core.display.Javascript object>"
      ]
     },
     "metadata": {},
     "output_type": "display_data"
    },
    {
     "data": {
      "application/javascript": [
       "\n",
       "            setTimeout(function() {\n",
       "                var nbb_cell_id = 26;\n",
       "                var nbb_unformatted_code = \"# kirjoita vastauksesi t\\u00e4h\\u00e4n\\nlkm = [0, 1, 2, 3, 4]\\nfrekvenssi = [15, 55, 45, 30, 5]\\n\\n\\nsumma = 0\\nfor luku in frekvenssi:\\n    summa += luku\\nprint('osallistujia:', summa)\\n\\nvastaukset = []\\nfor i in range(len(lkm)):\\n    vastaukset += [lkm[i]] * frekvenssi[i]\\nvastaukset.sort()\\n\\nmediaani1 = vastaukset[len(vastaukset) // 2 - 1]\\nmediaani2 = vastaukset[len(vastaukset) // 2]\\nprint('mediaani:',(mediaani1 + mediaani2) / 2,'seurattua uutissivustoa')\\n\\nsuurin = frekvenssi[0]\\nkohta = 0\\nsuurin_kohta = 0\\n\\nfor luku in frekvenssi:\\n    if luku > suurin:\\n        suurin = luku\\n        suurin_kohta = kohta\\n    kohta += 1\\nprint('eniten seuraajia:', suurin, 'kpl', ', kun oli uutissivustojen lkm oli:', lkm[suurin_kohta])\";\n",
       "                var nbb_formatted_code = \"# kirjoita vastauksesi t\\u00e4h\\u00e4n\\nlkm = [0, 1, 2, 3, 4]\\nfrekvenssi = [15, 55, 45, 30, 5]\\n\\n\\nsumma = 0\\nfor luku in frekvenssi:\\n    summa += luku\\nprint(\\\"osallistujia:\\\", summa)\\n\\nvastaukset = []\\nfor i in range(len(lkm)):\\n    vastaukset += [lkm[i]] * frekvenssi[i]\\nvastaukset.sort()\\n\\nmediaani1 = vastaukset[len(vastaukset) // 2 - 1]\\nmediaani2 = vastaukset[len(vastaukset) // 2]\\nprint(\\\"mediaani:\\\", (mediaani1 + mediaani2) / 2, \\\"seurattua uutissivustoa\\\")\\n\\nsuurin = frekvenssi[0]\\nkohta = 0\\nsuurin_kohta = 0\\n\\nfor luku in frekvenssi:\\n    if luku > suurin:\\n        suurin = luku\\n        suurin_kohta = kohta\\n    kohta += 1\\nprint(\\n    \\\"eniten seuraajia:\\\",\\n    suurin,\\n    \\\"kpl\\\",\\n    \\\", kun oli uutissivustojen lkm oli:\\\",\\n    lkm[suurin_kohta],\\n)\";\n",
       "                var nbb_cells = Jupyter.notebook.get_cells();\n",
       "                for (var i = 0; i < nbb_cells.length; ++i) {\n",
       "                    if (nbb_cells[i].input_prompt_number == nbb_cell_id) {\n",
       "                        if (nbb_cells[i].get_text() == nbb_unformatted_code) {\n",
       "                             nbb_cells[i].set_text(nbb_formatted_code);\n",
       "                        }\n",
       "                        break;\n",
       "                    }\n",
       "                }\n",
       "            }, 500);\n",
       "            "
      ],
      "text/plain": [
       "<IPython.core.display.Javascript object>"
      ]
     },
     "metadata": {},
     "output_type": "display_data"
    }
   ],
   "source": [
    "# kirjoita vastauksesi tähän\n",
    "lkm = [0, 1, 2, 3, 4]\n",
    "frekvenssi = [15, 55, 45, 30, 5]\n",
    "\n",
    "\n",
    "summa = 0\n",
    "for luku in frekvenssi:\n",
    "    summa += luku\n",
    "print('osallistujia:', summa)\n",
    "\n",
    "vastaukset = []\n",
    "for i in range(len(lkm)):\n",
    "    vastaukset += [lkm[i]] * frekvenssi[i]\n",
    "vastaukset.sort()\n",
    "\n",
    "mediaani1 = vastaukset[len(vastaukset) // 2 - 1]\n",
    "mediaani2 = vastaukset[len(vastaukset) // 2]\n",
    "print('mediaani:',(mediaani1 + mediaani2) / 2,'seurattua uutissivustoa')\n",
    "\n",
    "suurin = frekvenssi[0]\n",
    "kohta = 0\n",
    "suurin_kohta = 0\n",
    "\n",
    "for luku in frekvenssi:\n",
    "    if luku > suurin:\n",
    "        suurin = luku\n",
    "        suurin_kohta = kohta\n",
    "    kohta += 1\n",
    "print('eniten seuraajia:', suurin, 'kpl', ', kun oli uutissivustojen lkm oli:', lkm[suurin_kohta])\n",
    "\n"
   ]
  },
  {
   "cell_type": "markdown",
   "metadata": {},
   "source": [
    "### Tehtävä 4.2 \n",
    "Taulukossa on esitetty kahden koulun A ja B arvosanojen jakaumat. Ohjelma laskee arvosanojen keskiarvot molemmissa kouluissa. Ohjelma etsii koulun A parhaimman arvosanan."
   ]
  },
  {
   "cell_type": "code",
   "execution_count": 17,
   "metadata": {},
   "outputs": [
    {
     "name": "stdout",
     "output_type": "stream",
     "text": [
      "keskiarvo koulussa A on 7.3580246913580245\n",
      "keskiarvo koulussa B on 7.928\n",
      "Koulu B oli matikassa parempi.\n",
      "Koulussa A on 81 opiskelijaa\n",
      "Koulussa B on 125 opiskelijaa\n",
      "9\n"
     ]
    },
    {
     "data": {
      "application/javascript": [
       "\n",
       "            setTimeout(function() {\n",
       "                var nbb_cell_id = 17;\n",
       "                var nbb_unformatted_code = \"# laadi ratkaisusi t\\u00e4h\\u00e4n, voit k\\u00e4ytt\\u00e4\\u00e4 alla olevia valmiita muuttujia\\narvosanat = [10, 9, 8, 7, 6, 5, 4]\\nfrekvenssi_A = [0, 12, 27, 29, 4, 9, 0]\\nfrekvenssi_B = [24, 28, 32, 16, 7, 17, 1]\\n\\nsumma_A = 0\\nsumma_B = 0\\n\\nm\\u00e4\\u00e4r\\u00e4_A = 0\\nm\\u00e4\\u00e4r\\u00e4_B = 0\\n\\nfor i in range(len(arvosanat)):\\n    summa_A += arvosanat[i] * frekvenssi_A[i]\\n    summa_B += arvosanat[i] * frekvenssi_B[i]\\n    \\n    m\\u00e4\\u00e4r\\u00e4_A += frekvenssi_A[i]\\n    m\\u00e4\\u00e4r\\u00e4_B += frekvenssi_B[i]\\n\\nkeskiarvo_A = summa_A / m\\u00e4\\u00e4r\\u00e4_A\\nkeskiarvo_B = summa_B / m\\u00e4\\u00e4r\\u00e4_B\\n\\nprint(\\\"keskiarvo koulussa A on\\\", keskiarvo_A)\\nprint(\\\"keskiarvo koulussa B on\\\", keskiarvo_B)\\n\\nif keskiarvo_A > keskiarvo_B:\\n    print(\\\"Koulu A oli matikassa parempi.\\\")\\nelse:\\n    print(\\\"Koulu B oli matikassa parempi.\\\")\\n\\nprint(\\\"Koulussa A on\\\", m\\u00e4\\u00e4r\\u00e4_A, \\\"opiskelijaa\\\")\\nprint(\\\"Koulussa B on\\\", m\\u00e4\\u00e4r\\u00e4_B, \\\"opiskelijaa\\\")\\n\\nsuurin = 0\\nfor i in range(len(arvosanat)):\\n    if frekvenssi_A[i] != 0:\\n        if arvosanat[i] > suurin:\\n            suurin = arvosanat[i]\\nprint(suurin)\";\n",
       "                var nbb_formatted_code = \"# laadi ratkaisusi t\\u00e4h\\u00e4n, voit k\\u00e4ytt\\u00e4\\u00e4 alla olevia valmiita muuttujia\\narvosanat = [10, 9, 8, 7, 6, 5, 4]\\nfrekvenssi_A = [0, 12, 27, 29, 4, 9, 0]\\nfrekvenssi_B = [24, 28, 32, 16, 7, 17, 1]\\n\\nsumma_A = 0\\nsumma_B = 0\\n\\nm\\u00e4\\u00e4r\\u00e4_A = 0\\nm\\u00e4\\u00e4r\\u00e4_B = 0\\n\\nfor i in range(len(arvosanat)):\\n    summa_A += arvosanat[i] * frekvenssi_A[i]\\n    summa_B += arvosanat[i] * frekvenssi_B[i]\\n\\n    m\\u00e4\\u00e4r\\u00e4_A += frekvenssi_A[i]\\n    m\\u00e4\\u00e4r\\u00e4_B += frekvenssi_B[i]\\n\\nkeskiarvo_A = summa_A / m\\u00e4\\u00e4r\\u00e4_A\\nkeskiarvo_B = summa_B / m\\u00e4\\u00e4r\\u00e4_B\\n\\nprint(\\\"keskiarvo koulussa A on\\\", keskiarvo_A)\\nprint(\\\"keskiarvo koulussa B on\\\", keskiarvo_B)\\n\\nif keskiarvo_A > keskiarvo_B:\\n    print(\\\"Koulu A oli matikassa parempi.\\\")\\nelse:\\n    print(\\\"Koulu B oli matikassa parempi.\\\")\\n\\nprint(\\\"Koulussa A on\\\", m\\u00e4\\u00e4r\\u00e4_A, \\\"opiskelijaa\\\")\\nprint(\\\"Koulussa B on\\\", m\\u00e4\\u00e4r\\u00e4_B, \\\"opiskelijaa\\\")\\n\\nsuurin = 0\\nfor i in range(len(arvosanat)):\\n    if frekvenssi_A[i] != 0:\\n        if arvosanat[i] > suurin:\\n            suurin = arvosanat[i]\\nprint(suurin)\";\n",
       "                var nbb_cells = Jupyter.notebook.get_cells();\n",
       "                for (var i = 0; i < nbb_cells.length; ++i) {\n",
       "                    if (nbb_cells[i].input_prompt_number == nbb_cell_id) {\n",
       "                        if (nbb_cells[i].get_text() == nbb_unformatted_code) {\n",
       "                             nbb_cells[i].set_text(nbb_formatted_code);\n",
       "                        }\n",
       "                        break;\n",
       "                    }\n",
       "                }\n",
       "            }, 500);\n",
       "            "
      ],
      "text/plain": [
       "<IPython.core.display.Javascript object>"
      ]
     },
     "metadata": {},
     "output_type": "display_data"
    }
   ],
   "source": [
    "# laadi ratkaisusi tähän, voit käyttää alla olevia valmiita muuttujia\n",
    "arvosanat = [10, 9, 8, 7, 6, 5, 4]\n",
    "frekvenssi_A = [0, 12, 27, 29, 4, 9, 0]\n",
    "frekvenssi_B = [24, 28, 32, 16, 7, 17, 1]\n",
    "\n",
    "summa_A = 0\n",
    "summa_B = 0\n",
    "\n",
    "määrä_A = 0\n",
    "määrä_B = 0\n",
    "\n",
    "for i in range(len(arvosanat)):\n",
    "    summa_A += arvosanat[i] * frekvenssi_A[i]\n",
    "    summa_B += arvosanat[i] * frekvenssi_B[i]\n",
    "\n",
    "    määrä_A += frekvenssi_A[i]\n",
    "    määrä_B += frekvenssi_B[i]\n",
    "\n",
    "keskiarvo_A = summa_A / määrä_A\n",
    "keskiarvo_B = summa_B / määrä_B\n",
    "\n",
    "print(\"keskiarvo koulussa A on\", keskiarvo_A)\n",
    "print(\"keskiarvo koulussa B on\", keskiarvo_B)\n",
    "\n",
    "if keskiarvo_A > keskiarvo_B:\n",
    "    print(\"Koulu A oli matikassa parempi.\")\n",
    "else:\n",
    "    print(\"Koulu B oli matikassa parempi.\")\n",
    "\n",
    "print(\"Koulussa A on\", määrä_A, \"opiskelijaa\")\n",
    "print(\"Koulussa B on\", määrä_B, \"opiskelijaa\")\n",
    "\n",
    "suurin = 0\n",
    "for i in range(len(arvosanat)):\n",
    "    if frekvenssi_A[i] != 0:\n",
    "        if arvosanat[i] > suurin:\n",
    "            suurin = arvosanat[i]\n",
    "print(suurin)"
   ]
  },
  {
   "cell_type": "markdown",
   "metadata": {},
   "source": [
    "### Tehtävä 4.3\n",
    "Ohje: Laske ensin sadepäivien keskiarvo. Todennäiköisyys saadaan laskettua sadepäivien keskiarvon suhteellisena osuutena 31 vuorokaudesta.\n",
    "\n"
   ]
  },
  {
   "cell_type": "code",
   "execution_count": 27,
   "metadata": {},
   "outputs": [
    {
     "name": "stdout",
     "output_type": "stream",
     "text": [
      "Todennäköisyys, että tiettynä päivänä sataa, on 29.0 %\n"
     ]
    },
    {
     "data": {
      "application/javascript": [
       "\n",
       "            setTimeout(function() {\n",
       "                var nbb_cell_id = 27;\n",
       "                var nbb_unformatted_code = \"# kirjoita ratkaisusi t\\u00e4h\\u00e4n\\nsadepaivat = [8, 12, 9, 6, 10, 9]\\n\\nsumma = 0\\n\\nfor maara in sadepaivat:\\n    summa += maara\\n\\nkeskiarvo = summa / len(sadepaivat)\\n\\nprint(\\n    \\\"Todenn\\u00e4k\\u00f6isyys, ett\\u00e4 tiettyn\\u00e4 p\\u00e4iv\\u00e4n\\u00e4 sataa, on\\\",\\n    round(keskiarvo / 31 * 100, 1),\\n    \\\"%\\\",\\n)\";\n",
       "                var nbb_formatted_code = \"# kirjoita ratkaisusi t\\u00e4h\\u00e4n\\nsadepaivat = [8, 12, 9, 6, 10, 9]\\n\\nsumma = 0\\n\\nfor maara in sadepaivat:\\n    summa += maara\\n\\nkeskiarvo = summa / len(sadepaivat)\\n\\nprint(\\n    \\\"Todenn\\u00e4k\\u00f6isyys, ett\\u00e4 tiettyn\\u00e4 p\\u00e4iv\\u00e4n\\u00e4 sataa, on\\\",\\n    round(keskiarvo / 31 * 100, 1),\\n    \\\"%\\\",\\n)\";\n",
       "                var nbb_cells = Jupyter.notebook.get_cells();\n",
       "                for (var i = 0; i < nbb_cells.length; ++i) {\n",
       "                    if (nbb_cells[i].input_prompt_number == nbb_cell_id) {\n",
       "                        if (nbb_cells[i].get_text() == nbb_unformatted_code) {\n",
       "                             nbb_cells[i].set_text(nbb_formatted_code);\n",
       "                        }\n",
       "                        break;\n",
       "                    }\n",
       "                }\n",
       "            }, 500);\n",
       "            "
      ],
      "text/plain": [
       "<IPython.core.display.Javascript object>"
      ]
     },
     "metadata": {},
     "output_type": "display_data"
    },
    {
     "data": {
      "application/javascript": [
       "\n",
       "            setTimeout(function() {\n",
       "                var nbb_cell_id = 27;\n",
       "                var nbb_unformatted_code = \"# kirjoita ratkaisusi t\\u00e4h\\u00e4n\\nsadepaivat = [8, 12, 9, 6, 10, 9]\\n\\nsumma = 0\\n\\nfor maara in sadepaivat:\\n    summa += maara\\n\\nkeskiarvo = summa / len(sadepaivat)\\n\\nprint(\\n    \\\"Todenn\\u00e4k\\u00f6isyys, ett\\u00e4 tiettyn\\u00e4 p\\u00e4iv\\u00e4n\\u00e4 sataa, on\\\",\\n    round(keskiarvo / 31 * 100, 1),\\n    \\\"%\\\",\\n)\";\n",
       "                var nbb_formatted_code = \"# kirjoita ratkaisusi t\\u00e4h\\u00e4n\\nsadepaivat = [8, 12, 9, 6, 10, 9]\\n\\nsumma = 0\\n\\nfor maara in sadepaivat:\\n    summa += maara\\n\\nkeskiarvo = summa / len(sadepaivat)\\n\\nprint(\\n    \\\"Todenn\\u00e4k\\u00f6isyys, ett\\u00e4 tiettyn\\u00e4 p\\u00e4iv\\u00e4n\\u00e4 sataa, on\\\",\\n    round(keskiarvo / 31 * 100, 1),\\n    \\\"%\\\",\\n)\";\n",
       "                var nbb_cells = Jupyter.notebook.get_cells();\n",
       "                for (var i = 0; i < nbb_cells.length; ++i) {\n",
       "                    if (nbb_cells[i].input_prompt_number == nbb_cell_id) {\n",
       "                        if (nbb_cells[i].get_text() == nbb_unformatted_code) {\n",
       "                             nbb_cells[i].set_text(nbb_formatted_code);\n",
       "                        }\n",
       "                        break;\n",
       "                    }\n",
       "                }\n",
       "            }, 500);\n",
       "            "
      ],
      "text/plain": [
       "<IPython.core.display.Javascript object>"
      ]
     },
     "metadata": {},
     "output_type": "display_data"
    }
   ],
   "source": [
    "# kirjoita ratkaisusi tähän\n",
    "sadepaivat = [8, 12, 9, 6, 10, 9]\n",
    "\n",
    "summa = 0\n",
    "\n",
    "for maara in sadepaivat:\n",
    "    summa += maara\n",
    "\n",
    "keskiarvo = summa / len(sadepaivat)\n",
    "\n",
    "print(\"Todennäköisyys, että tiettynä päivänä sataa, on\", round(keskiarvo / 31 * 100, 1), \"%\")"
   ]
  },
  {
   "cell_type": "code",
   "execution_count": null,
   "metadata": {},
   "outputs": [],
   "source": []
  }
 ],
 "metadata": {
  "kernelspec": {
   "display_name": "Python 3",
   "language": "python",
   "name": "python3"
  },
  "language_info": {
   "codemirror_mode": {
    "name": "ipython",
    "version": 3
   },
   "file_extension": ".py",
   "mimetype": "text/x-python",
   "name": "python",
   "nbconvert_exporter": "python",
   "pygments_lexer": "ipython3",
   "version": "3.7.3"
  }
 },
 "nbformat": 4,
 "nbformat_minor": 4
}
