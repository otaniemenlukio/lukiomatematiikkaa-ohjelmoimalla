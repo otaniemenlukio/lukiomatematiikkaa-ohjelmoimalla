{
 "cells": [
  {
   "cell_type": "markdown",
   "metadata": {},
   "source": [
    "# Jakolaskun jakojäännöksen laskeminen ja tiedon salaaminen\n",
    "Draft 30.11.2021\n",
    "Matti Heikkinen\n",
    "\n",
    "## Sisällys\n",
    "1 Johdanto\n",
    " \n",
    " 1.1 Jakolaskun jakoyhtälö\n",
    " \n",
    " 1.2 Kongruenssi\n",
    " \n",
    " 1.3 Kongruenttien lukujen jakojäännökset\n",
    " \n",
    " 1.4 Kongruenssin tärkeimmät ominaisuudet\n",
    " \n",
    "2 Jakojäännöksen selvittäminen ohjelmoimalla\n",
    " \n",
    " 2.1 Algoritmi jakojäännöksen selvittämiseksi\n",
    " \n",
    " 2.2 Logaritminen algoritmi\n",
    " \n",
    " 2.3 Eukleideen algoritmi ja suurin yhteinen tekijä\n",
    " \n",
    " 2.4 Diofantoksen yhtälö (lisätietoa)\n",
    " \n",
    "3 Shorin kvanttialgoritmi\n",
    " \n",
    "4 Tiedon salaaminen ja RSA-Algoritmi"
   ]
  },
  {
   "cell_type": "markdown",
   "metadata": {},
   "source": [
    "## 1 Johdanto\n",
    "\n",
    "Tässä artikkelissa tarkastellaan miten lukujen jaollisuutta ja jakolaskun jakojäännöstä voidaan hyödyntää tiedon salaamisessa. Tiedon salaaminen eli kryptaus ja salatun viestin avaaminen ovat keskeinen osa turvallista ja luotettavaa viestintää yhteiskunnassa.  \n",
    "\n",
    "Kertaamme lukiomatematiikan lähtökodista mitä tarkoittavat lukuteorian käsitteet jakoyhtälö ja kongruenssi ja miten jakolaskun jakojäännös voidaan selvittää erilaisilla algoritmeilla. Tutustumme python -ohjelmointikielen avulla kahteen algoritmiin, joilla on erilainen tehokkuus ja aikavaatimus. Lisäksi esittelemme lyhyesti miten jaollisuuteen liittyviä ongelmia voidaan tutkia kvanttitietokoneissa suoritettavilla kvanttialgoritmeilla.\n",
    "\n",
    "Luvussa 1 kerrataan lukiomatematiikasta tutut jakoyhtälön ja kongruenssin käsitteet [1], joita tarvitset luvussa 4, missä käsitellään tiedon salaamiseen ja salatun tiedon avaamisen periaateitta RSA-algoritmin avulla. Luvussa 2 käsitellään erilaisia algoritmeja, joiden avulla voidaan tietokoneilla laskea suurten lukujen jakojäännöksiä,joihin tiedonsalauksessa käytettävät algoritmit perustuvat. Luvussa 3 esitellään lyhyesti Shorin algoritmi[4,5],jota voidaan käyttää kvanttitietokoneissa hyvin suurten lukujen jakolaskun jakojäännösten tutkimiseen. Tiedon salaamisen periaate eli RSA-algoritmi esitellään luvussa 4.\n"
   ]
  },
  {
   "cell_type": "markdown",
   "metadata": {},
   "source": [
    "## 1.1 Jakolaskun jakoyhtälö\n",
    "\n",
    "Esimerkiksi jakolaskun $13 : 3$  jakoyhtälö on $13 = 4\\cdot 3 + 1$. Jakoyhtälö ilmaisee , että kun luku $13$ jaetaan luvulla $3$, niin jakolaskun osamäärä on 4 ja jakojäännös $1$. Saman jakolaskun jakojäännös ja jakaja voidaan ilmaista <strong><em>kongruenssi</em></strong>-käsitteen avulla seuraavasti: $13\\equiv1\\ \\left(mod\\ 4\\right)$. Luvut $13$ ja $1$ ovat kongruentit modulo $4$. Eli kun luku $13$ jaetaan luvulla $4$, saadaan jakojäännökseksi $1$.\n",
    "\n",
    "<strong>Jakolaskun jakoyhtälö</strong>\n",
    "\n",
    "Jakolaskun $a:b$ tulos voidaan voidaan esittää yhtälönä\n",
    "\n",
    "$\\text{jaettava} = \\text{osamäärä} \\cdot \\text{jakaja} + \\text{jakojäännös}$, eli muodossa $a = q\\cdot b +r$,\n",
    "\n",
    "missä $a=$ jaettava, $b=$ jakaja, $q =$ quotient eli osamäärä ja $r =$ remainder eli jakojäännös $r<b$. Jakolaskun jakojäännös on siis aina pienempi kuin jakaja.\n",
    "\n",
    "### Esimerkki 1\n",
    "\n",
    "Alla on esitetty python ohjelmoinnin avulla selvitetty jakolaskun $276 : 13$ osamäärä ja jakojäännös. Pythonissa  \"//\"-operaattori tarkoittaa kokonaisjakoa eli osamäärään laskemista ja jakojäännös saadaan \"%\"-operaattorilla."
   ]
  },
  {
   "cell_type": "code",
   "execution_count": 1,
   "metadata": {},
   "outputs": [
    {
     "name": "stdout",
     "output_type": "stream",
     "text": [
      "Tutkitaan jakolaskua  276 : 13\n",
      "jakolaskun osamäärä:  21\n",
      "jakojäännös:  3\n",
      "jakolaskun tulos jakoyhtälönä:  276 = 21 * 13 + 3\n"
     ]
    }
   ],
   "source": [
    "# esimerkki 1: jakolaskun 276: 13 osamäärä ja jakojäännös\n",
    "# voit vaihdella jaettavaa ja jakajaa\n",
    "\n",
    "#jaettava a\n",
    "a = 276\n",
    "#jakaja\n",
    "b = 13\n",
    "#osamäärä q\n",
    "q = a // b\n",
    "#jakojäännös r\n",
    "r = a % b\n",
    "print(\"Tutkitaan jakolaskua \", a, \":\", b)\n",
    "print(\"jakolaskun osamäärä: \", q)\n",
    "print(\"jakojäännös: \", r)\n",
    "print(\"jakolaskun tulos jakoyhtälönä: \", a,\"=\",q, \"*\",b,\"+\",r)"
   ]
  },
  {
   "cell_type": "markdown",
   "metadata": {},
   "source": [
    "Ylläolevan jakolaskun tulos voidaan esittää kongruenssina $276\\equiv3\\ \\left(mod\\ 13\\right)$. \n",
    "\n",
    "On tärkeää huomata kongruenssin ominaisuus, että erotus $276-3=273= 21\\cdot13$ on jaollinen luvulla $13$. Eli kongruenssin avulla ilmaistuna $276-3\\equiv273\\equiv0\\ \\left(mod\\ 13\\right)$."
   ]
  },
  {
   "cell_type": "markdown",
   "metadata": {},
   "source": [
    "## 1.2 Kongruenssi\n",
    "\n",
    "Kerrataan vielä kongruenssin käsite, koska se on tärkeä jatkossa. Olkoon $n$ lukua yksi suurempi kokonaisluku. Kokonaisluvut $a$ ja $b$ ovat kongruentit modul $n$, jos niiden erotus jaollinen luvulla $n$.\n",
    "\n",
    "Modulo n kongruentit luvut a ja b  merkitään [1]\n",
    "\n",
    "$a\\equiv b\\ \\left(mod\\ n\\right)\\ $\n",
    "\n",
    "### Esimerkki 2:\n",
    "\n",
    "$17\\equiv 3\\ \\left(mod\\ 7\\right)$, koska $17-3\\ =\\ 14=2\\cdot7$ ,eli luku 14 on jaollinen luvulla 7.\n",
    "\n",
    "\n",
    "$-19\\equiv5\\ \\left(mod\\ 2\\right)$, koska $-19-5=-24=\\left(-12\\right)\\cdot2$, eli luku -24 on jaollinen luvulla 2.\n",
    "\n"
   ]
  },
  {
   "cell_type": "code",
   "execution_count": 12,
   "metadata": {},
   "outputs": [
    {
     "name": "stdout",
     "output_type": "stream",
     "text": [
      "Tutkitaan jakolaskua  17 : 7\n",
      "osamäärä: 2\n",
      "jakojäännös:  3\n",
      "jakolaskun tulos jakoyhtälönä:  17 = 2 * 7 + 3\n"
     ]
    }
   ],
   "source": [
    "# Esimerkki 2, laske tähän\n",
    "\n",
    "# Asetetaan arvo jaettavalle a\n",
    "a = 17\n",
    "\n",
    "# jakaja b\n",
    "b = 7\n",
    "\n",
    "#osamäärä, quotient\n",
    "q = a // b\n",
    "\n",
    "# jakojäännös, remainder\n",
    "r = a % b\n",
    "\n",
    "print(\"Tutkitaan jakolaskua \", a, \":\", b)\n",
    "print(\"osamäärä:\", q)\n",
    "print(\"jakojäännös: \",r)\n",
    "print(\"jakolaskun tulos jakoyhtälönä: \", a,\"=\",q, \"*\",b,\"+\",r)\n"
   ]
  },
  {
   "cell_type": "markdown",
   "metadata": {},
   "source": [
    "## 1.3 Kongruenttien lukujen jakojäännökset\n",
    "\n",
    "Positiiviset luvut $a$ ja $b$ kongruentit modulo $n$, jos ja vain jos luvuilla $a$ ja $b$ on sama jakojäännös kun jaetaan luvulla $n$.\n",
    "\n",
    "### Esimerkki 3: \n",
    "Lasketaan pythonilla ja osoitetaan, että luvuilla $365$ ja $295$ on samat jakojäännökset kun jaetaan luvulla $7$, eli tutkitaan seuraavia jakolaskuja:\n"
   ]
  },
  {
   "cell_type": "code",
   "execution_count": 13,
   "metadata": {},
   "outputs": [
    {
     "name": "stdout",
     "output_type": "stream",
     "text": [
      "Jakolaskun 365: 7 jakojäännös:  1\n",
      "Jakolaskun 295: 7 jakojäännös:  1\n"
     ]
    }
   ],
   "source": [
    "# laske tähän soluun tehtävä 3\n",
    "print(\"Jakolaskun 365: 7 jakojäännös: \", 365 % 7)\n",
    "print(\"Jakolaskun 295: 7 jakojäännös: \", 295%7)"
   ]
  },
  {
   "cell_type": "markdown",
   "metadata": {},
   "source": [
    "Jakolaskujen $365:7$ ja $295:7$ jakojäännökset voidaan ilmaista:\n",
    "\n",
    "$365\\equiv295\\equiv1\\ \\left(mod\\ 7\\right)$\n",
    "\n",
    "\n",
    "### Esimerkki 4: \n",
    "Osoita, että $71\\equiv3\\ \\left(mod\\ 4\\right)$."
   ]
  },
  {
   "cell_type": "code",
   "execution_count": 16,
   "metadata": {},
   "outputs": [
    {
     "name": "stdout",
     "output_type": "stream",
     "text": [
      "Jakolaskun 71: 4 jakojäännös:  3\n",
      "Jakolaskun 3: 4 jakojäännös:  3\n"
     ]
    }
   ],
   "source": [
    "# laske tähän esimerkki 4:\n",
    "print(\"Jakolaskun 71: 4 jakojäännös: \", 71 % 4)\n",
    "print(\"Jakolaskun 3: 4 jakojäännös: \", 3%4)"
   ]
  },
  {
   "cell_type": "markdown",
   "metadata": {},
   "source": [
    "Jakoyhtälöt\n",
    "$71 = 17\\cdot 4 + 3$ ja $3 = 0\\cdot 4 + 3$"
   ]
  },
  {
   "cell_type": "markdown",
   "metadata": {},
   "source": [
    "## 1.4 Kongruenssi tärkeimmät ominaisuudet \n",
    "\n",
    "Kun ryhdymme laskemaan suurempien lukujen jakolaskun jakojäännöstä hyödynnämme seuraavia kongruenssin ominaisuuksia [1].\n",
    "\n",
    "### Kongruenttien lukujen summat ovat kongruentteja\n",
    "\n",
    "$a+c\\ \\equiv b+d\\ \\left(mod\\ n\\right)$\n",
    "\n",
    "### Kongruenttien lukujen tulot ovat kongruentteja\n",
    "\n",
    "$ac\\ \\equiv bd\\ \\left(mod\\ n\\right)$\n",
    "\n",
    "### Kongruenttien lukujen potenssit ovat kongruentteja\n",
    "\n",
    "$a^k\\equiv b^k\\ \\left(mod\\ n\\right)$"
   ]
  },
  {
   "cell_type": "markdown",
   "metadata": {},
   "source": [
    "### Esimerkki 5\n",
    "Määritä kongruenssia käyttäen jakojäännös, kun luku $242\\cdot403+81^{23}$ jaetaan luvulla $5$.\n",
    "\n",
    "Tarvittavat jakojäänökset:\n",
    "\n",
    "Jakolaskun $242:5$ jakojäännös on 2, joten $242\\ \\equiv2\\ \\left(mod\\ 5\\right)$.\n",
    "\n",
    "Jakolaskun $403:5$ jakojäännös on 3, joten $403\\ \\equiv3\\ \\left(mod\\ 5\\right)$.\n",
    "\n",
    "Jakolaskun $81:5$ jakojäännös on 1, eli $81\\ \\equiv1\\ \\left(mod\\ 5\\right)$.\n",
    "\n",
    "\n",
    "$242\\cdot403+81^{23}\\equiv 2\\cdot3+1^{23}\\equiv 7 \\equiv 2\\ \\left(mod\\ 5\\right) $\n",
    "\n",
    "\n"
   ]
  },
  {
   "cell_type": "markdown",
   "metadata": {},
   "source": [
    "## 2 jakojäännöksen selvittäminen ohjelmoimalla\n",
    "\n",
    "Pythonissa jakolaskun jakojäännöksen voi selvittää %-laskuoperaattorilla. Pythonissa voi määritellä omia funktiota, jotka voivat sisältää operaatioita, jotka muokkaavat lukuja. Funktio voi olla kuitenkin paljon monimutkaisempi, koska funktion sisällä voi suorittaa mitä tahansa python-koodia. Funktio voi ottaa parametreja ja palauttaa jonkun arvon. Parametreja voi olla mikä tahansa määrä. Funktio voi palauttaa arvon return-rakenteella, mutta tämäkään ei ole pakollista. Alla esimerkissä on <em>def</em>-kommennolla määritelty  funktio <em>remainder(p,q)</em>, joka laskee parametreina annettujen lukujen p ja q jakojäännöksen. Funktio suoritetaan vasta silloin kun sitä kutsutaan.\n"
   ]
  },
  {
   "cell_type": "code",
   "execution_count": 2,
   "metadata": {},
   "outputs": [],
   "source": [
    "#remainder funktion määrittely, huomaa kaksoispiste ja sisennys\n",
    "def remainder(p, q):\n",
    "    return p % q"
   ]
  },
  {
   "cell_type": "code",
   "execution_count": 3,
   "metadata": {},
   "outputs": [
    {
     "data": {
      "text/plain": [
       "2"
      ]
     },
     "execution_count": 3,
     "metadata": {},
     "output_type": "execute_result"
    }
   ],
   "source": [
    "# kutsutaan funktiota\n",
    "remainder(23, 3)"
   ]
  },
  {
   "cell_type": "markdown",
   "metadata": {},
   "source": [
    "### 2.1 Algoritmi jakojäännöksen selvittämiseksi\n",
    "\n",
    "Tutkitaan seuraavaksi jakojäännöksen määrittämisen ongelmaa tilanteessa, jossa eksponenttifunktion arvo $b^e$ jaetaan luvulla $m$. Mikä on eksponenttifunktion jakojäännös jakolaskussa $b^e : m$. Tarkastellaan esimerkinä tilannetta, että kantaluku (base) $b=7$ ja eksponentti $e=4$, eli selvitetään laskun $7^4 : 11$ jakojäännös. Koska tulon kongruenssi on kongruenssien tulo, jakojäännös $c$ voidaan selvittää seuraavalla algoritmilla [3]:\n",
    "\n",
    "1. asetetaan c:n alkuarvoksi $c=1$ ja toistetaan eksponentin $e=4$ ilmaisema määrä kierroksia:.\n",
    "\n",
    "1.kierros: $c=1\\cdot7\\ \\left(mod\\ 11\\right)\\equiv7\\ \\left(mod\\ 11\\right)$\n",
    "\n",
    "2.kierros: $c=7\\cdot7\\ \\left(mod\\ 11\\right)\\equiv49\\ \\left(mod\\ 11\\right)\\equiv5\\ \\left(mod\\ 11\\right)$\n",
    "\n",
    "3.kierros: $c=5\\cdot7\\ \\left(mod\\ 11\\right)\\equiv35\\ \\left(mod\\ 11\\right)\\equiv2\\ \\left(mod\\ 11\\right)$\n",
    "\n",
    "4.kierros: $c=2\\cdot 7\\ \\left(mod\\ 11\\right)\\equiv 14\\ \\left(mod\\ 11\\right)\\equiv 3\\ \\left(mod\\ 11\\right)$\n",
    "\n",
    "Saamme tulokseksi, että $7^4 \\equiv 3 \\left(mod\\ 11\\right) $. Yllä suoritettu algoritmi voidaan kirjoittaa python-funktioksi, jota kutsutaan samoilla kantaluvun, eksponentin ja jakajan arvoilla. Algoritmi on suoraviivainen ja toimiva pienillä luvuilla. Jos luvut kasvavat hyvin suuriksi, niin algoritmin suoritusaika kasvaa lineaarisesti.\n"
   ]
  },
  {
   "cell_type": "code",
   "execution_count": 2,
   "metadata": {},
   "outputs": [],
   "source": [
    "# modular exponentation\n",
    "# b = base, e = exponent, m = modulo \n",
    "def modExp(b, e, m):\n",
    "    c = 1\n",
    "    for i in range(e):\n",
    "        c = c * b % m\n",
    "    return c"
   ]
  },
  {
   "cell_type": "code",
   "execution_count": 3,
   "metadata": {},
   "outputs": [
    {
     "data": {
      "text/plain": [
       "3"
      ]
     },
     "execution_count": 3,
     "metadata": {},
     "output_type": "execute_result"
    }
   ],
   "source": [
    "modExp(7,4,11)"
   ]
  },
  {
   "cell_type": "markdown",
   "metadata": {},
   "source": [
    "### 2.2 Logaritminen algoritmi\n",
    "\n",
    "Tutkitaan samaa eksponenttifunktion jaollisuusongelmaa tilanteessa, että eksponentti on suuri parillinen luku. Mikä on eksponenttifunktion jakojäännös $b^e : m$, kun $b=7$, $e=64$ ja jakaja $m=11$, eli selvitetään jakolaskun $7^{64} : 11$ jakojäännös. Logaritmisessa algoritmissa tutkitaan kantaluvun $7$ parillisten potenssien jakojäännöksiä [2].\n",
    "\n",
    "alkuarvo: $c=1\\cdot 7\\ \\left(mod\\ 11\\right)\\equiv 7\\ \\left(mod\\ 11\\right)$\n",
    "\n",
    "1.kierros: $c=7^2\\ \\left(mod\\ 11\\right)\\equiv 49\\equiv \\ 5\\left(mod\\ 11\\right)$\n",
    "\n",
    "2.kierros: $c=7^4\\ \\left(mod\\ 11\\right)\\equiv 7^2\\cdot 7^2\\equiv \\ 5\\cdot 5\\ \\left(mod\\ 11\\right)\\equiv 3\\left(mod\\ 11\\right)$\n",
    "\n",
    "3.kierros: $c=7^8\\ \\left(mod\\ 11\\right)\\equiv 7^4\\cdot 7^4\\equiv \\ 3\\cdot 3\\ \\left(mod\\ 11\\right)\\equiv 9\\left(mod\\ 11\\right)$\n",
    "\n",
    "4.kierros: $c=7^{16}\\ \\left(mod\\ 11\\right)\\equiv 7^8\\cdot 7^8\\equiv \\ 9\\cdot 9\\ \\left(mod\\ 11\\right)\\equiv 81\\ \\left(mod\\ 11\\right)\\equiv 4\\left(mod\\ 11\\right)$\n",
    "\n",
    "\n",
    "5.kierros: $c=7^{32}\\ \\left(mod\\ 11\\right)\\equiv 7^{16}\\cdot 7^{16}\\equiv \\ 4\\cdot 4\\ \\left(mod\\ 11\\right)\\equiv 16\\ \\left(mod\\ 11\\right)\\equiv 5\\left(mod\\ 11\\right)$\n",
    "\n",
    "\n",
    "6.kierros: $c=7^{64}\\ \\left(mod\\ 11\\right)\\equiv 7^{32}\\cdot 7^{32}\\equiv \\ 5\\cdot 5\\ \\left(mod\\ 11\\right)\\equiv 25\\ \\left(mod\\ 11\\right)\\equiv 3\\left(mod\\ 11\\right)$\n",
    "\n",
    "Lukujen kasvaessa algotrimin aikavaatimus on logaritminen, mikä on parempi kuin suoraviivaisesa luvun 2.1 algoritmissa. \n",
    "\n",
    "Kirjoitetaan vielä python-funktio, joka suorittaa yllä olevan kongruenssin $log_2(2^k)=k$ -kertaa:"
   ]
  },
  {
   "cell_type": "code",
   "execution_count": 14,
   "metadata": {},
   "outputs": [],
   "source": [
    "#modular 2^k exponentation when e = 2^k\n",
    "# b = base, e = exponent, m = modulo \n",
    "def mod2Exp(b,k,m):\n",
    "    c = b % m\n",
    "    for i in range(k):\n",
    "        c = c**2 % m\n",
    "    return c"
   ]
  },
  {
   "cell_type": "code",
   "execution_count": 15,
   "metadata": {},
   "outputs": [
    {
     "data": {
      "text/plain": [
       "3"
      ]
     },
     "execution_count": 15,
     "metadata": {},
     "output_type": "execute_result"
    }
   ],
   "source": [
    "mod2Exp(7,6,11)"
   ]
  },
  {
   "cell_type": "markdown",
   "metadata": {},
   "source": [
    "Logaritmista mallia voidaan soveltaa myös tilanteissa, joissa eksponentti $e$ on pariton [3], esimerkiksi jakolaskun $7^{13} : 11$ jakojäännöksen määrittämisessa, esittämällä eksponentin $e$ arvo luvun 2 potenssien avulla $13=8+4+1$ ja jaettava luku tulona $7^{13} =7^8\\cdot7^4\\cdot 7^1$. Tämän jälkeen yllä esitettyä parillisten potenssien sääntöä voidaan soveltaa kantaluvun $7$ niihin potensseihin, jotka toteuttavat ehdon $7^{\\ 2^{\\ k}}$. Tämä tarkoittaa, että jakojäännös lasketaan luvulle $7^{\\ 2^{\\ k}}$, niiden $k$:n arvojen kohdalla, jossa eksponentin $e$ binäärilukuesityksessä on 1. Esimerkiksi luvun $13$ binäärilukuesitys $13_{10}=1101_2$ tarkoittaa, että kongruenssi lasketaan $k$:n arvoilla 0, 2, ja 3. Nämä vastavaavat luvun $2$ potenssien arvoja $2^0=1$, $2^2=4$ ja $2^3=8$. Alla on kirjoitettu modExpOdd()-funktio, jolla lasketaan jakolaskun(pariton eksponentti) $7^{13} : 11$ jakojäännös."
   ]
  },
  {
   "cell_type": "code",
   "execution_count": 16,
   "metadata": {},
   "outputs": [],
   "source": [
    "# apufunktio 10-järjestelmän luvun binäärilukuesityksen 1 bittien löytämiseksi\n",
    "# bitit ovat käänteisessä järjestyksessä, jotta taulukon indeksi vastaa kantaluvun 2 potenssia\n",
    "def toBinary(n):\n",
    "    b = []\n",
    "    while n > 0:\n",
    "        b.append(n % 2)\n",
    "        n = n //2\n",
    "    #b.reverse()\n",
    "    return b"
   ]
  },
  {
   "cell_type": "code",
   "execution_count": 17,
   "metadata": {},
   "outputs": [
    {
     "name": "stdout",
     "output_type": "stream",
     "text": [
      "[1, 0, 1, 1]\n",
      "0b1101\n"
     ]
    }
   ],
   "source": [
    "a = toBinary(13)\n",
    "print(a)\n",
    "\n",
    "# vertaa ja huomaa bittien käänteinen järjestys\n",
    "print(bin(13))"
   ]
  },
  {
   "cell_type": "code",
   "execution_count": 18,
   "metadata": {},
   "outputs": [],
   "source": [
    "# parittomien eksponenttien e käsittelyyn tehty funktio b^e : M\n",
    "def modExpOdd(b, e, m):\n",
    "    a = toBinary(e)\n",
    "    remainder = 1\n",
    "\n",
    "    for i in range(len(a)):\n",
    "        #print(remainder)\n",
    "        if a[i] == 1:\n",
    "            remainder *= mod2Exp(b,i,m)\n",
    "        if remainder > m:\n",
    "            remainder = remainder % m \n",
    "    return remainder\n",
    "\n"
   ]
  },
  {
   "cell_type": "code",
   "execution_count": 19,
   "metadata": {},
   "outputs": [
    {
     "data": {
      "text/plain": [
       "2"
      ]
     },
     "execution_count": 19,
     "metadata": {},
     "output_type": "execute_result"
    }
   ],
   "source": [
    "b = 7\n",
    "e = 13\n",
    "m = 11\n",
    "\n",
    "modExpOdd(b,e,m)"
   ]
  },
  {
   "cell_type": "markdown",
   "metadata": {},
   "source": [
    "### 2.4 Eukleideen algoritmi ja suurin yhteinen tekijä\n",
    "Jaollisuutta ja jakoyhtälöitä tutkiessa ja RSA-salausalgoritmissa on tarve etsiä lukujen a ja b suurin yhteinen tekijä $syt(a,b)$. Esimerkiksi lukujen $28$ ja $42$ suurin yhteinen tekijä merkitään $syt(28,42)=14$.  Olkoon $a$ ja $b$ positiivisia kokonaislukuja. Jakolaskun $a:b$ jakoyhtälö on $a = q\\cdot b +r$. Tällöin jaettavan $a$ ja jakajan $b$ suurin yhteinen tekijä on yhtä suuri kuin jakajan $b$ ja jakojäännöksen $r$ suurin yhteinen tekijä [1]:\n",
    "\n",
    "$syt(a,b) = syt(b,r)$\n",
    "\n",
    "Tätä ominaisuutta hyödynnetään <em> Eukleideen algoritmissa </em> lukujen $a$ ja $b$ jakojääännöksen selvittämiseksi jakoyhtälön avulla. Tutki tarvittaessa esimerkkien avulla [7] kuinka algoritmi suoritetaan. Määritetään Eukleideen algoritmilla eli jakoyhtälön avulla lukujen $450$ ja $42$ suurin yhteinen tekijä:\n",
    "\n",
    "$450=10\\cdot42+30$, koska $syt(450,42)=syt(42,30)$,\n",
    "\n",
    "$42=1\\cdot30+12$, koska $syt(42,30)=syt(30,12)$,\n",
    "\n",
    "$30=2\\cdot12+6$, koska $syt(30,12)=syt(12,6)$,\n",
    "\n",
    "$12=2\\cdot6+0$,  $syt(12,6)=6$\n",
    "\n",
    "Lukujen $450$ ja $42$ suuurin yhteinen tekijä on viimeinen nollasta eroava jakojäännös, eli $syt(450,42)=6$.\n",
    "\n",
    "Kirjoitetaan python-funktio suurimman yhteisen tekijän (greatest common divisor eli gcd) löytämiseksi."
   ]
  },
  {
   "cell_type": "code",
   "execution_count": 134,
   "metadata": {},
   "outputs": [],
   "source": [
    "# parametrit a >= b\n",
    "def gcd(a,b):\n",
    "    while b > 0:\n",
    "        r = a % b\n",
    "        a = b\n",
    "        b = r\n",
    "    return a"
   ]
  },
  {
   "cell_type": "code",
   "execution_count": 21,
   "metadata": {},
   "outputs": [
    {
     "data": {
      "text/plain": [
       "6"
      ]
     },
     "execution_count": 21,
     "metadata": {},
     "output_type": "execute_result"
    }
   ],
   "source": [
    "# kutsutaan funktiota, joka laskee lukujen suurimman yhteisen tekijä\n",
    "gcd(450,42)"
   ]
  },
  {
   "cell_type": "markdown",
   "metadata": {},
   "source": [
    "### 2.5 Diofantoksen yhtälö\n",
    "Olkoon luvut $a$ ja $b$ positiivisia kokonaislukuja. <em> Diofantosen yhtälöksi </em> kutsutaan muuttujien yhtälöä $x$ ja $y$ \n",
    "\n",
    "$a\\cdot x + b\\cdot y =e$\n",
    "\n",
    "missä luku $e$ on jaollinen lukujen $a$ ja $b$ suurimmalla yhteisellä tekijällä ja ratkaisut $x$ $y$ ovat kokonaislukuja. \n",
    "\n",
    "Yhtälön ratkaisu perustuu Eukleiden algoritmiin [1] ja [8]. Kirjoitetaan python-funktio, jota voidaan käyttää muotoa $a\\cdot x + b\\cdot y =1$ olevan Diofantoksen yhtälön ratkaisemiseksi.  "
   ]
  },
  {
   "cell_type": "code",
   "execution_count": 22,
   "metadata": {},
   "outputs": [],
   "source": [
    "def findEuclidean(a,b):\n",
    "    # funktion parametrit a,b, a>=b\n",
    "    # Diofantoksen yhtälön ax+bx=1 kokonaislukuratkaisut ovat x ja y \n",
    "    # funktio palauttaa arvot d=1, x,y . \n",
    "    #ax + by = d, eli  missä d=1\n",
    "    if b == 0:\n",
    "        d = a\n",
    "        x =1\n",
    "        y = 0\n",
    "        return d,x,y\n",
    "    x2 = 1\n",
    "    x1 = 0\n",
    "    y2 = 0\n",
    "    y1 = 1\n",
    "    while b > 0:\n",
    "        q = a // b\n",
    "        r = a - q*b\n",
    "        x = x2 - q*x1\n",
    "        y = y2 - q*y1\n",
    "        a = b\n",
    "        b = r\n",
    "        x2 = x1\n",
    "        x1 = x\n",
    "        y2 = y1\n",
    "        y1 = y\n",
    "    d = a\n",
    "    x = x2\n",
    "    y = y2\n",
    "    return d, x, y\n",
    "    "
   ]
  },
  {
   "cell_type": "markdown",
   "metadata": {},
   "source": [
    "### Esimerkki\n",
    "Ratkaise Diofantoksen yhtälö a) $37x+27y=1$, b)  $37x+27y=100$ "
   ]
  },
  {
   "cell_type": "code",
   "execution_count": 23,
   "metadata": {},
   "outputs": [
    {
     "data": {
      "text/plain": [
       "(1, -8, 11)"
      ]
     },
     "execution_count": 23,
     "metadata": {},
     "output_type": "execute_result"
    }
   ],
   "source": [
    "findEuclidean(37,27)"
   ]
  },
  {
   "cell_type": "markdown",
   "metadata": {},
   "source": [
    "Suorittamalla findEclidian(a,b)-funktio löydetään diofantoksen yhtälön a) $37x+27y=1$ ratkaisut, jotka ovat $x=-8$ ja $y=11$. \n",
    "\n",
    "b-kohdan yhtälön ratkaisut  $37x+27y=100$ ovat 100-kertaiset eli  $x=-800$ ja $y=1100$."
   ]
  },
  {
   "cell_type": "code",
   "execution_count": null,
   "metadata": {},
   "outputs": [],
   "source": []
  },
  {
   "cell_type": "markdown",
   "metadata": {},
   "source": [
    "## 3 Shorin kvanttialgoritmi\n",
    "\n",
    "Luvussa 4 tutkitaan tarkemmin miten tiedon salaamisessa eli kryptauksessa käytetetään julkista avainta tiedon salaamiseen eli kryptaamiseen. Viestin vastaanottaja avaa salatut viestit yksityisellä avaimella, joka on vain viestin vastaanottajan tiedossa. Nämä kryptauksessa ja dekryptaamisessa käytettävät avaimet perustuvat hyvin suurten lukujen jakojäännösten laskemiseen, jolloin perinteisten tietokoneiden laskuteho ei välttämättä riitä salatun viestin avaamiseen, tai siihen tarvittava aika on liian suuri. Kvanttitietokoneiden kehitys haastaa perinteisiä salaustapoja, joissa hyöydynnetään hyvin suurten lukujen jakojäännöksiä.\n",
    "\n",
    "Alla esitetyllä kvanttitietokoneiden suorittaman kvanttialgoritmilla voidaan tutkia matemaattisesta ongelmaa,joka voidaan muotoilla seuraavasti: mikä on pienin kokonaisluku $r$ siten, että eksponenttifunktion $a^r$ jakojäännös on 1 jaettaessa luvulla $N$. Luku N on osa julkista ja yksityistä salausavainta (luku 4). Lukua r sanotaan kongruenssin jaksoksi. Alla oleva graafinen havainnollistus havainnollistaa jakolaskun $a^r:N$ sitä ominaisuutta, että jakojäännökset toistuvat jaksollisesti välin $r$ mittaisissa jaksoissa. Luku $r$ voidaan ratkaista kvanttitietokoneen suorittmalla kvanttialgoritmilla. Tämä helpottaa viestin salauksen purkua. \n",
    "\n",
    "$$a^r\\ \\left(mod\\ N\\right)\\ \\equiv1$$,\n",
    "\n",
    "eli $a^r-1\\ \\equiv0\\ \\left(mod\\ N\\right)$, eli luku $a^r-1$ on luvun $N$ monikerta. Tällöin luvun $N$ tulontekijät ovat \n",
    "\n",
    "$$a^r-1=\\left(a^{\\frac{r}{2}}-1\\right)\\left(a^{\\frac{r}{2}}-1\\right)$$\n",
    "\n",
    "\n",
    "Alla olevassa koodissa piirretään jakolaskun $3^r : 35$ jakojäännöksen jaksollisuutta esittävä kuvaaja käyttämällä luvussa 2 määriteltyä modExp(b,k,m)-funktiota."
   ]
  },
  {
   "cell_type": "code",
   "execution_count": 32,
   "metadata": {
    "scrolled": false
   },
   "outputs": [
    {
     "data": {
      "image/png": "[encoded data removed]",
      "text/plain": [
       "<Figure size 432x288 with 1 Axes>"
      ]
     },
     "metadata": {
      "needs_background": "light"
     },
     "output_type": "display_data"
    },
    {
     "name": "stdout",
     "output_type": "stream",
     "text": [
      "r=12\n"
     ]
    }
   ],
   "source": [
    "import matplotlib.pyplot as kuvaaja\n",
    "\n",
    "# kuvaaja = matplotlib.pyplot\n",
    "\n",
    "x_lista = []\n",
    "y_lista = []\n",
    "\n",
    "\n",
    "\n",
    "\n",
    "\n",
    "x = 1  # start\n",
    "while x <= 25:  # end\n",
    "    x_lista.append(x)\n",
    "    y = modExp(3,x,35)\n",
    "    y_lista.append(y)\n",
    "\n",
    "    x = x + 1\n",
    "\n",
    "# matplotlib.pyplot.grid()\n",
    "# matplotlib.pyplot.show()\n",
    "kuvaaja.plot(x_lista, y_lista,\"x\")\n",
    "kuvaaja.plot(x_lista, y_lista, color=\"blue\")\n",
    "kuvaaja.xlabel(\"x and r=12\")\n",
    "kuvaaja.ylabel(\"3^x (mod 35))\")\n",
    "kuvaaja.grid()\n",
    "kuvaaja.show()\n",
    "print(\"r=12\")"
   ]
  },
  {
   "cell_type": "markdown",
   "metadata": {},
   "source": [
    "Kuvaaaja havainnollistaa että jakojäännökset $3, 9, 12, 27, .. 12, 1$ toistuvat säännöllisesti 12 jakojäännöksen välein. "
   ]
  },
  {
   "cell_type": "markdown",
   "metadata": {},
   "source": [
    "\n",
    "\n",
    "Kun haluamme ymmärtää miten kvanttialgoritmi löytää tämän jakson, on tutkittava miten kvanttitietokoneiden muistissa informaatio on esitetty  <a href=\"https://bloch.ollpu.fi/\" target=\"_blank\">kubittien avulla</a>.Yhden kubitin tila on samanaikaisesti molempien tilojen 0 ja 1 yhdistelmä eli superpositio. Kubittin tilaa esittävä tilavektoria voi havainnollistaa Blochin pallon pinnalla pyörivänä vektorina. Vektorin tila eli tilavektorin asento määräytyy sen mukaan millaisia operaatioita kubittiin kohdistetaan ns. kvanttiportteilla.  Kubitin lopullinen tila määräytyy vasta kun kvanttitietokoneessa mitataan kubitin sisältämä informaatio ja tallennetaan se klassisen tietokoneen muistiin. Toinen kvanttiteoriaan perustuva ei-klassinen piirre on kahden (tai usemman) kubitin lomittuminen (quantum entanglement):  Kun kvanttisysteemin tila kuvataan kahden  lomittuneen kubitin avulla, niin ensimmäisen kubitin tilan määritys mittaamalla aiheuttaa samalla toisen kubitin tilan määräytymisen. Mittauksessa kahden kubitin kvanttitilan avulla kuvattu systeemin tila on romahtanut kaikkien mahdollisten tilojen yhdistelmästä eli superpositiotilasta johonkin tiettyyn mahdolliseen lopputilaan. Lomittuneiden kubittiparien lopputilat eivät valikoidu toisistaan riippumatta, kubittiparin lopputilojen määräytymistä ohjaa tilojen kytkeytyminen. Kvanttilaskennan perusperiaatteisiin ja kvanttipiirin määrittelyyn voit tutustua esimerkiksi\n",
    "<a href=\"https://www.lukemaverkosto.fi/materiaali/johdanto-kvanttilaskentaan/\"> \n",
    "Johdanto kvanttilaskentaan</a>-artikkelissa. Alla olevassa koodissa luodaan yhden kubitin kvanttipiiri, ja piirretään kubitin tilavektori Blochin pallolle. "
   ]
  },
  {
   "cell_type": "code",
   "execution_count": 125,
   "metadata": {},
   "outputs": [],
   "source": [
    "#initialization suorita tämä solu ensin\n",
    "import matplotlib.pyplot as plt\n",
    "import numpy as np\n",
    "import pandas as pd\n",
    "import math\n",
    "\n",
    "# importing Qiskit\n",
    "from qiskit import  IBMQ, Aer, transpile, assemble\n",
    "from qiskit import QuantumCircuit, ClassicalRegister, QuantumRegister\n",
    "from qiskit.visualization import plot_bloch_multivector\n",
    "# import basic plot tools\n",
    "from qiskit.visualization import plot_histogram"
   ]
  },
  {
   "cell_type": "code",
   "execution_count": 99,
   "metadata": {},
   "outputs": [
    {
     "data": {
      "image/png": "[encoded data removed]",
      "text/plain": [
       "<Figure size 288x288 with 1 Axes>"
      ]
     },
     "execution_count": 99,
     "metadata": {},
     "output_type": "execute_result"
    }
   ],
   "source": [
    "# Luodaan kvanttipiiri muuttujaan circ, jossa on yksi kubitti (diagrammissa q).\n",
    "circuit = QuantumCircuit(1) # kubitin alkutila on |0>\n",
    "\n",
    "# Piirretään qubitin kvanttitila blochin pallolle\n",
    "backend = Aer.get_backend('statevector_simulator')\n",
    "result = execute(circuit,backend).result()\n",
    "out_state = result.get_statevector()\n",
    "plot_bloch_multivector(out_state)\n"
   ]
  },
  {
   "cell_type": "markdown",
   "metadata": {},
   "source": [
    "Kongruenssiyhtälön $a^r\\ \\left(mod\\ N\\right)\\ \\equiv1$ tutkimiseksi määriteltävässä kvanttipiirissä luku $a^r$ esitetään kahdeksan kubitin avulla [4, 5]. Kvanttipiirin tavoittena on etsiä kongruenssia esittävän tilavektorin jakso $r$, jonka jälkeen jakojäännöksen arvot alkavat toistaa itseään. Kongruenssia kuvaavan tilavektorin ominaistilat löydetään operoimalla tilavektoriin unitaarisella U-portilla, jonka vaikutuksesta kongruenssia kuvaava tilavektori siirtyy seuraavaa jakojäännöstä esittävään tilaan. Vertaa jakojäännösten arvoja yllä olevassa kuvaajassa siihen miten tilavektorin arvot muuttuvat U-portin vaikutuksesta. Kun U-portilla operoidaan  $r$ kertaa on menty koko jakso läpi ja palattu alkutilaan, jossa jakojäännös on pienin luku $\\mid 1 >$:\n",
    "\n",
    "$$ U\\mid y>\\ \\equiv\\ \\ \\mid a_k\\ mod\\ N>$$\n"
   ]
  },
  {
   "cell_type": "markdown",
   "metadata": {},
   "source": [
    "$$ U\\mid1>\\ \\equiv\\ \\ \\mid3>$$\n",
    "\n",
    "$$ U\\mid3>\\ \\equiv\\ U^2\\mid1>\\ \\equiv\\ \\ \\mid9>$$\n"
   ]
  },
  {
   "cell_type": "markdown",
   "metadata": {},
   "source": [
    "$$ U\\mid 9>\\ \\equiv\\ \\ \\mid27>$$"
   ]
  },
  {
   "cell_type": "markdown",
   "metadata": {},
   "source": [
    "Lisäksi kvanttipiirissä tarvitaan qubitti kuvaamaan seuraavan tilavektorin ominaistiloja $U\\mid y>\\ =\\ e^{\\ \\frac{2pi\\cdot s\\cdot i}{r}}\\mid y>$. \n",
    "\n",
    "Huomaa, että jakso $r$ saadaan määritettyä U-portin ominaisarvon $e^{\\ \\frac{2pi\\cdot s\\cdot i}{r}}$  jakajasta. Tutkittavan kvanttisysteemin tilavektori on summa eli superpositio jakson $r$ sisältämien jakojäännöksiä esittävistä tilavektoreista, eli kongurenssitilojen superpositio voidaan esittää yhtälönä:\n",
    "\n",
    "$$\\mid y>\\ =\\ \\frac{1}{\\sqrt{r}}\\sum _{k=0}^{r-1}e^{-\\frac{2pi\\cdot s\\cdot i\\cdot k}{r}}\\mid a^k\\ mod\\ N>$$\n",
    "\n",
    "Ennen qubitin tilojen mittausta kvanttipiirissä tehdään kannanvaihto fourier-muunnoksen avulla. Alla olevassa piirissä kantaluku $a=7$ ja $N=15$. Tavoitteena on löytää jakolaskun $7^r : 15$ jakso $r$."
   ]
  },
  {
   "cell_type": "code",
   "execution_count": 126,
   "metadata": {},
   "outputs": [],
   "source": [
    "def qft_dagger(qc, n):\n",
    "    \"\"\"n-qubit QFTdagger the first n qubits in circ\"\"\"\n",
    "    # Don't forget the Swaps!\n",
    "    for qubit in range(n//2):\n",
    "        qc.swap(qubit, n-qubit-1)\n",
    "    for j in range(n):\n",
    "        for m in range(j):\n",
    "            qc.cp(-math.pi/float(2**(j-m)), m, j)\n",
    "        qc.h(j)"
   ]
  },
  {
   "cell_type": "code",
   "execution_count": 127,
   "metadata": {},
   "outputs": [],
   "source": [
    "def c_amod15(a, power):\n",
    "    \"\"\"Controlled multiplication by a mod 15\"\"\"\n",
    "    if a not in [2,7,8,11,13]:\n",
    "        raise ValueError(\"'a' must be 2,7,8,11 or 13\")\n",
    "    U = QuantumCircuit(4)        \n",
    "    for iteration in range(power):\n",
    "        if a in [2,13]:\n",
    "            U.swap(0,1)\n",
    "            U.swap(1,2)\n",
    "            U.swap(2,3)\n",
    "        if a in [7,8]:\n",
    "            U.swap(2,3)\n",
    "            U.swap(1,2)\n",
    "            U.swap(0,1)\n",
    "        if a == 11:\n",
    "            U.swap(1,3)\n",
    "            U.swap(0,2)\n",
    "        if a in [7,11,13]:\n",
    "            for q in range(4):\n",
    "                U.x(q)\n",
    "    U = U.to_gate()\n",
    "    U.name = \"%i^%i mod 15\" % (a, power)\n",
    "    c_U = U.control()\n",
    "    return c_U"
   ]
  },
  {
   "cell_type": "code",
   "execution_count": 128,
   "metadata": {},
   "outputs": [],
   "source": [
    "# Specify variables\n",
    "n_count = 8  # number of counting qubits\n",
    "a = 7 # kantaluku"
   ]
  },
  {
   "cell_type": "code",
   "execution_count": 129,
   "metadata": {},
   "outputs": [],
   "source": [
    "def qft_dagger(n):\n",
    "    \"\"\"n-qubit QFTdagger the first n qubits in circ\"\"\"\n",
    "    qc = QuantumCircuit(n)\n",
    "    # Don't forget the Swaps!\n",
    "    for qubit in range(n//2):\n",
    "        qc.swap(qubit, n-qubit-1)\n",
    "    for j in range(n):\n",
    "        for m in range(j):\n",
    "            qc.cp(-np.pi/float(2**(j-m)), m, j)\n",
    "        qc.h(j)\n",
    "    qc.name = \"QFT†\"\n",
    "    return qc"
   ]
  },
  {
   "cell_type": "code",
   "execution_count": 130,
   "metadata": {},
   "outputs": [
    {
     "data": {
      "text/html": [
       "<pre style=\"word-wrap: normal;white-space: pre;background: #fff0;line-height: 1.1;font-family: &quot;Courier New&quot;,Courier,monospace\">      ┌───┐                                                                                                                             ┌───────┐┌─┐                     \n",
       " q_0: ┤ H ├───────■─────────────────────────────────────────────────────────────────────────────────────────────────────────────────────┤0      ├┤M├─────────────────────\n",
       "      ├───┤       │                                                                                                                     │       │└╥┘┌─┐                  \n",
       " q_1: ┤ H ├───────┼──────────────■──────────────────────────────────────────────────────────────────────────────────────────────────────┤1      ├─╫─┤M├──────────────────\n",
       "      ├───┤       │              │                                                                                                      │       │ ║ └╥┘┌─┐               \n",
       " q_2: ┤ H ├───────┼──────────────┼──────────────■───────────────────────────────────────────────────────────────────────────────────────┤2      ├─╫──╫─┤M├───────────────\n",
       "      ├───┤       │              │              │                                                                                       │       │ ║  ║ └╥┘┌─┐            \n",
       " q_3: ┤ H ├───────┼──────────────┼──────────────┼──────────────■────────────────────────────────────────────────────────────────────────┤3      ├─╫──╫──╫─┤M├────────────\n",
       "      ├───┤       │              │              │              │                                                                        │  QFT† │ ║  ║  ║ └╥┘┌─┐         \n",
       " q_4: ┤ H ├───────┼──────────────┼──────────────┼──────────────┼──────────────■─────────────────────────────────────────────────────────┤4      ├─╫──╫──╫──╫─┤M├─────────\n",
       "      ├───┤       │              │              │              │              │                                                         │       │ ║  ║  ║  ║ └╥┘┌─┐      \n",
       " q_5: ┤ H ├───────┼──────────────┼──────────────┼──────────────┼──────────────┼───────────────■─────────────────────────────────────────┤5      ├─╫──╫──╫──╫──╫─┤M├──────\n",
       "      ├───┤       │              │              │              │              │               │                                         │       │ ║  ║  ║  ║  ║ └╥┘┌─┐   \n",
       " q_6: ┤ H ├───────┼──────────────┼──────────────┼──────────────┼──────────────┼───────────────┼───────────────■─────────────────────────┤6      ├─╫──╫──╫──╫──╫──╫─┤M├───\n",
       "      ├───┤       │              │              │              │              │               │               │                         │       │ ║  ║  ║  ║  ║  ║ └╥┘┌─┐\n",
       " q_7: ┤ H ├───────┼──────────────┼──────────────┼──────────────┼──────────────┼───────────────┼───────────────┼────────────────■────────┤7      ├─╫──╫──╫──╫──╫──╫──╫─┤M├\n",
       "      └───┘┌──────┴──────┐┌──────┴──────┐┌──────┴──────┐┌──────┴──────┐┌──────┴───────┐┌──────┴───────┐┌──────┴───────┐┌───────┴───────┐└───────┘ ║  ║  ║  ║  ║  ║  ║ └╥┘\n",
       " q_8: ─────┤0            ├┤0            ├┤0            ├┤0            ├┤0             ├┤0             ├┤0             ├┤0              ├──────────╫──╫──╫──╫──╫──╫──╫──╫─\n",
       "           │             ││             ││             ││             ││              ││              ││              ││               │          ║  ║  ║  ║  ║  ║  ║  ║ \n",
       " q_9: ─────┤1            ├┤1            ├┤1            ├┤1            ├┤1             ├┤1             ├┤1             ├┤1              ├──────────╫──╫──╫──╫──╫──╫──╫──╫─\n",
       "           │  7^1 mod 15 ││  7^2 mod 15 ││  7^4 mod 15 ││  7^8 mod 15 ││  7^16 mod 15 ││  7^32 mod 15 ││  7^64 mod 15 ││  7^128 mod 15 │          ║  ║  ║  ║  ║  ║  ║  ║ \n",
       "q_10: ─────┤2            ├┤2            ├┤2            ├┤2            ├┤2             ├┤2             ├┤2             ├┤2              ├──────────╫──╫──╫──╫──╫──╫──╫──╫─\n",
       "      ┌───┐│             ││             ││             ││             ││              ││              ││              ││               │          ║  ║  ║  ║  ║  ║  ║  ║ \n",
       "q_11: ┤ X ├┤3            ├┤3            ├┤3            ├┤3            ├┤3             ├┤3             ├┤3             ├┤3              ├──────────╫──╫──╫──╫──╫──╫──╫──╫─\n",
       "      └───┘└─────────────┘└─────────────┘└─────────────┘└─────────────┘└──────────────┘└──────────────┘└──────────────┘└───────────────┘          ║  ║  ║  ║  ║  ║  ║  ║ \n",
       " c: 8/════════════════════════════════════════════════════════════════════════════════════════════════════════════════════════════════════════════╩══╩══╩══╩══╩══╩══╩══╩═\n",
       "                                                                                                                                                  0  1  2  3  4  5  6  7 </pre>"
      ],
      "text/plain": [
       "      ┌───┐                                                                                                                             ┌───────┐┌─┐                     \n",
       " q_0: ┤ H ├───────■─────────────────────────────────────────────────────────────────────────────────────────────────────────────────────┤0      ├┤M├─────────────────────\n",
       "      ├───┤       │                                                                                                                     │       │└╥┘┌─┐                  \n",
       " q_1: ┤ H ├───────┼──────────────■──────────────────────────────────────────────────────────────────────────────────────────────────────┤1      ├─╫─┤M├──────────────────\n",
       "      ├───┤       │              │                                                                                                      │       │ ║ └╥┘┌─┐               \n",
       " q_2: ┤ H ├───────┼──────────────┼──────────────■───────────────────────────────────────────────────────────────────────────────────────┤2      ├─╫──╫─┤M├───────────────\n",
       "      ├───┤       │              │              │                                                                                       │       │ ║  ║ └╥┘┌─┐            \n",
       " q_3: ┤ H ├───────┼──────────────┼──────────────┼──────────────■────────────────────────────────────────────────────────────────────────┤3      ├─╫──╫──╫─┤M├────────────\n",
       "      ├───┤       │              │              │              │                                                                        │  QFT† │ ║  ║  ║ └╥┘┌─┐         \n",
       " q_4: ┤ H ├───────┼──────────────┼──────────────┼──────────────┼──────────────■─────────────────────────────────────────────────────────┤4      ├─╫──╫──╫──╫─┤M├─────────\n",
       "      ├───┤       │              │              │              │              │                                                         │       │ ║  ║  ║  ║ └╥┘┌─┐      \n",
       " q_5: ┤ H ├───────┼──────────────┼──────────────┼──────────────┼──────────────┼───────────────■─────────────────────────────────────────┤5      ├─╫──╫──╫──╫──╫─┤M├──────\n",
       "      ├───┤       │              │              │              │              │               │                                         │       │ ║  ║  ║  ║  ║ └╥┘┌─┐   \n",
       " q_6: ┤ H ├───────┼──────────────┼──────────────┼──────────────┼──────────────┼───────────────┼───────────────■─────────────────────────┤6      ├─╫──╫──╫──╫──╫──╫─┤M├───\n",
       "      ├───┤       │              │              │              │              │               │               │                         │       │ ║  ║  ║  ║  ║  ║ └╥┘┌─┐\n",
       " q_7: ┤ H ├───────┼──────────────┼──────────────┼──────────────┼──────────────┼───────────────┼───────────────┼────────────────■────────┤7      ├─╫──╫──╫──╫──╫──╫──╫─┤M├\n",
       "      └───┘┌──────┴──────┐┌──────┴──────┐┌──────┴──────┐┌──────┴──────┐┌──────┴───────┐┌──────┴───────┐┌──────┴───────┐┌───────┴───────┐└───────┘ ║  ║  ║  ║  ║  ║  ║ └╥┘\n",
       " q_8: ─────┤0            ├┤0            ├┤0            ├┤0            ├┤0             ├┤0             ├┤0             ├┤0              ├──────────╫──╫──╫──╫──╫──╫──╫──╫─\n",
       "           │             ││             ││             ││             ││              ││              ││              ││               │          ║  ║  ║  ║  ║  ║  ║  ║ \n",
       " q_9: ─────┤1            ├┤1            ├┤1            ├┤1            ├┤1             ├┤1             ├┤1             ├┤1              ├──────────╫──╫──╫──╫──╫──╫──╫──╫─\n",
       "           │  7^1 mod 15 ││  7^2 mod 15 ││  7^4 mod 15 ││  7^8 mod 15 ││  7^16 mod 15 ││  7^32 mod 15 ││  7^64 mod 15 ││  7^128 mod 15 │          ║  ║  ║  ║  ║  ║  ║  ║ \n",
       "q_10: ─────┤2            ├┤2            ├┤2            ├┤2            ├┤2             ├┤2             ├┤2             ├┤2              ├──────────╫──╫──╫──╫──╫──╫──╫──╫─\n",
       "      ┌───┐│             ││             ││             ││             ││              ││              ││              ││               │          ║  ║  ║  ║  ║  ║  ║  ║ \n",
       "q_11: ┤ X ├┤3            ├┤3            ├┤3            ├┤3            ├┤3             ├┤3             ├┤3             ├┤3              ├──────────╫──╫──╫──╫──╫──╫──╫──╫─\n",
       "      └───┘└─────────────┘└─────────────┘└─────────────┘└─────────────┘└──────────────┘└──────────────┘└──────────────┘└───────────────┘          ║  ║  ║  ║  ║  ║  ║  ║ \n",
       " c: 8/════════════════════════════════════════════════════════════════════════════════════════════════════════════════════════════════════════════╩══╩══╩══╩══╩══╩══╩══╩═\n",
       "                                                                                                                                                  0  1  2  3  4  5  6  7 "
      ]
     },
     "execution_count": 130,
     "metadata": {},
     "output_type": "execute_result"
    }
   ],
   "source": [
    "# Create QuantumCircuit with n_count counting qubits\n",
    "# plus 4 qubits for U to act on\n",
    "qc = QuantumCircuit(n_count + 4, n_count)\n",
    "\n",
    "# Initialize counting qubits\n",
    "# in state |+>\n",
    "for q in range(n_count):\n",
    "    qc.h(q)\n",
    "    \n",
    "# And auxiliary register in state |1>\n",
    "qc.x(3+n_count)\n",
    "\n",
    "# Do controlled-U operations\n",
    "for q in range(n_count):\n",
    "    qc.append(c_amod15(a, 2**q), \n",
    "             [q] + [i+n_count for i in range(4)])\n",
    "\n",
    "# Do inverse-QFT\n",
    "qc.append(qft_dagger(n_count), range(n_count))\n",
    "\n",
    "# Measure circuit\n",
    "qc.measure(range(n_count), range(n_count))\n",
    "qc.draw(fold=-1)  # -1 means 'do not fold' "
   ]
  },
  {
   "cell_type": "markdown",
   "metadata": {},
   "source": [
    "Seuraavaksi määritellään ja kutsutaan funktio qpe_amod15(a)-funktio, joka palauttaa jakson $r$ pituuden."
   ]
  },
  {
   "cell_type": "code",
   "execution_count": 131,
   "metadata": {},
   "outputs": [],
   "source": [
    "from fractions import Fraction"
   ]
  },
  {
   "cell_type": "code",
   "execution_count": 132,
   "metadata": {},
   "outputs": [],
   "source": [
    "def qpe_amod15(a):\n",
    "    n_count = 8\n",
    "    qc = QuantumCircuit(4+n_count, n_count)\n",
    "    for q in range(n_count):\n",
    "        qc.h(q)     # Initialize counting qubits in state |+>\n",
    "    qc.x(3+n_count) # And auxiliary register in state |1>\n",
    "    for q in range(n_count): # Do controlled-U operations\n",
    "        qc.append(c_amod15(a, 2**q), \n",
    "                 [q] + [i+n_count for i in range(4)])\n",
    "    qc.append(qft_dagger(n_count), range(n_count)) # Do inverse-QFT\n",
    "    qc.measure(range(n_count), range(n_count))\n",
    "    \n",
    "    # Simulate Results\n",
    "    aer_sim = Aer.get_backend('aer_simulator') #Aer.get_backend('aer_simulator')\n",
    "    # Setting memory=True below allows us to see a list of each sequential reading\n",
    "    t_qc = transpile(qc, aer_sim)\n",
    "    qobj = assemble(t_qc, shots=1)\n",
    "    result = aer_sim.run(qobj, memory=True).result()\n",
    "    readings = result.get_memory()\n",
    "    print(\"Register Reading: \" + readings[0])\n",
    "    phase = int(readings[0],2)/(2**n_count)\n",
    "    print(\"Corresponding Phase: %f\" % phase)\n",
    "    return phase"
   ]
  },
  {
   "cell_type": "code",
   "execution_count": 133,
   "metadata": {},
   "outputs": [
    {
     "name": "stdout",
     "output_type": "stream",
     "text": [
      "Register Reading: 11000000\n",
      "Corresponding Phase: 0.750000\n"
     ]
    },
    {
     "data": {
      "text/plain": [
       "Fraction(3, 4)"
      ]
     },
     "execution_count": 133,
     "metadata": {},
     "output_type": "execute_result"
    }
   ],
   "source": [
    "phase = qpe_amod15(a) # Phase = s/r\n",
    "Fraction(phase).limit_denominator(15) # Denominator should (hopefully!) tell us r"
   ]
  },
  {
   "cell_type": "markdown",
   "metadata": {},
   "source": [
    "Vaihe 0.75 on murtolukuna $3/4$, jossa nimittäjä $r=4$ edustaa jaksoa. Kokeile suorittaa kvanttipiirin konstruointi useamman kerran qpe_amod15(a)-funktiolla. Voit myös vaihtaa kantaluvun $a$ arvoa ja katsoa mitä tapahtuu. Verrataan tuloksia, onkon nimittäjä 4 oikea jakso, eli onko $7^4: 15$ jakojäännös 1. Käytetään luvussa 2 määriteltyä modExp(a,k,m)-funktiota."
   ]
  },
  {
   "cell_type": "code",
   "execution_count": 65,
   "metadata": {},
   "outputs": [
    {
     "data": {
      "text/plain": [
       "1"
      ]
     },
     "execution_count": 65,
     "metadata": {},
     "output_type": "execute_result"
    }
   ],
   "source": [
    "modExp(7,4,15)"
   ]
  },
  {
   "cell_type": "markdown",
   "metadata": {},
   "source": [
    "Nyt saamme jakajan $N=15$ tulontekijät $a^{r/2}-1$ ja  $a^{r/2}+1$. Luvussa 2 määritelty funktio gcd(a,b) laskee lukujen suurimman yhteisen tekijän (greatest common divisor)."
   ]
  },
  {
   "cell_type": "code",
   "execution_count": 135,
   "metadata": {},
   "outputs": [
    {
     "data": {
      "text/plain": [
       "3"
      ]
     },
     "execution_count": 135,
     "metadata": {},
     "output_type": "execute_result"
    }
   ],
   "source": [
    "# syt(15, 48), pythonissa ** on potenssi\n",
    "gcd(15,7**2-1)"
   ]
  },
  {
   "cell_type": "code",
   "execution_count": 136,
   "metadata": {},
   "outputs": [
    {
     "data": {
      "text/plain": [
       "5"
      ]
     },
     "execution_count": 136,
     "metadata": {},
     "output_type": "execute_result"
    }
   ],
   "source": [
    "#lasketaan syt(15,50)\n",
    "gcd(15,7**2+1)"
   ]
  },
  {
   "cell_type": "markdown",
   "metadata": {},
   "source": [
    "Seuraavassa luvussa 4 tarkastelemme miten RSA-salausalgoritmissa muodostetaan viestin salaamisessa tarvittavat julkinen ja yksityinen avain jakolaskun $a^r :N$ jakojäännöksestä. Jakaja $N$ on osa julkista ja yksityistä avainta. Esimerkissä löydettiin kvanttialgoritmilla avaimen osan $N$ tulontekijät, jolloin salauksen purkaminen eli yksityisen avaimen löytäminen on mahdollista. "
   ]
  },
  {
   "cell_type": "markdown",
   "metadata": {},
   "source": [
    "## 4 Tiedon salaaminen RSA-algoritmi\n",
    "\n",
    "Julkisen avaimen kryptosysteemiin perustuvan RSA-salaus on kehitetty 1970-luvulla. RSA on laajalti käytössä oleva salaus ja se pystytään tekemään niin vahvaksi, että murtaminen vie todella pitkään nykyisillä tietokoneiden laskentateholla. Yksinkertaisuudessaan RSA:n idea on se, että kaksi suurta alkulukua on helppo\n",
    "kertoa keskenään, mutta alkulukujen tulo on vaikea jakaa tekijöihin. Tämä\n",
    "tulo voidaan julkistaa ja käyttää salausavaimen osana.\n",
    "\n"
   ]
  },
  {
   "cell_type": "markdown",
   "metadata": {},
   "source": [
    "### Avainten luontialgoritmi\n",
    "Oletetaan että Liisa haluaa Pekan lähettävän hänelle salatun viestin.  \n",
    "Liisa toimii seuraavan ohjeen [6] mukaisesti luodakseen salaamisessa tarvittan julkisen avaimen ja avaamisessa tarvittavan yksityisen avaimen [9]:\n",
    "\n",
    "1. Valitse kaksi hyvin suurta alkulukua $p$ ja $q$ satunnaisesti ja toisistaan riippumatta. Laske tulo $N = p q$.\n",
    "\n",
    "2. Laske Eulerin phi-funktion arvo $\\phi=(p-1)(q-1)$ ja valitse kokonaisluku eli julkisen avaimen osa luku $e$ siten, että $1 < e <\\phi)$ siten ettei luvulla $e$ ole yhteisiä tekijöitä $N$:n ja $\\phi$:n kanssa, eli $syt(e, \\phi)=1 $. \n",
    "\n",
    "3. Valitse yksityisen avaimen osa luku $d$ siten, että $d e = 1\\ (\\mod N)$.\n",
    "Tuhoa kaikki $p$:tä ja $q$:ta koskevat tiedot.\n",
    "\n",
    "4. Lähettäjä salaa lähetettävä viesti $c\\equiv\\ m^e (mod N)$, $1<m<N$\n",
    "\n",
    "5. Vastaanottaja avaa salatun viestin $m\\equiv\\ c^e (mod N)$\n",
    "\n",
    "$N$ ja $e$ muodostavat salaamisessa käytettävän julkisen avaimen ja $N$ sekä $d$ muodostavat salatun viestin avaamisaessa käytettävän yksityisen avaimen. Huomaa, että ainoastaan\n",
    "$d$ on salainen ja että $N$ on julkisesti saatavilla. Liisa lähettää julkisen avaimen Pekalle $N$ ja $e$ ja pitää yksityisen avaimen $N$ sekä $d$ salaisena."
   ]
  },
  {
   "cell_type": "markdown",
   "metadata": {},
   "source": [
    "### Liisan julkisen ja yksityisen avainten muodostaminen\n",
    "\n",
    "Alla selostetaan esimerkin avulla, miten Liisa muodostaa julkisen avaimen ja yksityisen avaimen.\n",
    "\n",
    "Liisa muodostaa julkisen avaimen (e, N) seuraavasti:\n",
    "1. Liisa valitsee kaksi satunnaista lukua $p =2$ ja $q = 7$. Nämä luvut voidaan hävittää kun avaimet on muodostettu.\n",
    "\n",
    "2. Liisa laskee tulon $N=pq=2\\cdot7=14$. \n",
    "\n",
    "3. Liisa laskee Eulerin phi-funktion $\\phi=(p-1)(q-1)$ arvon eli $\\phi=(2-1)(7-1)=6$. \n",
    "Eulerin funktion arvo 6 ilmaisee sellaisten välillä 1-14 olevien kokonaislukujen lukumäärän, joilla ei ole yhteisiä tekijöitä luvun $N=14$ kanssa. Näitä ovat luvut 1, 3, 5, 9, 11 ja 13.\n",
    "\n",
    "4. Liisa valitsee julkisen avaimen (e,N)  eli kokonaisluvun $e$ väliltä $1 < e< \\phi=6$, eli Liisan valitsee luvuista 2,3,4,tai 5 sellaisen, jolla ei ole yhteisiä tekijöitä lukujen $N=14$ ja $\\phi=6$ kanssa. Ainoa sopiva luku on luku 5. Kaikkien tiedossa oleva julkinen avain on siis lukupari <em>(e,N)=(5,14)</em>.\n",
    "\n",
    "\n",
    "5. Liisa valitsee yksityisen avaimen (d, N) seuraavasta ehdosta.\n",
    "\n",
    "$d\\cdot e\\ \\left(mod\\ \\ \\phi\\left(N\\right)\\right)\\equiv1$ eli $d\\cdot5\\ \\left(mod\\ 6\\right)\\equiv1$. Ehdon täyttäviä lukuja on paljon, eräs sopiva arvo on d =11, jolloin kongruenssi on muotoa $55\\ \\left(mod\\ 6\\right)\\equiv1$. Vain viestin vastaanottajan tietämä yksityinen avain on siis <em>(11, 14)</em>. \n",
    "\n"
   ]
  },
  {
   "cell_type": "markdown",
   "metadata": {},
   "source": [
    "### Esimerkkki RSA-algoritmin käytöstä\n",
    "\n",
    "Pekka lähettää Liisalle RSA-algoritmilla salatun viestin käyttämällä julkista avainta (5, 14). Lähetettävä viesti on kirjain B, joka on aakkosten 2.kirjain. Pekka kryptaa eli salaa viestin B eli luvun 2 seuraavasti:\n",
    "\n",
    "$$2^5\\ \\left(mod\\ 14\\right)\\ \\equiv32\\ \\left(mod\\ 14\\right)\\equiv4\\ \\left(mod\\ 14\\right)$$\n",
    "\n",
    "Pekan Liisalle lähetettämä salattu viesti on siis luku 4 eli aakkosten 4.kirjain D.\n",
    "\n",
    "\n",
    "Liisa on pitänyt salaisena eli omana tietonaan yksityisen avaimensa (11, 14), jonka avulla hän purkkaa Pekalta saamansa viestin eli luvun 4 (kirjaimen D).\n",
    "\n",
    "$$4^{11}\\ \\left(mod\\ 14\\right)\\equiv2\\ \\left(mod\\ 14\\right)$$\n",
    "\n",
    "Dekryptattu eli avattu viesti on luku 2, joka vastaa kirjainta B. Yllä oleva kongruenssi on laskettu alla käyttämällä luvussa 2 esiteltyä modExp(b,e,m)-funktiota.\n"
   ]
  },
  {
   "cell_type": "code",
   "execution_count": 26,
   "metadata": {},
   "outputs": [],
   "source": [
    "# modular exponentation\n",
    "# b = base, e = exponent, m = modulo \n",
    "def modExp(b, e, m):\n",
    "    c = 1\n",
    "    for i in range(e):\n",
    "        c = c * b % m\n",
    "    return c"
   ]
  },
  {
   "cell_type": "code",
   "execution_count": 27,
   "metadata": {},
   "outputs": [
    {
     "data": {
      "text/plain": [
       "2"
      ]
     },
     "execution_count": 27,
     "metadata": {},
     "output_type": "execute_result"
    }
   ],
   "source": [
    "modExp(4,11,14)"
   ]
  },
  {
   "cell_type": "markdown",
   "metadata": {},
   "source": [
    "### Lähteet\n",
    "\n",
    "[1 ]Sanoma Pro Lukuteoria ja logiikka\n",
    "\n",
    "<a href =\"https://en.wikipedia.org/wiki/Modular_exponentiation\"> [2] Wikipedia: Modular exponentation</a>\n",
    "\n",
    "<a href =\"https://www.coursera.org/lecture/number-theory-cryptography/fast-modular-exponentiation-3syK2\"> [3]  Video Examples and algorithms</a>\n",
    "\n",
    "<a href =\"https://qiskit.org/textbook/ch-algorithms/shor.html\"> [4] Qiskit Shor's quantum algorithm (Advanced)</a>\n",
    "\n",
    "<a href =\"https://quantum-computing.ibm.com/composer/docs/iqx/guide/shors-algorithm\">[5] Qiskit Tutoria 2: Shor's quantum algorithm (Advanced)</a>\n",
    "\n",
    "\n",
    "[6] https://erepo.uef.fi/bitstream/handle/123456789/16018/urn_nbn_fi_uef-20160037.pdf?sequence=-1&isAllowed=y\n",
    "\n",
    "[7] <a href =\"https://fi.wikipedia.org/wiki/Eukleideen_algoritmi\"> Eukleideen algoritmi </a>\n",
    "\n",
    "[8] https://www.di-mgt.com.au/euclidean.html\n",
    "\n",
    "[9] https://www.di-mgt.com.au/rsa_alg.html"
   ]
  },
  {
   "cell_type": "code",
   "execution_count": null,
   "metadata": {},
   "outputs": [],
   "source": []
  },
  {
   "cell_type": "code",
   "execution_count": null,
   "metadata": {},
   "outputs": [],
   "source": []
  }
 ],
 "metadata": {
  "kernelspec": {
   "display_name": "Python 3",
   "language": "python",
   "name": "python3"
  },
  "language_info": {
   "codemirror_mode": {
    "name": "ipython",
    "version": 3
   },
   "file_extension": ".py",
   "mimetype": "text/x-python",
   "name": "python",
   "nbconvert_exporter": "python",
   "pygments_lexer": "ipython3",
   "version": "3.9.1"
  }
 },
 "nbformat": 4,
 "nbformat_minor": 4
}
