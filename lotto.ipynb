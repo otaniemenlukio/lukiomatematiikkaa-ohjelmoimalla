{
 "cells": [
  {
   "cell_type": "markdown",
   "id": "a657da9c",
   "metadata": {},
   "source": [
    "# Lukujen esittäminen desimaali- ja binäärijärjestelmässä, muunnosalgoritmeja lukujärjestelmien välillä sekä kvanttilotto\n",
    "\n",
    "Tässä artikkelissa kerrataan lukiomatematiikan lähtökohdista binäärijärjestelmän perusteet, ja esitellään lyhyesti algoritmeja miten luvun muuntaminen desimaalijärjestelmän ja binäärijärjestelmän välillä voidaan laskea. Ohjelmointiesimerkit on tehty pythonilla. Ohjelmointiesimerkit toteuttavat samat ideat mitä laskuesimerkeissä havainnollistetaan. Esimerkkien avulla on tarkoitus tukea algoritmisen ajattelun kehittymistä lukiossa.\n",
    "\n",
    "Artikkelin lopussa esitellään lyhyesti kvanttitietokoneille tehty algoritmi, jossa binäärilukuesityksen avulla arvotaan kvanttitietokoneella lottonumerot väliltä 1- 40. Kvanttialgoritmin ohjelmointi sisältää vaikeampia tietorakenteita.\n",
    "\n",
    "## Binäärijärjestelmässä kantaluku on kaksi\n",
    "\n",
    " Tavallisessa desimaalijärjestelmässä luvut esitetään kantaluvun $10$ potenssien avulla. Luvun esittämisessä käytettyjen numeroiden $0,1,2 ... 9$ paikka ilmaisee ykkösten, kymppien satojen... eli kantaluvun 10 potenssien lukumäärän. Esimerkiksi desimaalijärjestelmän luku $245$ voidaan hajoittaa muotoon:\n",
    "\n",
    " $$ 245= 2\\cdot 100+ 4 \\cdot 10 + 5\\cdot 1 = 2\\cdot 10^2 + 4\\cdot 10^1 + 5\\cdot 10^0$$\n",
    "\n",
    "\n",
    "Binäärijärjestelmän kantaluku on $2$. Binääriluvussa bitin $0$ tai $1$ paikka ilmaisee mikä kantaluvun $2$ potenssi on kysessä. Esimerkiksi desimaalijärjestelmän luku $11_{10}$ saa binäärijärjestelmässä esitysmuodon $1011_2$ , koska\n",
    "\n",
    " $$11_{10} = 8+2+1 = 1 \\cdot 2^3+0 \\cdot 2^2 +1\\cdot 2^1+1\\cdot 2^0 = 1011_2$$  \n",
    " \n",
    "Esimerkiksi binääriluku $11001_2$ voidaan muuttaa desimaalijärjestelmän luvuksi seuraavalla algortimilla:\n",
    "\n",
    " $$11001_2 = 1\\cdot 2^4+ 1\\cdot 2^3+0\\cdot 2^2+0\\cdot 2^1+1\\cdot 2^0=16+8+1 = 25_{10}$$\n",
    " \n",
    "\n"
   ]
  },
  {
   "cell_type": "markdown",
   "id": "4771e62d",
   "metadata": {},
   "source": [
    "###  Muunnokset binääriesityksen ja desimaalijärjestelmän välillä pythonissa\n",
    "\n",
    "Tietokoneiden muistissa kaikki digitaalinen informaatio esitetään bittien avulla, bitin tila voi olla joko  $0$ tai $1$. Python-ohjelmointikielessä desimaalijärjestelmän luvun voi muuttaa binääriluvuksi komennolla `bin(kokonaisluku)`. Vastaavasti binääriluvun voi muuttaa desimaalijärjestelmään komennolla `int(binääriluku,2)`. Funktion  2.parametrina annettu luku $2$ ilmaisee, että 1.parametri on binääriluku. Pythonissa etuliite `0b` ilmaisee, että kyseessä on binääriluku. Tällöin esimerkiksi `print`-komento tunnistaa binääriluvun, ja antaa tulosteen desimaalijärjestelmässä. Esimerkkejä:"
   ]
  },
  {
   "cell_type": "code",
   "execution_count": 9,
   "id": "0d741f82",
   "metadata": {},
   "outputs": [
    {
     "name": "stdout",
     "output_type": "stream",
     "text": [
      "26\n"
     ]
    }
   ],
   "source": [
    "# Tulostetaan binääriluku 11010 eli desimaalijärjestelmän luku 26\n",
    "print(0b11010)"
   ]
  },
  {
   "cell_type": "code",
   "execution_count": 10,
   "id": "f4cf606d",
   "metadata": {},
   "outputs": [
    {
     "data": {
      "text/plain": [
       "26"
      ]
     },
     "execution_count": 10,
     "metadata": {},
     "output_type": "execute_result"
    }
   ],
   "source": [
    "# tai binääriliteraali\n",
    "0b11010"
   ]
  },
  {
   "cell_type": "code",
   "execution_count": 10,
   "id": "e24b31e9",
   "metadata": {},
   "outputs": [
    {
     "name": "stdout",
     "output_type": "stream",
     "text": [
      "0b11010\n"
     ]
    }
   ],
   "source": [
    "# Annetaan alkuarvo muuttujalle a desimaalijärjestelmässä ja muutetaan luku binääriluvuksi\n",
    "a = 26\n",
    "b = bin(a)\n",
    "print(b)"
   ]
  },
  {
   "cell_type": "code",
   "execution_count": 27,
   "id": "3020784b",
   "metadata": {},
   "outputs": [
    {
     "name": "stdout",
     "output_type": "stream",
     "text": [
      "26\n",
      "53\n"
     ]
    }
   ],
   "source": [
    "# Annetaan muuttujalle b alkuarvo binäärilukuna, etuliite 0b ilmaisee, että kyseessä on binääri\n",
    "b = \"0b11010\" # nyt muuttuja b on merkkijono eli string-tyyppiä\n",
    "a = int(b,2)\n",
    "print(a)\n",
    "# desimaalijärjestelmän luvulla voi laskea\n",
    "print(2*a+1)"
   ]
  },
  {
   "cell_type": "markdown",
   "id": "9e110d1e",
   "metadata": {},
   "source": [
    "### Algoritmeja lukujärjestelmästä toiseen siirtymiseksi\n",
    "\n",
    "#### Binäärijärjestelmästä desimaalijärjestelmään\n",
    "\n",
    "Seuravaaksi esitellään miten binääriluku $b$ voidaan laskemalla muuttaa desimaalijärjestelmän luvuksi $a$ kahdella erilaisella algoritmilla. \n",
    "\n",
    "<em>Menetelmässä 1</em> eli suorassa laskussa binääriluvun bitit $0$ ja $1$ antavat kertoimet kantaluvun $2$ eri potensseille:\n",
    "\n",
    "$$10111_2= 1\\cdot 2^4 +0\\cdot 2^3+ 1\\cdot 2^2+1\\cdot 2^1+1\\cdot 2^0 = 16+0+4+2+1 =23_{10}$$\n",
    "\n",
    "Alla esimerkissä suora laskumenetelmä pythonilla toteutettuna kun binäärilkuku $b$ annetaan aluksi merkkijonona (esim. $0b11010$). Pythonissa potenssi ilmaistaan operaattorilla `**`. Kun binääriluku on merkkijono, sen sisältämiä bittejä voidaan indeksoida kuin listan alkioita välillä $0 ...len(b)-1$, missä funktion `len(b)` palauttama arvo ilmaisee merkkijonon pituuden. Esimerkiksi `b` kirjain on merkkijonossa `0b11010` indeksoitu luvulla 1 ja ykkösten määrän ilmaiseva bitti $0$ indeksin arvolla 6. Nämä merkit saadaan listasta `b[]` komeinnoilla `b[1]` ja `b[6]`. Merkkijonon bitit muunnetaan kokoknaisluvuiksi `int()` -funktiolla. Kun merkkijono tulkitaan listaksi `b[]`, sen alkioita voidaan käydä läpi `for`-silmukassa."
   ]
  },
  {
   "cell_type": "code",
   "execution_count": 5,
   "id": "2ecc543e",
   "metadata": {},
   "outputs": [
    {
     "name": "stdout",
     "output_type": "stream",
     "text": [
      "Merkkijonon pituus:  7\n",
      "Merkkijonon 2.merkki:  b\n",
      "Ykkösten määrän ilmaiseva bitti:  0\n",
      "0\n",
      "1\n",
      "0\n",
      "1\n",
      "1\n",
      "binääriluku b desimaalijärjestelmässä:  26\n"
     ]
    }
   ],
   "source": [
    "# Johdantoesimerkki\n",
    "b = \"0b11010\"\n",
    "print(\"Merkkijonon pituus: \", len(b))\n",
    "print(\"Merkkijonon 2.merkki: \", b[1])\n",
    "print(\"Ykkösten määrän ilmaiseva bitti: \", b[len(b)-1]) # sama kuin b[6]\n",
    "# Muunnetaan binääriluku b desimaalijärjestelmän luvuksi\n",
    "# desimaalijärjestelmän luvun alkuarvo\n",
    "a = 0\n",
    "\n",
    "# luvun (len(b)-i-1) avulla lasketaan kantaluvun 2 potenssit, joka on pythonissa operaattori **.\n",
    "# merkkijono b käydään läpi takaperin viimeisestä alkiosta (ensimmäisestä bitistä) 0 oikealta vasemmalle.\n",
    "for i in range(len(b)-1, 1, -1):\n",
    "    print(b[i]) # voit kommentoida tämän pois\n",
    "    a = a +int(b[i])*2**(len(b)-1-i)\n",
    "    \n",
    "print(\"binääriluku b desimaalijärjestelmässä: \", a)    "
   ]
  },
  {
   "cell_type": "code",
   "execution_count": 9,
   "id": "6837d009",
   "metadata": {},
   "outputs": [
    {
     "name": "stdout",
     "output_type": "stream",
     "text": [
      "11010\n",
      "['1', '1', '0', '1', '0']\n",
      "['0', '1', '0', '1', '1']\n",
      "binääriluku desimaalilukuna:  26\n"
     ]
    }
   ],
   "source": [
    "#Tapa 2:\n",
    "b = \"0b11010\"\n",
    "b = b.split('b')[1] #leikataan 0b merkkijonosta\n",
    "print(b) \n",
    "bitlist =[] # tyhjä lista \n",
    "for bit in b:\n",
    "    bitlist.append(bit) #lisätään merkkijonon alkiot listaaan\n",
    "print(bitlist)\n",
    "bitlist.reverse() # käännetään bittien järjestys laskemista varten\n",
    "print(bitlist)\n",
    "\n",
    "a = 0\n",
    "\n",
    "for i in range(len(bitlist)):\n",
    "    a = a + int(bitlist[i])*2**i\n",
    "print(\"binääriluku desimaalilukuna: \",a)"
   ]
  },
  {
   "cell_type": "markdown",
   "id": "1d46b9aa",
   "metadata": {},
   "source": [
    "#### Binäärijärjestelmästä desimaalijärjestelmään\n",
    "\n",
    "<em>Menetelmässä 2</em> binäääriluku $10111_2$ tulkitaan desimaalijärjestelmän luvuksi ja lasketaan jakojäännöksiä kun luku jaetaan luvulla $10$. Jos jakojäännös tietyn bitin kohdalla on $1$, lisätään desimaalijärjestelmän lukuun tätä bittiä vastaava kantaluvun $2$ potenssi. Kokonaisjakoa käyttämällä piennennetäään lukua kunnes luku on nolla. Muunnetaan binääriluku $10111_2$ desimaalijärjestelmän luvuksi a yllä kuvatun algoritmin mukaisesti: \n",
    "\n",
    "Alustus: desimaalijärjestelmän luvun $a$ alkuarvo $a=0$.\n",
    "\n",
    "1.kierros: Kun luku $10111_{10}$ jaetaan luvulla $10$, niin jakojäännös on $1$, eli desimaalijärjestelmän lukuun $a=0$ lisätään $a = 1\\cdot 2^0$. Suoritetaan kokonaisjako $10111 : 10 = 1011$.\n",
    "\n",
    "2.kierros: Kun luku $1011_{10}$ jaetaan luvulla $10$, niin jakojäännös on $1$, eli desimaalijärjestelmän lukuun $a=1$ lisätään luku $a = 1+ 1\\cdot 2^1= 3$. Suoritetaan kokonaisjako $1011 : 10 = 101$.\n",
    "\n",
    "\n",
    "3.kierros: Kun luku $101_{10}$ jaetaan luvulla $10$, niin jakojäännös on $1$, eli desimaalijärjestelmän lukuun $a=3$ lisätään luku $a = 3+ 1\\cdot 2^2= 3+4=7$. Suoritetaan kokonaisjako $101 : 10 = 10$.\n",
    "\n",
    "4.kierros: Kun luku $10_{10}$ jaetaan luvulla $10$, niin jakojäännös on $0$, eli desimaalijärjestelmän lukuun $a=7$ lisätään luku $a = 7+ 0\\cdot 2^2= 7$. Suoritetaan kokonaisjako $10 : 10 = 1$.\n",
    "\n",
    "5.kierros: Kun luku $1_{10}$ jaetaan luvulla $10$, niin jakojäännös on $1$, eli desimaalijärjestelmän lukuun $a=7$ lisätään luku $a = 7+ 1\\cdot 2^4= 7 +16 = 23$. Suoritetaan kokonaisjako $1 : 10 = 0$. Algoritmin suoritus loppuu, koska kokonaisjaossa päädyttiin lukuun $0$.\n"
   ]
  },
  {
   "cell_type": "markdown",
   "id": "b2f11883",
   "metadata": {},
   "source": [
    "Ohjelmoidaan pythonilla yllä esitetty algoritmi, jolla binääriluku muutetaan kymmenjärjestelmään.  Pythonissa operaattori `%` tarkoittaa jakojäännöksen laskemista, ja operaattori `//` kokonaisjakoa. Esimerkiksi operaatio `7 % 2` antaa tulokseksi `1` ja lasku `7 // 2` on `3`. Määritellään funktio `binToInt(b)`, joka muuttaa syötteenä samaamansa binääriluvun `b` desimaalijärjestelmän luvuksi. Kutsutaan tämän jälkeen funktiota `binToInt` ja muutetaan binääriluku $11010_2$ desimaalijärjestelmän luvuksi $26$. "
   ]
  },
  {
   "cell_type": "code",
   "execution_count": 3,
   "id": "18b6358f",
   "metadata": {},
   "outputs": [],
   "source": [
    "def binToInt(b): # anna syötteenä parametri eli binääriluku b ilman 0b-etuliitettä.\n",
    "    # a on kokonaisluku desimaalijärjestelmässä\n",
    "    a = 0\n",
    "    #indeksi i\n",
    "    i = 0 \n",
    "    while b !=0:\n",
    "        r = b % 10 # jakojäännös r on 0 tai 1\n",
    "        a = a + r*2**i\n",
    "        b = b // 10  # kokonaisjako luvulla 10\n",
    "        print(b) # jos et halua suorituksen aikaisia välitulosteita, kommentoi tämä rivi pois.\n",
    "        i = i +1\n",
    "\n",
    "    return a\n"
   ]
  },
  {
   "cell_type": "code",
   "execution_count": 4,
   "id": "4af8448e",
   "metadata": {},
   "outputs": [
    {
     "name": "stdout",
     "output_type": "stream",
     "text": [
      "1101\n",
      "110\n",
      "11\n",
      "1\n",
      "0\n"
     ]
    },
    {
     "data": {
      "text/plain": [
       "26"
      ]
     },
     "execution_count": 4,
     "metadata": {},
     "output_type": "execute_result"
    }
   ],
   "source": [
    "# kutsutaan funktiota binToInt()\n",
    "binToInt(11010)"
   ]
  },
  {
   "cell_type": "markdown",
   "id": "a0c965e8",
   "metadata": {},
   "source": [
    "#### desimaalijärjestelmästä binäärijärjestelmään\n",
    "\n",
    "Seuravaaksi esitellään algoritmi miten desimaalijärjestelmän luku $a$ muutetaan binääriluvuksi $b$. Binääriluvun alkuarvoksi asetetaan nolla, eli $b =0$. Menetelmässä tutkitaan jakojäännöksiä kun desimaalijärjestelmän luku jaetaan binäärijärjestelmän kantaluvulla $2$. Jakojäännös $0$ tai $1$ lisätään binäärilukuun siihen kohtaan, minkä kantaluvun $10$ potenssi ilmaisee.  Muutetaan esimerkkinä luku $23_{10}$ binääriluvuksi $b$:\n",
    "\n",
    "Alkuaskel $b =0_2$.\n",
    "\n",
    "1.kierros: Kun luku $23_{10}$ jaetaan luvulla $2$, niin jakojäännös on $1$, eli lisätään bitti binääärilukuun $b=0 + 1\\cdot 10^0 = 1_2$. Suoritetaan kokonaisjako $23 : 2 = 11_{10}$.\n",
    "\n",
    "2.kierros: Kun luku $11_{10}$ jaetaan luvulla $2$, niin jakojäännös on $1$, eli lisätään bitti binääärilukuun $b=1 + 1\\cdot 10^1 = 11_2$. Suoritetaan kokonaisjako $11 : 2 = 5_{10}$.\n",
    "\n",
    "3.kierros: Kun luku $5_{10}$ jaetaan luvulla $2$, niin jakojäännös on $1$, eli lisätään bitti binääärilukuun $b=11 + 1\\cdot 10^2 = 111_2$. Suoritetaan kokonaisjako $5 : 2 = 2_{10}$.\n",
    "\n",
    "4.kierros: Kun luku $2_{10}$ jaetaan luvulla $2$, niin jakojäännös on $0$, eli lisätään bitti binääärilukuun $b=111 + 0\\cdot 10^3 = 0111_2$. Suoritetaan kokonaisjako $2 : 2 = 1_{10}$.\n",
    "\n",
    "5.kierros: Kun luku $1_{10}$ jaetaan luvulla $2$, niin jakojäännös on $1$, eli lisätään bitti binääärilukuun $b=0111 + 1\\cdot 10^4 = 1011_2$. Suoritetaan kokonaisjako $1 : 2 = 0_{10}$. Algoritmin suoritus päättyy.\n",
    "\n",
    "Alla sama algoritmi on kirjoitettu funktioksi `IntToBinary(a)`, jolla parametrina annettu desimaalijärjestelmän luku voidaan muuttaa binääriluvuksi. Kutsutaan funktiota parametrin arvolla 23."
   ]
  },
  {
   "cell_type": "code",
   "execution_count": 20,
   "id": "dd93024c",
   "metadata": {},
   "outputs": [],
   "source": [
    "# Funktio desimaalijärjestelmän luvun a binäärilukuesityksen muodostamiseksi\n",
    "# bitit ovat käänteisessä järjestyksessä, jotta taulukon indeksi vastaa kantaluvun 2 potenssia\n",
    "def IntToBinary(a):\n",
    "    b = 0\n",
    "    i = 0\n",
    "    while a > 0:\n",
    "        b = b +(a % 2)*10**i # lasketaan jakojäännös kun a jaetaan luvulla 2\n",
    "        a = a // 2 # kokonaisjako\n",
    "        i = i + 1\n",
    "    return b"
   ]
  },
  {
   "cell_type": "code",
   "execution_count": 21,
   "id": "bcc699db",
   "metadata": {},
   "outputs": [
    {
     "data": {
      "text/plain": [
       "10111"
      ]
     },
     "execution_count": 21,
     "metadata": {},
     "output_type": "execute_result"
    }
   ],
   "source": [
    "IntToBinary(23)"
   ]
  },
  {
   "cell_type": "code",
   "execution_count": 23,
   "id": "1bd06ad1",
   "metadata": {},
   "outputs": [
    {
     "data": {
      "text/plain": [
       "1000"
      ]
     },
     "execution_count": 23,
     "metadata": {},
     "output_type": "execute_result"
    }
   ],
   "source": [
    "IntToBinary(8)"
   ]
  },
  {
   "cell_type": "markdown",
   "id": "7215bb80",
   "metadata": {},
   "source": [
    "### Kvanttialgoritmi lottonumeroiden arvontaan\n"
   ]
  },
  {
   "cell_type": "markdown",
   "id": "7a090c64",
   "metadata": {},
   "source": [
    "Kvanttitietokoneiden muistissa informaatio on esitetty klassisten bittien sijasta kubittien avulla. Yhden kubitin tila voi olla samanaikaisesti molempien tilojen 0 ja 1 yhdistelmä eli superpositio.\n",
    "\n",
    "$$ \\mid\\psi> = a\\mid0>+b\\mid1> $$\n",
    "\n",
    "Kubitin tilaa havainnollistetaan usein ns. Blochin pallon pinnalle päättyvänä vektorina. Porttien H, X, Y  tai  Z-kvanttiporttien operaatiot ovat kubittivektorin kiertoja tämän pallon pinnalla. Kun kubittiin operoidaan esimerkiksi kvanttiportilla H, niin päädytään tilanteeseen, jossa yhden kubitin tila on samanaikaisesti olla tilojen 0 ja 1 yhdistelmä:\n",
    "\n",
    "$$ \\mid\\psi> = \\frac{1}{\\sqrt{2}}\\mid0>+\\frac{1}{\\sqrt{2}}\\mid1> $$\n",
    "\n",
    "Alla olevassa koodiesimerkissä käytetään IBM:N qiskit python-kirjaston funktioita ja luodaan yhden kubitin kvanttipiiri. Kuvassa kubitin tila esitetään Blochin pallon pinnalla. Kun kubittiin operoidaan H-portilla, kubitti siirtyy tilojen 0 ja 1 yhdistelmätilaan. Jos superpositiotila mitataan, on yhtä suuri todennäköisyys mitata bitin arvoksi 0 tai 1. Huomaa, että tilavektorin kärki on yhtä kaukana pallon molemmista navoista."
   ]
  },
  {
   "cell_type": "code",
   "execution_count": 26,
   "id": "e0945981",
   "metadata": {},
   "outputs": [
    {
     "data": {
      "image/png": "[encoded data removed]",
      "text/plain": [
       "<Figure size 288x288 with 1 Axes>"
      ]
     },
     "execution_count": 26,
     "metadata": {},
     "output_type": "execute_result"
    }
   ],
   "source": [
    "from qiskit import *\n",
    "from qiskit.visualization import plot_bloch_multivector\n",
    "# Luodaan kvanttipiiri muuttujaan circuit, jossa on yksi kubitti (diagrammissa q).\n",
    "circuit = QuantumCircuit(1) # kubitin alkutila on |0>\n",
    "circuit.h(0) # operoidaan Hadamard-portilla H, joka kiertää qubitin tilavektorin\n",
    "# jos tilavektori mitataan, saadaan lopputila 0 tai 1 samalla 50%:n todennäköisyydellä\n",
    "# Piirretään qubitin kvanttitila blochin pallolle\n",
    "backend = Aer.get_backend('statevector_simulator')\n",
    "result = execute(circuit,backend).result()\n",
    "out_state = result.get_statevector()\n",
    "plot_bloch_multivector(out_state)"
   ]
  },
  {
   "cell_type": "markdown",
   "id": "98721c74",
   "metadata": {},
   "source": [
    "Kubitin lopullinen tila määräytyy vasta kun kvanttitietokoneessa mitataan kubitin sisältämä informaatio ja tallennetaan se klassisen tietokoneen muistiin. Kun kubitin tila mitataan, niin kubitti tuhoutuu ja saatu mittaustulos tallennetaan klassisen tietokoneen rekisteriin bitin arvona 0 tai 1. Suorittamalla hyvin suuri määrä identtisiä mittauksia aivan samalla systeemillä, saadaan selville todennäköisimmät lopputilat, joihin kubitit asettautuvat kvanttiporttien vaikutuksesta. Yhtälön kertoimet a ja b liittyvät kummankin tilan esiintymistodennäköisyyksiin: luvun $a$ neliö $a^2$ on todennäköisyys, että mittaustulokseksi saadaan klassinen bitti 0. Vastaavasti luvun $b$ neliö $b^2$ ilmaisee todennäköisyyden saada mittaustulokseksi bitti 1.\n",
    "\n",
    "\n",
    "Kuvassa on esitetty miten Qiskit-kirjaston funktoiden avulla on määritelty kolmesta kubitista muodostuva kvanttipiiri.\n",
    "\n",
    "![kuva1](images/kuva1.png)\n",
    "\n",
    "Kun jokaiseen kubittiin q operoidaan Hadamard-portilla eli H-portilla, asettuvat kubitit toisistaan riippumatta tilojen 0 ja 1 superpositioon:\n",
    "\n",
    "$$ \\mid\\psi> = \\frac{1}{\\sqrt{2}}\\mid0>+\\frac{1}{\\sqrt{2}}\\mid1> $$\n",
    "\n",
    "Kun yksittäisen kubitin tila mitataan ja mittaustulos tallennetaan klassiseen rekisteriin (nuoli kuvassa), on molempien mahdollisten mittaustulosten 0 ja 1 todennäköisyys sama:\n",
    "\n",
    "$$P\\left(0\\right)=P\\left(1\\right)=\\left(\\frac{1}{\\sqrt{2}}\\right)^2=0.5$$.\n",
    "\n",
    "Koska jokaisella kolmella kubitilla on kaksi mahdollista lopputilaa, niin kolmen bitin mittaustulos voi olla 2^3 = 8 erilaista bittien 0 ja 1 yhdistelmää:"
   ]
  },
  {
   "cell_type": "code",
   "execution_count": 25,
   "id": "0e2b3988",
   "metadata": {},
   "outputs": [
    {
     "name": "stdout",
     "output_type": "stream",
     "text": [
      "0b0\n",
      "0b1\n",
      "0b10\n",
      "0b11\n",
      "0b100\n",
      "0b101\n",
      "0b110\n",
      "0b111\n"
     ]
    }
   ],
   "source": [
    "for i in range(0b111+1):\n",
    "    print(bin(i))"
   ]
  },
  {
   "cell_type": "markdown",
   "id": "3e2162e6",
   "metadata": {},
   "source": [
    "Kaikilla bittien $0$ ja $1$ yhdistelmillä on sama todennäköisyys, koska kubitin tilan määräytyessä mittaustapahtumassa jokaisella mitatulla bitillä on 50% :n esiintymistodennäköisyys olla $0$ tai $1$. Kun haluamme esittää arvottavat lottonumerot väliltä $1-40$, niin tarvitsemme luvun $40=32 +8= 2^5+2^3$ esittämiseen vähintään 6 bittiä ($2^5$ ja lisäksi $2^0$)."
   ]
  },
  {
   "cell_type": "code",
   "execution_count": 24,
   "id": "c683c9c6",
   "metadata": {},
   "outputs": [],
   "source": [
    "from qiskit import *\n",
    "from qiskit.tools.monitor import job_monitor"
   ]
  },
  {
   "cell_type": "code",
   "execution_count": 10,
   "id": "c7e30051",
   "metadata": {},
   "outputs": [
    {
     "data": {
      "image/png": "[encoded data removed]",
      "text/plain": [
       "<Figure size 581.178x505.68 with 1 Axes>"
      ]
     },
     "execution_count": 10,
     "metadata": {},
     "output_type": "execute_result"
    }
   ],
   "source": [
    "num_bits = 7\n",
    "num_numbers = 7\n",
    "qr = QuantumRegister(num_bits)\n",
    "cr = ClassicalRegister(num_bits)\n",
    "circuit = QuantumCircuit(qr, cr)\n",
    "\n",
    "for i in range(num_bits):\n",
    "    circuit.h(i)\n",
    "\n",
    "circuit.measure(qr, cr)\n",
    "\n",
    "circuit.draw(output=\"mpl\")"
   ]
  },
  {
   "cell_type": "markdown",
   "id": "9cf20e6e",
   "metadata": {},
   "source": [
    "Yllä olevassa kuvassa kubiteilla $0 -6$ on jokaisella 50%:n todennäköisyys asettua mittauksessa lopputilaan $0$ tai $1$. Kun kvanttialgoritmisuoritetaan saadaan tulokseksi satunnainen binääriluku, jossa on $7$ bittiä. Algoritmi simuloidaan tietokoneella hyvin montakertaa ja mittaustuloksina saadut erilaiset 7:n bitin yhdistelmät ja niiden esiintymisfrekvenssit tallennetaan python sanakirjaan. Lottonumeroksi valitaan se binääriluku, jolla on suurin esiintymisfrekvenssi. Jos numero on jo valittu tai numero suurempi kuin 40, niin arvonta suoritetaan uudelleen."
   ]
  },
  {
   "cell_type": "code",
   "execution_count": 11,
   "id": "a2afe473",
   "metadata": {},
   "outputs": [
    {
     "name": "stdout",
     "output_type": "stream",
     "text": [
      "\n",
      "Käytettävissäsi olevat palvelut verkossa: \n",
      "ibmq_qasm_simulator\n",
      "ibmq_armonk\n",
      "ibmq_santiago\n",
      "ibmq_bogota\n",
      "ibmq_lima\n",
      "ibmq_belem\n",
      "ibmq_quito\n",
      "simulator_statevector\n",
      "simulator_mps\n",
      "simulator_extended_stabilizer\n",
      "simulator_stabilizer\n",
      "ibmq_manila\n",
      "\n",
      " Paikalliset koneellesi käytössä olevat palvelut: \n",
      "aer_simulator\n",
      "aer_simulator_statevector\n",
      "aer_simulator_density_matrix\n",
      "aer_simulator_stabilizer\n",
      "aer_simulator_matrix_product_state\n",
      "aer_simulator_extended_stabilizer\n",
      "aer_simulator_unitary\n",
      "aer_simulator_superop\n",
      "qasm_simulator\n",
      "statevector_simulator\n",
      "unitary_simulator\n",
      "pulse_simulator\n"
     ]
    }
   ],
   "source": [
    "# Voit selvittää mitä palveluita on käytössä\n",
    "#from qiskit import IBMQ, Aer # tämä import suoritettiin jo yllä\n",
    "provider = IBMQ.load_account()\n",
    "available_cloud_backends = provider.backends() \n",
    "print('\\nKäytettävissäsi olevat palvelut verkossa: ')\n",
    "for i in available_cloud_backends: print(i)\n",
    "\n",
    "available_local_backends = Aer.backends() \n",
    "print('\\n Paikalliset koneellesi käytössä olevat palvelut: ')\n",
    "for i in available_local_backends: print(i)"
   ]
  },
  {
   "cell_type": "code",
   "execution_count": 12,
   "id": "d33adb8f",
   "metadata": {},
   "outputs": [],
   "source": [
    "# vaihtoehto 1: Simuloidaan piirin toiminta paikallisesti omalla tietokoneella\n",
    "simulator = Aer.get_backend('qasm_simulator')\n",
    "execute(circuit, backend=simulator)\n",
    "result = execute(circuit, backend=simulator)\n"
   ]
  },
  {
   "cell_type": "code",
   "execution_count": null,
   "id": "cf8b0259",
   "metadata": {},
   "outputs": [],
   "source": [
    "# TAi vaihtoehto 2: suoritetaan oikealla kvanttikoneella\n",
    "#IBMQ.load_account()\n",
    "#provider = IBMQ.get_provider(\"ibm_q\")\n",
    "# Ajetaan ohjelma oikealla Ateenassa olevalla kvanttitietokoneella\n",
    "#computer = provider.get_backend(\"ibmq_lima\")\n",
    "#result = execute(circuit, backend=computer) # Testataan kvanttipiirin toiminta"
   ]
  },
  {
   "cell_type": "code",
   "execution_count": 13,
   "id": "d8ed7dcc",
   "metadata": {},
   "outputs": [
    {
     "name": "stdout",
     "output_type": "stream",
     "text": [
      "\r",
      "Job Status: job has successfully run\n",
      "{'0111111': 9, '0100001': 8, '1110010': 8, '0011001': 4, '1010101': 8, '1001111': 10, '1110011': 9, '0100000': 4, '0010100': 15, '1101010': 13, '0110010': 7, '0101110': 9, '1111111': 6, '1000011': 12, '0000101': 10, '1110101': 5, '0110011': 7, '0101101': 11, '1111110': 7, '1000000': 6, '0000110': 15, '0101111': 10, '0110001': 7, '1000100': 10, '1111010': 9, '0101011': 8, '0110101': 8, '0111101': 7, '0100011': 6, '0101001': 9, '1000101': 4, '0110100': 8, '0101100': 6, '1001011': 3, '1110111': 9, '0100100': 7, '0111100': 5, '1101111': 17, '0010011': 10, '1110001': 5, '1001101': 16, '0001011': 9, '0011000': 6, '1010100': 8, '1101100': 8, '1100111': 7, '0110000': 10, '1111101': 7, '1000001': 8, '0000111': 5, '1010111': 11, '0011111': 8, '1100011': 12, '0110110': 6, '0101010': 5, '1111011': 6, '1000111': 6, '0010111': 11, '0010010': 6, '1010000': 11, '0001001': 11, '1110100': 6, '1001010': 3, '1011100': 4, '0010101': 8, '1011001': 9, '1111001': 10, '0100101': 4, '0111011': 9, '0111001': 8, '1100101': 9, '0011101': 7, '1010110': 6, '0011100': 9, '0110111': 8, '1011110': 9, '1010001': 9, '0111000': 12, '1101101': 11, '0010110': 6, '0111010': 10, '0100110': 8, '1001110': 9, '1110000': 10, '0000000': 7, '0101000': 10, '0001100': 10, '1100100': 7, '0000011': 8, '0011011': 9, '1101001': 10, '1010010': 11, '1101110': 12, '0001000': 10, '1100110': 11, '1011000': 13, '0000001': 6, '1100000': 6, '1001100': 6, '1110110': 6, '1100010': 10, '1011101': 4, '1001000': 8, '0100111': 3, '0011110': 9, '1001001': 7, '0001010': 11, '1010011': 3, '1101011': 8, '1011111': 8, '0100010': 3, '0111110': 3, '0000100': 10, '0010000': 9, '1000110': 6, '1111100': 8, '1111000': 7, '1101000': 8, '0001101': 9, '1100001': 4, '1011010': 8, '0010001': 7, '0001111': 8, '1011011': 4, '0001110': 5, '1000010': 6, '0000010': 8, '0011010': 6}\n"
     ]
    }
   ],
   "source": [
    "job_monitor(result)\n",
    "print(result.result().get_counts())"
   ]
  },
  {
   "cell_type": "code",
   "execution_count": 14,
   "id": "b8bf7697",
   "metadata": {},
   "outputs": [],
   "source": [
    "def lotto(circuit, simulator):\n",
    "    \n",
    "    r = execute(circuit, backend=simulator).result()\n",
    "    numerot = {}\n",
    "    \n",
    "    max_value = 0\n",
    "    max_key = 0\n",
    "    isMaxUnique = True\n",
    "    \n",
    "    for key, value in r.get_counts().items():\n",
    "        if value > max_value:\n",
    "            max_value = value\n",
    "            max_key = key\n",
    "            isMaxUnique = True\n",
    "        elif value == max_value:\n",
    "            isMaxUnique = False\n",
    "    \n",
    "    # Jos saadaan tulokseksi 0 tai yli 40, heitetään uudelleen.\n",
    "    # Myös jos on kaksi yhtä todennäköistä vastausta, joudutaan heittämään uudelleen\n",
    "    \n",
    "    if not isMaxUnique or int(max_key,2)  == 0 or int(max_key,2) > 40:\n",
    "        return lotto(circuit, simulator)\n",
    "    \n",
    "    return int(max_key, 2)"
   ]
  },
  {
   "cell_type": "code",
   "execution_count": 15,
   "id": "97794fb5",
   "metadata": {},
   "outputs": [
    {
     "name": "stdout",
     "output_type": "stream",
     "text": [
      "3\n"
     ]
    }
   ],
   "source": [
    "# testataan, arvotaan yksi lottopallo väliltä 1 - 40\n",
    "print(lotto(circuit, simulator))"
   ]
  },
  {
   "cell_type": "code",
   "execution_count": 16,
   "id": "a6f7ada0",
   "metadata": {},
   "outputs": [
    {
     "name": "stdout",
     "output_type": "stream",
     "text": [
      "[12]\n",
      "[12, 13]\n",
      "[12, 13, 4]\n",
      "[12, 13, 4, 3]\n",
      "[12, 13, 4, 3, 16]\n",
      "[12, 13, 4, 3, 16, 18]\n",
      "[12, 13, 4, 3, 16, 18, 8]\n",
      "arvotut numerot ovat:  [3, 4, 8, 12, 13, 16, 18]\n"
     ]
    }
   ],
   "source": [
    "# Arvotaan 7 oikein numerot\n",
    "numbers = []\n",
    "while len(numbers) < num_numbers:\n",
    "    number = lotto(circuit, simulator)\n",
    "    if number not in numbers:\n",
    "        numbers.append(number)\n",
    "        print(numbers)\n",
    "        \n",
    "numbers.sort()\n",
    "print(\"arvotut numerot ovat: \", numbers)"
   ]
  },
  {
   "cell_type": "code",
   "execution_count": null,
   "id": "3ae19dca",
   "metadata": {},
   "outputs": [],
   "source": []
  }
 ],
 "metadata": {
  "kernelspec": {
   "display_name": "Python 3 (ipykernel)",
   "language": "python",
   "name": "python3"
  },
  "language_info": {
   "codemirror_mode": {
    "name": "ipython",
    "version": 3
   },
   "file_extension": ".py",
   "mimetype": "text/x-python",
   "name": "python",
   "nbconvert_exporter": "python",
   "pygments_lexer": "ipython3",
   "version": "3.9.7"
  }
 },
 "nbformat": 4,
 "nbformat_minor": 5
}
