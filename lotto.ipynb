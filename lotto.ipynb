{
 "cells": [
  {
   "cell_type": "code",
   "execution_count": 49,
   "id": "c683c9c6",
   "metadata": {},
   "outputs": [],
   "source": [
    "from qiskit import *\n",
    "from qiskit.tools.monitor import job_monitor"
   ]
  },
  {
   "cell_type": "code",
   "execution_count": 43,
   "id": "c7e30051",
   "metadata": {},
   "outputs": [
    {
     "data": {
      "image/png": "[encoded data removed]",
      "text/plain": [
       "<Figure size 620.992x505.68 with 1 Axes>"
      ]
     },
     "execution_count": 43,
     "metadata": {},
     "output_type": "execute_result"
    }
   ],
   "source": [
    "num_bits = 7\n",
    "num_numbers = 7\n",
    "qr = QuantumRegister(num_bits)\n",
    "cr = ClassicalRegister(num_bits)\n",
    "circuit = QuantumCircuit(qr, cr)\n",
    "\n",
    "for i in range(num_bits):\n",
    "    circuit.h(i)\n",
    "\n",
    "circuit.measure(qr, cr)\n",
    "\n",
    "circuit.draw(output=\"mpl\")"
   ]
  },
  {
   "cell_type": "code",
   "execution_count": 50,
   "id": "a2afe473",
   "metadata": {},
   "outputs": [
    {
     "name": "stderr",
     "output_type": "stream",
     "text": [
      "ibmqfactory.load_account:WARNING:2021-12-11 20:14:44,729: Credentials are already in use. The existing account in the session will be replaced.\n"
     ]
    },
    {
     "name": "stdout",
     "output_type": "stream",
     "text": [
      "\n",
      "Here is the list of cloud backends that are available to you:\n",
      "ibmq_qasm_simulator\n",
      "ibmq_armonk\n",
      "ibmq_santiago\n",
      "ibmq_bogota\n",
      "ibmq_lima\n",
      "ibmq_belem\n",
      "ibmq_quito\n",
      "simulator_statevector\n",
      "simulator_mps\n",
      "simulator_extended_stabilizer\n",
      "simulator_stabilizer\n",
      "ibmq_manila\n",
      "\n",
      "Here is the list of local backends that are available to you: \n",
      "aer_simulator\n",
      "aer_simulator_statevector\n",
      "aer_simulator_density_matrix\n",
      "aer_simulator_stabilizer\n",
      "aer_simulator_matrix_product_state\n",
      "aer_simulator_extended_stabilizer\n",
      "aer_simulator_unitary\n",
      "aer_simulator_superop\n",
      "qasm_simulator\n",
      "statevector_simulator\n",
      "unitary_simulator\n",
      "pulse_simulator\n"
     ]
    }
   ],
   "source": [
    "#from qiskit import IBMQ, Aer\n",
    "provider = IBMQ.load_account()\n",
    "available_cloud_backends = provider.backends() \n",
    "print('\\nHere is the list of cloud backends that are available to you:')\n",
    "for i in available_cloud_backends: print(i)\n",
    "\n",
    "available_local_backends = Aer.backends() \n",
    "print('\\nHere is the list of local backends that are available to you: ')\n",
    "for i in available_local_backends: print(i)"
   ]
  },
  {
   "cell_type": "code",
   "execution_count": 53,
   "id": "d33adb8f",
   "metadata": {},
   "outputs": [],
   "source": [
    "# vaihtoehto 1: Simuloidaan piirin toiminta.\n",
    "simulator = Aer.get_backend('qasm_simulator')\n",
    "execute(circuit, backend=simulator)\n",
    "result = execute(circuit, backend=simulator)\n",
    "#from qiskit.tools.visualization import plot_histogram\n",
    "#plot_histogram(result.get_counts(circuit))"
   ]
  },
  {
   "cell_type": "code",
   "execution_count": null,
   "id": "cf8b0259",
   "metadata": {},
   "outputs": [],
   "source": [
    "# TAi vaihtoehto 2: suoritetaan oikealla kvanttikoneella\n",
    "#IBMQ.load_account()\n",
    "#provider = IBMQ.get_provider(\"ibm_q\")\n",
    "# Ajetaan ohjelma oikealla Ateenassa olevalla kvanttitietokoneella\n",
    "#computer = provider.get_backend(\"ibmq_lima\")\n",
    "#result = execute(circuit, backend=computer) # Testataan kvanttipiirin toiminta"
   ]
  },
  {
   "cell_type": "code",
   "execution_count": 54,
   "id": "d8ed7dcc",
   "metadata": {},
   "outputs": [
    {
     "name": "stdout",
     "output_type": "stream",
     "text": [
      "\r",
      "Job Status: job has successfully run\n",
      "{'1001010': 11, '1110100': 6, '0100111': 7, '0111100': 8, '0100100': 8, '1111001': 12, '1111100': 6, '1000110': 6, '0000000': 9, '1110011': 8, '1001111': 7, '0100000': 8, '0100101': 9, '0111011': 7, '0001110': 5, '0110001': 10, '0101111': 9, '1111110': 7, '1000000': 9, '0000011': 5, '0101100': 5, '0110100': 7, '1000101': 10, '1110001': 10, '1001101': 11, '0111110': 12, '0100010': 8, '0011111': 6, '0001001': 13, '1000100': 8, '1111010': 10, '0111000': 10, '1000111': 8, '1111011': 8, '0000001': 5, '0101010': 10, '0110110': 4, '0111101': 5, '0100011': 5, '0001100': 6, '0011011': 6, '0010001': 8, '0100110': 10, '0111010': 10, '1011010': 8, '1101000': 10, '0100001': 12, '0111111': 13, '1110010': 12, '0001010': 6, '1100010': 9, '1111111': 9, '1000011': 8, '0000101': 9, '1000001': 7, '1111101': 4, '0110000': 8, '1101001': 4, '0001000': 6, '0010010': 10, '0010101': 4, '0010110': 8, '1010100': 12, '1010010': 10, '1101111': 4, '1011000': 12, '1010000': 12, '1011110': 9, '1010111': 14, '1010110': 10, '0110011': 4, '0101101': 5, '1100000': 6, '1101011': 9, '1001000': 8, '0101001': 13, '0001011': 10, '1000010': 7, '0000110': 6, '0001101': 13, '1100111': 10, '0110101': 13, '0101011': 4, '1011001': 9, '1011111': 7, '0101110': 11, '0110010': 12, '0001111': 8, '0010111': 6, '0011110': 9, '0010000': 5, '1110101': 16, '1101110': 9, '1101101': 9, '0011100': 9, '1010101': 10, '1100100': 7, '1011100': 8, '0010100': 8, '0110111': 13, '0011010': 8, '1100101': 11, '0101000': 4, '1010011': 4, '1101100': 9, '1010001': 6, '0000100': 5, '0010011': 6, '1001011': 4, '1110111': 5, '0011001': 7, '1100011': 10, '1110110': 8, '1001100': 14, '1100110': 6, '1111000': 8, '0000111': 6, '0011000': 7, '1011101': 6, '1101010': 6, '1001110': 5, '1110000': 4, '1011011': 5, '1001001': 3, '0111001': 5, '0011101': 6, '1100001': 5, '0000010': 5}\n"
     ]
    }
   ],
   "source": [
    "job_monitor(result)\n",
    "print(result.result().get_counts())"
   ]
  },
  {
   "cell_type": "code",
   "execution_count": 55,
   "id": "b8bf7697",
   "metadata": {},
   "outputs": [],
   "source": [
    "def lotto(circuit, simulator):\n",
    "    \n",
    "    r = execute(circuit, backend=simulator).result()\n",
    "    numerot = {}\n",
    "    \n",
    "    max_value = 0\n",
    "    max_key = 0\n",
    "    isMaxUnique = True\n",
    "    \n",
    "    for key, value in r.get_counts().items():\n",
    "        if value > max_value:\n",
    "            max_value = value\n",
    "            max_key = key\n",
    "            isMaxUnique = True\n",
    "        elif value == max_value:\n",
    "            isMaxUnique = False\n",
    "    \n",
    "    # Jos saadaan tulokseksi 0 tai yli 40, heitetään uudelleen.\n",
    "    # Myös jos on kaksi yhtä todennäköistä vastausta, joudutaan heittämään uudelleen\n",
    "    \n",
    "    if not isMaxUnique or int(max_key,2)  == 0 or int(max_key,2) > 40:\n",
    "        return lotto(circuit, simulator)\n",
    "    \n",
    "    return int(max_key, 2)"
   ]
  },
  {
   "cell_type": "code",
   "execution_count": 56,
   "id": "97794fb5",
   "metadata": {},
   "outputs": [
    {
     "name": "stdout",
     "output_type": "stream",
     "text": [
      "30\n"
     ]
    }
   ],
   "source": [
    "print(lotto(circuit, simulator))"
   ]
  },
  {
   "cell_type": "code",
   "execution_count": 67,
   "id": "a6f7ada0",
   "metadata": {},
   "outputs": [
    {
     "name": "stdout",
     "output_type": "stream",
     "text": [
      "[32]\n",
      "[32, 21]\n",
      "[32, 21, 40]\n",
      "[32, 21, 40, 3]\n",
      "[32, 21, 40, 3, 37]\n",
      "[32, 21, 40, 3, 37, 27]\n",
      "[32, 21, 40, 3, 37, 27, 17]\n",
      "[3, 17, 21, 27, 32, 37, 40]\n"
     ]
    }
   ],
   "source": [
    "numbers = []\n",
    "while len(numbers) < num_numbers:\n",
    "    number = lotto(circuit, simulator)\n",
    "    if number not in numbers:\n",
    "        numbers.append(number)\n",
    "        print(numbers)\n",
    "        \n",
    "numbers.sort()\n",
    "print(numbers)"
   ]
  },
  {
   "cell_type": "code",
   "execution_count": null,
   "id": "3ae19dca",
   "metadata": {},
   "outputs": [],
   "source": []
  }
 ],
 "metadata": {
  "kernelspec": {
   "display_name": "Python 3 (ipykernel)",
   "language": "python",
   "name": "python3"
  },
  "language_info": {
   "codemirror_mode": {
    "name": "ipython",
    "version": 3
   },
   "file_extension": ".py",
   "mimetype": "text/x-python",
   "name": "python",
   "nbconvert_exporter": "python",
   "pygments_lexer": "ipython3",
   "version": "3.9.7"
  }
 },
 "nbformat": 4,
 "nbformat_minor": 5
}
