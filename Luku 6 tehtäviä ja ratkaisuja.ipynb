{
 "cells": [
  {
   "cell_type": "markdown",
   "metadata": {},
   "source": [
    "### Tehtävä 6.1\n",
    "Yhtälöllä $sin(2x)=2cos(x)-1$ on välillä $]4,5[$ yksi ratkaisu. Määritä puolitusmenetelmällä sen likiarvo 5 desimaalin tarkkuudella."
   ]
  },
  {
   "cell_type": "code",
   "execution_count": 6,
   "metadata": {},
   "outputs": [
    {
     "name": "stdout",
     "output_type": "stream",
     "text": [
      "4.5\n",
      "4.25\n",
      "4.375\n",
      "4.3125\n",
      "4.28125\n",
      "4.296875\n",
      "4.2890625\n",
      "4.28515625\n",
      "4.287109375\n",
      "4.2880859375\n",
      "4.28857421875\n",
      "4.288330078125\n",
      "4.2884521484375\n",
      "4.28839111328125\n",
      "4.288360595703125\n",
      "4.2883453369140625\n",
      "4.288352966308594\n",
      "Nollakohdan likiarvo: 4.2884\n"
     ]
    },
    {
     "data": {
      "application/javascript": [
       "\n",
       "            setTimeout(function() {\n",
       "                var nbb_cell_id = 6;\n",
       "                var nbb_unformatted_code = \"import math\\n\\na = 4\\nb = 5\\nn = 4\\n\\ndef f(x):\\n    return 2 * math.sin(x) - 2 * math.cos(x) + 1\\n\\n\\nwhile True:\\n    c = (a + b) / 2\\n    if f(a) * f(c) < 0:\\n        b = c\\n    else:\\n        a = c\\n    print(c)\\n    if abs(b - a) < 10 ** (-(n + 1)) or f(c) == 0:\\n        print(\\\"Nollakohdan likiarvo:\\\", round(c, n))\\n        break\";\n",
       "                var nbb_formatted_code = \"import math\\n\\na = 4\\nb = 5\\nn = 4\\n\\n\\ndef f(x):\\n    return 2 * math.sin(x) - 2 * math.cos(x) + 1\\n\\n\\nwhile True:\\n    c = (a + b) / 2\\n    if f(a) * f(c) < 0:\\n        b = c\\n    else:\\n        a = c\\n    print(c)\\n    if abs(b - a) < 10 ** (-(n + 1)) or f(c) == 0:\\n        print(\\\"Nollakohdan likiarvo:\\\", round(c, n))\\n        break\";\n",
       "                var nbb_cells = Jupyter.notebook.get_cells();\n",
       "                for (var i = 0; i < nbb_cells.length; ++i) {\n",
       "                    if (nbb_cells[i].input_prompt_number == nbb_cell_id) {\n",
       "                        if (nbb_cells[i].get_text() == nbb_unformatted_code) {\n",
       "                             nbb_cells[i].set_text(nbb_formatted_code);\n",
       "                        }\n",
       "                        break;\n",
       "                    }\n",
       "                }\n",
       "            }, 500);\n",
       "            "
      ],
      "text/plain": [
       "<IPython.core.display.Javascript object>"
      ]
     },
     "metadata": {},
     "output_type": "display_data"
    }
   ],
   "source": [
    "import math\n",
    "\n",
    "a = 4\n",
    "b = 5\n",
    "n = 4\n",
    "\n",
    "\n",
    "def f(x):\n",
    "    return 2 * math.sin(x) - 2 * math.cos(x) + 1\n",
    "\n",
    "\n",
    "while True:\n",
    "    c = (a + b) / 2\n",
    "    if f(a) * f(c) < 0:\n",
    "        b = c\n",
    "    else:\n",
    "        a = c\n",
    "    print(c)\n",
    "    if abs(b - a) < 10 ** (-(n + 1)) or f(c) == 0:\n",
    "        print(\"Nollakohdan likiarvo:\", round(c, n))\n",
    "        break"
   ]
  },
  {
   "cell_type": "markdown",
   "metadata": {},
   "source": [
    "### Tehtävä 6.2\n",
    "Yhtälöllä $sin(2x)=2cos(x)-1$ on välillä $]4,5[$ yksi ratkaisu. Määritä puolitusmenetelmällä sen likiarvo 5 desimaalin tarkkuudella."
   ]
  },
  {
   "cell_type": "code",
   "execution_count": 7,
   "metadata": {},
   "outputs": [
    {
     "name": "stdout",
     "output_type": "stream",
     "text": [
      "0.0\n",
      "5.0\n",
      "2.5\n",
      "1.25\n",
      "1.875\n",
      "1.5625\n",
      "1.40625\n",
      "1.484375\n",
      "1.5234375\n",
      "1.50390625\n",
      "1.494140625\n",
      "1.4990234375\n",
      "1.50146484375\n",
      "1.502685546875\n",
      "1.5032958984375\n",
      "1.50360107421875\n",
      "1.503448486328125\n",
      "1.5033721923828125\n",
      "1.5033340454101562\n",
      "1.5033531188964844\n",
      "1.5033435821533203\n",
      "Nollakohdan likiarvo: 1.5033\n"
     ]
    },
    {
     "data": {
      "application/javascript": [
       "\n",
       "            setTimeout(function() {\n",
       "                var nbb_cell_id = 7;\n",
       "                var nbb_unformatted_code = \"import math\\n\\na = -10\\nb = 10\\n\\nn = 4\\n\\ndef f(x):\\n    return math.exp(x) - (6 - x)\\n\\nwhile True:\\n    c = (a+b)/2\\n    if f(a)*f(c)<0:\\n        b = c\\n    else:\\n        a = c\\n    print(c)\\n    if abs(b - a) < 1*10**(-(n+1)) or f(c) == 0:\\n        print('Nollakohdan likiarvo:', round(c,n))\\n        break\";\n",
       "                var nbb_formatted_code = \"import math\\n\\na = -10\\nb = 10\\n\\nn = 4\\n\\n\\ndef f(x):\\n    return math.exp(x) - (6 - x)\\n\\n\\nwhile True:\\n    c = (a + b) / 2\\n    if f(a) * f(c) < 0:\\n        b = c\\n    else:\\n        a = c\\n    print(c)\\n    if abs(b - a) < 1 * 10 ** (-(n + 1)) or f(c) == 0:\\n        print(\\\"Nollakohdan likiarvo:\\\", round(c, n))\\n        break\";\n",
       "                var nbb_cells = Jupyter.notebook.get_cells();\n",
       "                for (var i = 0; i < nbb_cells.length; ++i) {\n",
       "                    if (nbb_cells[i].input_prompt_number == nbb_cell_id) {\n",
       "                        if (nbb_cells[i].get_text() == nbb_unformatted_code) {\n",
       "                             nbb_cells[i].set_text(nbb_formatted_code);\n",
       "                        }\n",
       "                        break;\n",
       "                    }\n",
       "                }\n",
       "            }, 500);\n",
       "            "
      ],
      "text/plain": [
       "<IPython.core.display.Javascript object>"
      ]
     },
     "metadata": {},
     "output_type": "display_data"
    }
   ],
   "source": [
    "import math\n",
    "\n",
    "a = -10\n",
    "b = 10\n",
    "\n",
    "n = 4\n",
    "\n",
    "\n",
    "def f(x):\n",
    "    return math.exp(x) - (6 - x)\n",
    "\n",
    "\n",
    "while True:\n",
    "    c = (a + b) / 2\n",
    "    if f(a) * f(c) < 0:\n",
    "        b = c\n",
    "    else:\n",
    "        a = c\n",
    "    print(c)\n",
    "    if abs(b - a) < 1 * 10 ** (-(n + 1)) or f(c) == 0:\n",
    "        print(\"Nollakohdan likiarvo:\", round(c, n))\n",
    "        break"
   ]
  },
  {
   "cell_type": "markdown",
   "metadata": {},
   "source": [
    "### Tehtävä 6.3\n",
    "Laske lukujonon \n",
    "\n",
    "$a_n=\\frac{2n-8}{n+1}$\n",
    "\n",
    "100 ensimmäistä jäsentä. Mitä lukua jäsenet näyttävät lähestyvän?"
   ]
  },
  {
   "cell_type": "code",
   "execution_count": 3,
   "metadata": {},
   "outputs": [
    {
     "name": "stdout",
     "output_type": "stream",
     "text": [
      "100 1.900990099009901\n",
      "200 1.9502487562189055\n",
      "300 1.9667774086378738\n",
      "400 1.9750623441396509\n",
      "500 1.9800399201596806\n",
      "600 1.983361064891847\n",
      "700 1.985734664764622\n",
      "800 1.9875156054931336\n",
      "900 1.9889012208657049\n",
      "1000 1.99000999000999\n",
      "1100 1.9909173478655768\n",
      "1200 1.9916736053288926\n",
      "1300 1.9923136049192929\n",
      "1400 1.9928622412562456\n",
      "1500 1.9933377748167889\n",
      "1600 1.9937539038101186\n",
      "1700 1.9941211052322163\n",
      "1800 1.994447529150472\n",
      "1900 1.994739610731194\n"
     ]
    }
   ],
   "source": [
    "def a(n):\n",
    "    return (2 * n - 8) / (n + 1)\n",
    "\n",
    "\n",
    "for n in range(1, 2000):\n",
    "    if n % 100 == 0: # vähennetään tulostuksen määrää\n",
    "        print(n, a(n))"
   ]
  },
  {
   "cell_type": "markdown",
   "metadata": {},
   "source": [
    "### Tehtävä 6.5\n",
    "Lukujonon jäsenet lasketaan säännöllä\n",
    "\n",
    "$a_n=a_{n-2}a_{n-1}$ kun $n=3,4, 5...$\n",
    "\n",
    "a) Tutki, lähestyvätkö jonon jäsenet jotain tiettyä lukua, kun $a_1=\\frac{3}{2}$ ja $a_1=\\frac{2}{3}$.\n",
    "\n",
    "b)  $a_1=2$ ja $a_1=\\frac{2}{3}$."
   ]
  },
  {
   "cell_type": "code",
   "execution_count": 11,
   "metadata": {},
   "outputs": [
    {
     "name": "stdout",
     "output_type": "stream",
     "text": [
      "eka\n",
      "1 1.5\n",
      "2 0.6666666666666666\n",
      "3 1.0\n",
      "4 0.6666666666666666\n",
      "5 0.6666666666666666\n",
      "6 0.4444444444444444\n",
      "7 0.2962962962962963\n",
      "8 0.1316872427983539\n",
      "9 0.039018442310623375\n",
      "10 0.005138231086172625\n",
      "11 0.00020048577321447823\n",
      "12 1.030142232265987e-06\n",
      "13 2.0652886195673503e-10\n",
      "14 2.127541028834649e-16\n",
      "15 4.3939862745148123e-26\n",
      "16 9.34838607916657e-42\n",
      "17 4.1076680120723254e-67\n",
      "18 3.8400066461894746e-108\n",
      "19 1.5773472466697637e-174\n",
      "20 6.0570239105605615e-282\n",
      "21 0.0\n",
      "22 0.0\n",
      "23 0.0\n",
      "24 0.0\n",
      "25 0.0\n",
      "26 0.0\n",
      "27 0.0\n",
      "28 0.0\n",
      "29 0.0\n",
      "toka\n",
      "1 2\n",
      "2 0.6666666666666666\n",
      "3 1.3333333333333333\n",
      "4 0.8888888888888888\n",
      "5 1.1851851851851851\n",
      "6 1.0534979423868311\n",
      "7 1.248590153939948\n",
      "8 1.315387158060192\n",
      "9 1.6423794541730057\n",
      "10 2.160364842681079\n",
      "11 3.548138831137102\n",
      "12 7.6652743877401335\n",
      "13 27.197457706461442\n",
      "14 208.47597596898441\n",
      "15 5670.016539229726\n",
      "16 1182062.2317762005\n",
      "17 6702312404.569859\n",
      "18 7922550359007160.0\n",
      "19 5.309940754700307e+25\n",
      "20 4.206827303245767e+41\n",
      "21 2.2338003745490688e+67\n",
      "22 9.397212405653644e+108\n",
      "23 2.0991496591466267e+176\n",
      "24 1.97261552182563e+285\n",
      "25 inf\n",
      "26 inf\n",
      "27 inf\n",
      "28 inf\n",
      "29 inf\n"
     ]
    },
    {
     "data": {
      "application/javascript": [
       "\n",
       "            setTimeout(function() {\n",
       "                var nbb_cell_id = 11;\n",
       "                var nbb_unformatted_code = \"def a_eka(n):\\n    if n == 1:\\n        return 3/2\\n    if n == 2:\\n        return 2/3\\n    return a_eka(n - 2) * a_eka(n - 1)\\ndef a_toka(n):\\n    if n == 1:\\n        return 2\\n    if n == 2:\\n        return 2/3\\n    return a_toka(n - 2) * a_toka(n - 1)\\n\\nprint(\\\"eka\\\")\\nfor n in range(1, 30):\\n    print(n, a_eka(n))\\n    \\n\\nprint(\\\"toka\\\")\\nfor n in range(1, 30):\\n    print(n, a_toka(n))\";\n",
       "                var nbb_formatted_code = \"def a_eka(n):\\n    if n == 1:\\n        return 3 / 2\\n    if n == 2:\\n        return 2 / 3\\n    return a_eka(n - 2) * a_eka(n - 1)\\n\\n\\ndef a_toka(n):\\n    if n == 1:\\n        return 2\\n    if n == 2:\\n        return 2 / 3\\n    return a_toka(n - 2) * a_toka(n - 1)\\n\\n\\nprint(\\\"eka\\\")\\nfor n in range(1, 30):\\n    print(n, a_eka(n))\\n\\n\\nprint(\\\"toka\\\")\\nfor n in range(1, 30):\\n    print(n, a_toka(n))\";\n",
       "                var nbb_cells = Jupyter.notebook.get_cells();\n",
       "                for (var i = 0; i < nbb_cells.length; ++i) {\n",
       "                    if (nbb_cells[i].input_prompt_number == nbb_cell_id) {\n",
       "                        if (nbb_cells[i].get_text() == nbb_unformatted_code) {\n",
       "                             nbb_cells[i].set_text(nbb_formatted_code);\n",
       "                        }\n",
       "                        break;\n",
       "                    }\n",
       "                }\n",
       "            }, 500);\n",
       "            "
      ],
      "text/plain": [
       "<IPython.core.display.Javascript object>"
      ]
     },
     "metadata": {},
     "output_type": "display_data"
    }
   ],
   "source": [
    "def a_eka(n):\n",
    "    if n == 1:\n",
    "        return 3 / 2\n",
    "    if n == 2:\n",
    "        return 2 / 3\n",
    "    return a_eka(n - 2) * a_eka(n - 1)\n",
    "\n",
    "\n",
    "def a_toka(n):\n",
    "    if n == 1:\n",
    "        return 2\n",
    "    if n == 2:\n",
    "        return 2 / 3\n",
    "    return a_toka(n - 2) * a_toka(n - 1)\n",
    "\n",
    "\n",
    "print(\"eka\")\n",
    "for n in range(1, 30):\n",
    "    print(n, a_eka(n))\n",
    "\n",
    "\n",
    "print(\"toka\")\n",
    "for n in range(1, 30):\n",
    "    print(n, a_toka(n))"
   ]
  },
  {
   "cell_type": "markdown",
   "metadata": {},
   "source": [
    "### Tehtävä 6.6\n",
    "Määritä funktion $f(x)=x^5-4x-3$ ainoa nollakohta kolmen desimaalin tarkkuudella. Ratkaise yhtälö Newtonin menetelmällä."
   ]
  },
  {
   "cell_type": "code",
   "execution_count": 12,
   "metadata": {},
   "outputs": [
    {
     "name": "stdout",
     "output_type": "stream",
     "text": [
      "1.560040682404455\n"
     ]
    },
    {
     "data": {
      "application/javascript": [
       "\n",
       "            setTimeout(function() {\n",
       "                var nbb_cell_id = 12;\n",
       "                var nbb_unformatted_code = \"# M\\u00e4\\u00e4ritell\\u00e4\\u00e4n funktio f(x)\\ndef f(x):\\n    return x**5 - 4*x - 3\\n# M\\u00e4\\u00e4ritell\\u00e4\\u00e4n funktion f(x) derivaatta fd(x)\\ndef fd(x):\\n    return 5*x**4 - 4\\n# rekursiivinen ratkaisu 16 iterointikierroksella\\ndef newton(n):\\n    if n == 1:\\n        return 1 - f(1)/fd(1)\\n    return newton(n - 1) - f(newton(n - 1))/fd(newton(n - 1))\\nprint(newton(16))\";\n",
       "                var nbb_formatted_code = \"# M\\u00e4\\u00e4ritell\\u00e4\\u00e4n funktio f(x)\\ndef f(x):\\n    return x ** 5 - 4 * x - 3\\n\\n\\n# M\\u00e4\\u00e4ritell\\u00e4\\u00e4n funktion f(x) derivaatta fd(x)\\ndef fd(x):\\n    return 5 * x ** 4 - 4\\n\\n\\n# rekursiivinen ratkaisu 16 iterointikierroksella\\ndef newton(n):\\n    if n == 1:\\n        return 1 - f(1) / fd(1)\\n    return newton(n - 1) - f(newton(n - 1)) / fd(newton(n - 1))\\n\\n\\nprint(newton(16))\";\n",
       "                var nbb_cells = Jupyter.notebook.get_cells();\n",
       "                for (var i = 0; i < nbb_cells.length; ++i) {\n",
       "                    if (nbb_cells[i].input_prompt_number == nbb_cell_id) {\n",
       "                        if (nbb_cells[i].get_text() == nbb_unformatted_code) {\n",
       "                             nbb_cells[i].set_text(nbb_formatted_code);\n",
       "                        }\n",
       "                        break;\n",
       "                    }\n",
       "                }\n",
       "            }, 500);\n",
       "            "
      ],
      "text/plain": [
       "<IPython.core.display.Javascript object>"
      ]
     },
     "metadata": {},
     "output_type": "display_data"
    }
   ],
   "source": [
    "# Määritellään funktio f(x)\n",
    "def f(x):\n",
    "    return x ** 5 - 4 * x - 3\n",
    "\n",
    "\n",
    "# Määritellään funktion f(x) derivaatta fd(x)\n",
    "def fd(x):\n",
    "    return 5 * x ** 4 - 4\n",
    "\n",
    "\n",
    "# rekursiivinen ratkaisu 16 iterointikierroksella\n",
    "def newton(n):\n",
    "    if n == 1:\n",
    "        return 1 - f(1) / fd(1)\n",
    "    return newton(n - 1) - f(newton(n - 1)) / fd(newton(n - 1))\n",
    "\n",
    "\n",
    "print(newton(16))"
   ]
  },
  {
   "cell_type": "code",
   "execution_count": 13,
   "metadata": {},
   "outputs": [
    {
     "name": "stdout",
     "output_type": "stream",
     "text": [
      "alkuarvaus: 1\n",
      "1 .iterointikierros: 7.0\n",
      "2 .iterointikierros: 5.602116490292476\n",
      "3 .iterointikierros: 4.485946008353707\n",
      "4 .iterointikierros: 3.597344922983486\n",
      "5 .iterointikierros: 2.895289744966627\n",
      "6 .iterointikierros: 2.3515419422897255\n",
      "7 .iterointikierros: 1.9519225753093643\n",
      "8 .iterointikierros: 1.6963598142898584\n",
      "9 .iterointikierros: 1.5824209666021791\n",
      "10 .iterointikierros: 1.5607561240125074\n",
      "11 .iterointikierros: 1.560041440173885\n",
      "12 .iterointikierros: 1.5600406824053061\n",
      "13 .iterointikierros: 1.560040682404455\n",
      "14 .iterointikierros: 1.560040682404455\n",
      "15 .iterointikierros: 1.560040682404455\n",
      "16 .iterointikierros: 1.560040682404455\n",
      "tulos 16 .kierroksen jälkeen: 1.560040682404455\n"
     ]
    },
    {
     "data": {
      "application/javascript": [
       "\n",
       "            setTimeout(function() {\n",
       "                var nbb_cell_id = 13;\n",
       "                var nbb_unformatted_code = \" # Tapa 2:\\n# Toistot\\nn= 16\\n# Alkuarvaus\\na = 1\\n\\ndef f(x):\\n    return x**5 - 4*x - 3\\n# M\\u00e4\\u00e4ritell\\u00e4\\u00e4n funktion f(x) derivaatta fd(x)\\ndef fd(x):\\n    return 5*x**4 - 4\\n\\n# Iteroitava funktio g(x)\\ndef g(x):\\n    return x - f(x)/ fd(x)\\n\\nlaskuri = 0\\nx = a\\nprint('alkuarvaus:',x)\\nwhile laskuri < n:\\n    x = g(x)\\n    laskuri +=1\\n    print(laskuri, '.iterointikierros:',x)\\nprint('tulos',n,'.kierroksen j\\u00e4lkeen:', x)\";\n",
       "                var nbb_formatted_code = \"# Tapa 2:\\n# Toistot\\nn = 16\\n# Alkuarvaus\\na = 1\\n\\n\\ndef f(x):\\n    return x ** 5 - 4 * x - 3\\n\\n\\n# M\\u00e4\\u00e4ritell\\u00e4\\u00e4n funktion f(x) derivaatta fd(x)\\ndef fd(x):\\n    return 5 * x ** 4 - 4\\n\\n\\n# Iteroitava funktio g(x)\\ndef g(x):\\n    return x - f(x) / fd(x)\\n\\n\\nlaskuri = 0\\nx = a\\nprint(\\\"alkuarvaus:\\\", x)\\nwhile laskuri < n:\\n    x = g(x)\\n    laskuri += 1\\n    print(laskuri, \\\".iterointikierros:\\\", x)\\nprint(\\\"tulos\\\", n, \\\".kierroksen j\\u00e4lkeen:\\\", x)\";\n",
       "                var nbb_cells = Jupyter.notebook.get_cells();\n",
       "                for (var i = 0; i < nbb_cells.length; ++i) {\n",
       "                    if (nbb_cells[i].input_prompt_number == nbb_cell_id) {\n",
       "                        if (nbb_cells[i].get_text() == nbb_unformatted_code) {\n",
       "                             nbb_cells[i].set_text(nbb_formatted_code);\n",
       "                        }\n",
       "                        break;\n",
       "                    }\n",
       "                }\n",
       "            }, 500);\n",
       "            "
      ],
      "text/plain": [
       "<IPython.core.display.Javascript object>"
      ]
     },
     "metadata": {},
     "output_type": "display_data"
    }
   ],
   "source": [
    "# Tapa 2:\n",
    "# Toistot\n",
    "n = 16\n",
    "# Alkuarvaus\n",
    "a = 1\n",
    "\n",
    "\n",
    "def f(x):\n",
    "    return x ** 5 - 4 * x - 3\n",
    "\n",
    "\n",
    "# Määritellään funktion f(x) derivaatta fd(x)\n",
    "def fd(x):\n",
    "    return 5 * x ** 4 - 4\n",
    "\n",
    "\n",
    "# Iteroitava funktio g(x)\n",
    "def g(x):\n",
    "    return x - f(x) / fd(x)\n",
    "\n",
    "\n",
    "laskuri = 0\n",
    "x = a\n",
    "print(\"alkuarvaus:\", x)\n",
    "while laskuri < n:\n",
    "    x = g(x)\n",
    "    laskuri += 1\n",
    "    print(laskuri, \".iterointikierros:\", x)\n",
    "print(\"tulos\", n, \".kierroksen jälkeen:\", x)"
   ]
  },
  {
   "cell_type": "markdown",
   "metadata": {},
   "source": [
    "### Tehtävä 6.7\n",
    "Italialainen Fibonancci laski vuonna 1225 yhtälön $x^3+2x^2+10x-20=0$ juurelle likiarvon $x= 1.368808108$. Kuinka mones iterointikierros tuottaa samat yhdeksän desimaalia kuin Fibonaccin laskemassa likiarvossa? Käytä alkuarvausta x=1."
   ]
  },
  {
   "cell_type": "code",
   "execution_count": 14,
   "metadata": {},
   "outputs": [
    {
     "name": "stdout",
     "output_type": "stream",
     "text": [
      "1 1.4117647058823528\n",
      "2 1.3693364705882352\n",
      "3 1.3688081886175318\n",
      "4 1.3688081078213745\n",
      "5 1.3688081078213727\n",
      "6 1.3688081078213727\n",
      "7 1.3688081078213727\n"
     ]
    },
    {
     "data": {
      "application/javascript": [
       "\n",
       "            setTimeout(function() {\n",
       "                var nbb_cell_id = 14;\n",
       "                var nbb_unformatted_code = \"def f(x):\\n    return x**3 + 2*x**2 + 10*x -20\\ndef fd(x):\\n    return 3*x**2 + 4*x + 10\\ndef newton(n):\\n    if n == 1:\\n        return 1 - f(1)/fd(1)\\n    return newton(n - 1) - f(newton(n - 1))/fd(newton(n - 1))\\nfor n in range(1, 8):\\n    print(n, newton(n))\";\n",
       "                var nbb_formatted_code = \"def f(x):\\n    return x ** 3 + 2 * x ** 2 + 10 * x - 20\\n\\n\\ndef fd(x):\\n    return 3 * x ** 2 + 4 * x + 10\\n\\n\\ndef newton(n):\\n    if n == 1:\\n        return 1 - f(1) / fd(1)\\n    return newton(n - 1) - f(newton(n - 1)) / fd(newton(n - 1))\\n\\n\\nfor n in range(1, 8):\\n    print(n, newton(n))\";\n",
       "                var nbb_cells = Jupyter.notebook.get_cells();\n",
       "                for (var i = 0; i < nbb_cells.length; ++i) {\n",
       "                    if (nbb_cells[i].input_prompt_number == nbb_cell_id) {\n",
       "                        if (nbb_cells[i].get_text() == nbb_unformatted_code) {\n",
       "                             nbb_cells[i].set_text(nbb_formatted_code);\n",
       "                        }\n",
       "                        break;\n",
       "                    }\n",
       "                }\n",
       "            }, 500);\n",
       "            "
      ],
      "text/plain": [
       "<IPython.core.display.Javascript object>"
      ]
     },
     "metadata": {},
     "output_type": "display_data"
    }
   ],
   "source": [
    "def f(x):\n",
    "    return x ** 3 + 2 * x ** 2 + 10 * x - 20\n",
    "\n",
    "\n",
    "def fd(x):\n",
    "    return 3 * x ** 2 + 4 * x + 10\n",
    "\n",
    "\n",
    "def newton(n):\n",
    "    if n == 1:\n",
    "        return 1 - f(1) / fd(1)\n",
    "    return newton(n - 1) - f(newton(n - 1)) / fd(newton(n - 1))\n",
    "\n",
    "\n",
    "for n in range(1, 8):\n",
    "    print(n, newton(n))"
   ]
  },
  {
   "cell_type": "code",
   "execution_count": 17,
   "metadata": {},
   "outputs": [
    {
     "name": "stdout",
     "output_type": "stream",
     "text": [
      "alkuarvaus: 1\n",
      "1 .iterointikierros: 1.4117647058823528\n",
      "2 .iterointikierros: 1.3693364705882352\n",
      "3 .iterointikierros: 1.3688081886175318\n",
      "4 .iterointikierros: 1.3688081078213745\n",
      "tulos 4 .kierroksen jälkeen: 1.368808108\n"
     ]
    },
    {
     "data": {
      "application/javascript": [
       "\n",
       "            setTimeout(function() {\n",
       "                var nbb_cell_id = 17;\n",
       "                var nbb_unformatted_code = \"# Tapa 2:\\n# Alkuarvaus\\na = 1\\ntarget_ans = 1.368808108\\n\\n\\ndef f(x):\\n    return x ** 3 + 2 * x ** 2 + 10 * x - 20\\n\\n\\n# M\\u00e4\\u00e4ritell\\u00e4\\u00e4n funktion f(x) derivaatta fd(x)\\ndef fd(x):\\n    return 3 * x ** 2 + 4 * x + 10\\n\\n\\n# Iteroitava funktio g(x)\\ndef g(x):\\n    return x - f(x) / fd(x)\\n\\n\\nlaskuri = 0\\nx = a\\nprint(\\\"alkuarvaus:\\\", x)\\nwhile abs(x - target_ans) >= 1 * 10 ** (-9):\\n    x = g(x)\\n    laskuri += 1\\n    print(laskuri, \\\".iterointikierros:\\\", x)\\nprint(\\\"tulos\\\", laskuri, \\\".kierroksen j\\u00e4lkeen:\\\", round(x, 9))\";\n",
       "                var nbb_formatted_code = \"# Tapa 2:\\n# Alkuarvaus\\na = 1\\ntarget_ans = 1.368808108\\n\\n\\ndef f(x):\\n    return x ** 3 + 2 * x ** 2 + 10 * x - 20\\n\\n\\n# M\\u00e4\\u00e4ritell\\u00e4\\u00e4n funktion f(x) derivaatta fd(x)\\ndef fd(x):\\n    return 3 * x ** 2 + 4 * x + 10\\n\\n\\n# Iteroitava funktio g(x)\\ndef g(x):\\n    return x - f(x) / fd(x)\\n\\n\\nlaskuri = 0\\nx = a\\nprint(\\\"alkuarvaus:\\\", x)\\nwhile abs(x - target_ans) >= 1 * 10 ** (-9):\\n    x = g(x)\\n    laskuri += 1\\n    print(laskuri, \\\".iterointikierros:\\\", x)\\nprint(\\\"tulos\\\", laskuri, \\\".kierroksen j\\u00e4lkeen:\\\", round(x, 9))\";\n",
       "                var nbb_cells = Jupyter.notebook.get_cells();\n",
       "                for (var i = 0; i < nbb_cells.length; ++i) {\n",
       "                    if (nbb_cells[i].input_prompt_number == nbb_cell_id) {\n",
       "                        if (nbb_cells[i].get_text() == nbb_unformatted_code) {\n",
       "                             nbb_cells[i].set_text(nbb_formatted_code);\n",
       "                        }\n",
       "                        break;\n",
       "                    }\n",
       "                }\n",
       "            }, 500);\n",
       "            "
      ],
      "text/plain": [
       "<IPython.core.display.Javascript object>"
      ]
     },
     "metadata": {},
     "output_type": "display_data"
    }
   ],
   "source": [
    "# Tapa 2:\n",
    "# Alkuarvaus\n",
    "a = 1\n",
    "target_ans = 1.368808108\n",
    "\n",
    "\n",
    "def f(x):\n",
    "    return x ** 3 + 2 * x ** 2 + 10 * x - 20\n",
    "\n",
    "\n",
    "# Määritellään funktion f(x) derivaatta fd(x)\n",
    "def fd(x):\n",
    "    return 3 * x ** 2 + 4 * x + 10\n",
    "\n",
    "\n",
    "# Iteroitava funktio g(x)\n",
    "def g(x):\n",
    "    return x - f(x) / fd(x)\n",
    "\n",
    "\n",
    "laskuri = 0\n",
    "x = a\n",
    "print(\"alkuarvaus:\", x)\n",
    "while abs(x - target_ans) >= 1 * 10 ** (-9):\n",
    "    x = g(x)\n",
    "    laskuri += 1\n",
    "    print(laskuri, \".iterointikierros:\", x)\n",
    "print(\"tulos\", laskuri, \".kierroksen jälkeen:\", round(x, 9))"
   ]
  },
  {
   "cell_type": "markdown",
   "metadata": {},
   "source": [
    "### Tehtävä 6.8\n",
    "Määritä kiintopistemenetelmällä yhtälön $2^{-x}-x =0$ ainoa ratkaisu kiintopistemenetelmällä."
   ]
  },
  {
   "cell_type": "code",
   "execution_count": 18,
   "metadata": {},
   "outputs": [
    {
     "name": "stdout",
     "output_type": "stream",
     "text": [
      "1 1\n",
      "2 0.5\n",
      "3 0.7071067811865476\n",
      "4 0.6125473265360659\n",
      "5 0.6540408600420695\n",
      "6 0.6354978458133738\n",
      "7 0.6437186417228692\n",
      "8 0.6400610211772396\n",
      "9 0.6416858070429984\n",
      "10 0.6409635371779632\n",
      "11 0.6412845090665851\n",
      "12 0.6411418514717377\n",
      "13 0.6412052524498624\n",
      "14 0.6411770745288387\n",
      "15 0.6411895977668723\n",
      "16 0.6411840319786225\n",
      "17 0.6411865056139605\n",
      "18 0.6411854062407777\n",
      "19 0.6411858948418261\n"
     ]
    },
    {
     "data": {
      "application/javascript": [
       "\n",
       "            setTimeout(function() {\n",
       "                var nbb_cell_id = 18;\n",
       "                var nbb_unformatted_code = \"# yht\\u00e4l\\u00f6n kiintopistemuoto on x=2^(-x)\\ndef g(x):\\n    return 2**(-x)\\n# Alkuarvaus\\nx = 1\\n\\nfor i in range(1, 20):\\n    print(i, x)\\n    x = g(x)\";\n",
       "                var nbb_formatted_code = \"# yht\\u00e4l\\u00f6n kiintopistemuoto on x=2^(-x)\\ndef g(x):\\n    return 2 ** (-x)\\n\\n\\n# Alkuarvaus\\nx = 1\\n\\nfor i in range(1, 20):\\n    print(i, x)\\n    x = g(x)\";\n",
       "                var nbb_cells = Jupyter.notebook.get_cells();\n",
       "                for (var i = 0; i < nbb_cells.length; ++i) {\n",
       "                    if (nbb_cells[i].input_prompt_number == nbb_cell_id) {\n",
       "                        if (nbb_cells[i].get_text() == nbb_unformatted_code) {\n",
       "                             nbb_cells[i].set_text(nbb_formatted_code);\n",
       "                        }\n",
       "                        break;\n",
       "                    }\n",
       "                }\n",
       "            }, 500);\n",
       "            "
      ],
      "text/plain": [
       "<IPython.core.display.Javascript object>"
      ]
     },
     "metadata": {},
     "output_type": "display_data"
    }
   ],
   "source": [
    "# yhtälön kiintopistemuoto on x=2^(-x)\n",
    "def g(x):\n",
    "    return 2 ** (-x)\n",
    "\n",
    "\n",
    "# Alkuarvaus\n",
    "x = 1\n",
    "\n",
    "for i in range(1, 20):\n",
    "    print(i, x)\n",
    "    x = g(x)"
   ]
  },
  {
   "cell_type": "markdown",
   "metadata": {},
   "source": [
    "### Tehtävä 6.9\n",
    "Määritä erotusosamäärän avulla funktion $2^x$ derivaatan arvo kohdassa $0$. Käytä $h$:n arvoa 0.1, 0.01 ja 0.001."
   ]
  },
  {
   "cell_type": "code",
   "execution_count": 19,
   "metadata": {},
   "outputs": [
    {
     "name": "stdout",
     "output_type": "stream",
     "text": [
      "0.7177346253629313\n",
      "0.6955550056718884\n",
      "0.6933874625807412\n"
     ]
    },
    {
     "data": {
      "application/javascript": [
       "\n",
       "            setTimeout(function() {\n",
       "                var nbb_cell_id = 19;\n",
       "                var nbb_unformatted_code = \"def f(x):\\n    return 2**x\\n\\nx_0 = 0\\n\\nh = 0.1\\n\\nprint((f(x_0 + h) - f(x_0)) / h)\\n\\n\\nh = 0.01\\n\\nprint((f(x_0 + h) - f(x_0)) / h)\\n\\n\\nh = 0.001\\n\\nprint((f(x_0 + h) - f(x_0)) / h)\";\n",
       "                var nbb_formatted_code = \"def f(x):\\n    return 2 ** x\\n\\n\\nx_0 = 0\\n\\nh = 0.1\\n\\nprint((f(x_0 + h) - f(x_0)) / h)\\n\\n\\nh = 0.01\\n\\nprint((f(x_0 + h) - f(x_0)) / h)\\n\\n\\nh = 0.001\\n\\nprint((f(x_0 + h) - f(x_0)) / h)\";\n",
       "                var nbb_cells = Jupyter.notebook.get_cells();\n",
       "                for (var i = 0; i < nbb_cells.length; ++i) {\n",
       "                    if (nbb_cells[i].input_prompt_number == nbb_cell_id) {\n",
       "                        if (nbb_cells[i].get_text() == nbb_unformatted_code) {\n",
       "                             nbb_cells[i].set_text(nbb_formatted_code);\n",
       "                        }\n",
       "                        break;\n",
       "                    }\n",
       "                }\n",
       "            }, 500);\n",
       "            "
      ],
      "text/plain": [
       "<IPython.core.display.Javascript object>"
      ]
     },
     "metadata": {},
     "output_type": "display_data"
    }
   ],
   "source": [
    "def f(x):\n",
    "    return 2 ** x\n",
    "\n",
    "\n",
    "x_0 = 0\n",
    "\n",
    "h = 0.1\n",
    "\n",
    "print((f(x_0 + h) - f(x_0)) / h)\n",
    "\n",
    "\n",
    "h = 0.01\n",
    "\n",
    "print((f(x_0 + h) - f(x_0)) / h)\n",
    "\n",
    "\n",
    "h = 0.001\n",
    "\n",
    "print((f(x_0 + h) - f(x_0)) / h)"
   ]
  },
  {
   "cell_type": "markdown",
   "metadata": {},
   "source": [
    "### Tehtävä 6.10\n",
    "Funktion $f(x)=\\frac{6-x}{x+1}$ kuvaaja ja x-akseli rajaavat välillä $[1,4]$ alueen. Arvioi suorakaidesäännöllä alueen pinta-ala. Käytä laskentapisteinä osavälien keskipisteitä ja osavälien lukumäärää 50. Huomaa, että tapa 2 edellyttää pythonin sympy-kirjaston asennusta. Komentoriviltä pyydetyt arvot eivät ole välttämättömiä, arvot voi asettaa ohjelman sisällä."
   ]
  },
  {
   "cell_type": "code",
   "execution_count": 20,
   "metadata": {},
   "outputs": [
    {
     "name": "stdout",
     "output_type": "stream",
     "text": [
      "3.4138146633849162\n"
     ]
    },
    {
     "data": {
      "application/javascript": [
       "\n",
       "            setTimeout(function() {\n",
       "                var nbb_cell_id = 20;\n",
       "                var nbb_unformatted_code = \"def f(x):\\n    return (6 - x)/(x + 1)\\n\\na = 1\\nb = 4\\n\\nn = 50\\n\\naskel = (b - a)/n\\n\\nx = a+askel/2\\nsumma = 0\\nfor i in range(n):\\n    #print(x)\\n    summa = summa + f(x) * askel\\n    x = x + askel\\nprint(summa)\";\n",
       "                var nbb_formatted_code = \"def f(x):\\n    return (6 - x) / (x + 1)\\n\\n\\na = 1\\nb = 4\\n\\nn = 50\\n\\naskel = (b - a) / n\\n\\nx = a + askel / 2\\nsumma = 0\\nfor i in range(n):\\n    # print(x)\\n    summa = summa + f(x) * askel\\n    x = x + askel\\nprint(summa)\";\n",
       "                var nbb_cells = Jupyter.notebook.get_cells();\n",
       "                for (var i = 0; i < nbb_cells.length; ++i) {\n",
       "                    if (nbb_cells[i].input_prompt_number == nbb_cell_id) {\n",
       "                        if (nbb_cells[i].get_text() == nbb_unformatted_code) {\n",
       "                             nbb_cells[i].set_text(nbb_formatted_code);\n",
       "                        }\n",
       "                        break;\n",
       "                    }\n",
       "                }\n",
       "            }, 500);\n",
       "            "
      ],
      "text/plain": [
       "<IPython.core.display.Javascript object>"
      ]
     },
     "metadata": {},
     "output_type": "display_data"
    }
   ],
   "source": [
    "def f(x):\n",
    "    return (6 - x) / (x + 1)\n",
    "\n",
    "\n",
    "a = 1\n",
    "b = 4\n",
    "\n",
    "n = 50\n",
    "\n",
    "askel = (b - a) / n\n",
    "\n",
    "x = a + askel / 2\n",
    "summa = 0\n",
    "for i in range(n):\n",
    "    # print(x)\n",
    "    summa = summa + f(x) * askel\n",
    "    x = x + askel\n",
    "print(summa)"
   ]
  },
  {
   "cell_type": "code",
   "execution_count": 22,
   "metadata": {},
   "outputs": [
    {
     "name": "stdout",
     "output_type": "stream",
     "text": [
      "f(x) = x ** 2\n",
      "   a = 0\n",
      "   b = 5\n",
      "   n = 1000\n",
      "41.6666562500000\n"
     ]
    },
    {
     "data": {
      "application/javascript": [
       "\n",
       "            setTimeout(function() {\n",
       "                var nbb_cell_id = 22;\n",
       "                var nbb_unformatted_code = \"# Tapa 2\\nfrom sympy import *\\nx = symbols('x')\\n\\nf = sympify(input(\\\"f(x) = \\\"))\\na = float(input(\\\"   a = \\\"))\\nb = float(input(\\\"   b = \\\"))\\nn = float(input(\\\"   n = \\\"))\\n\\nd = (b - a) / n\\n\\ndef iteration():\\n    s = 0\\n    for i in range(1, int(n) + 1):\\n        s += f.subs(x, a + d / 2+ (i - 1) * d)\\n        #print(a + d / 2 + (i - 1) * d)\\n    return s\\n\\nprint(abs(d * iteration()))\";\n",
       "                var nbb_formatted_code = \"# Tapa 2\\nfrom sympy import *\\n\\nx = symbols(\\\"x\\\")\\n\\nf = sympify(input(\\\"f(x) = \\\"))\\na = float(input(\\\"   a = \\\"))\\nb = float(input(\\\"   b = \\\"))\\nn = float(input(\\\"   n = \\\"))\\n\\nd = (b - a) / n\\n\\n\\ndef iteration():\\n    s = 0\\n    for i in range(1, int(n) + 1):\\n        s += f.subs(x, a + d / 2 + (i - 1) * d)\\n        # print(a + d / 2 + (i - 1) * d)\\n    return s\\n\\n\\nprint(abs(d * iteration()))\";\n",
       "                var nbb_cells = Jupyter.notebook.get_cells();\n",
       "                for (var i = 0; i < nbb_cells.length; ++i) {\n",
       "                    if (nbb_cells[i].input_prompt_number == nbb_cell_id) {\n",
       "                        if (nbb_cells[i].get_text() == nbb_unformatted_code) {\n",
       "                             nbb_cells[i].set_text(nbb_formatted_code);\n",
       "                        }\n",
       "                        break;\n",
       "                    }\n",
       "                }\n",
       "            }, 500);\n",
       "            "
      ],
      "text/plain": [
       "<IPython.core.display.Javascript object>"
      ]
     },
     "metadata": {},
     "output_type": "display_data"
    }
   ],
   "source": [
    "# Tapa 2\n",
    "from sympy import *\n",
    "x = symbols('x')\n",
    "\n",
    "f = sympify(input(\"f(x) = \"))\n",
    "a = float(input(\"   a = \"))\n",
    "b = float(input(\"   b = \"))\n",
    "n = float(input(\"   n = \"))\n",
    "\n",
    "d = (b - a) / n\n",
    "\n",
    "def iteration():\n",
    "    s = 0\n",
    "    for i in range(1, int(n) + 1):\n",
    "        s += f.subs(x, a + d / 2+ (i - 1) * d)\n",
    "        #print(a + d / 2 + (i - 1) * d)\n",
    "    return s\n",
    "\n",
    "print(abs(d * iteration()))\n"
   ]
  },
  {
   "cell_type": "markdown",
   "metadata": {},
   "source": [
    "Välinpuolitusmenetelmä kun ohjelma kysyy käyttäjältä funktion ja välin, jossa nollakohta sijaitsee. Huom. edellyttää sympy kirjaston asennusta."
   ]
  },
  {
   "cell_type": "code",
   "execution_count": 25,
   "metadata": {},
   "outputs": [
    {
     "name": "stdout",
     "output_type": "stream",
     "text": [
      "Ohjelma ratkaisee funktion f(x) nollakohdan välinpuolitusmenetelmällä. Määrittele funktio ja väli, johon 0-kohta sisältyy.\n",
      "Anna funktio f(x) = x ** 2 - 2 * x\n",
      "Välin alaraja a = 1\n",
      "Välin yläraja b = 10\n",
      "Syötä kokonaislukuna, kuinka monen desimaalin tarkkuudella ratkaistaan?\n",
      "10\n",
      "Nollakohta on välillä: ] 1.0   5.5 [\n",
      "Nollakohta on välillä: ] 1.0   3.25 [\n",
      "Nollakohta on välillä: ] 1.0   2.125 [\n",
      "Nollakohta on välillä: ] 1.5625   2.125 [\n",
      "Nollakohta on välillä: ] 1.84375   2.125 [\n",
      "Nollakohta on välillä: ] 1.984375   2.125 [\n",
      "Nollakohta on välillä: ] 1.984375   2.0546875 [\n",
      "Nollakohta on välillä: ] 1.984375   2.01953125 [\n",
      "Nollakohta on välillä: ] 1.984375   2.001953125 [\n",
      "Nollakohta on välillä: ] 1.9931640625   2.001953125 [\n",
      "Nollakohta on välillä: ] 1.99755859375   2.001953125 [\n",
      "Nollakohta on välillä: ] 1.999755859375   2.001953125 [\n",
      "Nollakohta on välillä: ] 1.999755859375   2.0008544921875 [\n",
      "Nollakohta on välillä: ] 1.999755859375   2.00030517578125 [\n",
      "Nollakohta on välillä: ] 1.999755859375   2.000030517578125 [\n",
      "Nollakohta on välillä: ] 1.9998931884765625   2.000030517578125 [\n",
      "Nollakohta on välillä: ] 1.9999618530273438   2.000030517578125 [\n",
      "Nollakohta on välillä: ] 1.9999961853027344   2.000030517578125 [\n",
      "Nollakohta on välillä: ] 1.9999961853027344   2.0000133514404297 [\n",
      "Nollakohta on välillä: ] 1.9999961853027344   2.000004768371582 [\n",
      "Nollakohta on välillä: ] 1.9999961853027344   2.000000476837158 [\n",
      "Nollakohta on välillä: ] 1.9999983310699463   2.000000476837158 [\n",
      "Nollakohta on välillä: ] 1.9999994039535522   2.000000476837158 [\n",
      "Nollakohta on välillä: ] 1.9999999403953552   2.000000476837158 [\n",
      "Nollakohta on välillä: ] 1.9999999403953552   2.0000002086162567 [\n",
      "Nollakohta on välillä: ] 1.9999999403953552   2.000000074505806 [\n",
      "Nollakohta on välillä: ] 1.9999999403953552   2.0000000074505806 [\n",
      "Nollakohta on välillä: ] 1.999999973922968   2.0000000074505806 [\n",
      "Nollakohta on välillä: ] 1.9999999906867743   2.0000000074505806 [\n",
      "Nollakohta on välillä: ] 1.9999999990686774   2.0000000074505806 [\n",
      "Nollakohta on välillä: ] 1.9999999990686774   2.000000003259629 [\n",
      "Nollakohta on välillä: ] 1.9999999990686774   2.000000001164153 [\n",
      "Nollakohta on välillä: ] 1.9999999990686774   2.0000000001164153 [\n",
      "Nollakohta on välillä: ] 1.9999999995925464   2.0000000001164153 [\n",
      "Nollakohta on välillä: ] 1.9999999998544808   2.0000000001164153 [\n",
      "Nollakohta on välillä: ] 1.999999999985448   2.0000000001164153 [\n",
      "Nollakohta on välillä: ] 1.999999999985448   2.0000000000509317 [\n",
      "Nollakohta on välillä: ] 1.999999999985448   2.00000000001819 [\n",
      "Nollakohta on välillä: ] 1.999999999985448   2.000000000001819 [\n",
      "Nollakohta on välillä: ] 1.9999999999936335   2.000000000001819 [\n",
      "Nollakohdan likiarvo on:  2.0 10 .desimaalin tarkkuudella.\n"
     ]
    },
    {
     "data": {
      "application/javascript": [
       "\n",
       "            setTimeout(function() {\n",
       "                var nbb_cell_id = 25;\n",
       "                var nbb_unformatted_code = \"from sympy import *\\n\\nx = symbols(\\\"x\\\")\\n\\nprint(\\n    \\\"Ohjelma ratkaisee funktion f(x) nollakohdan v\\u00e4linpuolitusmenetelm\\u00e4ll\\u00e4. M\\u00e4\\u00e4rittele funktio ja v\\u00e4li, johon 0-kohta sis\\u00e4ltyy.\\\"\\n)\\n\\nf = sympify(input(\\\"Anna funktio f(x) = \\\"))\\n\\na = float(input(\\\"V\\u00e4lin alaraja a = \\\"))\\nb = float(input(\\\"V\\u00e4lin yl\\u00e4raja b = \\\"))\\n\\nn = int(\\n    input(\\\"Sy\\u00f6t\\u00e4 kokonaislukuna, kuinka monen desimaalin tarkkuudella ratkaistaan?\\\\n\\\")\\n)\\n\\nwhile True:\\n    c = (a + b) / 2\\n    if f.subs(x, a) * f.subs(x, c) < 0:\\n        b = c\\n    else:\\n        a = c\\n    print(\\\"Nollakohta on v\\u00e4lill\\u00e4: ]\\\", a, \\\" \\\", b, \\\"[\\\")\\n    if abs(b - a) < 10 ** (-(n + 1)) or f.subs(x, c) == 0:\\n        print(\\\"Nollakohdan likiarvo on: \\\", round(c, n), n, \\\".desimaalin tarkkuudella.\\\")\\n        break\";\n",
       "                var nbb_formatted_code = \"from sympy import *\\n\\nx = symbols(\\\"x\\\")\\n\\nprint(\\n    \\\"Ohjelma ratkaisee funktion f(x) nollakohdan v\\u00e4linpuolitusmenetelm\\u00e4ll\\u00e4. M\\u00e4\\u00e4rittele funktio ja v\\u00e4li, johon 0-kohta sis\\u00e4ltyy.\\\"\\n)\\n\\nf = sympify(input(\\\"Anna funktio f(x) = \\\"))\\n\\na = float(input(\\\"V\\u00e4lin alaraja a = \\\"))\\nb = float(input(\\\"V\\u00e4lin yl\\u00e4raja b = \\\"))\\n\\nn = int(\\n    input(\\\"Sy\\u00f6t\\u00e4 kokonaislukuna, kuinka monen desimaalin tarkkuudella ratkaistaan?\\\\n\\\")\\n)\\n\\nwhile True:\\n    c = (a + b) / 2\\n    if f.subs(x, a) * f.subs(x, c) < 0:\\n        b = c\\n    else:\\n        a = c\\n    print(\\\"Nollakohta on v\\u00e4lill\\u00e4: ]\\\", a, \\\" \\\", b, \\\"[\\\")\\n    if abs(b - a) < 10 ** (-(n + 1)) or f.subs(x, c) == 0:\\n        print(\\\"Nollakohdan likiarvo on: \\\", round(c, n), n, \\\".desimaalin tarkkuudella.\\\")\\n        break\";\n",
       "                var nbb_cells = Jupyter.notebook.get_cells();\n",
       "                for (var i = 0; i < nbb_cells.length; ++i) {\n",
       "                    if (nbb_cells[i].input_prompt_number == nbb_cell_id) {\n",
       "                        if (nbb_cells[i].get_text() == nbb_unformatted_code) {\n",
       "                             nbb_cells[i].set_text(nbb_formatted_code);\n",
       "                        }\n",
       "                        break;\n",
       "                    }\n",
       "                }\n",
       "            }, 500);\n",
       "            "
      ],
      "text/plain": [
       "<IPython.core.display.Javascript object>"
      ]
     },
     "metadata": {},
     "output_type": "display_data"
    }
   ],
   "source": [
    "from sympy import *\n",
    "\n",
    "x = symbols(\"x\")\n",
    "\n",
    "print(\n",
    "    \"Ohjelma ratkaisee funktion f(x) nollakohdan välinpuolitusmenetelmällä. Määrittele funktio ja väli, johon 0-kohta sisältyy.\"\n",
    ")\n",
    "\n",
    "f = sympify(input(\"Anna funktio f(x) = \"))\n",
    "\n",
    "a = float(input(\"Välin alaraja a = \"))\n",
    "b = float(input(\"Välin yläraja b = \"))\n",
    "\n",
    "n = int(\n",
    "    input(\"Syötä kokonaislukuna, kuinka monen desimaalin tarkkuudella ratkaistaan?\\n\")\n",
    ")\n",
    "\n",
    "while True:\n",
    "    c = (a + b) / 2\n",
    "    if f.subs(x, a) * f.subs(x, c) < 0:\n",
    "        b = c\n",
    "    else:\n",
    "        a = c\n",
    "    print(\"Nollakohta on välillä: ]\", a, \" \", b, \"[\")\n",
    "    if abs(b - a) < 10 ** (-(n + 1)) or f.subs(x, c) == 0:\n",
    "        print(\"Nollakohdan likiarvo on: \", round(c, n), n, \".desimaalin tarkkuudella.\")\n",
    "        break"
   ]
  },
  {
   "cell_type": "markdown",
   "metadata": {},
   "source": [
    "### Tehtävä 6.11\n",
    "Tutki laskimen avulla kuinka monta geometrisen jonon $3, 9, 27, 81 ...$ jäseniä on laskettava yhteen, että summa ylittää arvon $9999$."
   ]
  },
  {
   "cell_type": "code",
   "execution_count": 26,
   "metadata": {},
   "outputs": [
    {
     "name": "stdout",
     "output_type": "stream",
     "text": [
      "9 summa: 3\n",
      "27 summa: 12\n",
      "81 summa: 39\n",
      "243 summa: 120\n",
      "729 summa: 363\n",
      "2187 summa: 1092\n",
      "6561 summa: 3279\n",
      "19683 summa: 9840\n",
      "59049 summa: 29523\n",
      "9 jäsentä on laskettava yhteen, jolloin summa on 29523\n"
     ]
    },
    {
     "data": {
      "application/javascript": [
       "\n",
       "            setTimeout(function() {\n",
       "                var nbb_cell_id = 26;\n",
       "                var nbb_unformatted_code = \"a = 3\\nq = 3\\nsumma = 0\\nlaskuri = 0\\nwhile summa <= 9999:\\n    summa = summa + a\\n    a = a*q\\n    laskuri = laskuri + 1\\n    print(a, 'summa:', summa)\\nprint(laskuri, \\\"j\\u00e4sent\\u00e4 on laskettava yhteen, jolloin summa on\\\",summa )\";\n",
       "                var nbb_formatted_code = \"a = 3\\nq = 3\\nsumma = 0\\nlaskuri = 0\\nwhile summa <= 9999:\\n    summa = summa + a\\n    a = a * q\\n    laskuri = laskuri + 1\\n    print(a, \\\"summa:\\\", summa)\\nprint(laskuri, \\\"j\\u00e4sent\\u00e4 on laskettava yhteen, jolloin summa on\\\", summa)\";\n",
       "                var nbb_cells = Jupyter.notebook.get_cells();\n",
       "                for (var i = 0; i < nbb_cells.length; ++i) {\n",
       "                    if (nbb_cells[i].input_prompt_number == nbb_cell_id) {\n",
       "                        if (nbb_cells[i].get_text() == nbb_unformatted_code) {\n",
       "                             nbb_cells[i].set_text(nbb_formatted_code);\n",
       "                        }\n",
       "                        break;\n",
       "                    }\n",
       "                }\n",
       "            }, 500);\n",
       "            "
      ],
      "text/plain": [
       "<IPython.core.display.Javascript object>"
      ]
     },
     "metadata": {},
     "output_type": "display_data"
    }
   ],
   "source": [
    "a = 3\n",
    "q = 3\n",
    "summa = 0\n",
    "laskuri = 0\n",
    "while summa <= 9999:\n",
    "    summa = summa + a\n",
    "    a = a * q\n",
    "    laskuri = laskuri + 1\n",
    "    print(a, \"summa:\", summa)\n",
    "print(laskuri, \"jäsentä on laskettava yhteen, jolloin summa on\", summa)"
   ]
  },
  {
   "cell_type": "markdown",
   "metadata": {},
   "source": [
    "Laske vektorien $\\overline{a}=2\\overline{i}+4\\overline{j}-\\overline{k}$ ja $\\overline{b}=5\\overline{i}-2\\overline{j}+2\\overline{k}$ pistetulo. ovatko vektorit kohtisuorassa?"
   ]
  },
  {
   "cell_type": "code",
   "execution_count": 28,
   "metadata": {},
   "outputs": [
    {
     "name": "stdout",
     "output_type": "stream",
     "text": [
      "Vektorit ovat kohtisuorassa, koska pistetulo on  0\n"
     ]
    },
    {
     "data": {
      "application/javascript": [
       "\n",
       "            setTimeout(function() {\n",
       "                var nbb_cell_id = 28;\n",
       "                var nbb_unformatted_code = \"a_vektori = [2, 4, -1]\\nb_vektori = [5, -2, 2]\\npistetulo = 0\\nfor i in range(len( a_vektori)):\\n    pistetulo =pistetulo + a_vektori[i]*b_vektori[i]\\n\\nif pistetulo == 0:\\n    print(\\\"Vektorit ovat kohtisuorassa, koska pistetulo on \\\", pistetulo)\\nelse:\\n    print(\\\"Eiv\\u00e4t ole, koska pistetulo on\\\", pistetulo,'joka on erisuuuri kuin nolla.')\";\n",
       "                var nbb_formatted_code = \"a_vektori = [2, 4, -1]\\nb_vektori = [5, -2, 2]\\npistetulo = 0\\nfor i in range(len(a_vektori)):\\n    pistetulo = pistetulo + a_vektori[i] * b_vektori[i]\\n\\nif pistetulo == 0:\\n    print(\\\"Vektorit ovat kohtisuorassa, koska pistetulo on \\\", pistetulo)\\nelse:\\n    print(\\\"Eiv\\u00e4t ole, koska pistetulo on\\\", pistetulo, \\\"joka on erisuuuri kuin nolla.\\\")\";\n",
       "                var nbb_cells = Jupyter.notebook.get_cells();\n",
       "                for (var i = 0; i < nbb_cells.length; ++i) {\n",
       "                    if (nbb_cells[i].input_prompt_number == nbb_cell_id) {\n",
       "                        if (nbb_cells[i].get_text() == nbb_unformatted_code) {\n",
       "                             nbb_cells[i].set_text(nbb_formatted_code);\n",
       "                        }\n",
       "                        break;\n",
       "                    }\n",
       "                }\n",
       "            }, 500);\n",
       "            "
      ],
      "text/plain": [
       "<IPython.core.display.Javascript object>"
      ]
     },
     "metadata": {},
     "output_type": "display_data"
    }
   ],
   "source": [
    "a_vektori = [2, 4, -1]\n",
    "b_vektori = [5, -2, 2]\n",
    "pistetulo = 0\n",
    "for i in range(len(a_vektori)):\n",
    "    pistetulo = pistetulo + a_vektori[i] * b_vektori[i]\n",
    "\n",
    "if pistetulo == 0:\n",
    "    print(\"Vektorit ovat kohtisuorassa, koska pistetulo on \", pistetulo)\n",
    "else:\n",
    "    print(\"Eivät ole, koska pistetulo on\", pistetulo, \"joka on erisuuuri kuin nolla.\")"
   ]
  },
  {
   "cell_type": "markdown",
   "metadata": {},
   "source": [
    "### Tehtävä 6.12\n",
    "Määritä pisteiden $A(1,5,3)$ ja $B(4,3,9)$ välinen vektori $\\overline{AB}$. Mikä on vektorin $\\overline{AB}$ pituus?"
   ]
  },
  {
   "cell_type": "code",
   "execution_count": 29,
   "metadata": {},
   "outputs": [
    {
     "name": "stdout",
     "output_type": "stream",
     "text": [
      "a)  [3, -2, 6]\n",
      "b)  7.0\n"
     ]
    },
    {
     "data": {
      "application/javascript": [
       "\n",
       "            setTimeout(function() {\n",
       "                var nbb_cell_id = 29;\n",
       "                var nbb_unformatted_code = \"A=[1,5,3]\\nB=[4,3,9]\\nAB=[0,0,0]\\nfor i in range(len(A)):\\n    AB[i]=B[i]-A[i]\\nprint(\\\"a) \\\",AB)\\n\\netaisyys = 0\\nfor i in range(len(AB)):\\n    etaisyys += AB[i]**2\\n\\netaisyys = math.sqrt(etaisyys)\\nprint(\\\"b) \\\", etaisyys)\";\n",
       "                var nbb_formatted_code = \"A = [1, 5, 3]\\nB = [4, 3, 9]\\nAB = [0, 0, 0]\\nfor i in range(len(A)):\\n    AB[i] = B[i] - A[i]\\nprint(\\\"a) \\\", AB)\\n\\netaisyys = 0\\nfor i in range(len(AB)):\\n    etaisyys += AB[i] ** 2\\n\\netaisyys = math.sqrt(etaisyys)\\nprint(\\\"b) \\\", etaisyys)\";\n",
       "                var nbb_cells = Jupyter.notebook.get_cells();\n",
       "                for (var i = 0; i < nbb_cells.length; ++i) {\n",
       "                    if (nbb_cells[i].input_prompt_number == nbb_cell_id) {\n",
       "                        if (nbb_cells[i].get_text() == nbb_unformatted_code) {\n",
       "                             nbb_cells[i].set_text(nbb_formatted_code);\n",
       "                        }\n",
       "                        break;\n",
       "                    }\n",
       "                }\n",
       "            }, 500);\n",
       "            "
      ],
      "text/plain": [
       "<IPython.core.display.Javascript object>"
      ]
     },
     "metadata": {},
     "output_type": "display_data"
    }
   ],
   "source": [
    "A = [1, 5, 3]\n",
    "B = [4, 3, 9]\n",
    "AB = [0, 0, 0]\n",
    "for i in range(len(A)):\n",
    "    AB[i] = B[i] - A[i]\n",
    "print(\"a) \", AB)\n",
    "\n",
    "etaisyys = 0\n",
    "for i in range(len(AB)):\n",
    "    etaisyys += AB[i] ** 2\n",
    "\n",
    "etaisyys = math.sqrt(etaisyys)\n",
    "print(\"b) \", etaisyys)"
   ]
  },
  {
   "cell_type": "markdown",
   "metadata": {},
   "source": [
    "### Tehtävä 6.13\n",
    "Yo-tehtävä: Kahden positiivisen luvun $a$ ja $b$ geometrinen on $\\sqrt{ab}$.\n",
    "\n",
    "a) Anna esimerkki välin $2-100$ kahdesta luvusta, joille $\\sqrt{ab}$ on kokonaisluku.\n",
    "\n",
    "b) Satunnaislukugeneraattori arvoo toisistaan riippumatta kaksi lukua väliltä 1-100 niin, että jokaisen luvun todennäköisyys on $\\frac{1}{100}$. Mikä on todennäköisyys, että arvottujen lukujen geometrinen keskiarvo on kokonaisluku? Voit esittää simulointiin perustuvan ratkaisun."
   ]
  },
  {
   "cell_type": "code",
   "execution_count": 30,
   "metadata": {},
   "outputs": [
    {
     "name": "stdout",
     "output_type": "stream",
     "text": [
      "0.03134\n",
      "0.031\n"
     ]
    },
    {
     "data": {
      "application/javascript": [
       "\n",
       "            setTimeout(function() {\n",
       "                var nbb_cell_id = 30;\n",
       "                var nbb_unformatted_code = \"import random\\nimport math\\n\\ntoistot = 100000\\nsumma = 0\\nfor i in range(toistot):\\n    noppa1 = random.randint(1, 100)\\n    noppa2 = random.randint(1, 100)\\n    if math.sqrt(noppa1 * noppa2) == int(math.sqrt(noppa1 * noppa2)):\\n        # print(noppa1, noppa2, math.sqrt(noppa1 * noppa2))\\n        summa = summa + 1\\nprint(summa/toistot)\\nsumma = 0\\ntoistot = 100 * 100\\nfor noppa1 in range(1, 101):\\n    for noppa2 in range(1, 101):\\n\\n        if math.sqrt(noppa1 * noppa2) == int(math.sqrt(noppa1 * noppa2)):\\n            # print(noppa1, noppa2, math.sqrt(noppa1 * noppa2))\\n            summa = summa + 1\\nprint(summa/toistot)\";\n",
       "                var nbb_formatted_code = \"import random\\nimport math\\n\\ntoistot = 100000\\nsumma = 0\\nfor i in range(toistot):\\n    noppa1 = random.randint(1, 100)\\n    noppa2 = random.randint(1, 100)\\n    if math.sqrt(noppa1 * noppa2) == int(math.sqrt(noppa1 * noppa2)):\\n        # print(noppa1, noppa2, math.sqrt(noppa1 * noppa2))\\n        summa = summa + 1\\nprint(summa / toistot)\\nsumma = 0\\ntoistot = 100 * 100\\nfor noppa1 in range(1, 101):\\n    for noppa2 in range(1, 101):\\n\\n        if math.sqrt(noppa1 * noppa2) == int(math.sqrt(noppa1 * noppa2)):\\n            # print(noppa1, noppa2, math.sqrt(noppa1 * noppa2))\\n            summa = summa + 1\\nprint(summa / toistot)\";\n",
       "                var nbb_cells = Jupyter.notebook.get_cells();\n",
       "                for (var i = 0; i < nbb_cells.length; ++i) {\n",
       "                    if (nbb_cells[i].input_prompt_number == nbb_cell_id) {\n",
       "                        if (nbb_cells[i].get_text() == nbb_unformatted_code) {\n",
       "                             nbb_cells[i].set_text(nbb_formatted_code);\n",
       "                        }\n",
       "                        break;\n",
       "                    }\n",
       "                }\n",
       "            }, 500);\n",
       "            "
      ],
      "text/plain": [
       "<IPython.core.display.Javascript object>"
      ]
     },
     "metadata": {},
     "output_type": "display_data"
    }
   ],
   "source": [
    "import random\n",
    "import math\n",
    "\n",
    "toistot = 100000\n",
    "summa = 0\n",
    "for i in range(toistot):\n",
    "    noppa1 = random.randint(1, 100)\n",
    "    noppa2 = random.randint(1, 100)\n",
    "    if math.sqrt(noppa1 * noppa2) == int(math.sqrt(noppa1 * noppa2)):\n",
    "        # print(noppa1, noppa2, math.sqrt(noppa1 * noppa2))\n",
    "        summa = summa + 1\n",
    "print(summa / toistot)\n",
    "summa = 0\n",
    "toistot = 100 * 100\n",
    "for noppa1 in range(1, 101):\n",
    "    for noppa2 in range(1, 101):\n",
    "\n",
    "        if math.sqrt(noppa1 * noppa2) == int(math.sqrt(noppa1 * noppa2)):\n",
    "            # print(noppa1, noppa2, math.sqrt(noppa1 * noppa2))\n",
    "            summa = summa + 1\n",
    "print(summa / toistot)"
   ]
  },
  {
   "cell_type": "markdown",
   "metadata": {},
   "source": [
    "### Tehtävä 6.14\n",
    "Auton nopeus mitattiin sekunnin välein. Laske auton kulkema matka puolisuunnikassäänöllä. (t,v)-arvot on listattu taulukkomuuttujiin alla olevassa koodissa.\n",
    "\n",
    "| t (s) | s(m)|\n",
    "|-------|-----|\n",
    "| 0     | 0   |\n",
    "| 1     | 7.8 |\n",
    "| 2     | 15.8|\n",
    "| 3     | 23.9|\n",
    "| 4     | 32.2|\n",
    "| 5     | 41.4|\n",
    "| 6     | 52.2|\n",
    "| 7     | 65.6|\n",
    "| 8     | 76.6|"
   ]
  },
  {
   "cell_type": "code",
   "execution_count": 32,
   "metadata": {},
   "outputs": [
    {
     "data": {
      "image/png": "[encoded data removed]",
      "text/plain": [
       "<Figure size 432x288 with 1 Axes>"
      ]
     },
     "metadata": {
      "needs_background": "light"
     },
     "output_type": "display_data"
    },
    {
     "name": "stdout",
     "output_type": "stream",
     "text": [
      "1.0\n",
      "277.19999999999993\n"
     ]
    },
    {
     "data": {
      "application/javascript": [
       "\n",
       "            setTimeout(function() {\n",
       "                var nbb_cell_id = 32;\n",
       "                var nbb_unformatted_code = \"t_lista = [0.0, 1.0, 2.0, 3.0, 4.0, 5.0, 6.0, 7.0, 8.0]\\nv_lista = [0, 7.8, 15.8, 23.9, 32.2, 41.4, 52.2, 65.6, 76.6]\\n\\nimport matplotlib.pyplot as k\\n\\nk.plot(t_lista, v_lista)\\nk.grid()\\nk.show()\\nh = t_lista[1] - t_lista[0]\\n\\nprint(h)\\nsumma = 0\\nsumma = summa + 0.5 * v_lista[0] + 0.5 * v_lista[-1]\\nfor i in range(1, len(v_lista) - 1):\\n    summa = summa + v_lista[i]\\np_a = h * summa\\nprint(p_a)\";\n",
       "                var nbb_formatted_code = \"t_lista = [0.0, 1.0, 2.0, 3.0, 4.0, 5.0, 6.0, 7.0, 8.0]\\nv_lista = [0, 7.8, 15.8, 23.9, 32.2, 41.4, 52.2, 65.6, 76.6]\\n\\nimport matplotlib.pyplot as k\\n\\nk.plot(t_lista, v_lista)\\nk.grid()\\nk.show()\\nh = t_lista[1] - t_lista[0]\\n\\nprint(h)\\nsumma = 0\\nsumma = summa + 0.5 * v_lista[0] + 0.5 * v_lista[-1]\\nfor i in range(1, len(v_lista) - 1):\\n    summa = summa + v_lista[i]\\np_a = h * summa\\nprint(p_a)\";\n",
       "                var nbb_cells = Jupyter.notebook.get_cells();\n",
       "                for (var i = 0; i < nbb_cells.length; ++i) {\n",
       "                    if (nbb_cells[i].input_prompt_number == nbb_cell_id) {\n",
       "                        if (nbb_cells[i].get_text() == nbb_unformatted_code) {\n",
       "                             nbb_cells[i].set_text(nbb_formatted_code);\n",
       "                        }\n",
       "                        break;\n",
       "                    }\n",
       "                }\n",
       "            }, 500);\n",
       "            "
      ],
      "text/plain": [
       "<IPython.core.display.Javascript object>"
      ]
     },
     "metadata": {},
     "output_type": "display_data"
    }
   ],
   "source": [
    "t_lista = [0.0, 1.0, 2.0, 3.0, 4.0, 5.0, 6.0, 7.0, 8.0]\n",
    "v_lista = [0, 7.8, 15.8, 23.9, 32.2, 41.4, 52.2, 65.6, 76.6]\n",
    "\n",
    "import matplotlib.pyplot as k\n",
    "\n",
    "k.plot(t_lista, v_lista)\n",
    "k.grid()\n",
    "k.show()\n",
    "h = t_lista[1] - t_lista[0]\n",
    "\n",
    "print(h)\n",
    "summa = 0\n",
    "summa = summa + 0.5 * v_lista[0] + 0.5 * v_lista[-1]\n",
    "for i in range(1, len(v_lista) - 1):\n",
    "    summa = summa + v_lista[i]\n",
    "p_a = h * summa\n",
    "print(p_a)"
   ]
  },
  {
   "cell_type": "markdown",
   "metadata": {},
   "source": [
    "### Tehtävä 6.15\n",
    "Etsi Eratostheneen seulalla kaikki 100 pienemmät alkuluvut"
   ]
  },
  {
   "cell_type": "code",
   "execution_count": 33,
   "metadata": {},
   "outputs": [
    {
     "name": "stdout",
     "output_type": "stream",
     "text": [
      "2\n",
      "3\n",
      "5\n",
      "7\n",
      "11\n",
      "13\n",
      "17\n",
      "19\n",
      "23\n",
      "29\n",
      "31\n",
      "37\n",
      "41\n",
      "43\n",
      "47\n",
      "53\n",
      "59\n",
      "61\n",
      "67\n",
      "71\n",
      "73\n",
      "79\n",
      "83\n",
      "89\n",
      "97\n"
     ]
    },
    {
     "data": {
      "application/javascript": [
       "\n",
       "            setTimeout(function() {\n",
       "                var nbb_cell_id = 33;\n",
       "                var nbb_unformatted_code = \"n = 100\\n\\nl = [\\\"alkuluku\\\"] * n\\n\\njakaja = 2\\n\\nwhile jakaja < n:\\n    if l[jakaja] == \\\"alkuluku\\\":\\n        kohta = 2 * jakaja\\n        while kohta < n:\\n            l[kohta] = \\\"ei alkuluku\\\"\\n            kohta = kohta + jakaja\\n    jakaja = jakaja + 1\\n\\n\\nfor i in range(2, n):\\n    if l[i] == \\\"alkuluku\\\":\\n        print(i)\";\n",
       "                var nbb_formatted_code = \"n = 100\\n\\nl = [\\\"alkuluku\\\"] * n\\n\\njakaja = 2\\n\\nwhile jakaja < n:\\n    if l[jakaja] == \\\"alkuluku\\\":\\n        kohta = 2 * jakaja\\n        while kohta < n:\\n            l[kohta] = \\\"ei alkuluku\\\"\\n            kohta = kohta + jakaja\\n    jakaja = jakaja + 1\\n\\n\\nfor i in range(2, n):\\n    if l[i] == \\\"alkuluku\\\":\\n        print(i)\";\n",
       "                var nbb_cells = Jupyter.notebook.get_cells();\n",
       "                for (var i = 0; i < nbb_cells.length; ++i) {\n",
       "                    if (nbb_cells[i].input_prompt_number == nbb_cell_id) {\n",
       "                        if (nbb_cells[i].get_text() == nbb_unformatted_code) {\n",
       "                             nbb_cells[i].set_text(nbb_formatted_code);\n",
       "                        }\n",
       "                        break;\n",
       "                    }\n",
       "                }\n",
       "            }, 500);\n",
       "            "
      ],
      "text/plain": [
       "<IPython.core.display.Javascript object>"
      ]
     },
     "metadata": {},
     "output_type": "display_data"
    }
   ],
   "source": [
    "n = 100\n",
    "\n",
    "l = [\"alkuluku\"] * n\n",
    "\n",
    "jakaja = 2\n",
    "\n",
    "while jakaja < n:\n",
    "    if l[jakaja] == \"alkuluku\":\n",
    "        kohta = 2 * jakaja\n",
    "        while kohta < n:\n",
    "            l[kohta] = \"ei alkuluku\"\n",
    "            kohta = kohta + jakaja\n",
    "    jakaja = jakaja + 1\n",
    "\n",
    "\n",
    "for i in range(2, n):\n",
    "    if l[i] == \"alkuluku\":\n",
    "        print(i)"
   ]
  },
  {
   "cell_type": "code",
   "execution_count": null,
   "metadata": {},
   "outputs": [],
   "source": []
  }
 ],
 "metadata": {
  "kernelspec": {
   "display_name": "Python 3",
   "language": "python",
   "name": "python3"
  },
  "language_info": {
   "codemirror_mode": {
    "name": "ipython",
    "version": 3
   },
   "file_extension": ".py",
   "mimetype": "text/x-python",
   "name": "python",
   "nbconvert_exporter": "python",
   "pygments_lexer": "ipython3",
   "version": "3.7.3"
  }
 },
 "nbformat": 4,
 "nbformat_minor": 4
}
